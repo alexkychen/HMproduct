{
 "cells": [
  {
   "cell_type": "code",
   "execution_count": 61,
   "metadata": {},
   "outputs": [],
   "source": [
    "import pandas as pd\n",
    "import numpy as np\n",
    "from sklearn.metrics.pairwise import cosine_similarity\n",
    "from tqdm import tqdm"
   ]
  },
  {
   "cell_type": "code",
   "execution_count": 2,
   "metadata": {},
   "outputs": [],
   "source": [
    "def user_collaborative_filter(X, target_user, similar_user_number = 1, \n",
    "                              max_recommend_items = None, similar_user_thresh = None):\n",
    "    \"\"\"\n",
    "    user-based collaborative filter for a specific user in X\n",
    "    \n",
    "    X: a dataframe containing two columns, first column is users, second is purchased item\n",
    "    target_user: a string specified the user we plan to give recommendations\n",
    "    similar_user_number: select the number of top similar users\n",
    "    max_recommend_items: an integer to specify the max. number of recommended items\n",
    "    similar_user_thresh (WORK IN PROGRESS): a floating number between 0 and 1 to set\n",
    "                                            a minimum threshold for consine similarity\n",
    "    \"\"\"\n",
    "    \n",
    "    #add a value=1 column to data\n",
    "    X = pd.DataFrame({\"user\":X.iloc[:,0],\n",
    "                    \"item\":X.iloc[:,1],\n",
    "                    \"value\":[1]*len(X)})\n",
    "    \n",
    "    #drop duplicate rows, if one purchased more than one items\n",
    "    X.drop_duplicates(inplace=True)\n",
    "    \n",
    "    #convert dataframe to user-by-item matrix and fill nan with 0\n",
    "    user_item_df = X.pivot(index=X.columns[0], columns=X.columns[1] )['value'].fillna(0)\n",
    "    \n",
    "    #convert user_item_df to numpy matrix\n",
    "    matrix = np.array(user_item_df)\n",
    "    \n",
    "    #print(\"start cosine\")\n",
    "    #calculate cosine similarity\n",
    "    similarity = cosine_similarity(matrix)\n",
    "    #print(\"cosine end\")\n",
    "    \n",
    "    #get target user index\n",
    "    target_user_index = int(np.where(user_item_df.index == target_user)[0])\n",
    "    \n",
    "    #get the row of target user similarity\n",
    "    target_user_similarity = similarity[target_user_index,:]\n",
    "    \n",
    "    #sort the index of user similarity in descending order\n",
    "    #use [::-1] to reverse the order\n",
    "    #[1:] filter out the target user [0] itself\n",
    "    similar_user_index = np.argsort(target_user_similarity)[::-1][1:]\n",
    "    \n",
    "    recommended_items = []\n",
    "    item_list = list(user_item_df.columns)\n",
    "    #get unpurchased item index by substrating target user from most similar user\n",
    "    for i in range(similar_user_number):\n",
    "        not_purchased = matrix[similar_user_index[i]] - matrix[target_user_index]\n",
    "        \n",
    "        #check out item names\n",
    "        for j in np.where(not_purchased == 1)[0]:\n",
    "            if item_list[j] not in recommended_items:\n",
    "                recommended_items.append(item_list[j])\n",
    "                if max_recommend_items is not None:\n",
    "                    if len(recommended_items) == max_recommend_items:\n",
    "                        return recommended_items\n",
    "    \n",
    "    return recommended_items\n",
    "    "
   ]
  },
  {
   "cell_type": "code",
   "execution_count": 3,
   "metadata": {},
   "outputs": [],
   "source": [
    "def all_user_collaborative_filter(X, similar_user_number = 1, max_recommend_items = None):\n",
    "    \n",
    "    \"\"\"\n",
    "    user-based collaborative filtering for every user in X\n",
    "    \n",
    "    X: a dataframe containing two columns, first column is users, second is purchased item\n",
    "    similar_user_number: select the number of top similar users\n",
    "    max_recommend_items: an integer to specify the max. number of recommended items\n",
    "    \n",
    "    \"\"\"\n",
    "    \n",
    "    #add a value=1 column to data\n",
    "    X = pd.DataFrame({\"user\":X.iloc[:,0],\n",
    "                    \"item\":X.iloc[:,1],\n",
    "                    \"value\":[1]*len(X)})\n",
    "    \n",
    "    #drop duplicate rows, if one purchased more than one items\n",
    "    X.drop_duplicates(inplace=True)\n",
    "    \n",
    "    #convert dataframe to user-by-item matrix and fill nan with 0\n",
    "    user_item_df = X.pivot(index=X.columns[0], columns=X.columns[1] )['value'].fillna(0)\n",
    "    \n",
    "    #convert user_item_df to numpy matrix\n",
    "    matrix = np.array(user_item_df)\n",
    "    \n",
    "    #print(\"start cosine\")\n",
    "    #calculate cosine similarity\n",
    "    similarity = cosine_similarity(matrix)\n",
    "    #print(\"cosine end\")\n",
    "    \n",
    "    #sort user index by similarity (left-high/right-low) for each row(user)\n",
    "    sorted_sim_index = np.fliplr(np.argsort(similarity))\n",
    "    \n",
    "    #number of total users\n",
    "    num_total_users = matrix.shape[0]\n",
    "    #item id/name list\n",
    "    item_list = list(user_item_df.columns)\n",
    "    \n",
    "    #empty dict to store final results\n",
    "    recommended_dict = {}\n",
    "    \n",
    "    #for each target user\n",
    "    for i in range(num_total_users):\n",
    "        user_id = user_item_df.index[i]\n",
    "        \n",
    "        recommended_items = []\n",
    "        \n",
    "        #Look at similar users \n",
    "        for j in range(similar_user_number):\n",
    "            not_purchased = matrix[sorted_sim_index[i,j+1]] - matrix[i]\n",
    "        \n",
    "            #check out item names\n",
    "            for k in np.where(not_purchased == 1)[0]:\n",
    "                if item_list[k] not in recommended_items:\n",
    "                    recommended_items.append(item_list[k])\n",
    "                    if max_recommend_items == None:\n",
    "                        continue\n",
    "                    elif len(recommended_items) == max_recommend_items:\n",
    "                        break\n",
    "            if max_recommend_items == None:\n",
    "                continue\n",
    "            elif len(recommended_items) == max_recommend_items:\n",
    "                break\n",
    "        \n",
    "        #add target user_id and recommended items to dict\n",
    "        recommended_dict[user_id] = recommended_items\n",
    "        \n",
    "    return recommended_dict\n",
    "                    \n",
    "    "
   ]
  },
  {
   "cell_type": "code",
   "execution_count": 67,
   "metadata": {},
   "outputs": [],
   "source": [
    "def average_precision(x):\n",
    "    '''\n",
    "    Calculate average precision for each user\n",
    "    x: a binary vector\n",
    "    '''\n",
    "    x = np.array(x)\n",
    "    \n",
    "    #number of items\n",
    "    k = len(x)\n",
    "    \n",
    "    precision = 0\n",
    "    numerator = 0\n",
    "    \n",
    "    for i in range(k):\n",
    "        \n",
    "        numerator += x[i]\n",
    "        precision += numerator / (i+1)\n",
    "    \n",
    "    return precision/k\n",
    "\n",
    "def MAP(X, y):\n",
    "    '''\n",
    "    Calculate Mean Average Precision for the recommendation\n",
    "    X: A dictionary containing user id as key and recommended items as values\n",
    "    y: two column data frame of validation data (1st column is user id; 2nd is item id)\n",
    "    \n",
    "    '''\n",
    "    number_users = 0\n",
    "    \n",
    "    unique_user_in_test = y.iloc[:,0].unique()\n",
    "    \n",
    "    #store average precision for each target user\n",
    "    AP_res = []\n",
    "    \n",
    "    #for each target user\n",
    "    for user, recommend_items in tqdm(X.items()):\n",
    "        \n",
    "        #when found in test data\n",
    "        if user in unique_user_in_test:\n",
    "            number_users += 1\n",
    "            \n",
    "            #get actual purchased items from y\n",
    "            subset = y.loc[y.iloc[:,0] == user]\n",
    "            purchased_items = set(subset.iloc[:,1])\n",
    "            \n",
    "            #empty array to store binary data\n",
    "            purchased_vector = []\n",
    "            \n",
    "            #for each recommended item\n",
    "            for item in recommend_items:\n",
    "                \n",
    "                #when it is actually purchased\n",
    "                if item in purchased_items:\n",
    "                    purchased_vector.append(1)\n",
    "                #if not purchased\n",
    "                else:\n",
    "                    purchased_vector.append(0)\n",
    "            \n",
    "            #calculate Average Precision\n",
    "            AP = average_precision(purchased_vector)\n",
    "            #append to AP_res\n",
    "            AP_res.append(AP)\n",
    "    \n",
    "    \n",
    "    print(\"Number of users:\", number_users)\n",
    "    return sum(AP_res)/len(AP_res)\n",
    "            \n",
    "    "
   ]
  },
  {
   "cell_type": "code",
   "execution_count": 4,
   "metadata": {},
   "outputs": [
    {
     "data": {
      "text/html": [
       "<div>\n",
       "<style scoped>\n",
       "    .dataframe tbody tr th:only-of-type {\n",
       "        vertical-align: middle;\n",
       "    }\n",
       "\n",
       "    .dataframe tbody tr th {\n",
       "        vertical-align: top;\n",
       "    }\n",
       "\n",
       "    .dataframe thead th {\n",
       "        text-align: right;\n",
       "    }\n",
       "</style>\n",
       "<table border=\"1\" class=\"dataframe\">\n",
       "  <thead>\n",
       "    <tr style=\"text-align: right;\">\n",
       "      <th></th>\n",
       "      <th>t_dat</th>\n",
       "      <th>customer_id</th>\n",
       "      <th>article_id</th>\n",
       "      <th>price</th>\n",
       "      <th>sales_channel_id</th>\n",
       "    </tr>\n",
       "  </thead>\n",
       "  <tbody>\n",
       "    <tr>\n",
       "      <th>0</th>\n",
       "      <td>2019-05-01</td>\n",
       "      <td>00019d6c20e0fbb551af18c57149af4707ec016bb0decd...</td>\n",
       "      <td>524061003</td>\n",
       "      <td>0.050831</td>\n",
       "      <td>2</td>\n",
       "    </tr>\n",
       "    <tr>\n",
       "      <th>1</th>\n",
       "      <td>2019-05-01</td>\n",
       "      <td>00019d6c20e0fbb551af18c57149af4707ec016bb0decd...</td>\n",
       "      <td>735404001</td>\n",
       "      <td>0.050831</td>\n",
       "      <td>2</td>\n",
       "    </tr>\n",
       "    <tr>\n",
       "      <th>2</th>\n",
       "      <td>2019-05-01</td>\n",
       "      <td>00019d6c20e0fbb551af18c57149af4707ec016bb0decd...</td>\n",
       "      <td>700370004</td>\n",
       "      <td>0.016932</td>\n",
       "      <td>2</td>\n",
       "    </tr>\n",
       "    <tr>\n",
       "      <th>3</th>\n",
       "      <td>2019-05-01</td>\n",
       "      <td>00019d6c20e0fbb551af18c57149af4707ec016bb0decd...</td>\n",
       "      <td>618800001</td>\n",
       "      <td>0.033881</td>\n",
       "      <td>2</td>\n",
       "    </tr>\n",
       "    <tr>\n",
       "      <th>4</th>\n",
       "      <td>2019-05-01</td>\n",
       "      <td>00019d6c20e0fbb551af18c57149af4707ec016bb0decd...</td>\n",
       "      <td>731407001</td>\n",
       "      <td>0.016932</td>\n",
       "      <td>2</td>\n",
       "    </tr>\n",
       "    <tr>\n",
       "      <th>...</th>\n",
       "      <td>...</td>\n",
       "      <td>...</td>\n",
       "      <td>...</td>\n",
       "      <td>...</td>\n",
       "      <td>...</td>\n",
       "    </tr>\n",
       "    <tr>\n",
       "      <th>1106456</th>\n",
       "      <td>2019-05-23</td>\n",
       "      <td>fff871bf24b40fd1290215414d760afaa69bb164d2b970...</td>\n",
       "      <td>573716012</td>\n",
       "      <td>0.022864</td>\n",
       "      <td>2</td>\n",
       "    </tr>\n",
       "    <tr>\n",
       "      <th>1106457</th>\n",
       "      <td>2019-05-23</td>\n",
       "      <td>fffb0ca7aca4f24df1b00a578d5b692ed7f83ffec7c37d...</td>\n",
       "      <td>649690002</td>\n",
       "      <td>0.022017</td>\n",
       "      <td>2</td>\n",
       "    </tr>\n",
       "    <tr>\n",
       "      <th>1106458</th>\n",
       "      <td>2019-05-23</td>\n",
       "      <td>fffb0ca7aca4f24df1b00a578d5b692ed7f83ffec7c37d...</td>\n",
       "      <td>706016002</td>\n",
       "      <td>0.033881</td>\n",
       "      <td>2</td>\n",
       "    </tr>\n",
       "    <tr>\n",
       "      <th>1106459</th>\n",
       "      <td>2019-05-23</td>\n",
       "      <td>fffb0ca7aca4f24df1b00a578d5b692ed7f83ffec7c37d...</td>\n",
       "      <td>399256023</td>\n",
       "      <td>0.016932</td>\n",
       "      <td>2</td>\n",
       "    </tr>\n",
       "    <tr>\n",
       "      <th>1106460</th>\n",
       "      <td>2019-05-23</td>\n",
       "      <td>fffb0ca7aca4f24df1b00a578d5b692ed7f83ffec7c37d...</td>\n",
       "      <td>568571001</td>\n",
       "      <td>0.016932</td>\n",
       "      <td>2</td>\n",
       "    </tr>\n",
       "  </tbody>\n",
       "</table>\n",
       "<p>1106461 rows × 5 columns</p>\n",
       "</div>"
      ],
      "text/plain": [
       "              t_dat                                        customer_id  \\\n",
       "0        2019-05-01  00019d6c20e0fbb551af18c57149af4707ec016bb0decd...   \n",
       "1        2019-05-01  00019d6c20e0fbb551af18c57149af4707ec016bb0decd...   \n",
       "2        2019-05-01  00019d6c20e0fbb551af18c57149af4707ec016bb0decd...   \n",
       "3        2019-05-01  00019d6c20e0fbb551af18c57149af4707ec016bb0decd...   \n",
       "4        2019-05-01  00019d6c20e0fbb551af18c57149af4707ec016bb0decd...   \n",
       "...             ...                                                ...   \n",
       "1106456  2019-05-23  fff871bf24b40fd1290215414d760afaa69bb164d2b970...   \n",
       "1106457  2019-05-23  fffb0ca7aca4f24df1b00a578d5b692ed7f83ffec7c37d...   \n",
       "1106458  2019-05-23  fffb0ca7aca4f24df1b00a578d5b692ed7f83ffec7c37d...   \n",
       "1106459  2019-05-23  fffb0ca7aca4f24df1b00a578d5b692ed7f83ffec7c37d...   \n",
       "1106460  2019-05-23  fffb0ca7aca4f24df1b00a578d5b692ed7f83ffec7c37d...   \n",
       "\n",
       "         article_id     price  sales_channel_id  \n",
       "0         524061003  0.050831                 2  \n",
       "1         735404001  0.050831                 2  \n",
       "2         700370004  0.016932                 2  \n",
       "3         618800001  0.033881                 2  \n",
       "4         731407001  0.016932                 2  \n",
       "...             ...       ...               ...  \n",
       "1106456   573716012  0.022864                 2  \n",
       "1106457   649690002  0.022017                 2  \n",
       "1106458   706016002  0.033881                 2  \n",
       "1106459   399256023  0.016932                 2  \n",
       "1106460   568571001  0.016932                 2  \n",
       "\n",
       "[1106461 rows x 5 columns]"
      ]
     },
     "execution_count": 4,
     "metadata": {},
     "output_type": "execute_result"
    }
   ],
   "source": [
    "#Get training data 2019-05-01 - 2019-05-23\n",
    "X_train = pd.read_csv(\"../data/transactions_train_20190501-0523.csv\")\n",
    "X_train"
   ]
  },
  {
   "cell_type": "code",
   "execution_count": 5,
   "metadata": {},
   "outputs": [
    {
     "data": {
      "text/html": [
       "<div>\n",
       "<style scoped>\n",
       "    .dataframe tbody tr th:only-of-type {\n",
       "        vertical-align: middle;\n",
       "    }\n",
       "\n",
       "    .dataframe tbody tr th {\n",
       "        vertical-align: top;\n",
       "    }\n",
       "\n",
       "    .dataframe thead th {\n",
       "        text-align: right;\n",
       "    }\n",
       "</style>\n",
       "<table border=\"1\" class=\"dataframe\">\n",
       "  <thead>\n",
       "    <tr style=\"text-align: right;\">\n",
       "      <th></th>\n",
       "      <th>customer_id</th>\n",
       "      <th>article_id</th>\n",
       "    </tr>\n",
       "  </thead>\n",
       "  <tbody>\n",
       "    <tr>\n",
       "      <th>0</th>\n",
       "      <td>00019d6c20e0fbb551af18c57149af4707ec016bb0decd...</td>\n",
       "      <td>524061003</td>\n",
       "    </tr>\n",
       "    <tr>\n",
       "      <th>1</th>\n",
       "      <td>00019d6c20e0fbb551af18c57149af4707ec016bb0decd...</td>\n",
       "      <td>735404001</td>\n",
       "    </tr>\n",
       "    <tr>\n",
       "      <th>2</th>\n",
       "      <td>00019d6c20e0fbb551af18c57149af4707ec016bb0decd...</td>\n",
       "      <td>700370004</td>\n",
       "    </tr>\n",
       "    <tr>\n",
       "      <th>3</th>\n",
       "      <td>00019d6c20e0fbb551af18c57149af4707ec016bb0decd...</td>\n",
       "      <td>618800001</td>\n",
       "    </tr>\n",
       "    <tr>\n",
       "      <th>4</th>\n",
       "      <td>00019d6c20e0fbb551af18c57149af4707ec016bb0decd...</td>\n",
       "      <td>731407001</td>\n",
       "    </tr>\n",
       "    <tr>\n",
       "      <th>...</th>\n",
       "      <td>...</td>\n",
       "      <td>...</td>\n",
       "    </tr>\n",
       "    <tr>\n",
       "      <th>1106456</th>\n",
       "      <td>fff871bf24b40fd1290215414d760afaa69bb164d2b970...</td>\n",
       "      <td>573716012</td>\n",
       "    </tr>\n",
       "    <tr>\n",
       "      <th>1106457</th>\n",
       "      <td>fffb0ca7aca4f24df1b00a578d5b692ed7f83ffec7c37d...</td>\n",
       "      <td>649690002</td>\n",
       "    </tr>\n",
       "    <tr>\n",
       "      <th>1106458</th>\n",
       "      <td>fffb0ca7aca4f24df1b00a578d5b692ed7f83ffec7c37d...</td>\n",
       "      <td>706016002</td>\n",
       "    </tr>\n",
       "    <tr>\n",
       "      <th>1106459</th>\n",
       "      <td>fffb0ca7aca4f24df1b00a578d5b692ed7f83ffec7c37d...</td>\n",
       "      <td>399256023</td>\n",
       "    </tr>\n",
       "    <tr>\n",
       "      <th>1106460</th>\n",
       "      <td>fffb0ca7aca4f24df1b00a578d5b692ed7f83ffec7c37d...</td>\n",
       "      <td>568571001</td>\n",
       "    </tr>\n",
       "  </tbody>\n",
       "</table>\n",
       "<p>1106461 rows × 2 columns</p>\n",
       "</div>"
      ],
      "text/plain": [
       "                                               customer_id  article_id\n",
       "0        00019d6c20e0fbb551af18c57149af4707ec016bb0decd...   524061003\n",
       "1        00019d6c20e0fbb551af18c57149af4707ec016bb0decd...   735404001\n",
       "2        00019d6c20e0fbb551af18c57149af4707ec016bb0decd...   700370004\n",
       "3        00019d6c20e0fbb551af18c57149af4707ec016bb0decd...   618800001\n",
       "4        00019d6c20e0fbb551af18c57149af4707ec016bb0decd...   731407001\n",
       "...                                                    ...         ...\n",
       "1106456  fff871bf24b40fd1290215414d760afaa69bb164d2b970...   573716012\n",
       "1106457  fffb0ca7aca4f24df1b00a578d5b692ed7f83ffec7c37d...   649690002\n",
       "1106458  fffb0ca7aca4f24df1b00a578d5b692ed7f83ffec7c37d...   706016002\n",
       "1106459  fffb0ca7aca4f24df1b00a578d5b692ed7f83ffec7c37d...   399256023\n",
       "1106460  fffb0ca7aca4f24df1b00a578d5b692ed7f83ffec7c37d...   568571001\n",
       "\n",
       "[1106461 rows x 2 columns]"
      ]
     },
     "execution_count": 5,
     "metadata": {},
     "output_type": "execute_result"
    }
   ],
   "source": [
    "X_train = X_train[[\"customer_id\", \"article_id\"]]\n",
    "X_train"
   ]
  },
  {
   "cell_type": "code",
   "execution_count": 71,
   "metadata": {},
   "outputs": [
    {
     "name": "stdout",
     "output_type": "stream",
     "text": [
      "Number of customers: 24031\n",
      "Wall time: 2min 42s\n"
     ]
    }
   ],
   "source": [
    "%%time\n",
    "#Run all user collaborative filtering (for first 100000 rows)\n",
    "recommend_dict = all_user_collaborative_filter(X_train.head(100000),\n",
    "                                               similar_user_number = 100, max_recommend_items = 12)\n",
    "print(\"Number of customers:\", len(recommend_dict))"
   ]
  },
  {
   "cell_type": "code",
   "execution_count": 68,
   "metadata": {},
   "outputs": [
    {
     "data": {
      "text/html": [
       "<div>\n",
       "<style scoped>\n",
       "    .dataframe tbody tr th:only-of-type {\n",
       "        vertical-align: middle;\n",
       "    }\n",
       "\n",
       "    .dataframe tbody tr th {\n",
       "        vertical-align: top;\n",
       "    }\n",
       "\n",
       "    .dataframe thead th {\n",
       "        text-align: right;\n",
       "    }\n",
       "</style>\n",
       "<table border=\"1\" class=\"dataframe\">\n",
       "  <thead>\n",
       "    <tr style=\"text-align: right;\">\n",
       "      <th></th>\n",
       "      <th>customer_id</th>\n",
       "      <th>article_id</th>\n",
       "    </tr>\n",
       "  </thead>\n",
       "  <tbody>\n",
       "    <tr>\n",
       "      <th>0</th>\n",
       "      <td>00015c1a121e08bbd2552c15fbbb6e6b19d3bf8f7b6a3d...</td>\n",
       "      <td>735121003</td>\n",
       "    </tr>\n",
       "    <tr>\n",
       "      <th>1</th>\n",
       "      <td>00015c1a121e08bbd2552c15fbbb6e6b19d3bf8f7b6a3d...</td>\n",
       "      <td>589722005</td>\n",
       "    </tr>\n",
       "    <tr>\n",
       "      <th>2</th>\n",
       "      <td>0006d3ff0caf0cb4d4e0615ee5cb7d268622364d483335...</td>\n",
       "      <td>659302005</td>\n",
       "    </tr>\n",
       "    <tr>\n",
       "      <th>3</th>\n",
       "      <td>0006d3ff0caf0cb4d4e0615ee5cb7d268622364d483335...</td>\n",
       "      <td>631458004</td>\n",
       "    </tr>\n",
       "    <tr>\n",
       "      <th>4</th>\n",
       "      <td>0006d3ff0caf0cb4d4e0615ee5cb7d268622364d483335...</td>\n",
       "      <td>668647001</td>\n",
       "    </tr>\n",
       "    <tr>\n",
       "      <th>...</th>\n",
       "      <td>...</td>\n",
       "      <td>...</td>\n",
       "    </tr>\n",
       "    <tr>\n",
       "      <th>516472</th>\n",
       "      <td>fffdaab7d9d79ceee4ffd2ab98bb68411438ea90e46a67...</td>\n",
       "      <td>738881002</td>\n",
       "    </tr>\n",
       "    <tr>\n",
       "      <th>516473</th>\n",
       "      <td>fffdaab7d9d79ceee4ffd2ab98bb68411438ea90e46a67...</td>\n",
       "      <td>220094010</td>\n",
       "    </tr>\n",
       "    <tr>\n",
       "      <th>516474</th>\n",
       "      <td>ffff4c4e8b57b633c1ddf8fbd53db16b962cf831baf9ed...</td>\n",
       "      <td>487800001</td>\n",
       "    </tr>\n",
       "    <tr>\n",
       "      <th>516475</th>\n",
       "      <td>ffff4c4e8b57b633c1ddf8fbd53db16b962cf831baf9ed...</td>\n",
       "      <td>754013001</td>\n",
       "    </tr>\n",
       "    <tr>\n",
       "      <th>516476</th>\n",
       "      <td>ffff4c4e8b57b633c1ddf8fbd53db16b962cf831baf9ed...</td>\n",
       "      <td>745502001</td>\n",
       "    </tr>\n",
       "  </tbody>\n",
       "</table>\n",
       "<p>516477 rows × 2 columns</p>\n",
       "</div>"
      ],
      "text/plain": [
       "                                              customer_id  article_id\n",
       "0       00015c1a121e08bbd2552c15fbbb6e6b19d3bf8f7b6a3d...   735121003\n",
       "1       00015c1a121e08bbd2552c15fbbb6e6b19d3bf8f7b6a3d...   589722005\n",
       "2       0006d3ff0caf0cb4d4e0615ee5cb7d268622364d483335...   659302005\n",
       "3       0006d3ff0caf0cb4d4e0615ee5cb7d268622364d483335...   631458004\n",
       "4       0006d3ff0caf0cb4d4e0615ee5cb7d268622364d483335...   668647001\n",
       "...                                                   ...         ...\n",
       "516472  fffdaab7d9d79ceee4ffd2ab98bb68411438ea90e46a67...   738881002\n",
       "516473  fffdaab7d9d79ceee4ffd2ab98bb68411438ea90e46a67...   220094010\n",
       "516474  ffff4c4e8b57b633c1ddf8fbd53db16b962cf831baf9ed...   487800001\n",
       "516475  ffff4c4e8b57b633c1ddf8fbd53db16b962cf831baf9ed...   754013001\n",
       "516476  ffff4c4e8b57b633c1ddf8fbd53db16b962cf831baf9ed...   745502001\n",
       "\n",
       "[516477 rows x 2 columns]"
      ]
     },
     "execution_count": 68,
     "metadata": {},
     "output_type": "execute_result"
    }
   ],
   "source": [
    "#Get training data 2019-05-24 - 2019-09-01\n",
    "X_test = pd.read_csv(\"../data/transactions_train_20190524-0601.csv\")\n",
    "X_test = X_test[[\"customer_id\",\"article_id\"]]\n",
    "X_test"
   ]
  },
  {
   "cell_type": "code",
   "execution_count": 72,
   "metadata": {},
   "outputs": [
    {
     "name": "stderr",
     "output_type": "stream",
     "text": [
      "100%|███████████████████████████████████████████████████████████████████████████| 24031/24031 [02:25<00:00, 164.63it/s]"
     ]
    },
    {
     "name": "stdout",
     "output_type": "stream",
     "text": [
      "Number of users: 5732\n"
     ]
    },
    {
     "name": "stderr",
     "output_type": "stream",
     "text": [
      "\n"
     ]
    },
    {
     "data": {
      "text/plain": [
       "0.0018896534379786295"
      ]
     },
     "execution_count": 72,
     "metadata": {},
     "output_type": "execute_result"
    }
   ],
   "source": [
    "#MAP@12\n",
    "MAP(recommend_dict, X_test)"
   ]
  },
  {
   "cell_type": "code",
   "execution_count": null,
   "metadata": {},
   "outputs": [],
   "source": []
  },
  {
   "cell_type": "code",
   "execution_count": null,
   "metadata": {},
   "outputs": [],
   "source": []
  },
  {
   "cell_type": "code",
   "execution_count": null,
   "metadata": {},
   "outputs": [],
   "source": []
  },
  {
   "cell_type": "code",
   "execution_count": null,
   "metadata": {},
   "outputs": [],
   "source": []
  },
  {
   "cell_type": "code",
   "execution_count": 10,
   "metadata": {},
   "outputs": [
    {
     "data": {
      "text/plain": [
       "['c', 'd', 'e']"
      ]
     },
     "execution_count": 10,
     "metadata": {},
     "output_type": "execute_result"
    }
   ],
   "source": [
    "#TEST DRIVE\n",
    "X = pd.DataFrame({\"customer\":[\"A\",\"A\",\"A\",\"B\",\"B\",\"B\",\"C\",\"C\",\"C\",\"D\",\"D\"],\n",
    "                  \"article\":[\"a\",\"a\",\"b\",\"a\",\"b\",\"c\",\"c\",\"d\",\"e\",\"d\",\"e\"]})\n",
    "user_collaborative_filter(X, target_user = \"A\",similar_user_number = 2)"
   ]
  },
  {
   "cell_type": "code",
   "execution_count": 52,
   "metadata": {},
   "outputs": [
    {
     "data": {
      "text/plain": [
       "{'A': ['c', 'd', 'e'], 'B': ['d', 'e'], 'C': ['a', 'b'], 'D': ['c', 'a', 'b']}"
      ]
     },
     "execution_count": 52,
     "metadata": {},
     "output_type": "execute_result"
    }
   ],
   "source": [
    "#Test drive\n",
    "all_user_collaborative_filter(X, similar_user_number = 2)"
   ]
  },
  {
   "cell_type": "markdown",
   "metadata": {},
   "source": [
    "## A simple example"
   ]
  },
  {
   "cell_type": "code",
   "execution_count": 11,
   "metadata": {},
   "outputs": [
    {
     "data": {
      "text/html": [
       "<div>\n",
       "<style scoped>\n",
       "    .dataframe tbody tr th:only-of-type {\n",
       "        vertical-align: middle;\n",
       "    }\n",
       "\n",
       "    .dataframe tbody tr th {\n",
       "        vertical-align: top;\n",
       "    }\n",
       "\n",
       "    .dataframe thead th {\n",
       "        text-align: right;\n",
       "    }\n",
       "</style>\n",
       "<table border=\"1\" class=\"dataframe\">\n",
       "  <thead>\n",
       "    <tr style=\"text-align: right;\">\n",
       "      <th></th>\n",
       "      <th>customer</th>\n",
       "      <th>article</th>\n",
       "      <th>value</th>\n",
       "    </tr>\n",
       "  </thead>\n",
       "  <tbody>\n",
       "    <tr>\n",
       "      <th>0</th>\n",
       "      <td>A</td>\n",
       "      <td>a</td>\n",
       "      <td>1.0</td>\n",
       "    </tr>\n",
       "    <tr>\n",
       "      <th>1</th>\n",
       "      <td>A</td>\n",
       "      <td>a</td>\n",
       "      <td>1.0</td>\n",
       "    </tr>\n",
       "    <tr>\n",
       "      <th>2</th>\n",
       "      <td>A</td>\n",
       "      <td>b</td>\n",
       "      <td>1.0</td>\n",
       "    </tr>\n",
       "    <tr>\n",
       "      <th>3</th>\n",
       "      <td>B</td>\n",
       "      <td>a</td>\n",
       "      <td>1.0</td>\n",
       "    </tr>\n",
       "    <tr>\n",
       "      <th>4</th>\n",
       "      <td>B</td>\n",
       "      <td>b</td>\n",
       "      <td>1.0</td>\n",
       "    </tr>\n",
       "    <tr>\n",
       "      <th>5</th>\n",
       "      <td>B</td>\n",
       "      <td>c</td>\n",
       "      <td>1.0</td>\n",
       "    </tr>\n",
       "    <tr>\n",
       "      <th>6</th>\n",
       "      <td>C</td>\n",
       "      <td>c</td>\n",
       "      <td>1.0</td>\n",
       "    </tr>\n",
       "    <tr>\n",
       "      <th>7</th>\n",
       "      <td>C</td>\n",
       "      <td>d</td>\n",
       "      <td>1.0</td>\n",
       "    </tr>\n",
       "    <tr>\n",
       "      <th>8</th>\n",
       "      <td>C</td>\n",
       "      <td>e</td>\n",
       "      <td>1.0</td>\n",
       "    </tr>\n",
       "    <tr>\n",
       "      <th>9</th>\n",
       "      <td>D</td>\n",
       "      <td>d</td>\n",
       "      <td>1.0</td>\n",
       "    </tr>\n",
       "    <tr>\n",
       "      <th>10</th>\n",
       "      <td>D</td>\n",
       "      <td>e</td>\n",
       "      <td>1.0</td>\n",
       "    </tr>\n",
       "  </tbody>\n",
       "</table>\n",
       "</div>"
      ],
      "text/plain": [
       "   customer article  value\n",
       "0         A       a    1.0\n",
       "1         A       a    1.0\n",
       "2         A       b    1.0\n",
       "3         B       a    1.0\n",
       "4         B       b    1.0\n",
       "5         B       c    1.0\n",
       "6         C       c    1.0\n",
       "7         C       d    1.0\n",
       "8         C       e    1.0\n",
       "9         D       d    1.0\n",
       "10        D       e    1.0"
      ]
     },
     "execution_count": 11,
     "metadata": {},
     "output_type": "execute_result"
    }
   ],
   "source": [
    "#create user-article matrix of training data\n",
    "df_t = pd.DataFrame({\"customer\":[\"A\",\"A\",\"A\",\"B\",\"B\",\"B\",\"C\",\"C\",\"C\",\"D\",\"D\"],\n",
    "                     \"article\":[\"a\",\"a\",\"b\",\"a\",\"b\",\"c\",\"c\",\"d\",\"e\",\"d\",\"e\"],\n",
    "                     \"value\":np.ones(11)})\n",
    "df_t"
   ]
  },
  {
   "cell_type": "code",
   "execution_count": 12,
   "metadata": {},
   "outputs": [],
   "source": [
    "#remove duplicate purchase history\n",
    "df_t.drop_duplicates(inplace=True)"
   ]
  },
  {
   "cell_type": "code",
   "execution_count": 13,
   "metadata": {},
   "outputs": [
    {
     "data": {
      "text/html": [
       "<div>\n",
       "<style scoped>\n",
       "    .dataframe tbody tr th:only-of-type {\n",
       "        vertical-align: middle;\n",
       "    }\n",
       "\n",
       "    .dataframe tbody tr th {\n",
       "        vertical-align: top;\n",
       "    }\n",
       "\n",
       "    .dataframe thead th {\n",
       "        text-align: right;\n",
       "    }\n",
       "</style>\n",
       "<table border=\"1\" class=\"dataframe\">\n",
       "  <thead>\n",
       "    <tr style=\"text-align: right;\">\n",
       "      <th>article</th>\n",
       "      <th>a</th>\n",
       "      <th>b</th>\n",
       "      <th>c</th>\n",
       "      <th>d</th>\n",
       "      <th>e</th>\n",
       "    </tr>\n",
       "    <tr>\n",
       "      <th>customer</th>\n",
       "      <th></th>\n",
       "      <th></th>\n",
       "      <th></th>\n",
       "      <th></th>\n",
       "      <th></th>\n",
       "    </tr>\n",
       "  </thead>\n",
       "  <tbody>\n",
       "    <tr>\n",
       "      <th>A</th>\n",
       "      <td>1.0</td>\n",
       "      <td>1.0</td>\n",
       "      <td>0.0</td>\n",
       "      <td>0.0</td>\n",
       "      <td>0.0</td>\n",
       "    </tr>\n",
       "    <tr>\n",
       "      <th>B</th>\n",
       "      <td>1.0</td>\n",
       "      <td>1.0</td>\n",
       "      <td>1.0</td>\n",
       "      <td>0.0</td>\n",
       "      <td>0.0</td>\n",
       "    </tr>\n",
       "    <tr>\n",
       "      <th>C</th>\n",
       "      <td>0.0</td>\n",
       "      <td>0.0</td>\n",
       "      <td>1.0</td>\n",
       "      <td>1.0</td>\n",
       "      <td>1.0</td>\n",
       "    </tr>\n",
       "    <tr>\n",
       "      <th>D</th>\n",
       "      <td>0.0</td>\n",
       "      <td>0.0</td>\n",
       "      <td>0.0</td>\n",
       "      <td>1.0</td>\n",
       "      <td>1.0</td>\n",
       "    </tr>\n",
       "  </tbody>\n",
       "</table>\n",
       "</div>"
      ],
      "text/plain": [
       "article     a    b    c    d    e\n",
       "customer                         \n",
       "A         1.0  1.0  0.0  0.0  0.0\n",
       "B         1.0  1.0  1.0  0.0  0.0\n",
       "C         0.0  0.0  1.0  1.0  1.0\n",
       "D         0.0  0.0  0.0  1.0  1.0"
      ]
     },
     "execution_count": 13,
     "metadata": {},
     "output_type": "execute_result"
    }
   ],
   "source": [
    "#fill missing values with 0\n",
    "df_p = df_t.pivot(index='customer', columns=\"article\")['value'].fillna(0)\n",
    "df_p"
   ]
  },
  {
   "cell_type": "code",
   "execution_count": 34,
   "metadata": {},
   "outputs": [
    {
     "data": {
      "text/plain": [
       "'A'"
      ]
     },
     "execution_count": 34,
     "metadata": {},
     "output_type": "execute_result"
    }
   ],
   "source": [
    "df_p.index[0]"
   ]
  },
  {
   "cell_type": "code",
   "execution_count": 15,
   "metadata": {},
   "outputs": [
    {
     "data": {
      "text/plain": [
       "array([[1., 1., 0., 0., 0.],\n",
       "       [1., 1., 1., 0., 0.],\n",
       "       [0., 0., 1., 1., 1.],\n",
       "       [0., 0., 0., 1., 1.]])"
      ]
     },
     "execution_count": 15,
     "metadata": {},
     "output_type": "execute_result"
    }
   ],
   "source": [
    "#conver dataframe to numpy matrix\n",
    "df_m = np.array(df_p)\n",
    "df_m"
   ]
  },
  {
   "cell_type": "code",
   "execution_count": 17,
   "metadata": {},
   "outputs": [
    {
     "data": {
      "text/plain": [
       "array([[1.        , 0.81649658, 0.        , 0.        ],\n",
       "       [0.81649658, 1.        , 0.33333333, 0.        ],\n",
       "       [0.        , 0.33333333, 1.        , 0.81649658],\n",
       "       [0.        , 0.        , 0.81649658, 1.        ]])"
      ]
     },
     "execution_count": 17,
     "metadata": {},
     "output_type": "execute_result"
    }
   ],
   "source": [
    "#calculating pairwise cosine similarity\n",
    "similarity = cosine_similarity(df_m)\n",
    "similarity"
   ]
  },
  {
   "cell_type": "code",
   "execution_count": 21,
   "metadata": {},
   "outputs": [
    {
     "data": {
      "text/plain": [
       "array([[0.        , 0.        , 0.81649658, 1.        ],\n",
       "       [0.        , 0.33333333, 0.81649658, 1.        ],\n",
       "       [0.        , 0.33333333, 0.81649658, 1.        ],\n",
       "       [0.        , 0.        , 0.81649658, 1.        ]])"
      ]
     },
     "execution_count": 21,
     "metadata": {},
     "output_type": "execute_result"
    }
   ],
   "source": [
    "np.sort(similarity)"
   ]
  },
  {
   "cell_type": "code",
   "execution_count": 22,
   "metadata": {},
   "outputs": [
    {
     "data": {
      "text/plain": [
       "array([[2, 3, 1, 0],\n",
       "       [3, 2, 0, 1],\n",
       "       [0, 1, 3, 2],\n",
       "       [0, 1, 2, 3]])"
      ]
     },
     "execution_count": 22,
     "metadata": {},
     "output_type": "execute_result"
    }
   ],
   "source": [
    "np.argsort(similarity)"
   ]
  },
  {
   "cell_type": "code",
   "execution_count": 33,
   "metadata": {},
   "outputs": [
    {
     "data": {
      "text/plain": [
       "array([[0, 1, 3, 2],\n",
       "       [1, 0, 2, 3],\n",
       "       [2, 3, 1, 0],\n",
       "       [3, 2, 1, 0]])"
      ]
     },
     "execution_count": 33,
     "metadata": {},
     "output_type": "execute_result"
    }
   ],
   "source": [
    "np.fliplr(np.argsort(similarity))"
   ]
  },
  {
   "cell_type": "code",
   "execution_count": 8,
   "metadata": {},
   "outputs": [
    {
     "data": {
      "text/plain": [
       "array([1.        , 0.81649658, 0.        , 0.        ])"
      ]
     },
     "execution_count": 8,
     "metadata": {},
     "output_type": "execute_result"
    }
   ],
   "source": [
    "#Identify similar customers to customer A (index=0)\n",
    "similarity[0,:]"
   ]
  },
  {
   "cell_type": "code",
   "execution_count": 9,
   "metadata": {},
   "outputs": [
    {
     "data": {
      "text/plain": [
       "array([0, 1])"
      ]
     },
     "execution_count": 9,
     "metadata": {},
     "output_type": "execute_result"
    }
   ],
   "source": [
    "np.where(similarity[0,:] > 0.8)[0]"
   ]
  },
  {
   "cell_type": "code",
   "execution_count": 10,
   "metadata": {},
   "outputs": [
    {
     "data": {
      "text/plain": [
       "array([1, 3, 2])"
      ]
     },
     "execution_count": 10,
     "metadata": {},
     "output_type": "execute_result"
    }
   ],
   "source": [
    "np.argsort(similarity[0,:])[::-1][1:]"
   ]
  },
  {
   "cell_type": "code",
   "execution_count": 11,
   "metadata": {},
   "outputs": [
    {
     "data": {
      "text/plain": [
       "(array([2]),)"
      ]
     },
     "execution_count": 11,
     "metadata": {},
     "output_type": "execute_result"
    }
   ],
   "source": [
    "#Get index of articles which were not yet purchased by the customer A, but purchased by cutomer B\n",
    "not_purchased = df_m[1] - df_m[0]\n",
    "np.where(not_purchased == 1)"
   ]
  },
  {
   "cell_type": "code",
   "execution_count": 12,
   "metadata": {},
   "outputs": [
    {
     "data": {
      "text/plain": [
       "['c']"
      ]
     },
     "execution_count": 12,
     "metadata": {},
     "output_type": "execute_result"
    }
   ],
   "source": [
    "#check non-purchased items in df_p columns\n",
    "recommended_items = [ list(df_p.columns)[i] for i in np.where(not_purchased == 1)[0]]\n",
    "recommended_items"
   ]
  },
  {
   "cell_type": "code",
   "execution_count": 13,
   "metadata": {},
   "outputs": [
    {
     "data": {
      "text/plain": [
       "array([0.81649658, 1.        , 0.33333333, 0.        ])"
      ]
     },
     "execution_count": 13,
     "metadata": {},
     "output_type": "execute_result"
    }
   ],
   "source": [
    "#If we recommend to customer B [1]\n",
    "similarity[1,:]"
   ]
  },
  {
   "cell_type": "code",
   "execution_count": 14,
   "metadata": {},
   "outputs": [
    {
     "data": {
      "text/plain": [
       "array([0, 2, 3])"
      ]
     },
     "execution_count": 14,
     "metadata": {},
     "output_type": "execute_result"
    }
   ],
   "source": [
    "np.argsort(similarity[1,:])[::-1][1:]"
   ]
  },
  {
   "cell_type": "code",
   "execution_count": 15,
   "metadata": {},
   "outputs": [
    {
     "data": {
      "text/plain": [
       "(array([], dtype=int64),)"
      ]
     },
     "execution_count": 15,
     "metadata": {},
     "output_type": "execute_result"
    }
   ],
   "source": [
    "not_purchased = df_m[0] - df_m[1]\n",
    "np.where(not_purchased == 1)"
   ]
  },
  {
   "cell_type": "code",
   "execution_count": 16,
   "metadata": {},
   "outputs": [
    {
     "data": {
      "text/plain": [
       "[]"
      ]
     },
     "execution_count": 16,
     "metadata": {},
     "output_type": "execute_result"
    }
   ],
   "source": [
    "recommended_items = [ list(df_p.columns)[i] for i in np.where(not_purchased == 1)[0]]\n",
    "recommended_items"
   ]
  },
  {
   "cell_type": "markdown",
   "metadata": {},
   "source": [
    "## Dive in H&M dataset"
   ]
  },
  {
   "cell_type": "code",
   "execution_count": 2,
   "metadata": {},
   "outputs": [
    {
     "name": "stdout",
     "output_type": "stream",
     "text": [
      "Wall time: 22.1 s\n"
     ]
    }
   ],
   "source": [
    "%%time\n",
    "transaction_raw = pd.read_csv(\"../data/transactions_train.csv\") "
   ]
  },
  {
   "cell_type": "code",
   "execution_count": 4,
   "metadata": {},
   "outputs": [
    {
     "data": {
      "text/html": [
       "<div>\n",
       "<style scoped>\n",
       "    .dataframe tbody tr th:only-of-type {\n",
       "        vertical-align: middle;\n",
       "    }\n",
       "\n",
       "    .dataframe tbody tr th {\n",
       "        vertical-align: top;\n",
       "    }\n",
       "\n",
       "    .dataframe thead th {\n",
       "        text-align: right;\n",
       "    }\n",
       "</style>\n",
       "<table border=\"1\" class=\"dataframe\">\n",
       "  <thead>\n",
       "    <tr style=\"text-align: right;\">\n",
       "      <th></th>\n",
       "      <th>t_dat</th>\n",
       "      <th>customer_id</th>\n",
       "      <th>article_id</th>\n",
       "      <th>price</th>\n",
       "      <th>sales_channel_id</th>\n",
       "    </tr>\n",
       "  </thead>\n",
       "  <tbody>\n",
       "    <tr>\n",
       "      <th>0</th>\n",
       "      <td>2019-05-01</td>\n",
       "      <td>00019d6c20e0fbb551af18c57149af4707ec016bb0decd...</td>\n",
       "      <td>524061003</td>\n",
       "      <td>0.050831</td>\n",
       "      <td>2</td>\n",
       "    </tr>\n",
       "    <tr>\n",
       "      <th>1</th>\n",
       "      <td>2019-05-01</td>\n",
       "      <td>00019d6c20e0fbb551af18c57149af4707ec016bb0decd...</td>\n",
       "      <td>735404001</td>\n",
       "      <td>0.050831</td>\n",
       "      <td>2</td>\n",
       "    </tr>\n",
       "    <tr>\n",
       "      <th>2</th>\n",
       "      <td>2019-05-01</td>\n",
       "      <td>00019d6c20e0fbb551af18c57149af4707ec016bb0decd...</td>\n",
       "      <td>700370004</td>\n",
       "      <td>0.016932</td>\n",
       "      <td>2</td>\n",
       "    </tr>\n",
       "    <tr>\n",
       "      <th>3</th>\n",
       "      <td>2019-05-01</td>\n",
       "      <td>00019d6c20e0fbb551af18c57149af4707ec016bb0decd...</td>\n",
       "      <td>618800001</td>\n",
       "      <td>0.033881</td>\n",
       "      <td>2</td>\n",
       "    </tr>\n",
       "    <tr>\n",
       "      <th>4</th>\n",
       "      <td>2019-05-01</td>\n",
       "      <td>00019d6c20e0fbb551af18c57149af4707ec016bb0decd...</td>\n",
       "      <td>731407001</td>\n",
       "      <td>0.016932</td>\n",
       "      <td>2</td>\n",
       "    </tr>\n",
       "    <tr>\n",
       "      <th>...</th>\n",
       "      <td>...</td>\n",
       "      <td>...</td>\n",
       "      <td>...</td>\n",
       "      <td>...</td>\n",
       "      <td>...</td>\n",
       "    </tr>\n",
       "    <tr>\n",
       "      <th>1106456</th>\n",
       "      <td>2019-05-23</td>\n",
       "      <td>fff871bf24b40fd1290215414d760afaa69bb164d2b970...</td>\n",
       "      <td>573716012</td>\n",
       "      <td>0.022864</td>\n",
       "      <td>2</td>\n",
       "    </tr>\n",
       "    <tr>\n",
       "      <th>1106457</th>\n",
       "      <td>2019-05-23</td>\n",
       "      <td>fffb0ca7aca4f24df1b00a578d5b692ed7f83ffec7c37d...</td>\n",
       "      <td>649690002</td>\n",
       "      <td>0.022017</td>\n",
       "      <td>2</td>\n",
       "    </tr>\n",
       "    <tr>\n",
       "      <th>1106458</th>\n",
       "      <td>2019-05-23</td>\n",
       "      <td>fffb0ca7aca4f24df1b00a578d5b692ed7f83ffec7c37d...</td>\n",
       "      <td>706016002</td>\n",
       "      <td>0.033881</td>\n",
       "      <td>2</td>\n",
       "    </tr>\n",
       "    <tr>\n",
       "      <th>1106459</th>\n",
       "      <td>2019-05-23</td>\n",
       "      <td>fffb0ca7aca4f24df1b00a578d5b692ed7f83ffec7c37d...</td>\n",
       "      <td>399256023</td>\n",
       "      <td>0.016932</td>\n",
       "      <td>2</td>\n",
       "    </tr>\n",
       "    <tr>\n",
       "      <th>1106460</th>\n",
       "      <td>2019-05-23</td>\n",
       "      <td>fffb0ca7aca4f24df1b00a578d5b692ed7f83ffec7c37d...</td>\n",
       "      <td>568571001</td>\n",
       "      <td>0.016932</td>\n",
       "      <td>2</td>\n",
       "    </tr>\n",
       "  </tbody>\n",
       "</table>\n",
       "<p>1106461 rows × 5 columns</p>\n",
       "</div>"
      ],
      "text/plain": [
       "              t_dat                                        customer_id  \\\n",
       "0        2019-05-01  00019d6c20e0fbb551af18c57149af4707ec016bb0decd...   \n",
       "1        2019-05-01  00019d6c20e0fbb551af18c57149af4707ec016bb0decd...   \n",
       "2        2019-05-01  00019d6c20e0fbb551af18c57149af4707ec016bb0decd...   \n",
       "3        2019-05-01  00019d6c20e0fbb551af18c57149af4707ec016bb0decd...   \n",
       "4        2019-05-01  00019d6c20e0fbb551af18c57149af4707ec016bb0decd...   \n",
       "...             ...                                                ...   \n",
       "1106456  2019-05-23  fff871bf24b40fd1290215414d760afaa69bb164d2b970...   \n",
       "1106457  2019-05-23  fffb0ca7aca4f24df1b00a578d5b692ed7f83ffec7c37d...   \n",
       "1106458  2019-05-23  fffb0ca7aca4f24df1b00a578d5b692ed7f83ffec7c37d...   \n",
       "1106459  2019-05-23  fffb0ca7aca4f24df1b00a578d5b692ed7f83ffec7c37d...   \n",
       "1106460  2019-05-23  fffb0ca7aca4f24df1b00a578d5b692ed7f83ffec7c37d...   \n",
       "\n",
       "         article_id     price  sales_channel_id  \n",
       "0         524061003  0.050831                 2  \n",
       "1         735404001  0.050831                 2  \n",
       "2         700370004  0.016932                 2  \n",
       "3         618800001  0.033881                 2  \n",
       "4         731407001  0.016932                 2  \n",
       "...             ...       ...               ...  \n",
       "1106456   573716012  0.022864                 2  \n",
       "1106457   649690002  0.022017                 2  \n",
       "1106458   706016002  0.033881                 2  \n",
       "1106459   399256023  0.016932                 2  \n",
       "1106460   568571001  0.016932                 2  \n",
       "\n",
       "[1106461 rows x 5 columns]"
      ]
     },
     "execution_count": 4,
     "metadata": {},
     "output_type": "execute_result"
    }
   ],
   "source": [
    "#Get training data from 2019-5-1 to 2019-5-23\n",
    "mask_train = (transaction_raw.t_dat >= '2019-05-01') & (transaction_raw.t_dat <= '2019-05-23')\n",
    "train_raw = transaction_raw.loc[mask_train].reset_index(drop=True)\n",
    "train_raw"
   ]
  },
  {
   "cell_type": "code",
   "execution_count": 5,
   "metadata": {},
   "outputs": [
    {
     "data": {
      "text/html": [
       "<div>\n",
       "<style scoped>\n",
       "    .dataframe tbody tr th:only-of-type {\n",
       "        vertical-align: middle;\n",
       "    }\n",
       "\n",
       "    .dataframe tbody tr th {\n",
       "        vertical-align: top;\n",
       "    }\n",
       "\n",
       "    .dataframe thead th {\n",
       "        text-align: right;\n",
       "    }\n",
       "</style>\n",
       "<table border=\"1\" class=\"dataframe\">\n",
       "  <thead>\n",
       "    <tr style=\"text-align: right;\">\n",
       "      <th></th>\n",
       "      <th>t_dat</th>\n",
       "      <th>customer_id</th>\n",
       "      <th>article_id</th>\n",
       "      <th>price</th>\n",
       "      <th>sales_channel_id</th>\n",
       "    </tr>\n",
       "  </thead>\n",
       "  <tbody>\n",
       "    <tr>\n",
       "      <th>0</th>\n",
       "      <td>2019-05-24</td>\n",
       "      <td>00015c1a121e08bbd2552c15fbbb6e6b19d3bf8f7b6a3d...</td>\n",
       "      <td>735121003</td>\n",
       "      <td>0.050831</td>\n",
       "      <td>1</td>\n",
       "    </tr>\n",
       "    <tr>\n",
       "      <th>1</th>\n",
       "      <td>2019-05-24</td>\n",
       "      <td>00015c1a121e08bbd2552c15fbbb6e6b19d3bf8f7b6a3d...</td>\n",
       "      <td>589722005</td>\n",
       "      <td>0.016932</td>\n",
       "      <td>1</td>\n",
       "    </tr>\n",
       "    <tr>\n",
       "      <th>2</th>\n",
       "      <td>2019-05-24</td>\n",
       "      <td>0006d3ff0caf0cb4d4e0615ee5cb7d268622364d483335...</td>\n",
       "      <td>659302005</td>\n",
       "      <td>0.013559</td>\n",
       "      <td>1</td>\n",
       "    </tr>\n",
       "    <tr>\n",
       "      <th>3</th>\n",
       "      <td>2019-05-24</td>\n",
       "      <td>0006d3ff0caf0cb4d4e0615ee5cb7d268622364d483335...</td>\n",
       "      <td>631458004</td>\n",
       "      <td>0.001678</td>\n",
       "      <td>1</td>\n",
       "    </tr>\n",
       "    <tr>\n",
       "      <th>4</th>\n",
       "      <td>2019-05-24</td>\n",
       "      <td>0006d3ff0caf0cb4d4e0615ee5cb7d268622364d483335...</td>\n",
       "      <td>668647001</td>\n",
       "      <td>0.001678</td>\n",
       "      <td>1</td>\n",
       "    </tr>\n",
       "    <tr>\n",
       "      <th>...</th>\n",
       "      <td>...</td>\n",
       "      <td>...</td>\n",
       "      <td>...</td>\n",
       "      <td>...</td>\n",
       "      <td>...</td>\n",
       "    </tr>\n",
       "    <tr>\n",
       "      <th>516472</th>\n",
       "      <td>2019-06-01</td>\n",
       "      <td>fffdaab7d9d79ceee4ffd2ab98bb68411438ea90e46a67...</td>\n",
       "      <td>738881002</td>\n",
       "      <td>0.016932</td>\n",
       "      <td>2</td>\n",
       "    </tr>\n",
       "    <tr>\n",
       "      <th>516473</th>\n",
       "      <td>2019-06-01</td>\n",
       "      <td>fffdaab7d9d79ceee4ffd2ab98bb68411438ea90e46a67...</td>\n",
       "      <td>220094010</td>\n",
       "      <td>0.025407</td>\n",
       "      <td>2</td>\n",
       "    </tr>\n",
       "    <tr>\n",
       "      <th>516474</th>\n",
       "      <td>2019-06-01</td>\n",
       "      <td>ffff4c4e8b57b633c1ddf8fbd53db16b962cf831baf9ed...</td>\n",
       "      <td>487800001</td>\n",
       "      <td>0.011847</td>\n",
       "      <td>2</td>\n",
       "    </tr>\n",
       "    <tr>\n",
       "      <th>516475</th>\n",
       "      <td>2019-06-01</td>\n",
       "      <td>ffff4c4e8b57b633c1ddf8fbd53db16b962cf831baf9ed...</td>\n",
       "      <td>754013001</td>\n",
       "      <td>0.022017</td>\n",
       "      <td>2</td>\n",
       "    </tr>\n",
       "    <tr>\n",
       "      <th>516476</th>\n",
       "      <td>2019-06-01</td>\n",
       "      <td>ffff4c4e8b57b633c1ddf8fbd53db16b962cf831baf9ed...</td>\n",
       "      <td>745502001</td>\n",
       "      <td>0.025407</td>\n",
       "      <td>2</td>\n",
       "    </tr>\n",
       "  </tbody>\n",
       "</table>\n",
       "<p>516477 rows × 5 columns</p>\n",
       "</div>"
      ],
      "text/plain": [
       "             t_dat                                        customer_id  \\\n",
       "0       2019-05-24  00015c1a121e08bbd2552c15fbbb6e6b19d3bf8f7b6a3d...   \n",
       "1       2019-05-24  00015c1a121e08bbd2552c15fbbb6e6b19d3bf8f7b6a3d...   \n",
       "2       2019-05-24  0006d3ff0caf0cb4d4e0615ee5cb7d268622364d483335...   \n",
       "3       2019-05-24  0006d3ff0caf0cb4d4e0615ee5cb7d268622364d483335...   \n",
       "4       2019-05-24  0006d3ff0caf0cb4d4e0615ee5cb7d268622364d483335...   \n",
       "...            ...                                                ...   \n",
       "516472  2019-06-01  fffdaab7d9d79ceee4ffd2ab98bb68411438ea90e46a67...   \n",
       "516473  2019-06-01  fffdaab7d9d79ceee4ffd2ab98bb68411438ea90e46a67...   \n",
       "516474  2019-06-01  ffff4c4e8b57b633c1ddf8fbd53db16b962cf831baf9ed...   \n",
       "516475  2019-06-01  ffff4c4e8b57b633c1ddf8fbd53db16b962cf831baf9ed...   \n",
       "516476  2019-06-01  ffff4c4e8b57b633c1ddf8fbd53db16b962cf831baf9ed...   \n",
       "\n",
       "        article_id     price  sales_channel_id  \n",
       "0        735121003  0.050831                 1  \n",
       "1        589722005  0.016932                 1  \n",
       "2        659302005  0.013559                 1  \n",
       "3        631458004  0.001678                 1  \n",
       "4        668647001  0.001678                 1  \n",
       "...            ...       ...               ...  \n",
       "516472   738881002  0.016932                 2  \n",
       "516473   220094010  0.025407                 2  \n",
       "516474   487800001  0.011847                 2  \n",
       "516475   754013001  0.022017                 2  \n",
       "516476   745502001  0.025407                 2  \n",
       "\n",
       "[516477 rows x 5 columns]"
      ]
     },
     "execution_count": 5,
     "metadata": {},
     "output_type": "execute_result"
    }
   ],
   "source": [
    "#Get test data from 2019-5-24 to 2019-6-1\n",
    "mask_test = (transaction_raw.t_dat >= '2019-05-24') & (transaction_raw.t_dat <= '2019-06-01')\n",
    "test_raw = transaction_raw.loc[mask_test].reset_index(drop=True)\n",
    "test_raw"
   ]
  },
  {
   "cell_type": "code",
   "execution_count": 11,
   "metadata": {},
   "outputs": [],
   "source": [
    "#save train_raw and test_raw to csv\n",
    "train_raw.to_csv(\"../data/transactions_train_20190501-0523.csv\",index=False)\n",
    "test_raw.to_csv(\"../data/transactions_train_20190524-0601.csv\",index=False)"
   ]
  },
  {
   "cell_type": "code",
   "execution_count": 6,
   "metadata": {},
   "outputs": [],
   "source": [
    "#Get X_train for user_collaborative_filter\n",
    "X_train = train_raw[[\"customer_id\",\"article_id\"]].head(100000)"
   ]
  },
  {
   "cell_type": "code",
   "execution_count": null,
   "metadata": {},
   "outputs": [],
   "source": [
    "%%time\n",
    "customer = X_train.customer_id[0]\n",
    "user_collaborative_filter(X_train, target_user = customer, similar_user_number = 1)"
   ]
  },
  {
   "cell_type": "code",
   "execution_count": 45,
   "metadata": {},
   "outputs": [
    {
     "data": {
      "text/plain": [
       "[769434001, 742083002]"
      ]
     },
     "execution_count": 45,
     "metadata": {},
     "output_type": "execute_result"
    }
   ],
   "source": [
    "user_collaborative_filter(X_train, target_user = customer, similar_user_number = 2)"
   ]
  },
  {
   "cell_type": "code",
   "execution_count": 47,
   "metadata": {},
   "outputs": [
    {
     "name": "stdout",
     "output_type": "stream",
     "text": [
      "CPU times: user 55.8 s, sys: 3.32 s, total: 59.2 s\n",
      "Wall time: 36.1 s\n"
     ]
    },
    {
     "data": {
      "text/plain": [
       "[769434001, 742083002, 661333002]"
      ]
     },
     "execution_count": 47,
     "metadata": {},
     "output_type": "execute_result"
    }
   ],
   "source": [
    "%%time\n",
    "\n",
    "user_collaborative_filter(X_train, target_user = customer, similar_user_number = 3, max_recommend_items=12)"
   ]
  },
  {
   "cell_type": "code",
   "execution_count": 51,
   "metadata": {},
   "outputs": [
    {
     "name": "stdout",
     "output_type": "stream",
     "text": [
      "start cosine\n",
      "cosine end\n",
      "CPU times: user 57.2 s, sys: 3.6 s, total: 1min\n",
      "Wall time: 38.1 s\n"
     ]
    },
    {
     "data": {
      "text/plain": [
       "[769434001,\n",
       " 742083002,\n",
       " 661333002,\n",
       " 669882007,\n",
       " 735550003,\n",
       " 746329003,\n",
       " 735404002,\n",
       " 775629001,\n",
       " 600886001,\n",
       " 628917001,\n",
       " 643642001,\n",
       " 733419005]"
      ]
     },
     "execution_count": 51,
     "metadata": {},
     "output_type": "execute_result"
    }
   ],
   "source": [
    "%%time\n",
    "\n",
    "user_collaborative_filter(X_train, target_user = customer, similar_user_number = 100, max_recommend_items=12)"
   ]
  },
  {
   "cell_type": "code",
   "execution_count": 41,
   "metadata": {},
   "outputs": [
    {
     "data": {
      "text/plain": [
       "[735550003,\n",
       " 746329003,\n",
       " 696209005,\n",
       " 727347005,\n",
       " 749699007,\n",
       " 699075009,\n",
       " 723370002,\n",
       " 733267001,\n",
       " 735428002,\n",
       " 629420001,\n",
       " 699598008,\n",
       " 674606006,\n",
       " 702623002,\n",
       " 788107002]"
      ]
     },
     "execution_count": 41,
     "metadata": {},
     "output_type": "execute_result"
    }
   ],
   "source": [
    "user_collaborative_filter(X_train, target_user = customer, similar_user_number = 7)"
   ]
  },
  {
   "cell_type": "code",
   "execution_count": null,
   "metadata": {},
   "outputs": [],
   "source": []
  }
 ],
 "metadata": {
  "kernelspec": {
   "display_name": "Python 3 (ipykernel)",
   "language": "python",
   "name": "python3"
  },
  "language_info": {
   "codemirror_mode": {
    "name": "ipython",
    "version": 3
   },
   "file_extension": ".py",
   "mimetype": "text/x-python",
   "name": "python",
   "nbconvert_exporter": "python",
   "pygments_lexer": "ipython3",
   "version": "3.9.10"
  }
 },
 "nbformat": 4,
 "nbformat_minor": 2
}
