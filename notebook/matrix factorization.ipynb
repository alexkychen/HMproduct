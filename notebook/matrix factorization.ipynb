{
 "cells": [
  {
   "cell_type": "code",
   "execution_count": 1,
   "id": "e731d7c3",
   "metadata": {},
   "outputs": [],
   "source": [
    "# Use matrix factorization\n",
    "\n",
    "import pandas as pd\n",
    "import numpy as np\n",
    "from sklearn.decomposition import NMF"
   ]
  },
  {
   "cell_type": "code",
   "execution_count": 2,
   "id": "5e6523bc",
   "metadata": {},
   "outputs": [
    {
     "name": "stdout",
     "output_type": "stream",
     "text": [
      "CPU times: user 29 s, sys: 8.94 s, total: 37.9 s\n",
      "Wall time: 42.1 s\n"
     ]
    }
   ],
   "source": [
    "%%time\n",
    "transaction_raw = pd.read_csv(\"../data/transactions_train.csv\")"
   ]
  },
  {
   "cell_type": "code",
   "execution_count": 12,
   "id": "889595d3",
   "metadata": {},
   "outputs": [],
   "source": [
    "mask_train = (transaction_raw.t_dat >= '2019-05-01') & (transaction_raw.t_dat <= '2019-05-10')\n",
    "X_train = transaction_raw.loc[mask_train].reset_index(drop=True)[['customer_id','article_id']]\n",
    "\n",
    "mask_test = (transaction_raw.t_dat >= '2019-05-11') & (transaction_raw.t_dat <= '2019-05-17')\n",
    "X_test = transaction_raw.loc[mask_test].reset_index(drop=True)[['customer_id','article_id']]\n",
    "        "
   ]
  },
  {
   "cell_type": "code",
   "execution_count": 13,
   "id": "9b25dc16",
   "metadata": {},
   "outputs": [
    {
     "data": {
      "text/html": [
       "<div>\n",
       "<style scoped>\n",
       "    .dataframe tbody tr th:only-of-type {\n",
       "        vertical-align: middle;\n",
       "    }\n",
       "\n",
       "    .dataframe tbody tr th {\n",
       "        vertical-align: top;\n",
       "    }\n",
       "\n",
       "    .dataframe thead th {\n",
       "        text-align: right;\n",
       "    }\n",
       "</style>\n",
       "<table border=\"1\" class=\"dataframe\">\n",
       "  <thead>\n",
       "    <tr style=\"text-align: right;\">\n",
       "      <th></th>\n",
       "      <th>customer_id</th>\n",
       "      <th>article_id</th>\n",
       "    </tr>\n",
       "  </thead>\n",
       "  <tbody>\n",
       "    <tr>\n",
       "      <th>0</th>\n",
       "      <td>00019d6c20e0fbb551af18c57149af4707ec016bb0decd...</td>\n",
       "      <td>524061003</td>\n",
       "    </tr>\n",
       "    <tr>\n",
       "      <th>1</th>\n",
       "      <td>00019d6c20e0fbb551af18c57149af4707ec016bb0decd...</td>\n",
       "      <td>735404001</td>\n",
       "    </tr>\n",
       "    <tr>\n",
       "      <th>2</th>\n",
       "      <td>00019d6c20e0fbb551af18c57149af4707ec016bb0decd...</td>\n",
       "      <td>700370004</td>\n",
       "    </tr>\n",
       "    <tr>\n",
       "      <th>3</th>\n",
       "      <td>00019d6c20e0fbb551af18c57149af4707ec016bb0decd...</td>\n",
       "      <td>618800001</td>\n",
       "    </tr>\n",
       "    <tr>\n",
       "      <th>4</th>\n",
       "      <td>00019d6c20e0fbb551af18c57149af4707ec016bb0decd...</td>\n",
       "      <td>731407001</td>\n",
       "    </tr>\n",
       "    <tr>\n",
       "      <th>...</th>\n",
       "      <td>...</td>\n",
       "      <td>...</td>\n",
       "    </tr>\n",
       "    <tr>\n",
       "      <th>495</th>\n",
       "      <td>01d106a0b45ae7f169b3233d332bf325c80c24d4d160ed...</td>\n",
       "      <td>735550002</td>\n",
       "    </tr>\n",
       "    <tr>\n",
       "      <th>496</th>\n",
       "      <td>01d106a0b45ae7f169b3233d332bf325c80c24d4d160ed...</td>\n",
       "      <td>701843002</td>\n",
       "    </tr>\n",
       "    <tr>\n",
       "      <th>497</th>\n",
       "      <td>01d106a0b45ae7f169b3233d332bf325c80c24d4d160ed...</td>\n",
       "      <td>736581001</td>\n",
       "    </tr>\n",
       "    <tr>\n",
       "      <th>498</th>\n",
       "      <td>01d106a0b45ae7f169b3233d332bf325c80c24d4d160ed...</td>\n",
       "      <td>780852001</td>\n",
       "    </tr>\n",
       "    <tr>\n",
       "      <th>499</th>\n",
       "      <td>01d106a0b45ae7f169b3233d332bf325c80c24d4d160ed...</td>\n",
       "      <td>681385003</td>\n",
       "    </tr>\n",
       "  </tbody>\n",
       "</table>\n",
       "<p>500 rows × 2 columns</p>\n",
       "</div>"
      ],
      "text/plain": [
       "                                           customer_id  article_id\n",
       "0    00019d6c20e0fbb551af18c57149af4707ec016bb0decd...   524061003\n",
       "1    00019d6c20e0fbb551af18c57149af4707ec016bb0decd...   735404001\n",
       "2    00019d6c20e0fbb551af18c57149af4707ec016bb0decd...   700370004\n",
       "3    00019d6c20e0fbb551af18c57149af4707ec016bb0decd...   618800001\n",
       "4    00019d6c20e0fbb551af18c57149af4707ec016bb0decd...   731407001\n",
       "..                                                 ...         ...\n",
       "495  01d106a0b45ae7f169b3233d332bf325c80c24d4d160ed...   735550002\n",
       "496  01d106a0b45ae7f169b3233d332bf325c80c24d4d160ed...   701843002\n",
       "497  01d106a0b45ae7f169b3233d332bf325c80c24d4d160ed...   736581001\n",
       "498  01d106a0b45ae7f169b3233d332bf325c80c24d4d160ed...   780852001\n",
       "499  01d106a0b45ae7f169b3233d332bf325c80c24d4d160ed...   681385003\n",
       "\n",
       "[500 rows x 2 columns]"
      ]
     },
     "execution_count": 13,
     "metadata": {},
     "output_type": "execute_result"
    }
   ],
   "source": [
    "X = X_train.head(500)\n",
    "X"
   ]
  },
  {
   "cell_type": "code",
   "execution_count": 14,
   "id": "276accdc",
   "metadata": {},
   "outputs": [],
   "source": [
    "X = pd.DataFrame({\"user\":X.iloc[:,0],\n",
    "                    \"item\":X.iloc[:,1],\n",
    "                    \"value\":[1]*len(X)})\n",
    "    \n",
    "#drop duplicate rows, if one purchased more than one items\n",
    "X.drop_duplicates(inplace=True)\n",
    "    \n",
    "#convert dataframe to user-by-item matrix and fill nan with 0\n",
    "user_item_df = X.pivot(index=X.columns[0], columns=X.columns[1] )['value'].fillna(0)\n",
    "    \n",
    "#convert user_item_df to numpy matrix\n",
    "matrix = np.array(user_item_df)\n",
    "\n",
    "#build MF model\n",
    "model = NMF(init='random', random_state=0)\n",
    "#calculate low dimensional component matrices W, H\n",
    "W = model.fit_transform(matrix)\n",
    "H = model.components_\n",
    "\n",
    "#calculate dot product of W and H\n",
    "matrix_product = np.matmul(W, H)\n",
    "\n",
    "#matrix substraction to get recommended items\n",
    "matrix_recommend = matrix_product - matrix\n",
    "\n",
    "#number of total users\n",
    "num_total_users = matrix.shape[0]\n",
    "#item id/name list\n",
    "item_list = list(user_item_df.columns)\n",
    "\n",
    "#empty dict to store final results\n",
    "recommended_dict = {}\n",
    "\n",
    "#for each target users\n",
    "for i in range(num_total_users):\n",
    "    user_id = user_item_df.index[i]\n",
    "    \n",
    "    recommended_items = []\n"
   ]
  },
  {
   "cell_type": "code",
   "execution_count": 16,
   "id": "e8a2e4de",
   "metadata": {},
   "outputs": [
    {
     "data": {
      "text/plain": [
       "(108, 419)"
      ]
     },
     "execution_count": 16,
     "metadata": {},
     "output_type": "execute_result"
    }
   ],
   "source": [
    "matrix.shape"
   ]
  },
  {
   "cell_type": "code",
   "execution_count": 17,
   "id": "ba9e6e26",
   "metadata": {},
   "outputs": [],
   "source": [
    "model = NMF(init='random', random_state=0)\n",
    "W = model.fit_transform(matrix)\n",
    "H = model.components_"
   ]
  },
  {
   "cell_type": "code",
   "execution_count": 19,
   "id": "23a41a35",
   "metadata": {},
   "outputs": [
    {
     "name": "stdout",
     "output_type": "stream",
     "text": [
      "CPU times: user 5.26 ms, sys: 3.82 ms, total: 9.08 ms\n",
      "Wall time: 26.9 ms\n"
     ]
    },
    {
     "data": {
      "text/plain": [
       "(108, 419)"
      ]
     },
     "execution_count": 19,
     "metadata": {},
     "output_type": "execute_result"
    }
   ],
   "source": [
    "%%time\n",
    "np.dot(W,H).shape"
   ]
  },
  {
   "cell_type": "code",
   "execution_count": 20,
   "id": "615c68c4",
   "metadata": {},
   "outputs": [
    {
     "name": "stdout",
     "output_type": "stream",
     "text": [
      "CPU times: user 3.9 ms, sys: 330 µs, total: 4.23 ms\n",
      "Wall time: 2.38 ms\n"
     ]
    },
    {
     "data": {
      "text/plain": [
       "(108, 419)"
      ]
     },
     "execution_count": 20,
     "metadata": {},
     "output_type": "execute_result"
    }
   ],
   "source": [
    "%%time\n",
    "np.matmul(W,H).shape"
   ]
  },
  {
   "cell_type": "code",
   "execution_count": 62,
   "id": "bcc19be2",
   "metadata": {},
   "outputs": [],
   "source": [
    "matrix_mf = np.matmul(W,H)"
   ]
  },
  {
   "cell_type": "code",
   "execution_count": 63,
   "id": "0816ce48",
   "metadata": {},
   "outputs": [],
   "source": [
    "matrix_re = matrix_mf - matrix"
   ]
  },
  {
   "cell_type": "code",
   "execution_count": 64,
   "id": "856f4803",
   "metadata": {},
   "outputs": [
    {
     "data": {
      "text/plain": [
       "array([[0.00000000e+00, 0.00000000e+00, 0.00000000e+00, ...,\n",
       "        0.00000000e+00, 0.00000000e+00, 0.00000000e+00],\n",
       "       [0.00000000e+00, 0.00000000e+00, 3.32313145e-07, ...,\n",
       "        0.00000000e+00, 0.00000000e+00, 0.00000000e+00],\n",
       "       [0.00000000e+00, 0.00000000e+00, 0.00000000e+00, ...,\n",
       "        0.00000000e+00, 0.00000000e+00, 0.00000000e+00],\n",
       "       ...,\n",
       "       [0.00000000e+00, 0.00000000e+00, 0.00000000e+00, ...,\n",
       "        0.00000000e+00, 0.00000000e+00, 0.00000000e+00],\n",
       "       [0.00000000e+00, 0.00000000e+00, 0.00000000e+00, ...,\n",
       "        0.00000000e+00, 0.00000000e+00, 0.00000000e+00],\n",
       "       [0.00000000e+00, 0.00000000e+00, 0.00000000e+00, ...,\n",
       "        0.00000000e+00, 0.00000000e+00, 1.30997150e-06]])"
      ]
     },
     "execution_count": 64,
     "metadata": {},
     "output_type": "execute_result"
    }
   ],
   "source": [
    "matrix_re"
   ]
  },
  {
   "cell_type": "code",
   "execution_count": 65,
   "id": "5912f87b",
   "metadata": {},
   "outputs": [
    {
     "name": "stdout",
     "output_type": "stream",
     "text": [
      "1.0\n",
      "0.0\n",
      "1.0000002894786595\n",
      "0.0\n"
     ]
    }
   ],
   "source": [
    "print(matrix.max())\n",
    "print(matrix.min())\n",
    "print(matrix_mf.max())\n",
    "print(matrix_mf.min())"
   ]
  },
  {
   "cell_type": "code",
   "execution_count": 66,
   "id": "b21c9d57",
   "metadata": {},
   "outputs": [
    {
     "data": {
      "text/plain": [
       "True"
      ]
     },
     "execution_count": 66,
     "metadata": {},
     "output_type": "execute_result"
    }
   ],
   "source": [
    "np.any(matrix_re > 0)"
   ]
  },
  {
   "cell_type": "code",
   "execution_count": 67,
   "id": "3c35ba2a",
   "metadata": {},
   "outputs": [
    {
     "data": {
      "text/plain": [
       "1016"
      ]
     },
     "execution_count": 67,
     "metadata": {},
     "output_type": "execute_result"
    }
   ],
   "source": [
    "matrix_re_0greater = matrix_re > 0\n",
    "matrix_re_0greater.sum()"
   ]
  },
  {
   "cell_type": "code",
   "execution_count": null,
   "id": "9991a76f",
   "metadata": {},
   "outputs": [],
   "source": [
    "#number of total users\n",
    "num_total_users = matrix.shape[0]\n",
    "#item id/name list\n",
    "item_list = list(user_item_df.columns)\n",
    "\n",
    "#empty dict to store final results\n",
    "recommended_dict = {}"
   ]
  },
  {
   "cell_type": "code",
   "execution_count": null,
   "id": "5f3442a9",
   "metadata": {},
   "outputs": [],
   "source": []
  },
  {
   "cell_type": "code",
   "execution_count": null,
   "id": "f81876c8",
   "metadata": {},
   "outputs": [],
   "source": []
  },
  {
   "cell_type": "code",
   "execution_count": 3,
   "id": "912a9f2e",
   "metadata": {},
   "outputs": [
    {
     "data": {
      "text/plain": [
       "array([[1. , 1. ],\n",
       "       [2. , 1. ],\n",
       "       [3. , 1.2],\n",
       "       [4. , 1. ],\n",
       "       [5. , 0.8],\n",
       "       [6. , 1. ]])"
      ]
     },
     "execution_count": 3,
     "metadata": {},
     "output_type": "execute_result"
    }
   ],
   "source": [
    "X = np.array([[1, 1], [2, 1], [3, 1.2], [4, 1], [5, 0.8], [6, 1]])\n",
    "X"
   ]
  },
  {
   "cell_type": "code",
   "execution_count": 4,
   "id": "a64ab98f",
   "metadata": {},
   "outputs": [],
   "source": [
    "model = NMF(n_components=2, init='random', random_state=0)\n",
    "W = model.fit_transform(X)\n",
    "H = model.components_"
   ]
  },
  {
   "cell_type": "code",
   "execution_count": 5,
   "id": "736b6b52",
   "metadata": {},
   "outputs": [
    {
     "data": {
      "text/plain": [
       "array([[0.        , 0.46880684],\n",
       "       [0.55699523, 0.3894146 ],\n",
       "       [1.00331638, 0.41925352],\n",
       "       [1.6733999 , 0.22926926],\n",
       "       [2.34349311, 0.03927954],\n",
       "       [2.78981512, 0.06911798]])"
      ]
     },
     "execution_count": 5,
     "metadata": {},
     "output_type": "execute_result"
    }
   ],
   "source": [
    "W"
   ]
  },
  {
   "cell_type": "code",
   "execution_count": 6,
   "id": "c469e125",
   "metadata": {},
   "outputs": [
    {
     "data": {
      "text/plain": [
       "array([[2.09783018, 0.30560234],\n",
       "       [2.13443044, 2.13171694]])"
      ]
     },
     "execution_count": 6,
     "metadata": {},
     "output_type": "execute_result"
    }
   ],
   "source": [
    "H"
   ]
  },
  {
   "cell_type": "code",
   "execution_count": 7,
   "id": "c6beed8b",
   "metadata": {},
   "outputs": [
    {
     "data": {
      "text/plain": [
       "array([[0.        , 0.46880687],\n",
       "       [0.55762104, 0.38906185],\n",
       "       [1.0039665 , 0.41888706],\n",
       "       [1.6736919 , 0.22910467],\n",
       "       [2.3434173 , 0.03932227],\n",
       "       [2.78976277, 0.06914748]])"
      ]
     },
     "execution_count": 7,
     "metadata": {},
     "output_type": "execute_result"
    }
   ],
   "source": [
    "X_new = model.transform(X)\n",
    "X_new"
   ]
  },
  {
   "cell_type": "code",
   "execution_count": 10,
   "id": "b51c8176",
   "metadata": {},
   "outputs": [
    {
     "data": {
      "text/plain": [
       "array([[1.00063558, 0.99936347],\n",
       "       [1.99965977, 1.00034074],\n",
       "       [2.99965485, 1.20034566],\n",
       "       [3.9998681 , 1.0001321 ],\n",
       "       [5.00009002, 0.79990984],\n",
       "       [6.00008587, 0.999914  ]])"
      ]
     },
     "execution_count": 10,
     "metadata": {},
     "output_type": "execute_result"
    }
   ],
   "source": [
    "np.dot(W,H)"
   ]
  },
  {
   "cell_type": "code",
   "execution_count": 11,
   "id": "2a14e26f",
   "metadata": {},
   "outputs": [
    {
     "data": {
      "text/plain": [
       "array([[1.00063558, 0.99936347],\n",
       "       [1.99965977, 1.00034074],\n",
       "       [2.99965485, 1.20034566],\n",
       "       [3.9998681 , 1.0001321 ],\n",
       "       [5.00009002, 0.79990984],\n",
       "       [6.00008587, 0.999914  ]])"
      ]
     },
     "execution_count": 11,
     "metadata": {},
     "output_type": "execute_result"
    }
   ],
   "source": [
    "np.matmul(W,H)"
   ]
  },
  {
   "cell_type": "code",
   "execution_count": null,
   "id": "a006f116",
   "metadata": {},
   "outputs": [],
   "source": []
  }
 ],
 "metadata": {
  "kernelspec": {
   "display_name": "Python 3 (ipykernel)",
   "language": "python",
   "name": "python3"
  },
  "language_info": {
   "codemirror_mode": {
    "name": "ipython",
    "version": 3
   },
   "file_extension": ".py",
   "mimetype": "text/x-python",
   "name": "python",
   "nbconvert_exporter": "python",
   "pygments_lexer": "ipython3",
   "version": "3.9.10"
  }
 },
 "nbformat": 4,
 "nbformat_minor": 5
}
