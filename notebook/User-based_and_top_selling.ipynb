{
 "cells": [
  {
   "cell_type": "code",
   "execution_count": null,
   "id": "4266878c",
   "metadata": {},
   "outputs": [],
   "source": [
    "import pandas as pd\n",
    "import numpy as np\n",
    "import collaborative_filter as cf\n",
    "import matplotlib.pyplot as plt"
   ]
  },
  {
   "cell_type": "code",
   "execution_count": null,
   "id": "5029a149",
   "metadata": {},
   "outputs": [],
   "source": [
    "%%time\n",
    "transaction_raw = pd.read_csv(\"../data/transactions_train.csv\")"
   ]
  },
  {
   "cell_type": "code",
   "execution_count": null,
   "id": "eec00400",
   "metadata": {},
   "outputs": [],
   "source": [
    "#convert string t_dat to datetime\n",
    "transaction_raw['t_dat'] = pd.to_datetime(transaction_raw['t_dat'])\n",
    "\n",
    "#add year, month, week column\n",
    "transaction_raw['year'] = transaction_raw['t_dat'].dt.year\n",
    "transaction_raw['month'] = transaction_raw['t_dat'].dt.month\n",
    "transaction_raw['week'] = transaction_raw['t_dat'].dt.isocalendar().week"
   ]
  },
  {
   "cell_type": "code",
   "execution_count": null,
   "id": "64f697ae",
   "metadata": {},
   "outputs": [],
   "source": [
    "#extract 2019 May, June, July data\n",
    "mask = (transaction_raw['year']==2019) & (transaction_raw['month'] >= 5) & (transaction_raw['month'] <= 7)\n",
    "transaction_subset = transaction_raw.loc[mask]\n",
    "transaction_subset"
   ]
  },
  {
   "cell_type": "code",
   "execution_count": null,
   "id": "d4a5a90a",
   "metadata": {},
   "outputs": [],
   "source": []
  },
  {
   "cell_type": "code",
   "execution_count": null,
   "id": "a6e34c97",
   "metadata": {},
   "outputs": [],
   "source": []
  }
 ],
 "metadata": {
  "kernelspec": {
   "display_name": "Python 3",
   "language": "python",
   "name": "python3"
  },
  "language_info": {
   "codemirror_mode": {
    "name": "ipython",
    "version": 3
   },
   "file_extension": ".py",
   "mimetype": "text/x-python",
   "name": "python",
   "nbconvert_exporter": "python",
   "pygments_lexer": "ipython3",
   "version": "3.8.8"
  }
 },
 "nbformat": 4,
 "nbformat_minor": 5
}
