{
 "cells": [
  {
   "cell_type": "markdown",
   "metadata": {},
   "source": [
    "# Top-selling model\n",
    "\n",
    "A model that only recommend top selling products to customers\n",
    "\n",
    "- Identify top 12 selling items from 1st-7th day and 15th-21st day each month\n",
    "- Check numbers items were actually purchased by returning users from 8th-14th and 22nd-28th day each month\n",
    "- Use AOP@12 and MAP@12 to evaluate the results\n",
    "\n",
    "Best selling items EDA on Kaggle: https://www.kaggle.com/negoto/best-selling-items-catalog-like-eda-of-articles"
   ]
  },
  {
   "cell_type": "code",
   "execution_count": 2,
   "metadata": {},
   "outputs": [],
   "source": [
    "import pandas as pd\n",
    "import numpy as np\n",
    "import collaborative_filter as cf"
   ]
  },
  {
   "cell_type": "code",
   "execution_count": 3,
   "metadata": {},
   "outputs": [
    {
     "name": "stdout",
     "output_type": "stream",
     "text": [
      "Wall time: 25.2 s\n"
     ]
    }
   ],
   "source": [
    "%%time\n",
    "transaction_raw = pd.read_csv(\"../data/transactions_train.csv\")"
   ]
  },
  {
   "cell_type": "code",
   "execution_count": 4,
   "metadata": {},
   "outputs": [],
   "source": [
    "eval_month = ['2018-10','2018-11','2018-12','2019-01','2019-02','2019-03','2019-04','2019-05','2019-06','2019-07',\n",
    "              '2019-09','2019-10','2019-11','2019-12','2020-01','2020-02','2020-03','2020-04','2020-05','2020-06',\n",
    "              '2020-07','2020-08']\n",
    "traintest_day = ['01','07','08','14','15','21','22','28']"
   ]
  },
  {
   "cell_type": "code",
   "execution_count": 5,
   "metadata": {},
   "outputs": [
    {
     "data": {
      "text/plain": [
       "'2020-08'"
      ]
     },
     "execution_count": 5,
     "metadata": {},
     "output_type": "execute_result"
    }
   ],
   "source": [
    "eval_month[21]"
   ]
  },
  {
   "cell_type": "code",
   "execution_count": 6,
   "metadata": {},
   "outputs": [
    {
     "name": "stderr",
     "output_type": "stream",
     "text": [
      "100%|███████████████████████████████████| 72262/72262 [04:58<00:00, 242.09it/s]\n"
     ]
    },
    {
     "name": "stdout",
     "output_type": "stream",
     "text": [
      "Number of users: 13405\n"
     ]
    },
    {
     "name": "stderr",
     "output_type": "stream",
     "text": [
      "100%|███████████████████████████████████| 76681/76681 [06:36<00:00, 193.30it/s]\n"
     ]
    },
    {
     "name": "stdout",
     "output_type": "stream",
     "text": [
      "Number of users: 16497\n"
     ]
    },
    {
     "name": "stderr",
     "output_type": "stream",
     "text": [
      "100%|███████████████████████████████████| 70960/70960 [03:31<00:00, 336.23it/s]\n"
     ]
    },
    {
     "name": "stdout",
     "output_type": "stream",
     "text": [
      "Number of users: 12315\n"
     ]
    },
    {
     "name": "stderr",
     "output_type": "stream",
     "text": [
      "100%|███████████████████████████████████| 75799/75799 [09:03<00:00, 139.40it/s]\n"
     ]
    },
    {
     "name": "stdout",
     "output_type": "stream",
     "text": [
      "Number of users: 19210\n"
     ]
    },
    {
     "name": "stderr",
     "output_type": "stream",
     "text": [
      "100%|███████████████████████████████████| 69797/69797 [03:44<00:00, 311.49it/s]\n"
     ]
    },
    {
     "name": "stdout",
     "output_type": "stream",
     "text": [
      "Number of users: 12636\n"
     ]
    },
    {
     "name": "stderr",
     "output_type": "stream",
     "text": [
      "100%|███████████████████████████████████| 87335/87335 [05:12<00:00, 279.54it/s]\n"
     ]
    },
    {
     "name": "stdout",
     "output_type": "stream",
     "text": [
      "Number of users: 15924\n"
     ]
    },
    {
     "name": "stderr",
     "output_type": "stream",
     "text": [
      "100%|███████████████████████████████████| 68725/68725 [04:21<00:00, 263.27it/s]\n"
     ]
    },
    {
     "name": "stdout",
     "output_type": "stream",
     "text": [
      "Number of users: 12642\n"
     ]
    },
    {
     "name": "stderr",
     "output_type": "stream",
     "text": [
      "100%|███████████████████████████████████| 66553/66553 [04:02<00:00, 274.48it/s]\n"
     ]
    },
    {
     "name": "stdout",
     "output_type": "stream",
     "text": [
      "Number of users: 12624\n"
     ]
    },
    {
     "name": "stderr",
     "output_type": "stream",
     "text": [
      "100%|███████████████████████████████████| 69291/69291 [03:25<00:00, 336.48it/s]\n"
     ]
    },
    {
     "name": "stdout",
     "output_type": "stream",
     "text": [
      "Number of users: 11714\n"
     ]
    },
    {
     "name": "stderr",
     "output_type": "stream",
     "text": [
      "100%|███████████████████████████████████| 73534/73534 [05:31<00:00, 221.96it/s]\n"
     ]
    },
    {
     "name": "stdout",
     "output_type": "stream",
     "text": [
      "Number of users: 14553\n"
     ]
    },
    {
     "name": "stderr",
     "output_type": "stream",
     "text": [
      "100%|███████████████████████████████████| 69435/69435 [03:46<00:00, 306.50it/s]\n"
     ]
    },
    {
     "name": "stdout",
     "output_type": "stream",
     "text": [
      "Number of users: 12223\n"
     ]
    },
    {
     "name": "stderr",
     "output_type": "stream",
     "text": [
      "100%|███████████████████████████████████| 69013/69013 [04:29<00:00, 255.71it/s]\n"
     ]
    },
    {
     "name": "stdout",
     "output_type": "stream",
     "text": [
      "Number of users: 13201\n"
     ]
    },
    {
     "name": "stderr",
     "output_type": "stream",
     "text": [
      "100%|███████████████████████████████████| 85437/85437 [04:51<00:00, 293.12it/s]\n"
     ]
    },
    {
     "name": "stdout",
     "output_type": "stream",
     "text": [
      "Number of users: 15151\n"
     ]
    },
    {
     "name": "stderr",
     "output_type": "stream",
     "text": [
      "100%|███████████████████████████████████| 75631/75631 [06:01<00:00, 209.26it/s]\n"
     ]
    },
    {
     "name": "stdout",
     "output_type": "stream",
     "text": [
      "Number of users: 15270\n"
     ]
    },
    {
     "name": "stderr",
     "output_type": "stream",
     "text": [
      "100%|███████████████████████████████████| 84670/84670 [04:25<00:00, 318.62it/s]\n"
     ]
    },
    {
     "name": "stdout",
     "output_type": "stream",
     "text": [
      "Number of users: 14231\n"
     ]
    },
    {
     "name": "stderr",
     "output_type": "stream",
     "text": [
      "100%|███████████████████████████████████| 79995/79995 [06:25<00:00, 207.62it/s]\n"
     ]
    },
    {
     "name": "stdout",
     "output_type": "stream",
     "text": [
      "Number of users: 16530\n"
     ]
    },
    {
     "name": "stderr",
     "output_type": "stream",
     "text": [
      "100%|███████████████████████████████████| 85406/85406 [05:08<00:00, 277.20it/s]\n"
     ]
    },
    {
     "name": "stdout",
     "output_type": "stream",
     "text": [
      "Number of users: 14636\n"
     ]
    },
    {
     "name": "stderr",
     "output_type": "stream",
     "text": [
      "100%|███████████████████████████████████| 99488/99488 [14:45<00:00, 112.33it/s]\n"
     ]
    },
    {
     "name": "stdout",
     "output_type": "stream",
     "text": [
      "Number of users: 26088\n"
     ]
    },
    {
     "name": "stderr",
     "output_type": "stream",
     "text": [
      "100%|███████████████████████████████████| 99063/99063 [07:47<00:00, 211.92it/s]\n"
     ]
    },
    {
     "name": "stdout",
     "output_type": "stream",
     "text": [
      "Number of users: 20296\n"
     ]
    },
    {
     "name": "stderr",
     "output_type": "stream",
     "text": [
      "100%|███████████████████████████████████| 85374/85374 [08:48<00:00, 161.52it/s]\n"
     ]
    },
    {
     "name": "stdout",
     "output_type": "stream",
     "text": [
      "Number of users: 19233\n"
     ]
    },
    {
     "name": "stderr",
     "output_type": "stream",
     "text": [
      "100%|███████████████████████████████████| 68699/68699 [03:30<00:00, 325.94it/s]\n"
     ]
    },
    {
     "name": "stdout",
     "output_type": "stream",
     "text": [
      "Number of users: 12184\n"
     ]
    },
    {
     "name": "stderr",
     "output_type": "stream",
     "text": [
      "100%|███████████████████████████████████| 64000/64000 [06:02<00:00, 176.59it/s]\n"
     ]
    },
    {
     "name": "stdout",
     "output_type": "stream",
     "text": [
      "Number of users: 14438\n"
     ]
    },
    {
     "name": "stderr",
     "output_type": "stream",
     "text": [
      "100%|███████████████████████████████████| 86219/86219 [04:35<00:00, 312.47it/s]\n"
     ]
    },
    {
     "name": "stdout",
     "output_type": "stream",
     "text": [
      "Number of users: 14602\n"
     ]
    },
    {
     "name": "stderr",
     "output_type": "stream",
     "text": [
      "100%|███████████████████████████████████| 67572/67572 [03:41<00:00, 305.00it/s]\n"
     ]
    },
    {
     "name": "stdout",
     "output_type": "stream",
     "text": [
      "Number of users: 11627\n"
     ]
    },
    {
     "name": "stderr",
     "output_type": "stream",
     "text": [
      "100%|███████████████████████████████████| 74595/74595 [03:21<00:00, 369.35it/s]\n"
     ]
    },
    {
     "name": "stdout",
     "output_type": "stream",
     "text": [
      "Number of users: 12083\n"
     ]
    },
    {
     "name": "stderr",
     "output_type": "stream",
     "text": [
      "100%|███████████████████████████████████| 61839/61839 [04:23<00:00, 234.49it/s]\n"
     ]
    },
    {
     "name": "stdout",
     "output_type": "stream",
     "text": [
      "Number of users: 12257\n"
     ]
    },
    {
     "name": "stderr",
     "output_type": "stream",
     "text": [
      "100%|███████████████████████████████████| 77871/77871 [03:20<00:00, 388.34it/s]\n"
     ]
    },
    {
     "name": "stdout",
     "output_type": "stream",
     "text": [
      "Number of users: 12050\n"
     ]
    },
    {
     "name": "stderr",
     "output_type": "stream",
     "text": [
      "100%|███████████████████████████████████| 93511/93511 [05:17<00:00, 294.60it/s]\n"
     ]
    },
    {
     "name": "stdout",
     "output_type": "stream",
     "text": [
      "Number of users: 16086\n"
     ]
    },
    {
     "name": "stderr",
     "output_type": "stream",
     "text": [
      "100%|███████████████████████████████████| 65737/65737 [03:18<00:00, 331.82it/s]\n"
     ]
    },
    {
     "name": "stdout",
     "output_type": "stream",
     "text": [
      "Number of users: 10832\n"
     ]
    },
    {
     "name": "stderr",
     "output_type": "stream",
     "text": [
      "100%|███████████████████████████████████| 59912/59912 [03:35<00:00, 277.39it/s]\n"
     ]
    },
    {
     "name": "stdout",
     "output_type": "stream",
     "text": [
      "Number of users: 10883\n"
     ]
    },
    {
     "name": "stderr",
     "output_type": "stream",
     "text": [
      "100%|███████████████████████████████████| 70115/70115 [03:25<00:00, 340.59it/s]\n"
     ]
    },
    {
     "name": "stdout",
     "output_type": "stream",
     "text": [
      "Number of users: 10999\n"
     ]
    },
    {
     "name": "stderr",
     "output_type": "stream",
     "text": [
      "100%|███████████████████████████████████| 67731/67731 [03:34<00:00, 316.33it/s]\n"
     ]
    },
    {
     "name": "stdout",
     "output_type": "stream",
     "text": [
      "Number of users: 10823\n"
     ]
    },
    {
     "name": "stderr",
     "output_type": "stream",
     "text": [
      "100%|███████████████████████████████████| 75936/75936 [03:51<00:00, 328.62it/s]\n"
     ]
    },
    {
     "name": "stdout",
     "output_type": "stream",
     "text": [
      "Number of users: 11929\n"
     ]
    },
    {
     "name": "stderr",
     "output_type": "stream",
     "text": [
      "100%|███████████████████████████████████| 44624/44624 [01:54<00:00, 388.98it/s]\n"
     ]
    },
    {
     "name": "stdout",
     "output_type": "stream",
     "text": [
      "Number of users: 6731\n"
     ]
    },
    {
     "name": "stderr",
     "output_type": "stream",
     "text": [
      "100%|███████████████████████████████████| 71356/71356 [05:21<00:00, 222.00it/s]\n"
     ]
    },
    {
     "name": "stdout",
     "output_type": "stream",
     "text": [
      "Number of users: 12008\n"
     ]
    },
    {
     "name": "stderr",
     "output_type": "stream",
     "text": [
      "100%|███████████████████████████████████| 52624/52624 [02:52<00:00, 305.80it/s]\n"
     ]
    },
    {
     "name": "stdout",
     "output_type": "stream",
     "text": [
      "Number of users: 7933\n"
     ]
    },
    {
     "name": "stderr",
     "output_type": "stream",
     "text": [
      "100%|███████████████████████████████████| 51609/51609 [03:06<00:00, 276.61it/s]\n"
     ]
    },
    {
     "name": "stdout",
     "output_type": "stream",
     "text": [
      "Number of users: 9427\n"
     ]
    },
    {
     "name": "stderr",
     "output_type": "stream",
     "text": [
      "100%|███████████████████████████████████| 74480/74480 [07:21<00:00, 168.85it/s]\n"
     ]
    },
    {
     "name": "stdout",
     "output_type": "stream",
     "text": [
      "Number of users: 16763\n"
     ]
    },
    {
     "name": "stderr",
     "output_type": "stream",
     "text": [
      "100%|███████████████████████████████████| 78891/78891 [05:17<00:00, 248.65it/s]\n"
     ]
    },
    {
     "name": "stdout",
     "output_type": "stream",
     "text": [
      "Number of users: 15119\n"
     ]
    },
    {
     "name": "stderr",
     "output_type": "stream",
     "text": [
      "100%|█████████████████████████████████| 109321/109321 [16:11<00:00, 112.55it/s]\n"
     ]
    },
    {
     "name": "stdout",
     "output_type": "stream",
     "text": [
      "Number of users: 28194\n"
     ]
    },
    {
     "name": "stderr",
     "output_type": "stream",
     "text": [
      "100%|███████████████████████████████████| 85648/85648 [05:41<00:00, 250.93it/s]\n"
     ]
    },
    {
     "name": "stdout",
     "output_type": "stream",
     "text": [
      "Number of users: 15893\n"
     ]
    },
    {
     "name": "stderr",
     "output_type": "stream",
     "text": [
      "100%|███████████████████████████████████| 77277/77277 [05:36<00:00, 229.46it/s]\n"
     ]
    },
    {
     "name": "stdout",
     "output_type": "stream",
     "text": [
      "Number of users: 15254\n"
     ]
    },
    {
     "name": "stderr",
     "output_type": "stream",
     "text": [
      "100%|███████████████████████████████████| 84327/84327 [05:26<00:00, 258.67it/s]\n"
     ]
    },
    {
     "name": "stdout",
     "output_type": "stream",
     "text": [
      "Number of users: 15385\n"
     ]
    },
    {
     "name": "stderr",
     "output_type": "stream",
     "text": [
      "100%|███████████████████████████████████| 65673/65673 [04:25<00:00, 247.79it/s]"
     ]
    },
    {
     "name": "stdout",
     "output_type": "stream",
     "text": [
      "Number of users: 12733\n"
     ]
    },
    {
     "name": "stderr",
     "output_type": "stream",
     "text": [
      "\n"
     ]
    }
   ],
   "source": [
    "#AOP_results = []\n",
    "MAP_results = []\n",
    "\n",
    "for i in range(len(eval_month)): #i: 0-21\n",
    "    for j in [0,4]: #j:0, 4\n",
    "        \n",
    "        mask_train = (transaction_raw.t_dat >= eval_month[i]+'-'+traintest_day[j]) & \\\n",
    "                     (transaction_raw.t_dat <= eval_month[i]+'-'+traintest_day[j+1])\n",
    "        X_train = transaction_raw.loc[mask_train].reset_index(drop=True)[['customer_id','article_id']]\n",
    "        mask_test = (transaction_raw.t_dat >= eval_month[i]+'-'+traintest_day[j+2]) & \\\n",
    "                    (transaction_raw.t_dat <= eval_month[i]+'-'+traintest_day[j+3])\n",
    "        X_test = transaction_raw.loc[mask_test].reset_index(drop=True)[['customer_id','article_id']]\n",
    "        \n",
    "        #find out top 12 selling items in training data\n",
    "        top12items = list(X_train.head(100000).article_id.value_counts()[0:12].index)\n",
    "        \n",
    "        #save top 12 selling items for users in a dict\n",
    "        top12_items = {}\n",
    "        for user in X_train.customer_id:\n",
    "            top12_items[user] = top12items\n",
    "        \n",
    "        #calculate AOP@12 for each train-test group\n",
    "        #AOP12_top = cf.AOP(top12_items, X_test)\n",
    "        #AOP_results.append(AOP12_top)\n",
    "        \n",
    "        #calculate MAP@12 for each train-test group\n",
    "        MAP12_top = cf.MAP(top12_items, X_test)\n",
    "        MAP_results.append(MAP12_top)"
   ]
  },
  {
   "cell_type": "code",
   "execution_count": 7,
   "metadata": {},
   "outputs": [
    {
     "data": {
      "text/plain": [
       "[0.003706189889516992,\n",
       " 0.0036500039011859277,\n",
       " 0.004228553247026634,\n",
       " 0.003982120916660209,\n",
       " 0.003742289898411289,\n",
       " 0.002934736693920944,\n",
       " 0.009112088645093734,\n",
       " 0.0059122713837938675,\n",
       " 0.004957282720536082,\n",
       " 0.0032645174690629137,\n",
       " 0.0033463580357755178,\n",
       " 0.001673560849002102,\n",
       " 0.0034629062308753297,\n",
       " 0.0017223648371323531,\n",
       " 0.002257396037260413,\n",
       " 0.002570213012212404,\n",
       " 0.0018787974176229152,\n",
       " 0.002069212079801238,\n",
       " 0.0033659140890861423,\n",
       " 0.0038606570579611684,\n",
       " 0.004427217805418718,\n",
       " 0.003914958878423329,\n",
       " 0.0017535171966071845,\n",
       " 0.004244672041610195,\n",
       " 0.0040628891110973285,\n",
       " 0.0055945002302185895,\n",
       " 0.0009893937897049933,\n",
       " 0.0028832436966839442,\n",
       " 0.002564746230505089,\n",
       " 0.0033560230714048526,\n",
       " 0.002874857419588757,\n",
       " 0.0033939079842479967,\n",
       " 0.00457556546185097,\n",
       " 0.005482219686089836,\n",
       " 0.004470963912065659,\n",
       " 0.0053007463389727226,\n",
       " 0.002440746105883477,\n",
       " 0.003017364288094463,\n",
       " 0.0021104560227518075,\n",
       " 0.0021949185909159656,\n",
       " 0.0020705445102192086,\n",
       " 0.0030071404559243735,\n",
       " 0.002168801389633364,\n",
       " 0.005547743028109001]"
      ]
     },
     "execution_count": 7,
     "metadata": {},
     "output_type": "execute_result"
    }
   ],
   "source": [
    "MAP_results"
   ]
  },
  {
   "cell_type": "code",
   "execution_count": 12,
   "metadata": {},
   "outputs": [
    {
     "data": {
      "text/plain": [
       "44"
      ]
     },
     "execution_count": 12,
     "metadata": {},
     "output_type": "execute_result"
    }
   ],
   "source": [
    "timeline = []\n",
    "for month in eval_month:\n",
    "    month_mid = month + '-15'\n",
    "    month_late = month + '-22'\n",
    "    timeline.append(month_mid)\n",
    "    timeline.append(month_late)\n",
    "\n",
    "timeline"
   ]
  },
  {
   "cell_type": "code",
   "execution_count": 14,
   "metadata": {},
   "outputs": [
    {
     "data": {
      "text/html": [
       "<div>\n",
       "<style scoped>\n",
       "    .dataframe tbody tr th:only-of-type {\n",
       "        vertical-align: middle;\n",
       "    }\n",
       "\n",
       "    .dataframe tbody tr th {\n",
       "        vertical-align: top;\n",
       "    }\n",
       "\n",
       "    .dataframe thead th {\n",
       "        text-align: right;\n",
       "    }\n",
       "</style>\n",
       "<table border=\"1\" class=\"dataframe\">\n",
       "  <thead>\n",
       "    <tr style=\"text-align: right;\">\n",
       "      <th></th>\n",
       "      <th>timeline</th>\n",
       "      <th>MAP</th>\n",
       "    </tr>\n",
       "  </thead>\n",
       "  <tbody>\n",
       "    <tr>\n",
       "      <th>0</th>\n",
       "      <td>2018-10-15</td>\n",
       "      <td>0.003706</td>\n",
       "    </tr>\n",
       "    <tr>\n",
       "      <th>1</th>\n",
       "      <td>2018-10-22</td>\n",
       "      <td>0.003650</td>\n",
       "    </tr>\n",
       "    <tr>\n",
       "      <th>2</th>\n",
       "      <td>2018-11-15</td>\n",
       "      <td>0.004229</td>\n",
       "    </tr>\n",
       "    <tr>\n",
       "      <th>3</th>\n",
       "      <td>2018-11-22</td>\n",
       "      <td>0.003982</td>\n",
       "    </tr>\n",
       "    <tr>\n",
       "      <th>4</th>\n",
       "      <td>2018-12-15</td>\n",
       "      <td>0.003742</td>\n",
       "    </tr>\n",
       "    <tr>\n",
       "      <th>5</th>\n",
       "      <td>2018-12-22</td>\n",
       "      <td>0.002935</td>\n",
       "    </tr>\n",
       "    <tr>\n",
       "      <th>6</th>\n",
       "      <td>2019-01-15</td>\n",
       "      <td>0.009112</td>\n",
       "    </tr>\n",
       "    <tr>\n",
       "      <th>7</th>\n",
       "      <td>2019-01-22</td>\n",
       "      <td>0.005912</td>\n",
       "    </tr>\n",
       "    <tr>\n",
       "      <th>8</th>\n",
       "      <td>2019-02-15</td>\n",
       "      <td>0.004957</td>\n",
       "    </tr>\n",
       "    <tr>\n",
       "      <th>9</th>\n",
       "      <td>2019-02-22</td>\n",
       "      <td>0.003265</td>\n",
       "    </tr>\n",
       "    <tr>\n",
       "      <th>10</th>\n",
       "      <td>2019-03-15</td>\n",
       "      <td>0.003346</td>\n",
       "    </tr>\n",
       "    <tr>\n",
       "      <th>11</th>\n",
       "      <td>2019-03-22</td>\n",
       "      <td>0.001674</td>\n",
       "    </tr>\n",
       "    <tr>\n",
       "      <th>12</th>\n",
       "      <td>2019-04-15</td>\n",
       "      <td>0.003463</td>\n",
       "    </tr>\n",
       "    <tr>\n",
       "      <th>13</th>\n",
       "      <td>2019-04-22</td>\n",
       "      <td>0.001722</td>\n",
       "    </tr>\n",
       "    <tr>\n",
       "      <th>14</th>\n",
       "      <td>2019-05-15</td>\n",
       "      <td>0.002257</td>\n",
       "    </tr>\n",
       "    <tr>\n",
       "      <th>15</th>\n",
       "      <td>2019-05-22</td>\n",
       "      <td>0.002570</td>\n",
       "    </tr>\n",
       "    <tr>\n",
       "      <th>16</th>\n",
       "      <td>2019-06-15</td>\n",
       "      <td>0.001879</td>\n",
       "    </tr>\n",
       "    <tr>\n",
       "      <th>17</th>\n",
       "      <td>2019-06-22</td>\n",
       "      <td>0.002069</td>\n",
       "    </tr>\n",
       "    <tr>\n",
       "      <th>18</th>\n",
       "      <td>2019-07-15</td>\n",
       "      <td>0.003366</td>\n",
       "    </tr>\n",
       "    <tr>\n",
       "      <th>19</th>\n",
       "      <td>2019-07-22</td>\n",
       "      <td>0.003861</td>\n",
       "    </tr>\n",
       "    <tr>\n",
       "      <th>20</th>\n",
       "      <td>2019-09-15</td>\n",
       "      <td>0.004427</td>\n",
       "    </tr>\n",
       "    <tr>\n",
       "      <th>21</th>\n",
       "      <td>2019-09-22</td>\n",
       "      <td>0.003915</td>\n",
       "    </tr>\n",
       "    <tr>\n",
       "      <th>22</th>\n",
       "      <td>2019-10-15</td>\n",
       "      <td>0.001754</td>\n",
       "    </tr>\n",
       "    <tr>\n",
       "      <th>23</th>\n",
       "      <td>2019-10-22</td>\n",
       "      <td>0.004245</td>\n",
       "    </tr>\n",
       "    <tr>\n",
       "      <th>24</th>\n",
       "      <td>2019-11-15</td>\n",
       "      <td>0.004063</td>\n",
       "    </tr>\n",
       "    <tr>\n",
       "      <th>25</th>\n",
       "      <td>2019-11-22</td>\n",
       "      <td>0.005595</td>\n",
       "    </tr>\n",
       "    <tr>\n",
       "      <th>26</th>\n",
       "      <td>2019-12-15</td>\n",
       "      <td>0.000989</td>\n",
       "    </tr>\n",
       "    <tr>\n",
       "      <th>27</th>\n",
       "      <td>2019-12-22</td>\n",
       "      <td>0.002883</td>\n",
       "    </tr>\n",
       "    <tr>\n",
       "      <th>28</th>\n",
       "      <td>2020-01-15</td>\n",
       "      <td>0.002565</td>\n",
       "    </tr>\n",
       "    <tr>\n",
       "      <th>29</th>\n",
       "      <td>2020-01-22</td>\n",
       "      <td>0.003356</td>\n",
       "    </tr>\n",
       "    <tr>\n",
       "      <th>30</th>\n",
       "      <td>2020-02-15</td>\n",
       "      <td>0.002875</td>\n",
       "    </tr>\n",
       "    <tr>\n",
       "      <th>31</th>\n",
       "      <td>2020-02-22</td>\n",
       "      <td>0.003394</td>\n",
       "    </tr>\n",
       "    <tr>\n",
       "      <th>32</th>\n",
       "      <td>2020-03-15</td>\n",
       "      <td>0.004576</td>\n",
       "    </tr>\n",
       "    <tr>\n",
       "      <th>33</th>\n",
       "      <td>2020-03-22</td>\n",
       "      <td>0.005482</td>\n",
       "    </tr>\n",
       "    <tr>\n",
       "      <th>34</th>\n",
       "      <td>2020-04-15</td>\n",
       "      <td>0.004471</td>\n",
       "    </tr>\n",
       "    <tr>\n",
       "      <th>35</th>\n",
       "      <td>2020-04-22</td>\n",
       "      <td>0.005301</td>\n",
       "    </tr>\n",
       "    <tr>\n",
       "      <th>36</th>\n",
       "      <td>2020-05-15</td>\n",
       "      <td>0.002441</td>\n",
       "    </tr>\n",
       "    <tr>\n",
       "      <th>37</th>\n",
       "      <td>2020-05-22</td>\n",
       "      <td>0.003017</td>\n",
       "    </tr>\n",
       "    <tr>\n",
       "      <th>38</th>\n",
       "      <td>2020-06-15</td>\n",
       "      <td>0.002110</td>\n",
       "    </tr>\n",
       "    <tr>\n",
       "      <th>39</th>\n",
       "      <td>2020-06-22</td>\n",
       "      <td>0.002195</td>\n",
       "    </tr>\n",
       "    <tr>\n",
       "      <th>40</th>\n",
       "      <td>2020-07-15</td>\n",
       "      <td>0.002071</td>\n",
       "    </tr>\n",
       "    <tr>\n",
       "      <th>41</th>\n",
       "      <td>2020-07-22</td>\n",
       "      <td>0.003007</td>\n",
       "    </tr>\n",
       "    <tr>\n",
       "      <th>42</th>\n",
       "      <td>2020-08-15</td>\n",
       "      <td>0.002169</td>\n",
       "    </tr>\n",
       "    <tr>\n",
       "      <th>43</th>\n",
       "      <td>2020-08-22</td>\n",
       "      <td>0.005548</td>\n",
       "    </tr>\n",
       "  </tbody>\n",
       "</table>\n",
       "</div>"
      ],
      "text/plain": [
       "      timeline       MAP\n",
       "0   2018-10-15  0.003706\n",
       "1   2018-10-22  0.003650\n",
       "2   2018-11-15  0.004229\n",
       "3   2018-11-22  0.003982\n",
       "4   2018-12-15  0.003742\n",
       "5   2018-12-22  0.002935\n",
       "6   2019-01-15  0.009112\n",
       "7   2019-01-22  0.005912\n",
       "8   2019-02-15  0.004957\n",
       "9   2019-02-22  0.003265\n",
       "10  2019-03-15  0.003346\n",
       "11  2019-03-22  0.001674\n",
       "12  2019-04-15  0.003463\n",
       "13  2019-04-22  0.001722\n",
       "14  2019-05-15  0.002257\n",
       "15  2019-05-22  0.002570\n",
       "16  2019-06-15  0.001879\n",
       "17  2019-06-22  0.002069\n",
       "18  2019-07-15  0.003366\n",
       "19  2019-07-22  0.003861\n",
       "20  2019-09-15  0.004427\n",
       "21  2019-09-22  0.003915\n",
       "22  2019-10-15  0.001754\n",
       "23  2019-10-22  0.004245\n",
       "24  2019-11-15  0.004063\n",
       "25  2019-11-22  0.005595\n",
       "26  2019-12-15  0.000989\n",
       "27  2019-12-22  0.002883\n",
       "28  2020-01-15  0.002565\n",
       "29  2020-01-22  0.003356\n",
       "30  2020-02-15  0.002875\n",
       "31  2020-02-22  0.003394\n",
       "32  2020-03-15  0.004576\n",
       "33  2020-03-22  0.005482\n",
       "34  2020-04-15  0.004471\n",
       "35  2020-04-22  0.005301\n",
       "36  2020-05-15  0.002441\n",
       "37  2020-05-22  0.003017\n",
       "38  2020-06-15  0.002110\n",
       "39  2020-06-22  0.002195\n",
       "40  2020-07-15  0.002071\n",
       "41  2020-07-22  0.003007\n",
       "42  2020-08-15  0.002169\n",
       "43  2020-08-22  0.005548"
      ]
     },
     "execution_count": 14,
     "metadata": {},
     "output_type": "execute_result"
    }
   ],
   "source": [
    "result_df = pd.DataFrame({'timeline':timeline,\n",
    "                          'MAP':MAP_results})\n",
    "result_df"
   ]
  },
  {
   "cell_type": "code",
   "execution_count": 15,
   "metadata": {},
   "outputs": [],
   "source": [
    "result_df.to_csv(\"../data/top_sell_MAP12.csv\")"
   ]
  },
  {
   "cell_type": "code",
   "execution_count": 3,
   "metadata": {},
   "outputs": [
    {
     "data": {
      "text/html": [
       "<div>\n",
       "<style scoped>\n",
       "    .dataframe tbody tr th:only-of-type {\n",
       "        vertical-align: middle;\n",
       "    }\n",
       "\n",
       "    .dataframe tbody tr th {\n",
       "        vertical-align: top;\n",
       "    }\n",
       "\n",
       "    .dataframe thead th {\n",
       "        text-align: right;\n",
       "    }\n",
       "</style>\n",
       "<table border=\"1\" class=\"dataframe\">\n",
       "  <thead>\n",
       "    <tr style=\"text-align: right;\">\n",
       "      <th></th>\n",
       "      <th>t_dat</th>\n",
       "      <th>customer_id</th>\n",
       "      <th>article_id</th>\n",
       "      <th>price</th>\n",
       "      <th>sales_channel_id</th>\n",
       "    </tr>\n",
       "  </thead>\n",
       "  <tbody>\n",
       "    <tr>\n",
       "      <th>0</th>\n",
       "      <td>2019-05-01</td>\n",
       "      <td>00019d6c20e0fbb551af18c57149af4707ec016bb0decd...</td>\n",
       "      <td>524061003</td>\n",
       "      <td>0.050831</td>\n",
       "      <td>2</td>\n",
       "    </tr>\n",
       "    <tr>\n",
       "      <th>1</th>\n",
       "      <td>2019-05-01</td>\n",
       "      <td>00019d6c20e0fbb551af18c57149af4707ec016bb0decd...</td>\n",
       "      <td>735404001</td>\n",
       "      <td>0.050831</td>\n",
       "      <td>2</td>\n",
       "    </tr>\n",
       "    <tr>\n",
       "      <th>2</th>\n",
       "      <td>2019-05-01</td>\n",
       "      <td>00019d6c20e0fbb551af18c57149af4707ec016bb0decd...</td>\n",
       "      <td>700370004</td>\n",
       "      <td>0.016932</td>\n",
       "      <td>2</td>\n",
       "    </tr>\n",
       "    <tr>\n",
       "      <th>3</th>\n",
       "      <td>2019-05-01</td>\n",
       "      <td>00019d6c20e0fbb551af18c57149af4707ec016bb0decd...</td>\n",
       "      <td>618800001</td>\n",
       "      <td>0.033881</td>\n",
       "      <td>2</td>\n",
       "    </tr>\n",
       "    <tr>\n",
       "      <th>4</th>\n",
       "      <td>2019-05-01</td>\n",
       "      <td>00019d6c20e0fbb551af18c57149af4707ec016bb0decd...</td>\n",
       "      <td>731407001</td>\n",
       "      <td>0.016932</td>\n",
       "      <td>2</td>\n",
       "    </tr>\n",
       "    <tr>\n",
       "      <th>...</th>\n",
       "      <td>...</td>\n",
       "      <td>...</td>\n",
       "      <td>...</td>\n",
       "      <td>...</td>\n",
       "      <td>...</td>\n",
       "    </tr>\n",
       "    <tr>\n",
       "      <th>1622933</th>\n",
       "      <td>2019-06-01</td>\n",
       "      <td>fffdaab7d9d79ceee4ffd2ab98bb68411438ea90e46a67...</td>\n",
       "      <td>738881002</td>\n",
       "      <td>0.016932</td>\n",
       "      <td>2</td>\n",
       "    </tr>\n",
       "    <tr>\n",
       "      <th>1622934</th>\n",
       "      <td>2019-06-01</td>\n",
       "      <td>fffdaab7d9d79ceee4ffd2ab98bb68411438ea90e46a67...</td>\n",
       "      <td>220094010</td>\n",
       "      <td>0.025407</td>\n",
       "      <td>2</td>\n",
       "    </tr>\n",
       "    <tr>\n",
       "      <th>1622935</th>\n",
       "      <td>2019-06-01</td>\n",
       "      <td>ffff4c4e8b57b633c1ddf8fbd53db16b962cf831baf9ed...</td>\n",
       "      <td>487800001</td>\n",
       "      <td>0.011847</td>\n",
       "      <td>2</td>\n",
       "    </tr>\n",
       "    <tr>\n",
       "      <th>1622936</th>\n",
       "      <td>2019-06-01</td>\n",
       "      <td>ffff4c4e8b57b633c1ddf8fbd53db16b962cf831baf9ed...</td>\n",
       "      <td>754013001</td>\n",
       "      <td>0.022017</td>\n",
       "      <td>2</td>\n",
       "    </tr>\n",
       "    <tr>\n",
       "      <th>1622937</th>\n",
       "      <td>2019-06-01</td>\n",
       "      <td>ffff4c4e8b57b633c1ddf8fbd53db16b962cf831baf9ed...</td>\n",
       "      <td>745502001</td>\n",
       "      <td>0.025407</td>\n",
       "      <td>2</td>\n",
       "    </tr>\n",
       "  </tbody>\n",
       "</table>\n",
       "<p>1622938 rows × 5 columns</p>\n",
       "</div>"
      ],
      "text/plain": [
       "              t_dat                                        customer_id  \\\n",
       "0        2019-05-01  00019d6c20e0fbb551af18c57149af4707ec016bb0decd...   \n",
       "1        2019-05-01  00019d6c20e0fbb551af18c57149af4707ec016bb0decd...   \n",
       "2        2019-05-01  00019d6c20e0fbb551af18c57149af4707ec016bb0decd...   \n",
       "3        2019-05-01  00019d6c20e0fbb551af18c57149af4707ec016bb0decd...   \n",
       "4        2019-05-01  00019d6c20e0fbb551af18c57149af4707ec016bb0decd...   \n",
       "...             ...                                                ...   \n",
       "1622933  2019-06-01  fffdaab7d9d79ceee4ffd2ab98bb68411438ea90e46a67...   \n",
       "1622934  2019-06-01  fffdaab7d9d79ceee4ffd2ab98bb68411438ea90e46a67...   \n",
       "1622935  2019-06-01  ffff4c4e8b57b633c1ddf8fbd53db16b962cf831baf9ed...   \n",
       "1622936  2019-06-01  ffff4c4e8b57b633c1ddf8fbd53db16b962cf831baf9ed...   \n",
       "1622937  2019-06-01  ffff4c4e8b57b633c1ddf8fbd53db16b962cf831baf9ed...   \n",
       "\n",
       "         article_id     price  sales_channel_id  \n",
       "0         524061003  0.050831                 2  \n",
       "1         735404001  0.050831                 2  \n",
       "2         700370004  0.016932                 2  \n",
       "3         618800001  0.033881                 2  \n",
       "4         731407001  0.016932                 2  \n",
       "...             ...       ...               ...  \n",
       "1622933   738881002  0.016932                 2  \n",
       "1622934   220094010  0.025407                 2  \n",
       "1622935   487800001  0.011847                 2  \n",
       "1622936   754013001  0.022017                 2  \n",
       "1622937   745502001  0.025407                 2  \n",
       "\n",
       "[1622938 rows x 5 columns]"
      ]
     },
     "execution_count": 3,
     "metadata": {},
     "output_type": "execute_result"
    }
   ],
   "source": [
    "#extract data between 2019-5-1 and 2019-6-1\n",
    "mask = (transaction_raw.t_dat >= '2019-05-01') & (transaction_raw.t_dat <= '2019-06-01')\n",
    "transaction_2019_May = transaction_raw.loc[mask].reset_index(drop=True)\n",
    "transaction_2019_May"
   ]
  },
  {
   "cell_type": "code",
   "execution_count": 8,
   "metadata": {},
   "outputs": [
    {
     "data": {
      "text/plain": [
       "44"
      ]
     },
     "execution_count": 8,
     "metadata": {},
     "output_type": "execute_result"
    }
   ],
   "source": [
    "len(MAP_results)"
   ]
  },
  {
   "cell_type": "code",
   "execution_count": 3,
   "metadata": {},
   "outputs": [],
   "source": [
    "#save 2019 May data to csv\n",
    "#transaction_2019_May.to_csv(\"../data/transactions_2019_May.csv\", index=False)"
   ]
  },
  {
   "cell_type": "code",
   "execution_count": 4,
   "metadata": {},
   "outputs": [
    {
     "data": {
      "text/html": [
       "<div>\n",
       "<style scoped>\n",
       "    .dataframe tbody tr th:only-of-type {\n",
       "        vertical-align: middle;\n",
       "    }\n",
       "\n",
       "    .dataframe tbody tr th {\n",
       "        vertical-align: top;\n",
       "    }\n",
       "\n",
       "    .dataframe thead th {\n",
       "        text-align: right;\n",
       "    }\n",
       "</style>\n",
       "<table border=\"1\" class=\"dataframe\">\n",
       "  <thead>\n",
       "    <tr style=\"text-align: right;\">\n",
       "      <th></th>\n",
       "      <th>t_dat</th>\n",
       "      <th>customer_id</th>\n",
       "      <th>article_id</th>\n",
       "      <th>price</th>\n",
       "      <th>sales_channel_id</th>\n",
       "    </tr>\n",
       "  </thead>\n",
       "  <tbody>\n",
       "    <tr>\n",
       "      <th>0</th>\n",
       "      <td>2019-05-01</td>\n",
       "      <td>00019d6c20e0fbb551af18c57149af4707ec016bb0decd...</td>\n",
       "      <td>524061003</td>\n",
       "      <td>0.050831</td>\n",
       "      <td>2</td>\n",
       "    </tr>\n",
       "    <tr>\n",
       "      <th>1</th>\n",
       "      <td>2019-05-01</td>\n",
       "      <td>00019d6c20e0fbb551af18c57149af4707ec016bb0decd...</td>\n",
       "      <td>735404001</td>\n",
       "      <td>0.050831</td>\n",
       "      <td>2</td>\n",
       "    </tr>\n",
       "    <tr>\n",
       "      <th>2</th>\n",
       "      <td>2019-05-01</td>\n",
       "      <td>00019d6c20e0fbb551af18c57149af4707ec016bb0decd...</td>\n",
       "      <td>700370004</td>\n",
       "      <td>0.016932</td>\n",
       "      <td>2</td>\n",
       "    </tr>\n",
       "    <tr>\n",
       "      <th>3</th>\n",
       "      <td>2019-05-01</td>\n",
       "      <td>00019d6c20e0fbb551af18c57149af4707ec016bb0decd...</td>\n",
       "      <td>618800001</td>\n",
       "      <td>0.033881</td>\n",
       "      <td>2</td>\n",
       "    </tr>\n",
       "    <tr>\n",
       "      <th>4</th>\n",
       "      <td>2019-05-01</td>\n",
       "      <td>00019d6c20e0fbb551af18c57149af4707ec016bb0decd...</td>\n",
       "      <td>731407001</td>\n",
       "      <td>0.016932</td>\n",
       "      <td>2</td>\n",
       "    </tr>\n",
       "    <tr>\n",
       "      <th>...</th>\n",
       "      <td>...</td>\n",
       "      <td>...</td>\n",
       "      <td>...</td>\n",
       "      <td>...</td>\n",
       "      <td>...</td>\n",
       "    </tr>\n",
       "    <tr>\n",
       "      <th>1622933</th>\n",
       "      <td>2019-06-01</td>\n",
       "      <td>fffdaab7d9d79ceee4ffd2ab98bb68411438ea90e46a67...</td>\n",
       "      <td>738881002</td>\n",
       "      <td>0.016932</td>\n",
       "      <td>2</td>\n",
       "    </tr>\n",
       "    <tr>\n",
       "      <th>1622934</th>\n",
       "      <td>2019-06-01</td>\n",
       "      <td>fffdaab7d9d79ceee4ffd2ab98bb68411438ea90e46a67...</td>\n",
       "      <td>220094010</td>\n",
       "      <td>0.025407</td>\n",
       "      <td>2</td>\n",
       "    </tr>\n",
       "    <tr>\n",
       "      <th>1622935</th>\n",
       "      <td>2019-06-01</td>\n",
       "      <td>ffff4c4e8b57b633c1ddf8fbd53db16b962cf831baf9ed...</td>\n",
       "      <td>487800001</td>\n",
       "      <td>0.011847</td>\n",
       "      <td>2</td>\n",
       "    </tr>\n",
       "    <tr>\n",
       "      <th>1622936</th>\n",
       "      <td>2019-06-01</td>\n",
       "      <td>ffff4c4e8b57b633c1ddf8fbd53db16b962cf831baf9ed...</td>\n",
       "      <td>754013001</td>\n",
       "      <td>0.022017</td>\n",
       "      <td>2</td>\n",
       "    </tr>\n",
       "    <tr>\n",
       "      <th>1622937</th>\n",
       "      <td>2019-06-01</td>\n",
       "      <td>ffff4c4e8b57b633c1ddf8fbd53db16b962cf831baf9ed...</td>\n",
       "      <td>745502001</td>\n",
       "      <td>0.025407</td>\n",
       "      <td>2</td>\n",
       "    </tr>\n",
       "  </tbody>\n",
       "</table>\n",
       "<p>1622938 rows × 5 columns</p>\n",
       "</div>"
      ],
      "text/plain": [
       "              t_dat                                        customer_id  \\\n",
       "0        2019-05-01  00019d6c20e0fbb551af18c57149af4707ec016bb0decd...   \n",
       "1        2019-05-01  00019d6c20e0fbb551af18c57149af4707ec016bb0decd...   \n",
       "2        2019-05-01  00019d6c20e0fbb551af18c57149af4707ec016bb0decd...   \n",
       "3        2019-05-01  00019d6c20e0fbb551af18c57149af4707ec016bb0decd...   \n",
       "4        2019-05-01  00019d6c20e0fbb551af18c57149af4707ec016bb0decd...   \n",
       "...             ...                                                ...   \n",
       "1622933  2019-06-01  fffdaab7d9d79ceee4ffd2ab98bb68411438ea90e46a67...   \n",
       "1622934  2019-06-01  fffdaab7d9d79ceee4ffd2ab98bb68411438ea90e46a67...   \n",
       "1622935  2019-06-01  ffff4c4e8b57b633c1ddf8fbd53db16b962cf831baf9ed...   \n",
       "1622936  2019-06-01  ffff4c4e8b57b633c1ddf8fbd53db16b962cf831baf9ed...   \n",
       "1622937  2019-06-01  ffff4c4e8b57b633c1ddf8fbd53db16b962cf831baf9ed...   \n",
       "\n",
       "         article_id     price  sales_channel_id  \n",
       "0         524061003  0.050831                 2  \n",
       "1         735404001  0.050831                 2  \n",
       "2         700370004  0.016932                 2  \n",
       "3         618800001  0.033881                 2  \n",
       "4         731407001  0.016932                 2  \n",
       "...             ...       ...               ...  \n",
       "1622933   738881002  0.016932                 2  \n",
       "1622934   220094010  0.025407                 2  \n",
       "1622935   487800001  0.011847                 2  \n",
       "1622936   754013001  0.022017                 2  \n",
       "1622937   745502001  0.025407                 2  \n",
       "\n",
       "[1622938 rows x 5 columns]"
      ]
     },
     "execution_count": 4,
     "metadata": {},
     "output_type": "execute_result"
    }
   ],
   "source": [
    "#read 2019 May transaction data\n",
    "transaction_2019_May = pd.read_csv(\"../data/transactions_2019_May.csv\")\n",
    "transaction_2019_May"
   ]
  },
  {
   "cell_type": "code",
   "execution_count": 4,
   "metadata": {},
   "outputs": [
    {
     "data": {
      "text/html": [
       "<div>\n",
       "<style scoped>\n",
       "    .dataframe tbody tr th:only-of-type {\n",
       "        vertical-align: middle;\n",
       "    }\n",
       "\n",
       "    .dataframe tbody tr th {\n",
       "        vertical-align: top;\n",
       "    }\n",
       "\n",
       "    .dataframe thead th {\n",
       "        text-align: right;\n",
       "    }\n",
       "</style>\n",
       "<table border=\"1\" class=\"dataframe\">\n",
       "  <thead>\n",
       "    <tr style=\"text-align: right;\">\n",
       "      <th></th>\n",
       "      <th>t_dat</th>\n",
       "      <th>customer_id</th>\n",
       "      <th>article_id</th>\n",
       "      <th>price</th>\n",
       "      <th>sales_channel_id</th>\n",
       "    </tr>\n",
       "  </thead>\n",
       "  <tbody>\n",
       "    <tr>\n",
       "      <th>0</th>\n",
       "      <td>2019-05-01</td>\n",
       "      <td>00019d6c20e0fbb551af18c57149af4707ec016bb0decd...</td>\n",
       "      <td>524061003</td>\n",
       "      <td>0.050831</td>\n",
       "      <td>2</td>\n",
       "    </tr>\n",
       "    <tr>\n",
       "      <th>1</th>\n",
       "      <td>2019-05-01</td>\n",
       "      <td>00019d6c20e0fbb551af18c57149af4707ec016bb0decd...</td>\n",
       "      <td>735404001</td>\n",
       "      <td>0.050831</td>\n",
       "      <td>2</td>\n",
       "    </tr>\n",
       "    <tr>\n",
       "      <th>2</th>\n",
       "      <td>2019-05-01</td>\n",
       "      <td>00019d6c20e0fbb551af18c57149af4707ec016bb0decd...</td>\n",
       "      <td>700370004</td>\n",
       "      <td>0.016932</td>\n",
       "      <td>2</td>\n",
       "    </tr>\n",
       "    <tr>\n",
       "      <th>3</th>\n",
       "      <td>2019-05-01</td>\n",
       "      <td>00019d6c20e0fbb551af18c57149af4707ec016bb0decd...</td>\n",
       "      <td>618800001</td>\n",
       "      <td>0.033881</td>\n",
       "      <td>2</td>\n",
       "    </tr>\n",
       "    <tr>\n",
       "      <th>4</th>\n",
       "      <td>2019-05-01</td>\n",
       "      <td>00019d6c20e0fbb551af18c57149af4707ec016bb0decd...</td>\n",
       "      <td>731407001</td>\n",
       "      <td>0.016932</td>\n",
       "      <td>2</td>\n",
       "    </tr>\n",
       "    <tr>\n",
       "      <th>...</th>\n",
       "      <td>...</td>\n",
       "      <td>...</td>\n",
       "      <td>...</td>\n",
       "      <td>...</td>\n",
       "      <td>...</td>\n",
       "    </tr>\n",
       "    <tr>\n",
       "      <th>499329</th>\n",
       "      <td>2019-05-10</td>\n",
       "      <td>fffe7116f9f68e8ad287fd7b6e33aad4871d7080e77d2d...</td>\n",
       "      <td>609837003</td>\n",
       "      <td>0.027102</td>\n",
       "      <td>2</td>\n",
       "    </tr>\n",
       "    <tr>\n",
       "      <th>499330</th>\n",
       "      <td>2019-05-10</td>\n",
       "      <td>fffe7116f9f68e8ad287fd7b6e33aad4871d7080e77d2d...</td>\n",
       "      <td>638842003</td>\n",
       "      <td>0.049136</td>\n",
       "      <td>2</td>\n",
       "    </tr>\n",
       "    <tr>\n",
       "      <th>499331</th>\n",
       "      <td>2019-05-10</td>\n",
       "      <td>fffe7116f9f68e8ad287fd7b6e33aad4871d7080e77d2d...</td>\n",
       "      <td>510675001</td>\n",
       "      <td>0.027102</td>\n",
       "      <td>2</td>\n",
       "    </tr>\n",
       "    <tr>\n",
       "      <th>499332</th>\n",
       "      <td>2019-05-10</td>\n",
       "      <td>fffe7116f9f68e8ad287fd7b6e33aad4871d7080e77d2d...</td>\n",
       "      <td>771116006</td>\n",
       "      <td>0.067780</td>\n",
       "      <td>2</td>\n",
       "    </tr>\n",
       "    <tr>\n",
       "      <th>499333</th>\n",
       "      <td>2019-05-10</td>\n",
       "      <td>fffe7116f9f68e8ad287fd7b6e33aad4871d7080e77d2d...</td>\n",
       "      <td>594674001</td>\n",
       "      <td>0.011847</td>\n",
       "      <td>2</td>\n",
       "    </tr>\n",
       "  </tbody>\n",
       "</table>\n",
       "<p>499334 rows × 5 columns</p>\n",
       "</div>"
      ],
      "text/plain": [
       "             t_dat                                        customer_id  \\\n",
       "0       2019-05-01  00019d6c20e0fbb551af18c57149af4707ec016bb0decd...   \n",
       "1       2019-05-01  00019d6c20e0fbb551af18c57149af4707ec016bb0decd...   \n",
       "2       2019-05-01  00019d6c20e0fbb551af18c57149af4707ec016bb0decd...   \n",
       "3       2019-05-01  00019d6c20e0fbb551af18c57149af4707ec016bb0decd...   \n",
       "4       2019-05-01  00019d6c20e0fbb551af18c57149af4707ec016bb0decd...   \n",
       "...            ...                                                ...   \n",
       "499329  2019-05-10  fffe7116f9f68e8ad287fd7b6e33aad4871d7080e77d2d...   \n",
       "499330  2019-05-10  fffe7116f9f68e8ad287fd7b6e33aad4871d7080e77d2d...   \n",
       "499331  2019-05-10  fffe7116f9f68e8ad287fd7b6e33aad4871d7080e77d2d...   \n",
       "499332  2019-05-10  fffe7116f9f68e8ad287fd7b6e33aad4871d7080e77d2d...   \n",
       "499333  2019-05-10  fffe7116f9f68e8ad287fd7b6e33aad4871d7080e77d2d...   \n",
       "\n",
       "        article_id     price  sales_channel_id  \n",
       "0        524061003  0.050831                 2  \n",
       "1        735404001  0.050831                 2  \n",
       "2        700370004  0.016932                 2  \n",
       "3        618800001  0.033881                 2  \n",
       "4        731407001  0.016932                 2  \n",
       "...            ...       ...               ...  \n",
       "499329   609837003  0.027102                 2  \n",
       "499330   638842003  0.049136                 2  \n",
       "499331   510675001  0.027102                 2  \n",
       "499332   771116006  0.067780                 2  \n",
       "499333   594674001  0.011847                 2  \n",
       "\n",
       "[499334 rows x 5 columns]"
      ]
     },
     "execution_count": 4,
     "metadata": {},
     "output_type": "execute_result"
    }
   ],
   "source": [
    "#extract data between 2019-5-1 and 2019-5-10\n",
    "mask = (transaction_2019_May.t_dat >= '2019-05-01') & (transaction_2019_May.t_dat <= '2019-05-10')\n",
    "X_train = transaction_2019_May.loc[mask].reset_index(drop=True)\n",
    "X_train"
   ]
  },
  {
   "cell_type": "code",
   "execution_count": 5,
   "metadata": {},
   "outputs": [
    {
     "data": {
      "text/html": [
       "<div>\n",
       "<style scoped>\n",
       "    .dataframe tbody tr th:only-of-type {\n",
       "        vertical-align: middle;\n",
       "    }\n",
       "\n",
       "    .dataframe tbody tr th {\n",
       "        vertical-align: top;\n",
       "    }\n",
       "\n",
       "    .dataframe thead th {\n",
       "        text-align: right;\n",
       "    }\n",
       "</style>\n",
       "<table border=\"1\" class=\"dataframe\">\n",
       "  <thead>\n",
       "    <tr style=\"text-align: right;\">\n",
       "      <th></th>\n",
       "      <th>customer_id</th>\n",
       "      <th>article_id</th>\n",
       "    </tr>\n",
       "  </thead>\n",
       "  <tbody>\n",
       "    <tr>\n",
       "      <th>0</th>\n",
       "      <td>00019d6c20e0fbb551af18c57149af4707ec016bb0decd...</td>\n",
       "      <td>524061003</td>\n",
       "    </tr>\n",
       "    <tr>\n",
       "      <th>1</th>\n",
       "      <td>00019d6c20e0fbb551af18c57149af4707ec016bb0decd...</td>\n",
       "      <td>735404001</td>\n",
       "    </tr>\n",
       "    <tr>\n",
       "      <th>2</th>\n",
       "      <td>00019d6c20e0fbb551af18c57149af4707ec016bb0decd...</td>\n",
       "      <td>700370004</td>\n",
       "    </tr>\n",
       "    <tr>\n",
       "      <th>3</th>\n",
       "      <td>00019d6c20e0fbb551af18c57149af4707ec016bb0decd...</td>\n",
       "      <td>618800001</td>\n",
       "    </tr>\n",
       "    <tr>\n",
       "      <th>4</th>\n",
       "      <td>00019d6c20e0fbb551af18c57149af4707ec016bb0decd...</td>\n",
       "      <td>731407001</td>\n",
       "    </tr>\n",
       "    <tr>\n",
       "      <th>...</th>\n",
       "      <td>...</td>\n",
       "      <td>...</td>\n",
       "    </tr>\n",
       "    <tr>\n",
       "      <th>499329</th>\n",
       "      <td>fffe7116f9f68e8ad287fd7b6e33aad4871d7080e77d2d...</td>\n",
       "      <td>609837003</td>\n",
       "    </tr>\n",
       "    <tr>\n",
       "      <th>499330</th>\n",
       "      <td>fffe7116f9f68e8ad287fd7b6e33aad4871d7080e77d2d...</td>\n",
       "      <td>638842003</td>\n",
       "    </tr>\n",
       "    <tr>\n",
       "      <th>499331</th>\n",
       "      <td>fffe7116f9f68e8ad287fd7b6e33aad4871d7080e77d2d...</td>\n",
       "      <td>510675001</td>\n",
       "    </tr>\n",
       "    <tr>\n",
       "      <th>499332</th>\n",
       "      <td>fffe7116f9f68e8ad287fd7b6e33aad4871d7080e77d2d...</td>\n",
       "      <td>771116006</td>\n",
       "    </tr>\n",
       "    <tr>\n",
       "      <th>499333</th>\n",
       "      <td>fffe7116f9f68e8ad287fd7b6e33aad4871d7080e77d2d...</td>\n",
       "      <td>594674001</td>\n",
       "    </tr>\n",
       "  </tbody>\n",
       "</table>\n",
       "<p>499334 rows × 2 columns</p>\n",
       "</div>"
      ],
      "text/plain": [
       "                                              customer_id  article_id\n",
       "0       00019d6c20e0fbb551af18c57149af4707ec016bb0decd...   524061003\n",
       "1       00019d6c20e0fbb551af18c57149af4707ec016bb0decd...   735404001\n",
       "2       00019d6c20e0fbb551af18c57149af4707ec016bb0decd...   700370004\n",
       "3       00019d6c20e0fbb551af18c57149af4707ec016bb0decd...   618800001\n",
       "4       00019d6c20e0fbb551af18c57149af4707ec016bb0decd...   731407001\n",
       "...                                                   ...         ...\n",
       "499329  fffe7116f9f68e8ad287fd7b6e33aad4871d7080e77d2d...   609837003\n",
       "499330  fffe7116f9f68e8ad287fd7b6e33aad4871d7080e77d2d...   638842003\n",
       "499331  fffe7116f9f68e8ad287fd7b6e33aad4871d7080e77d2d...   510675001\n",
       "499332  fffe7116f9f68e8ad287fd7b6e33aad4871d7080e77d2d...   771116006\n",
       "499333  fffe7116f9f68e8ad287fd7b6e33aad4871d7080e77d2d...   594674001\n",
       "\n",
       "[499334 rows x 2 columns]"
      ]
     },
     "execution_count": 5,
     "metadata": {},
     "output_type": "execute_result"
    }
   ],
   "source": [
    "X_train = X_train[['customer_id','article_id']]\n",
    "X_train"
   ]
  },
  {
   "cell_type": "code",
   "execution_count": 6,
   "metadata": {},
   "outputs": [
    {
     "name": "stdout",
     "output_type": "stream",
     "text": [
      "Number of unique customer id: 24031\n",
      "Number of unique article id: 15187\n"
     ]
    }
   ],
   "source": [
    "#check number of customers and items\n",
    "print(\"Number of unique customer id:\",X_train.head(100000).customer_id.nunique())\n",
    "print(\"Number of unique article id:\", X_train.head(100000).article_id.nunique())"
   ]
  },
  {
   "cell_type": "code",
   "execution_count": null,
   "metadata": {},
   "outputs": [],
   "source": [
    "%%time\n",
    "recommend_items = cf.all_user_collaborative_filter(X_train.head(100000), similar_user_number = 100, max_recommend_items = 12)"
   ]
  },
  {
   "cell_type": "code",
   "execution_count": 11,
   "metadata": {},
   "outputs": [
    {
     "data": {
      "text/html": [
       "<div>\n",
       "<style scoped>\n",
       "    .dataframe tbody tr th:only-of-type {\n",
       "        vertical-align: middle;\n",
       "    }\n",
       "\n",
       "    .dataframe tbody tr th {\n",
       "        vertical-align: top;\n",
       "    }\n",
       "\n",
       "    .dataframe thead th {\n",
       "        text-align: right;\n",
       "    }\n",
       "</style>\n",
       "<table border=\"1\" class=\"dataframe\">\n",
       "  <thead>\n",
       "    <tr style=\"text-align: right;\">\n",
       "      <th></th>\n",
       "      <th>customer_id</th>\n",
       "      <th>article_id</th>\n",
       "    </tr>\n",
       "  </thead>\n",
       "  <tbody>\n",
       "    <tr>\n",
       "      <th>0</th>\n",
       "      <td>000416152a81973bebab23142bd5dd6ebd85c8c5e2d63e...</td>\n",
       "      <td>695544005</td>\n",
       "    </tr>\n",
       "    <tr>\n",
       "      <th>1</th>\n",
       "      <td>000416152a81973bebab23142bd5dd6ebd85c8c5e2d63e...</td>\n",
       "      <td>695632011</td>\n",
       "    </tr>\n",
       "    <tr>\n",
       "      <th>2</th>\n",
       "      <td>0006d3ff0caf0cb4d4e0615ee5cb7d268622364d483335...</td>\n",
       "      <td>748269002</td>\n",
       "    </tr>\n",
       "    <tr>\n",
       "      <th>3</th>\n",
       "      <td>00130faf36f2571cf7e08451b317545004a8a85327661f...</td>\n",
       "      <td>742191001</td>\n",
       "    </tr>\n",
       "    <tr>\n",
       "      <th>4</th>\n",
       "      <td>00130faf36f2571cf7e08451b317545004a8a85327661f...</td>\n",
       "      <td>347200001</td>\n",
       "    </tr>\n",
       "    <tr>\n",
       "      <th>...</th>\n",
       "      <td>...</td>\n",
       "      <td>...</td>\n",
       "    </tr>\n",
       "    <tr>\n",
       "      <th>331833</th>\n",
       "      <td>fff62d03f7f60e61a987a1b2c27a553dbae8a632df1322...</td>\n",
       "      <td>745475010</td>\n",
       "    </tr>\n",
       "    <tr>\n",
       "      <th>331834</th>\n",
       "      <td>fff62d03f7f60e61a987a1b2c27a553dbae8a632df1322...</td>\n",
       "      <td>708855002</td>\n",
       "    </tr>\n",
       "    <tr>\n",
       "      <th>331835</th>\n",
       "      <td>fff62d03f7f60e61a987a1b2c27a553dbae8a632df1322...</td>\n",
       "      <td>696128001</td>\n",
       "    </tr>\n",
       "    <tr>\n",
       "      <th>331836</th>\n",
       "      <td>fffd870c6324ad3bda24e4d6aeae221c199479086bfdfd...</td>\n",
       "      <td>700079006</td>\n",
       "    </tr>\n",
       "    <tr>\n",
       "      <th>331837</th>\n",
       "      <td>fffd870c6324ad3bda24e4d6aeae221c199479086bfdfd...</td>\n",
       "      <td>719128001</td>\n",
       "    </tr>\n",
       "  </tbody>\n",
       "</table>\n",
       "<p>331838 rows × 2 columns</p>\n",
       "</div>"
      ],
      "text/plain": [
       "                                              customer_id  article_id\n",
       "0       000416152a81973bebab23142bd5dd6ebd85c8c5e2d63e...   695544005\n",
       "1       000416152a81973bebab23142bd5dd6ebd85c8c5e2d63e...   695632011\n",
       "2       0006d3ff0caf0cb4d4e0615ee5cb7d268622364d483335...   748269002\n",
       "3       00130faf36f2571cf7e08451b317545004a8a85327661f...   742191001\n",
       "4       00130faf36f2571cf7e08451b317545004a8a85327661f...   347200001\n",
       "...                                                   ...         ...\n",
       "331833  fff62d03f7f60e61a987a1b2c27a553dbae8a632df1322...   745475010\n",
       "331834  fff62d03f7f60e61a987a1b2c27a553dbae8a632df1322...   708855002\n",
       "331835  fff62d03f7f60e61a987a1b2c27a553dbae8a632df1322...   696128001\n",
       "331836  fffd870c6324ad3bda24e4d6aeae221c199479086bfdfd...   700079006\n",
       "331837  fffd870c6324ad3bda24e4d6aeae221c199479086bfdfd...   719128001\n",
       "\n",
       "[331838 rows x 2 columns]"
      ]
     },
     "execution_count": 11,
     "metadata": {},
     "output_type": "execute_result"
    }
   ],
   "source": [
    "mask = (transaction_2019_May.t_dat >= '2019-05-11') & (transaction_2019_May.t_dat <= '2019-05-17')\n",
    "X_test = transaction_2019_May.loc[mask].reset_index(drop=True)\n",
    "X_test = X_test[['customer_id','article_id']]\n",
    "X_test"
   ]
  },
  {
   "cell_type": "code",
   "execution_count": 30,
   "metadata": {},
   "outputs": [
    {
     "name": "stderr",
     "output_type": "stream",
     "text": [
      "100%|███████████████████████████████████████████████████████████████████████████| 24031/24031 [01:18<00:00, 307.11it/s]"
     ]
    },
    {
     "name": "stdout",
     "output_type": "stream",
     "text": [
      "Number of users: 4332\n",
      "User-based collaborative filter MAP@12: 0.0037136724997412925\n"
     ]
    },
    {
     "name": "stderr",
     "output_type": "stream",
     "text": [
      "\n"
     ]
    }
   ],
   "source": [
    "MAP12_cf = cf.MAP(recommend_items, X_test)\n",
    "print(\"User-based collaborative filter MAP@12:\", MAP12_cf)"
   ]
  },
  {
   "cell_type": "code",
   "execution_count": 31,
   "metadata": {},
   "outputs": [],
   "source": [
    "##Identify top 12 selling items for training data\n",
    "top12items = list(X_train.head(100000).article_id.value_counts()[0:12].index)\n",
    "\n",
    "#save top 12 selling items for users in a dict\n",
    "top12_items = {}\n",
    "for user in recommend_items:\n",
    "    top12_items[user] = top12items"
   ]
  },
  {
   "cell_type": "code",
   "execution_count": 33,
   "metadata": {},
   "outputs": [
    {
     "name": "stderr",
     "output_type": "stream",
     "text": [
      "100%|███████████████████████████████████████████████████████████████████████████| 24031/24031 [01:21<00:00, 295.16it/s]"
     ]
    },
    {
     "name": "stdout",
     "output_type": "stream",
     "text": [
      "Number of users: 4332\n",
      "Top 12 selling products MAP@12: 0.0020729474647988057\n"
     ]
    },
    {
     "name": "stderr",
     "output_type": "stream",
     "text": [
      "\n"
     ]
    }
   ],
   "source": [
    "MAP12_top = cf.MAP(top12_items, X_test)\n",
    "print(\"Top 12 selling products MAP@12:\", MAP12_top)"
   ]
  },
  {
   "cell_type": "code",
   "execution_count": 38,
   "metadata": {},
   "outputs": [
    {
     "name": "stdout",
     "output_type": "stream",
     "text": [
      "MAP@12 increases by 79 %\n"
     ]
    }
   ],
   "source": [
    "# % increase in MAP@12\n",
    "print(\"MAP@12 increases by\", round(100*(MAP12_cf-MAP12_top)/MAP12_top), \"%\")"
   ]
  },
  {
   "cell_type": "markdown",
   "metadata": {},
   "source": []
  }
 ],
 "metadata": {
  "kernelspec": {
   "display_name": "Python 3",
   "language": "python",
   "name": "python3"
  },
  "language_info": {
   "codemirror_mode": {
    "name": "ipython",
    "version": 3
   },
   "file_extension": ".py",
   "mimetype": "text/x-python",
   "name": "python",
   "nbconvert_exporter": "python",
   "pygments_lexer": "ipython3",
   "version": "3.6.4"
  }
 },
 "nbformat": 4,
 "nbformat_minor": 2
}
