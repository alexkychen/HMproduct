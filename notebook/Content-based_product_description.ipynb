{
 "cells": [
  {
   "cell_type": "markdown",
   "id": "d182e6f6",
   "metadata": {},
   "source": [
    "## Content-based recommendation (using cosine similarity)\n",
    "### Use article description to acquire similarity between articles"
   ]
  },
  {
   "cell_type": "code",
   "execution_count": 1,
   "id": "7ed20e97",
   "metadata": {},
   "outputs": [],
   "source": [
    "import pandas as pd\n",
    "import numpy as np\n",
    "from sklearn.feature_extraction.text import TfidfVectorizer\n",
    "from sklearn.metrics.pairwise import cosine_similarity"
   ]
  },
  {
   "cell_type": "code",
   "execution_count": 2,
   "id": "5aa56562",
   "metadata": {},
   "outputs": [
    {
     "data": {
      "text/html": [
       "<div>\n",
       "<style scoped>\n",
       "    .dataframe tbody tr th:only-of-type {\n",
       "        vertical-align: middle;\n",
       "    }\n",
       "\n",
       "    .dataframe tbody tr th {\n",
       "        vertical-align: top;\n",
       "    }\n",
       "\n",
       "    .dataframe thead th {\n",
       "        text-align: right;\n",
       "    }\n",
       "</style>\n",
       "<table border=\"1\" class=\"dataframe\">\n",
       "  <thead>\n",
       "    <tr style=\"text-align: right;\">\n",
       "      <th></th>\n",
       "      <th>Unnamed: 0</th>\n",
       "      <th>t_dat</th>\n",
       "      <th>customer_id</th>\n",
       "      <th>article_id</th>\n",
       "      <th>price</th>\n",
       "      <th>sales_channel_id</th>\n",
       "      <th>year</th>\n",
       "      <th>month</th>\n",
       "      <th>week</th>\n",
       "      <th>product_code</th>\n",
       "      <th>...</th>\n",
       "      <th>department_name</th>\n",
       "      <th>index_code</th>\n",
       "      <th>index_name</th>\n",
       "      <th>index_group_no</th>\n",
       "      <th>index_group_name</th>\n",
       "      <th>section_no</th>\n",
       "      <th>section_name</th>\n",
       "      <th>garment_group_no</th>\n",
       "      <th>garment_group_name</th>\n",
       "      <th>detail_desc</th>\n",
       "    </tr>\n",
       "  </thead>\n",
       "  <tbody>\n",
       "    <tr>\n",
       "      <th>0</th>\n",
       "      <td>60</td>\n",
       "      <td>2019-05-01</td>\n",
       "      <td>00357b192b81fc83261a45be87f5f3d59112db7d117513...</td>\n",
       "      <td>743719001</td>\n",
       "      <td>0.050831</td>\n",
       "      <td>2</td>\n",
       "      <td>2019</td>\n",
       "      <td>5</td>\n",
       "      <td>18</td>\n",
       "      <td>743719</td>\n",
       "      <td>...</td>\n",
       "      <td>Shoes</td>\n",
       "      <td>F</td>\n",
       "      <td>Menswear</td>\n",
       "      <td>3</td>\n",
       "      <td>Menswear</td>\n",
       "      <td>27</td>\n",
       "      <td>Men Shoes</td>\n",
       "      <td>1020</td>\n",
       "      <td>Shoes</td>\n",
       "      <td>Cotton canvas trainers with a padded edge and ...</td>\n",
       "    </tr>\n",
       "    <tr>\n",
       "      <th>1</th>\n",
       "      <td>140</td>\n",
       "      <td>2019-05-01</td>\n",
       "      <td>0083ee250b3845008465de0e938d0ed2ae4f5bfde8b56e...</td>\n",
       "      <td>507431031</td>\n",
       "      <td>0.015237</td>\n",
       "      <td>2</td>\n",
       "      <td>2019</td>\n",
       "      <td>5</td>\n",
       "      <td>18</td>\n",
       "      <td>507431</td>\n",
       "      <td>...</td>\n",
       "      <td>Jersey inactive from s1</td>\n",
       "      <td>F</td>\n",
       "      <td>Menswear</td>\n",
       "      <td>3</td>\n",
       "      <td>Menswear</td>\n",
       "      <td>55</td>\n",
       "      <td>Contemporary Street</td>\n",
       "      <td>1005</td>\n",
       "      <td>Jersey Fancy</td>\n",
       "      <td>T-shirt in hard-washed slub cotton jersey with...</td>\n",
       "    </tr>\n",
       "    <tr>\n",
       "      <th>2</th>\n",
       "      <td>141</td>\n",
       "      <td>2019-05-01</td>\n",
       "      <td>0083ee250b3845008465de0e938d0ed2ae4f5bfde8b56e...</td>\n",
       "      <td>378447036</td>\n",
       "      <td>0.054220</td>\n",
       "      <td>2</td>\n",
       "      <td>2019</td>\n",
       "      <td>5</td>\n",
       "      <td>18</td>\n",
       "      <td>378447</td>\n",
       "      <td>...</td>\n",
       "      <td>Knitwear</td>\n",
       "      <td>F</td>\n",
       "      <td>Menswear</td>\n",
       "      <td>3</td>\n",
       "      <td>Menswear</td>\n",
       "      <td>23</td>\n",
       "      <td>Men Suits &amp; Tailoring</td>\n",
       "      <td>1003</td>\n",
       "      <td>Knitwear</td>\n",
       "      <td>Jumper in fine-knit merino wool with a V-neck ...</td>\n",
       "    </tr>\n",
       "    <tr>\n",
       "      <th>3</th>\n",
       "      <td>142</td>\n",
       "      <td>2019-05-01</td>\n",
       "      <td>0083ee250b3845008465de0e938d0ed2ae4f5bfde8b56e...</td>\n",
       "      <td>657850001</td>\n",
       "      <td>0.030492</td>\n",
       "      <td>2</td>\n",
       "      <td>2019</td>\n",
       "      <td>5</td>\n",
       "      <td>18</td>\n",
       "      <td>657850</td>\n",
       "      <td>...</td>\n",
       "      <td>Knitwear</td>\n",
       "      <td>F</td>\n",
       "      <td>Menswear</td>\n",
       "      <td>3</td>\n",
       "      <td>Menswear</td>\n",
       "      <td>20</td>\n",
       "      <td>Contemporary Smart</td>\n",
       "      <td>1003</td>\n",
       "      <td>Knitwear</td>\n",
       "      <td>Jumper in a textured-knit wool blend with long...</td>\n",
       "    </tr>\n",
       "    <tr>\n",
       "      <th>4</th>\n",
       "      <td>143</td>\n",
       "      <td>2019-05-01</td>\n",
       "      <td>0083ee250b3845008465de0e938d0ed2ae4f5bfde8b56e...</td>\n",
       "      <td>598755015</td>\n",
       "      <td>0.013542</td>\n",
       "      <td>2</td>\n",
       "      <td>2019</td>\n",
       "      <td>5</td>\n",
       "      <td>18</td>\n",
       "      <td>598755</td>\n",
       "      <td>...</td>\n",
       "      <td>Light Basic Jersey</td>\n",
       "      <td>F</td>\n",
       "      <td>Menswear</td>\n",
       "      <td>3</td>\n",
       "      <td>Menswear</td>\n",
       "      <td>26</td>\n",
       "      <td>Men Underwear</td>\n",
       "      <td>1002</td>\n",
       "      <td>Jersey Basic</td>\n",
       "      <td>Long, round-necked T-shirt in soft jersey with...</td>\n",
       "    </tr>\n",
       "  </tbody>\n",
       "</table>\n",
       "<p>5 rows × 33 columns</p>\n",
       "</div>"
      ],
      "text/plain": [
       "   Unnamed: 0       t_dat                                        customer_id  \\\n",
       "0          60  2019-05-01  00357b192b81fc83261a45be87f5f3d59112db7d117513...   \n",
       "1         140  2019-05-01  0083ee250b3845008465de0e938d0ed2ae4f5bfde8b56e...   \n",
       "2         141  2019-05-01  0083ee250b3845008465de0e938d0ed2ae4f5bfde8b56e...   \n",
       "3         142  2019-05-01  0083ee250b3845008465de0e938d0ed2ae4f5bfde8b56e...   \n",
       "4         143  2019-05-01  0083ee250b3845008465de0e938d0ed2ae4f5bfde8b56e...   \n",
       "\n",
       "   article_id     price  sales_channel_id  year  month  week  product_code  \\\n",
       "0   743719001  0.050831                 2  2019      5    18        743719   \n",
       "1   507431031  0.015237                 2  2019      5    18        507431   \n",
       "2   378447036  0.054220                 2  2019      5    18        378447   \n",
       "3   657850001  0.030492                 2  2019      5    18        657850   \n",
       "4   598755015  0.013542                 2  2019      5    18        598755   \n",
       "\n",
       "   ...          department_name  index_code index_name index_group_no  \\\n",
       "0  ...                    Shoes           F   Menswear              3   \n",
       "1  ...  Jersey inactive from s1           F   Menswear              3   \n",
       "2  ...                 Knitwear           F   Menswear              3   \n",
       "3  ...                 Knitwear           F   Menswear              3   \n",
       "4  ...       Light Basic Jersey           F   Menswear              3   \n",
       "\n",
       "   index_group_name section_no           section_name garment_group_no  \\\n",
       "0          Menswear         27              Men Shoes             1020   \n",
       "1          Menswear         55    Contemporary Street             1005   \n",
       "2          Menswear         23  Men Suits & Tailoring             1003   \n",
       "3          Menswear         20     Contemporary Smart             1003   \n",
       "4          Menswear         26          Men Underwear             1002   \n",
       "\n",
       "   garment_group_name                                        detail_desc  \n",
       "0               Shoes  Cotton canvas trainers with a padded edge and ...  \n",
       "1        Jersey Fancy  T-shirt in hard-washed slub cotton jersey with...  \n",
       "2            Knitwear  Jumper in fine-knit merino wool with a V-neck ...  \n",
       "3            Knitwear  Jumper in a textured-knit wool blend with long...  \n",
       "4        Jersey Basic  Long, round-necked T-shirt in soft jersey with...  \n",
       "\n",
       "[5 rows x 33 columns]"
      ]
     },
     "execution_count": 2,
     "metadata": {},
     "output_type": "execute_result"
    }
   ],
   "source": [
    "#read Menswear data set\n",
    "transaction_men_raw = pd.read_csv(\"../data/large_data/transaction_2019_567_Menswear.csv\")\n",
    "transaction_men_raw.head()"
   ]
  },
  {
   "cell_type": "code",
   "execution_count": 3,
   "id": "562b9ff0",
   "metadata": {},
   "outputs": [
    {
     "name": "stdout",
     "output_type": "stream",
     "text": [
      "Index(['Unnamed: 0', 't_dat', 'customer_id', 'article_id', 'price',\n",
      "       'sales_channel_id', 'year', 'month', 'week', 'product_code',\n",
      "       'prod_name', 'product_type_no', 'product_type_name',\n",
      "       'product_group_name', 'graphical_appearance_no',\n",
      "       'graphical_appearance_name', 'colour_group_code', 'colour_group_name',\n",
      "       'perceived_colour_value_id', 'perceived_colour_value_name',\n",
      "       'perceived_colour_master_id', 'perceived_colour_master_name',\n",
      "       'department_no', 'department_name', 'index_code', 'index_name',\n",
      "       'index_group_no', 'index_group_name', 'section_no', 'section_name',\n",
      "       'garment_group_no', 'garment_group_name', 'detail_desc'],\n",
      "      dtype='object')\n"
     ]
    }
   ],
   "source": [
    "print(transaction_men_raw.columns)"
   ]
  },
  {
   "cell_type": "code",
   "execution_count": 28,
   "id": "6162b78a",
   "metadata": {},
   "outputs": [],
   "source": [
    "transaction_men_raw['details_description'] = transaction_men_raw['product_type_name'] + \" \" + \\\n",
    "                                             transaction_men_raw['product_group_name'] + \" \" + \\\n",
    "                                             transaction_men_raw['graphical_appearance_name'] + \" \" + \\\n",
    "                                             transaction_men_raw['colour_group_name'] + \" \" + \\\n",
    "                                             transaction_men_raw['perceived_colour_value_name'] + \" \" + \\\n",
    "                                             transaction_men_raw['perceived_colour_master_name'] + \" \" + \\\n",
    "                                             transaction_men_raw['department_name'] + \" \" + \\\n",
    "                                             transaction_men_raw['section_name'] + \" \" + \\\n",
    "                                             transaction_men_raw['garment_group_name'] + \" \" + \\\n",
    "                                             transaction_men_raw['detail_desc']\n",
    " "
   ]
  },
  {
   "cell_type": "code",
   "execution_count": 30,
   "id": "9cf2e754",
   "metadata": {},
   "outputs": [
    {
     "data": {
      "text/plain": [
       "T-shirt Garment Upper body Solid White Light White Light Basic Jersey Men Underwear Jersey Basic Round-necked T-shirt in soft cotton jersey.                                                                                                                                                                                                                                                                                                      1871\n",
       "T-shirt Garment Upper body Front print White Light White Jersey Fancy Contemporary Smart Jersey Fancy T-shirt in printed cotton jersey.                                                                                                                                                                                                                                                                                                           1732\n",
       "T-shirt Garment Upper body Solid Black Dark Black Light Basic Jersey Men Underwear Jersey Basic Round-necked T-shirt in soft cotton jersey.                                                                                                                                                                                                                                                                                                       1665\n",
       "Socks Socks & Tights Solid Black Dark Black Socks Bin Men Underwear Socks and Tights Socks in a fine-knit cotton blend with elastication at the top.                                                                                                                                                                                                                                                                                              1659\n",
       "Shorts Garment Lower body Solid Dark Blue Dark Blue Shorts Contemporary Casual Shorts Chino shorts in a washed cotton weave with a zip fly, side pockets, a coin pocket and welt back pockets. Regular fit.                                                                                                                                                                                                                                       1516\n",
       "                                                                                                                                                                                                                                                                                                                                                                                                                                                  ... \n",
       "Shirt Garment Upper body Check Pink Medium Pink Shirt Contemporary Casual Shirts Checked shirt in crisp cotton poplin with a button-down collar, classic front and open chest pocket. Long sleeves with adjustable buttoning at the cuffs, a yoke with a pleat and hanger loop at the back, and a rounded hem. Regular fit – a classic fit with good room for movement and a gently shaped waist to create a comfortable, tailored silhouette.       1\n",
       "Sweater Garment Upper body Melange Dark Pink Medium Dusty Pink Knitwear Men Edition Knitwear Long-sleeved jumper in soft, fine-knit cashmere with ribbing around the neckline, cuffs and hem.                                                                                                                                                                                                                                                        1\n",
       "Bag Accessories Solid Black Dark Black Bags & Items Men Accessories Accessories Waist bag in woven fabric with a zip at the front and an adjustable strap with a plastic fastener. One zipped inner compartment. The waist bag can be turned inside out and folded into the inner compartment to become a small bag with a handle. Size when opened out approx. 5x18x32 cm. Size when folded 8x9 cm.                                                 1\n",
       "Shirt Garment Upper body Stripe White Light White Shirt Contemporary Casual Shirts Shirt in an Oxford cotton weave with a narrow button-down collar, classic front, open chest pocket and yoke with a pleat at the back. Long sleeves with adjustable buttoning at the cuffs, and a rounded hem. Regular fit – a classic fit with good room for movement and a gently shaped waist to create a comfortable, tailored silhouette.                     1\n",
       "Sneakers Shoes Solid Light Grey Dusty Light Grey Shoes Men Shoes Shoes Trainers in big hole mesh with details in imitation leather and plastic, lacing at the front and a loop at the back. Mesh linings and insoles and rubber soles.                                                                                                                                                                                                               1\n",
       "Name: details_description, Length: 4734, dtype: int64"
      ]
     },
     "execution_count": 30,
     "metadata": {},
     "output_type": "execute_result"
    }
   ],
   "source": [
    "transaction_men_raw.details_description.value_counts()"
   ]
  },
  {
   "cell_type": "code",
   "execution_count": 5,
   "id": "f150a30e",
   "metadata": {},
   "outputs": [
    {
     "data": {
      "text/plain": [
       "(1923, 978)"
      ]
     },
     "execution_count": 5,
     "metadata": {},
     "output_type": "execute_result"
    }
   ],
   "source": [
    "content = transaction_men_raw.detail_desc.value_counts().index\n",
    "\n",
    "vectorizer = TfidfVectorizer()\n",
    "X = vectorizer.fit_transform(content)\n",
    "vectorizer.get_feature_names()\n",
    "\n",
    "X.shape"
   ]
  },
  {
   "cell_type": "code",
   "execution_count": 6,
   "id": "5d6efd24",
   "metadata": {},
   "outputs": [],
   "source": [
    "similarity = cosine_similarity(X)"
   ]
  },
  {
   "cell_type": "code",
   "execution_count": 8,
   "id": "d8518c64",
   "metadata": {},
   "outputs": [
    {
     "data": {
      "text/plain": [
       "(1923, 1923)"
      ]
     },
     "execution_count": 8,
     "metadata": {},
     "output_type": "execute_result"
    }
   ],
   "source": [
    "similarity.shape"
   ]
  },
  {
   "cell_type": "code",
   "execution_count": 31,
   "id": "4e5001ad",
   "metadata": {},
   "outputs": [
    {
     "data": {
      "text/html": [
       "<div>\n",
       "<style scoped>\n",
       "    .dataframe tbody tr th:only-of-type {\n",
       "        vertical-align: middle;\n",
       "    }\n",
       "\n",
       "    .dataframe tbody tr th {\n",
       "        vertical-align: top;\n",
       "    }\n",
       "\n",
       "    .dataframe thead th {\n",
       "        text-align: right;\n",
       "    }\n",
       "</style>\n",
       "<table border=\"1\" class=\"dataframe\">\n",
       "  <thead>\n",
       "    <tr style=\"text-align: right;\">\n",
       "      <th></th>\n",
       "      <th>article_id</th>\n",
       "      <th>details_description</th>\n",
       "    </tr>\n",
       "  </thead>\n",
       "  <tbody>\n",
       "    <tr>\n",
       "      <th>0</th>\n",
       "      <td>743719001</td>\n",
       "      <td>Sneakers Shoes Solid Grey Medium Dusty Grey Sh...</td>\n",
       "    </tr>\n",
       "    <tr>\n",
       "      <th>1</th>\n",
       "      <td>507431031</td>\n",
       "      <td>T-shirt Garment Upper body Treatment Black Dar...</td>\n",
       "    </tr>\n",
       "    <tr>\n",
       "      <th>2</th>\n",
       "      <td>378447036</td>\n",
       "      <td>Sweater Garment Upper body Melange Dark Blue D...</td>\n",
       "    </tr>\n",
       "    <tr>\n",
       "      <th>3</th>\n",
       "      <td>657850001</td>\n",
       "      <td>Sweater Garment Upper body Melange Dark Grey D...</td>\n",
       "    </tr>\n",
       "    <tr>\n",
       "      <th>4</th>\n",
       "      <td>598755015</td>\n",
       "      <td>T-shirt Garment Upper body Melange Greenish Kh...</td>\n",
       "    </tr>\n",
       "    <tr>\n",
       "      <th>...</th>\n",
       "      <td>...</td>\n",
       "      <td>...</td>\n",
       "    </tr>\n",
       "    <tr>\n",
       "      <th>5219</th>\n",
       "      <td>652346002</td>\n",
       "      <td>Underwear bottom Underwear Check Light Red Med...</td>\n",
       "    </tr>\n",
       "    <tr>\n",
       "      <th>5220</th>\n",
       "      <td>809223001</td>\n",
       "      <td>Trousers Garment Lower body Solid Greenish Kha...</td>\n",
       "    </tr>\n",
       "    <tr>\n",
       "      <th>5221</th>\n",
       "      <td>755780003</td>\n",
       "      <td>Sweater Garment Upper body Colour blocking Whi...</td>\n",
       "    </tr>\n",
       "    <tr>\n",
       "      <th>5222</th>\n",
       "      <td>786161002</td>\n",
       "      <td>Underwear bottom Underwear Solid White Light W...</td>\n",
       "    </tr>\n",
       "    <tr>\n",
       "      <th>5223</th>\n",
       "      <td>712295008</td>\n",
       "      <td>Hoodie Garment Upper body All over pattern Gre...</td>\n",
       "    </tr>\n",
       "  </tbody>\n",
       "</table>\n",
       "<p>5224 rows × 2 columns</p>\n",
       "</div>"
      ],
      "text/plain": [
       "      article_id                                details_description\n",
       "0      743719001  Sneakers Shoes Solid Grey Medium Dusty Grey Sh...\n",
       "1      507431031  T-shirt Garment Upper body Treatment Black Dar...\n",
       "2      378447036  Sweater Garment Upper body Melange Dark Blue D...\n",
       "3      657850001  Sweater Garment Upper body Melange Dark Grey D...\n",
       "4      598755015  T-shirt Garment Upper body Melange Greenish Kh...\n",
       "...          ...                                                ...\n",
       "5219   652346002  Underwear bottom Underwear Check Light Red Med...\n",
       "5220   809223001  Trousers Garment Lower body Solid Greenish Kha...\n",
       "5221   755780003  Sweater Garment Upper body Colour blocking Whi...\n",
       "5222   786161002  Underwear bottom Underwear Solid White Light W...\n",
       "5223   712295008  Hoodie Garment Upper body All over pattern Gre...\n",
       "\n",
       "[5224 rows x 2 columns]"
      ]
     },
     "execution_count": 31,
     "metadata": {},
     "output_type": "execute_result"
    }
   ],
   "source": [
    "##subset data with article_id and detail_desc\n",
    "\n",
    "article_desc_df = transaction_men_raw[['article_id','details_description']].drop_duplicates().dropna().reset_index(drop=True)\n",
    "article_desc_df"
   ]
  },
  {
   "cell_type": "code",
   "execution_count": 32,
   "id": "b70b9991",
   "metadata": {},
   "outputs": [
    {
     "data": {
      "text/plain": [
       "(5224, 1081)"
      ]
     },
     "execution_count": 32,
     "metadata": {},
     "output_type": "execute_result"
    }
   ],
   "source": [
    "vectorizer = TfidfVectorizer()\n",
    "X = vectorizer.fit_transform(article_desc_df['details_description'])\n",
    "X.shape"
   ]
  },
  {
   "cell_type": "code",
   "execution_count": 73,
   "id": "f4f7d89f",
   "metadata": {},
   "outputs": [
    {
     "data": {
      "text/plain": [
       "(5224, 5224)"
      ]
     },
     "execution_count": 73,
     "metadata": {},
     "output_type": "execute_result"
    }
   ],
   "source": [
    "similarity = cosine_similarity(X)\n",
    "similarity.shape"
   ]
  },
  {
   "cell_type": "code",
   "execution_count": 74,
   "id": "9e81232d",
   "metadata": {},
   "outputs": [
    {
     "data": {
      "text/plain": [
       "array([1.        , 0.08852791, 0.03685904, ..., 0.02976935, 0.0310341 ,\n",
       "       0.07560741])"
      ]
     },
     "execution_count": 74,
     "metadata": {},
     "output_type": "execute_result"
    }
   ],
   "source": [
    "similarity[0]"
   ]
  },
  {
   "cell_type": "code",
   "execution_count": 79,
   "id": "0b65b359",
   "metadata": {},
   "outputs": [
    {
     "data": {
      "text/plain": [
       "array([0.        , 0.00281989, 0.00288001, ..., 0.90912136, 0.92070483,\n",
       "       1.        ])"
      ]
     },
     "execution_count": 79,
     "metadata": {},
     "output_type": "execute_result"
    }
   ],
   "source": [
    "np.sort(similarity[0])"
   ]
  },
  {
   "cell_type": "code",
   "execution_count": 37,
   "id": "f01aa77e",
   "metadata": {},
   "outputs": [],
   "source": [
    "#sort index of similarity \n",
    "sorted_sim_index = np.fliplr(np.argsort(similarity))"
   ]
  },
  {
   "cell_type": "code",
   "execution_count": 41,
   "id": "f680d03d",
   "metadata": {},
   "outputs": [
    {
     "data": {
      "text/plain": [
       "array([   1, 4450, 1994, ..., 3901, 1171, 3763], dtype=int64)"
      ]
     },
     "execution_count": 41,
     "metadata": {},
     "output_type": "execute_result"
    }
   ],
   "source": [
    "sorted_sim_index[1]"
   ]
  },
  {
   "cell_type": "code",
   "execution_count": 42,
   "id": "3e8fa300",
   "metadata": {},
   "outputs": [],
   "source": [
    "#the 10 most similar items to the item(index = 0)\n",
    "articleID = article_desc_df.article_id[0]\n",
    "\n",
    "similar_items_index = sorted_sim_index[0][1:11]"
   ]
  },
  {
   "cell_type": "code",
   "execution_count": 43,
   "id": "202bb0e9",
   "metadata": {},
   "outputs": [
    {
     "data": {
      "text/plain": [
       "743719001"
      ]
     },
     "execution_count": 43,
     "metadata": {},
     "output_type": "execute_result"
    }
   ],
   "source": [
    "articleID"
   ]
  },
  {
   "cell_type": "code",
   "execution_count": 44,
   "id": "1ab9888d",
   "metadata": {},
   "outputs": [
    {
     "data": {
      "text/plain": [
       "array([2668, 2889, 5152,  701, 4957, 4979, 3582, 3635, 4188, 4009],\n",
       "      dtype=int64)"
      ]
     },
     "execution_count": 44,
     "metadata": {},
     "output_type": "execute_result"
    }
   ],
   "source": [
    "similar_items_index"
   ]
  },
  {
   "cell_type": "code",
   "execution_count": 48,
   "id": "bf3d79d4",
   "metadata": {},
   "outputs": [
    {
     "data": {
      "text/plain": [
       "2668    601728002\n",
       "2889    601728001\n",
       "5152    601728027\n",
       "701     601728013\n",
       "4957    728836001\n",
       "4979    766099001\n",
       "3582    728788002\n",
       "3635    671809009\n",
       "4188    601728016\n",
       "4009    728836003\n",
       "Name: article_id, dtype: int64"
      ]
     },
     "execution_count": 48,
     "metadata": {},
     "output_type": "execute_result"
    }
   ],
   "source": [
    "article_desc_df.article_id[similar_items_index]"
   ]
  },
  {
   "cell_type": "code",
   "execution_count": 50,
   "id": "c74d3f53",
   "metadata": {},
   "outputs": [],
   "source": [
    "mask_train = transaction_men_raw.week == 18\n",
    "X_train = transaction_men_raw.loc[mask_train].reset_index(drop=True)\n",
    "mask_test = transaction_men_raw.week == 19\n",
    "X_test = transaction_men_raw.loc[mask_test].reset_index(drop=True)[['customer_id','article_id']]"
   ]
  },
  {
   "cell_type": "code",
   "execution_count": null,
   "id": "b65e90e9",
   "metadata": {},
   "outputs": [],
   "source": [
    "\n",
    "\n",
    "#concatenate all text information\n",
    "X_train['details_description'] = X_train['product_type_name'] + \" \" + \\\n",
    "                                 X_train['product_group_name'] + \" \" + \\\n",
    "                                 X_train['graphical_appearance_name'] + \" \" + \\\n",
    "                                 X_train['colour_group_name'] + \" \" + \\\n",
    "                                 X_train['perceived_colour_value_name'] + \" \" + \\\n",
    "                                 X_train['perceived_colour_master_name'] + \" \" + \\\n",
    "                                 X_train['department_name'] + \" \" + \\\n",
    "                                 X_train['section_name'] + \" \" + \\\n",
    "                                 X_train['garment_group_name'] + \" \" + \\\n",
    "                                 X_train['detail_desc']\n",
    "\n",
    "#subset article_id and description column\n",
    "article_desc_df = X_train[['article_id','details_description']].drop_duplicates().dropna().reset_index(drop=True)\n",
    "\n",
    "#TF-IDF\n",
    "vectorizer = TfidfVectorizer()\n",
    "X = vectorizer.fit_transform(article_desc_df['details_description'])\n",
    "\n",
    "#Calculate cosine similarity between articles\n",
    "similarity = cosine_similarity(X)\n",
    "\n",
    "#sort index of similarity\n",
    "sorted_sim_index = np.fliplr(np.argsort(similarity))\n",
    "\n",
    "#find customers in training and their purchases items\n",
    "Customer_IDs = X_train.customer_id.unique()\n",
    "\n",
    "#dict to store each \n",
    "recommend_items = {}\n",
    "\n",
    "for customer in Customer_IDs:\n",
    "    #find purchased article_id\n",
    "    purchased = X_train.loc[X_train.customer_id == customer].article_id\n",
    "    \n",
    "    #for each article, find its 12 most similar items' similarites\n",
    "    for each in purchased:\n",
    "        item_index = np.where(article_desc_df.article_id == each)[0][0]\n",
    "    \n",
    "    \n",
    "        "
   ]
  },
  {
   "cell_type": "code",
   "execution_count": 61,
   "id": "0c5869e4",
   "metadata": {},
   "outputs": [
    {
     "data": {
      "text/plain": [
       "'00be0a263381af38132d31225e8fb12fbc527c654b446484fb672a78118f037d'"
      ]
     },
     "execution_count": 61,
     "metadata": {},
     "output_type": "execute_result"
    }
   ],
   "source": [
    "Customer_IDs = X_train.customer_id.unique()\n",
    "customer = Customer_IDs[2]\n",
    "customer"
   ]
  },
  {
   "cell_type": "code",
   "execution_count": 62,
   "id": "b017c7e2",
   "metadata": {},
   "outputs": [
    {
     "data": {
      "text/plain": [
       "14    589549018\n",
       "15    685604015\n",
       "16    732675001\n",
       "17    669385001\n",
       "Name: article_id, dtype: int64"
      ]
     },
     "execution_count": 62,
     "metadata": {},
     "output_type": "execute_result"
    }
   ],
   "source": [
    "purchased = X_train.loc[X_train.customer_id == customer].article_id\n",
    "purchased"
   ]
  },
  {
   "cell_type": "code",
   "execution_count": 67,
   "id": "45e71eed",
   "metadata": {},
   "outputs": [
    {
     "data": {
      "text/html": [
       "<div>\n",
       "<style scoped>\n",
       "    .dataframe tbody tr th:only-of-type {\n",
       "        vertical-align: middle;\n",
       "    }\n",
       "\n",
       "    .dataframe tbody tr th {\n",
       "        vertical-align: top;\n",
       "    }\n",
       "\n",
       "    .dataframe thead th {\n",
       "        text-align: right;\n",
       "    }\n",
       "</style>\n",
       "<table border=\"1\" class=\"dataframe\">\n",
       "  <thead>\n",
       "    <tr style=\"text-align: right;\">\n",
       "      <th></th>\n",
       "      <th>article_id</th>\n",
       "      <th>details_description</th>\n",
       "    </tr>\n",
       "  </thead>\n",
       "  <tbody>\n",
       "    <tr>\n",
       "      <th>0</th>\n",
       "      <td>743719001</td>\n",
       "      <td>Sneakers Shoes Solid Grey Medium Dusty Grey Sh...</td>\n",
       "    </tr>\n",
       "    <tr>\n",
       "      <th>1</th>\n",
       "      <td>507431031</td>\n",
       "      <td>T-shirt Garment Upper body Treatment Black Dar...</td>\n",
       "    </tr>\n",
       "    <tr>\n",
       "      <th>2</th>\n",
       "      <td>378447036</td>\n",
       "      <td>Sweater Garment Upper body Melange Dark Blue D...</td>\n",
       "    </tr>\n",
       "    <tr>\n",
       "      <th>3</th>\n",
       "      <td>657850001</td>\n",
       "      <td>Sweater Garment Upper body Melange Dark Grey D...</td>\n",
       "    </tr>\n",
       "    <tr>\n",
       "      <th>4</th>\n",
       "      <td>598755015</td>\n",
       "      <td>T-shirt Garment Upper body Melange Greenish Kh...</td>\n",
       "    </tr>\n",
       "    <tr>\n",
       "      <th>...</th>\n",
       "      <td>...</td>\n",
       "      <td>...</td>\n",
       "    </tr>\n",
       "    <tr>\n",
       "      <th>5219</th>\n",
       "      <td>652346002</td>\n",
       "      <td>Underwear bottom Underwear Check Light Red Med...</td>\n",
       "    </tr>\n",
       "    <tr>\n",
       "      <th>5220</th>\n",
       "      <td>809223001</td>\n",
       "      <td>Trousers Garment Lower body Solid Greenish Kha...</td>\n",
       "    </tr>\n",
       "    <tr>\n",
       "      <th>5221</th>\n",
       "      <td>755780003</td>\n",
       "      <td>Sweater Garment Upper body Colour blocking Whi...</td>\n",
       "    </tr>\n",
       "    <tr>\n",
       "      <th>5222</th>\n",
       "      <td>786161002</td>\n",
       "      <td>Underwear bottom Underwear Solid White Light W...</td>\n",
       "    </tr>\n",
       "    <tr>\n",
       "      <th>5223</th>\n",
       "      <td>712295008</td>\n",
       "      <td>Hoodie Garment Upper body All over pattern Gre...</td>\n",
       "    </tr>\n",
       "  </tbody>\n",
       "</table>\n",
       "<p>5224 rows × 2 columns</p>\n",
       "</div>"
      ],
      "text/plain": [
       "      article_id                                details_description\n",
       "0      743719001  Sneakers Shoes Solid Grey Medium Dusty Grey Sh...\n",
       "1      507431031  T-shirt Garment Upper body Treatment Black Dar...\n",
       "2      378447036  Sweater Garment Upper body Melange Dark Blue D...\n",
       "3      657850001  Sweater Garment Upper body Melange Dark Grey D...\n",
       "4      598755015  T-shirt Garment Upper body Melange Greenish Kh...\n",
       "...          ...                                                ...\n",
       "5219   652346002  Underwear bottom Underwear Check Light Red Med...\n",
       "5220   809223001  Trousers Garment Lower body Solid Greenish Kha...\n",
       "5221   755780003  Sweater Garment Upper body Colour blocking Whi...\n",
       "5222   786161002  Underwear bottom Underwear Solid White Light W...\n",
       "5223   712295008  Hoodie Garment Upper body All over pattern Gre...\n",
       "\n",
       "[5224 rows x 2 columns]"
      ]
     },
     "execution_count": 67,
     "metadata": {},
     "output_type": "execute_result"
    }
   ],
   "source": [
    "article_desc_df"
   ]
  },
  {
   "cell_type": "code",
   "execution_count": 72,
   "id": "1be8995d",
   "metadata": {},
   "outputs": [
    {
     "data": {
      "text/plain": [
       "4"
      ]
     },
     "execution_count": 72,
     "metadata": {},
     "output_type": "execute_result"
    }
   ],
   "source": [
    "np.where(article_desc_df.article_id == 598755015)[0][0]"
   ]
  },
  {
   "cell_type": "code",
   "execution_count": null,
   "id": "34ae2be0",
   "metadata": {},
   "outputs": [],
   "source": []
  }
 ],
 "metadata": {
  "kernelspec": {
   "display_name": "Python 3 (ipykernel)",
   "language": "python",
   "name": "python3"
  },
  "language_info": {
   "codemirror_mode": {
    "name": "ipython",
    "version": 3
   },
   "file_extension": ".py",
   "mimetype": "text/x-python",
   "name": "python",
   "nbconvert_exporter": "python",
   "pygments_lexer": "ipython3",
   "version": "3.9.10"
  }
 },
 "nbformat": 4,
 "nbformat_minor": 5
}
