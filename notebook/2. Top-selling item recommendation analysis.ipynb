{
 "cells": [
  {
   "cell_type": "markdown",
   "metadata": {},
   "source": [
    "# Top-selling item recommendation analysis\n",
    "\n",
    "Recommend top-selling items in the past to returning customers who have not yet purchased those items\n",
    "\n",
    "- Identify top 12 selling items from 1st-7th day and 15th-21st day each month (2018-10 ~ 2020-08)\n",
    "- Check numbers items were actually purchased by returning users from 8th-14th and 22nd-28th day each month\n",
    "- Use AOP@12 and MAP@12 to evaluate the results\n",
    "\n",
    "Best selling items EDA on Kaggle: https://www.kaggle.com/negoto/best-selling-items-catalog-like-eda-of-articles"
   ]
  },
  {
   "cell_type": "code",
   "execution_count": 1,
   "metadata": {},
   "outputs": [],
   "source": [
    "import pandas as pd\n",
    "import numpy as np\n",
    "import collaborative_filter as cf\n",
    "import matplotlib.pyplot as plt"
   ]
  },
  {
   "cell_type": "code",
   "execution_count": 2,
   "metadata": {},
   "outputs": [
    {
     "name": "stdout",
     "output_type": "stream",
     "text": [
      "CPU times: user 29.7 s, sys: 10.5 s, total: 40.3 s\n",
      "Wall time: 45.1 s\n"
     ]
    }
   ],
   "source": [
    "%%time\n",
    "transaction_raw = pd.read_csv(\"../data/transactions_train.csv\")"
   ]
  },
  {
   "cell_type": "code",
   "execution_count": 4,
   "metadata": {},
   "outputs": [],
   "source": [
    "#convert string t_dat to datetime\n",
    "transaction_raw['t_dat'] = pd.to_datetime(transaction_raw['t_dat'])\n",
    "\n",
    "#add year, month, week column\n",
    "transaction_raw['year'] = transaction_raw['t_dat'].dt.year\n",
    "transaction_raw['month'] = transaction_raw['t_dat'].dt.month\n",
    "transaction_raw['week'] = transaction_raw['t_dat'].dt.isocalendar().week"
   ]
  },
  {
   "cell_type": "code",
   "execution_count": 11,
   "metadata": {},
   "outputs": [
    {
     "data": {
      "text/html": [
       "<div>\n",
       "<style scoped>\n",
       "    .dataframe tbody tr th:only-of-type {\n",
       "        vertical-align: middle;\n",
       "    }\n",
       "\n",
       "    .dataframe tbody tr th {\n",
       "        vertical-align: top;\n",
       "    }\n",
       "\n",
       "    .dataframe thead th {\n",
       "        text-align: right;\n",
       "    }\n",
       "</style>\n",
       "<table border=\"1\" class=\"dataframe\">\n",
       "  <thead>\n",
       "    <tr style=\"text-align: right;\">\n",
       "      <th></th>\n",
       "      <th>t_dat</th>\n",
       "      <th>customer_id</th>\n",
       "      <th>article_id</th>\n",
       "      <th>price</th>\n",
       "      <th>sales_channel_id</th>\n",
       "      <th>year</th>\n",
       "      <th>month</th>\n",
       "      <th>week</th>\n",
       "    </tr>\n",
       "  </thead>\n",
       "  <tbody>\n",
       "    <tr>\n",
       "      <th>9590349</th>\n",
       "      <td>2019-05-01</td>\n",
       "      <td>00019d6c20e0fbb551af18c57149af4707ec016bb0decd...</td>\n",
       "      <td>524061003</td>\n",
       "      <td>0.050831</td>\n",
       "      <td>2</td>\n",
       "      <td>2019</td>\n",
       "      <td>5</td>\n",
       "      <td>18</td>\n",
       "    </tr>\n",
       "    <tr>\n",
       "      <th>9590350</th>\n",
       "      <td>2019-05-01</td>\n",
       "      <td>00019d6c20e0fbb551af18c57149af4707ec016bb0decd...</td>\n",
       "      <td>735404001</td>\n",
       "      <td>0.050831</td>\n",
       "      <td>2</td>\n",
       "      <td>2019</td>\n",
       "      <td>5</td>\n",
       "      <td>18</td>\n",
       "    </tr>\n",
       "    <tr>\n",
       "      <th>9590351</th>\n",
       "      <td>2019-05-01</td>\n",
       "      <td>00019d6c20e0fbb551af18c57149af4707ec016bb0decd...</td>\n",
       "      <td>700370004</td>\n",
       "      <td>0.016932</td>\n",
       "      <td>2</td>\n",
       "      <td>2019</td>\n",
       "      <td>5</td>\n",
       "      <td>18</td>\n",
       "    </tr>\n",
       "    <tr>\n",
       "      <th>9590352</th>\n",
       "      <td>2019-05-01</td>\n",
       "      <td>00019d6c20e0fbb551af18c57149af4707ec016bb0decd...</td>\n",
       "      <td>618800001</td>\n",
       "      <td>0.033881</td>\n",
       "      <td>2</td>\n",
       "      <td>2019</td>\n",
       "      <td>5</td>\n",
       "      <td>18</td>\n",
       "    </tr>\n",
       "    <tr>\n",
       "      <th>9590353</th>\n",
       "      <td>2019-05-01</td>\n",
       "      <td>00019d6c20e0fbb551af18c57149af4707ec016bb0decd...</td>\n",
       "      <td>731407001</td>\n",
       "      <td>0.016932</td>\n",
       "      <td>2</td>\n",
       "      <td>2019</td>\n",
       "      <td>5</td>\n",
       "      <td>18</td>\n",
       "    </tr>\n",
       "    <tr>\n",
       "      <th>...</th>\n",
       "      <td>...</td>\n",
       "      <td>...</td>\n",
       "      <td>...</td>\n",
       "      <td>...</td>\n",
       "      <td>...</td>\n",
       "      <td>...</td>\n",
       "      <td>...</td>\n",
       "      <td>...</td>\n",
       "    </tr>\n",
       "    <tr>\n",
       "      <th>14864359</th>\n",
       "      <td>2019-07-31</td>\n",
       "      <td>ffdb44f83b6d23c1c9f805f5084392db7d4ff850df1373...</td>\n",
       "      <td>751989001</td>\n",
       "      <td>0.025407</td>\n",
       "      <td>2</td>\n",
       "      <td>2019</td>\n",
       "      <td>7</td>\n",
       "      <td>31</td>\n",
       "    </tr>\n",
       "    <tr>\n",
       "      <th>14864360</th>\n",
       "      <td>2019-07-31</td>\n",
       "      <td>ffe4bd3f42225fb51da4fe110a0fb2519efef670ff07ee...</td>\n",
       "      <td>757811001</td>\n",
       "      <td>0.013542</td>\n",
       "      <td>1</td>\n",
       "      <td>2019</td>\n",
       "      <td>7</td>\n",
       "      <td>31</td>\n",
       "    </tr>\n",
       "    <tr>\n",
       "      <th>14864361</th>\n",
       "      <td>2019-07-31</td>\n",
       "      <td>ffe4bd3f42225fb51da4fe110a0fb2519efef670ff07ee...</td>\n",
       "      <td>806388002</td>\n",
       "      <td>0.006763</td>\n",
       "      <td>1</td>\n",
       "      <td>2019</td>\n",
       "      <td>7</td>\n",
       "      <td>31</td>\n",
       "    </tr>\n",
       "    <tr>\n",
       "      <th>14864362</th>\n",
       "      <td>2019-07-31</td>\n",
       "      <td>fff221aba935ab52c5aeda592994e298c8170b2656b0e5...</td>\n",
       "      <td>759231002</td>\n",
       "      <td>0.059305</td>\n",
       "      <td>2</td>\n",
       "      <td>2019</td>\n",
       "      <td>7</td>\n",
       "      <td>31</td>\n",
       "    </tr>\n",
       "    <tr>\n",
       "      <th>14864363</th>\n",
       "      <td>2019-07-31</td>\n",
       "      <td>fff221aba935ab52c5aeda592994e298c8170b2656b0e5...</td>\n",
       "      <td>706637001</td>\n",
       "      <td>0.024390</td>\n",
       "      <td>2</td>\n",
       "      <td>2019</td>\n",
       "      <td>7</td>\n",
       "      <td>31</td>\n",
       "    </tr>\n",
       "  </tbody>\n",
       "</table>\n",
       "<p>5274015 rows × 8 columns</p>\n",
       "</div>"
      ],
      "text/plain": [
       "              t_dat                                        customer_id  \\\n",
       "9590349  2019-05-01  00019d6c20e0fbb551af18c57149af4707ec016bb0decd...   \n",
       "9590350  2019-05-01  00019d6c20e0fbb551af18c57149af4707ec016bb0decd...   \n",
       "9590351  2019-05-01  00019d6c20e0fbb551af18c57149af4707ec016bb0decd...   \n",
       "9590352  2019-05-01  00019d6c20e0fbb551af18c57149af4707ec016bb0decd...   \n",
       "9590353  2019-05-01  00019d6c20e0fbb551af18c57149af4707ec016bb0decd...   \n",
       "...             ...                                                ...   \n",
       "14864359 2019-07-31  ffdb44f83b6d23c1c9f805f5084392db7d4ff850df1373...   \n",
       "14864360 2019-07-31  ffe4bd3f42225fb51da4fe110a0fb2519efef670ff07ee...   \n",
       "14864361 2019-07-31  ffe4bd3f42225fb51da4fe110a0fb2519efef670ff07ee...   \n",
       "14864362 2019-07-31  fff221aba935ab52c5aeda592994e298c8170b2656b0e5...   \n",
       "14864363 2019-07-31  fff221aba935ab52c5aeda592994e298c8170b2656b0e5...   \n",
       "\n",
       "          article_id     price  sales_channel_id  year  month  week  \n",
       "9590349    524061003  0.050831                 2  2019      5    18  \n",
       "9590350    735404001  0.050831                 2  2019      5    18  \n",
       "9590351    700370004  0.016932                 2  2019      5    18  \n",
       "9590352    618800001  0.033881                 2  2019      5    18  \n",
       "9590353    731407001  0.016932                 2  2019      5    18  \n",
       "...              ...       ...               ...   ...    ...   ...  \n",
       "14864359   751989001  0.025407                 2  2019      7    31  \n",
       "14864360   757811001  0.013542                 1  2019      7    31  \n",
       "14864361   806388002  0.006763                 1  2019      7    31  \n",
       "14864362   759231002  0.059305                 2  2019      7    31  \n",
       "14864363   706637001  0.024390                 2  2019      7    31  \n",
       "\n",
       "[5274015 rows x 8 columns]"
      ]
     },
     "execution_count": 11,
     "metadata": {},
     "output_type": "execute_result"
    }
   ],
   "source": [
    "#extract 2019 May, June, July data\n",
    "mask = (transaction_raw['year']==2019) & (transaction_raw['month'] >= 5) & (transaction_raw['month'] <= 7)\n",
    "transaction_subset = transaction_raw.loc[mask]\n",
    "transaction_subset"
   ]
  },
  {
   "cell_type": "code",
   "execution_count": null,
   "metadata": {},
   "outputs": [
    {
     "name": "stderr",
     "output_type": "stream",
     "text": [
      "100%|████████████████████████████████████| 68429/68429 [06:14<00:00, 182.67it/s]\n"
     ]
    },
    {
     "name": "stdout",
     "output_type": "stream",
     "text": [
      "Number of users: 12244\n"
     ]
    },
    {
     "name": "stderr",
     "output_type": "stream",
     "text": [
      "100%|█████████████████████████████████████| 68429/68429 [21:09<00:00, 53.89it/s]\n"
     ]
    },
    {
     "name": "stdout",
     "output_type": "stream",
     "text": [
      "Number of users: 12244\n"
     ]
    },
    {
     "name": "stderr",
     "output_type": "stream",
     "text": [
      "  4%|█▋                                    | 2963/68230 [00:23<12:36, 86.32it/s]"
     ]
    }
   ],
   "source": [
    "%%time\n",
    "\n",
    "AOP_results = []\n",
    "MAP_results = []\n",
    "num_users = []\n",
    "\n",
    "# week 18 - 31\n",
    "for wk in range(18,21):\n",
    "    \n",
    "    mask_train = transaction_subset.week == wk\n",
    "    X_train = transaction_subset.loc[mask_train].reset_index(drop=True)[['customer_id','article_id']]\n",
    "    mask_test = transaction_subset.week == wk + 1\n",
    "    X_test = transaction_subset.loc[mask_test].reset_index(drop=True)[['customer_id','article_id']]\n",
    "    \n",
    "    #print(wk, len(X_train), len(X_test))\n",
    "    \n",
    "    #find out top 12 selling items in training data\n",
    "    top12items = list(X_train.article_id.value_counts()[0:12].index)\n",
    "        \n",
    "    #save top 12 selling items for users in a dict\n",
    "    top12_items = {}\n",
    "    for user in X_train.customer_id:\n",
    "        top12_items[user] = top12items\n",
    "\n",
    "    #calculate AOP@12 for each train-test group\n",
    "    AOP12_top, num_user = cf.AOP(top12_items, X_test)\n",
    "    AOP_results.append(AOP12_top)\n",
    "\n",
    "    #calculate MAP@12 for each train-test group\n",
    "    MAP12_top, num_user = cf.MAP(top12_items, X_test)\n",
    "    MAP_results.append(MAP12_top)\n",
    "\n",
    "    #append number of users\n",
    "    num_users.append(num_user)"
   ]
  },
  {
   "cell_type": "code",
   "execution_count": 29,
   "metadata": {},
   "outputs": [],
   "source": [
    "mask = transaction_subset.week == 18\n",
    "X_train = transaction_subset.loc[mask].reset_index(drop=True)[['customer_id','article_id']]"
   ]
  },
  {
   "cell_type": "code",
   "execution_count": 26,
   "metadata": {},
   "outputs": [
    {
     "data": {
      "text/plain": [
       "733935002    991\n",
       "731407001    764\n",
       "733936002    764\n",
       "733267001    716\n",
       "735550001    572\n",
       "            ... \n",
       "548479001      1\n",
       "610744009      1\n",
       "666448009      1\n",
       "693501001      1\n",
       "637145001      1\n",
       "Name: article_id, Length: 21850, dtype: int64"
      ]
     },
     "execution_count": 26,
     "metadata": {},
     "output_type": "execute_result"
    }
   ],
   "source": [
    "X_train.article_id.value_counts()"
   ]
  },
  {
   "cell_type": "code",
   "execution_count": 30,
   "metadata": {},
   "outputs": [
    {
     "data": {
      "text/html": [
       "<div>\n",
       "<style scoped>\n",
       "    .dataframe tbody tr th:only-of-type {\n",
       "        vertical-align: middle;\n",
       "    }\n",
       "\n",
       "    .dataframe tbody tr th {\n",
       "        vertical-align: top;\n",
       "    }\n",
       "\n",
       "    .dataframe thead th {\n",
       "        text-align: right;\n",
       "    }\n",
       "</style>\n",
       "<table border=\"1\" class=\"dataframe\">\n",
       "  <thead>\n",
       "    <tr style=\"text-align: right;\">\n",
       "      <th></th>\n",
       "      <th>customer_id</th>\n",
       "      <th>article_id</th>\n",
       "    </tr>\n",
       "  </thead>\n",
       "  <tbody>\n",
       "    <tr>\n",
       "      <th>0</th>\n",
       "      <td>00019d6c20e0fbb551af18c57149af4707ec016bb0decd...</td>\n",
       "      <td>524061003</td>\n",
       "    </tr>\n",
       "    <tr>\n",
       "      <th>1</th>\n",
       "      <td>00019d6c20e0fbb551af18c57149af4707ec016bb0decd...</td>\n",
       "      <td>735404001</td>\n",
       "    </tr>\n",
       "    <tr>\n",
       "      <th>2</th>\n",
       "      <td>00019d6c20e0fbb551af18c57149af4707ec016bb0decd...</td>\n",
       "      <td>700370004</td>\n",
       "    </tr>\n",
       "    <tr>\n",
       "      <th>3</th>\n",
       "      <td>00019d6c20e0fbb551af18c57149af4707ec016bb0decd...</td>\n",
       "      <td>618800001</td>\n",
       "    </tr>\n",
       "    <tr>\n",
       "      <th>4</th>\n",
       "      <td>00019d6c20e0fbb551af18c57149af4707ec016bb0decd...</td>\n",
       "      <td>731407001</td>\n",
       "    </tr>\n",
       "    <tr>\n",
       "      <th>...</th>\n",
       "      <td>...</td>\n",
       "      <td>...</td>\n",
       "    </tr>\n",
       "    <tr>\n",
       "      <th>291774</th>\n",
       "      <td>ffed71450acc902268fc4b99dfdc28f1a22583f573863b...</td>\n",
       "      <td>525518008</td>\n",
       "    </tr>\n",
       "    <tr>\n",
       "      <th>291775</th>\n",
       "      <td>ffed71450acc902268fc4b99dfdc28f1a22583f573863b...</td>\n",
       "      <td>689018003</td>\n",
       "    </tr>\n",
       "    <tr>\n",
       "      <th>291776</th>\n",
       "      <td>ffed71450acc902268fc4b99dfdc28f1a22583f573863b...</td>\n",
       "      <td>734346001</td>\n",
       "    </tr>\n",
       "    <tr>\n",
       "      <th>291777</th>\n",
       "      <td>ffed71450acc902268fc4b99dfdc28f1a22583f573863b...</td>\n",
       "      <td>757741005</td>\n",
       "    </tr>\n",
       "    <tr>\n",
       "      <th>291778</th>\n",
       "      <td>ffee80ef25fd2cc6092ccdbbbb7c116381cc4e4151e283...</td>\n",
       "      <td>220094001</td>\n",
       "    </tr>\n",
       "  </tbody>\n",
       "</table>\n",
       "<p>291779 rows × 2 columns</p>\n",
       "</div>"
      ],
      "text/plain": [
       "                                              customer_id  article_id\n",
       "0       00019d6c20e0fbb551af18c57149af4707ec016bb0decd...   524061003\n",
       "1       00019d6c20e0fbb551af18c57149af4707ec016bb0decd...   735404001\n",
       "2       00019d6c20e0fbb551af18c57149af4707ec016bb0decd...   700370004\n",
       "3       00019d6c20e0fbb551af18c57149af4707ec016bb0decd...   618800001\n",
       "4       00019d6c20e0fbb551af18c57149af4707ec016bb0decd...   731407001\n",
       "...                                                   ...         ...\n",
       "291774  ffed71450acc902268fc4b99dfdc28f1a22583f573863b...   525518008\n",
       "291775  ffed71450acc902268fc4b99dfdc28f1a22583f573863b...   689018003\n",
       "291776  ffed71450acc902268fc4b99dfdc28f1a22583f573863b...   734346001\n",
       "291777  ffed71450acc902268fc4b99dfdc28f1a22583f573863b...   757741005\n",
       "291778  ffee80ef25fd2cc6092ccdbbbb7c116381cc4e4151e283...   220094001\n",
       "\n",
       "[291779 rows x 2 columns]"
      ]
     },
     "execution_count": 30,
     "metadata": {},
     "output_type": "execute_result"
    }
   ],
   "source": [
    "X_train.customer_id"
   ]
  },
  {
   "cell_type": "code",
   "execution_count": 18,
   "metadata": {},
   "outputs": [
    {
     "data": {
      "text/plain": [
       "747939002    549\n",
       "688537011    545\n",
       "708459003    520\n",
       "720137001    519\n",
       "739144002    512\n",
       "            ... \n",
       "706784001      1\n",
       "573716013      1\n",
       "657097001      1\n",
       "709746003      1\n",
       "640664003      1\n",
       "Name: article_id, Length: 20912, dtype: int64"
      ]
     },
     "execution_count": 18,
     "metadata": {},
     "output_type": "execute_result"
    }
   ],
   "source": [
    "mask = transaction_subset['week'] == 19\n",
    "X_train = transaction_subset.loc[mask].reset_index(drop=True)[['customer_id','article_id']]\n",
    "X_train.article_id.value_counts()"
   ]
  },
  {
   "cell_type": "code",
   "execution_count": 19,
   "metadata": {},
   "outputs": [
    {
     "data": {
      "text/plain": [
       "742912001    1097\n",
       "742916001    1024\n",
       "742933001     874\n",
       "708472003     786\n",
       "745475010     770\n",
       "             ... \n",
       "694297002       1\n",
       "637515001       1\n",
       "771796001       1\n",
       "616263003       1\n",
       "753959001       1\n",
       "Name: article_id, Length: 22145, dtype: int64"
      ]
     },
     "execution_count": 19,
     "metadata": {},
     "output_type": "execute_result"
    }
   ],
   "source": [
    "mask = transaction_subset['week'] == 20\n",
    "X_train = transaction_subset.loc[mask].reset_index(drop=True)[['customer_id','article_id']]\n",
    "X_train.article_id.value_counts()"
   ]
  },
  {
   "cell_type": "code",
   "execution_count": null,
   "metadata": {},
   "outputs": [],
   "source": [
    "top12items = list(X_train.article_id.value_counts()[0:12].index)"
   ]
  },
  {
   "cell_type": "code",
   "execution_count": null,
   "metadata": {},
   "outputs": [],
   "source": []
  },
  {
   "cell_type": "code",
   "execution_count": null,
   "metadata": {},
   "outputs": [],
   "source": []
  },
  {
   "cell_type": "code",
   "execution_count": null,
   "metadata": {},
   "outputs": [],
   "source": []
  },
  {
   "cell_type": "code",
   "execution_count": 3,
   "metadata": {},
   "outputs": [],
   "source": [
    "traintest_day = ['01','07','08','14','15','21','22','28']"
   ]
  },
  {
   "cell_type": "code",
   "execution_count": 4,
   "metadata": {},
   "outputs": [],
   "source": [
    "eval_month = ['2018-10','2018-11','2018-12','2019-01','2019-02','2019-03','2019-04','2019-05']"
   ]
  },
  {
   "cell_type": "code",
   "execution_count": 10,
   "metadata": {},
   "outputs": [],
   "source": [
    "eval_month = ['2019-06','2019-07','2019-08','2019-09','2019-10','2019-11','2019-12','2020-01']"
   ]
  },
  {
   "cell_type": "code",
   "execution_count": 16,
   "metadata": {},
   "outputs": [],
   "source": [
    "eval_month = ['2020-02','2020-03','2020-04','2020-05','2020-06','2020-07','2020-08']"
   ]
  },
  {
   "cell_type": "code",
   "execution_count": 17,
   "metadata": {},
   "outputs": [
    {
     "name": "stderr",
     "output_type": "stream",
     "text": [
      "100%|███████████████████████████████████████████████████████████████████████████| 70115/70115 [02:38<00:00, 442.32it/s]\n",
      "  0%|                                                                              | 71/70115 [00:00<01:39, 704.85it/s]"
     ]
    },
    {
     "name": "stdout",
     "output_type": "stream",
     "text": [
      "Number of users: 10999\n"
     ]
    },
    {
     "name": "stderr",
     "output_type": "stream",
     "text": [
      "100%|███████████████████████████████████████████████████████████████████████████| 70115/70115 [02:37<00:00, 444.09it/s]\n"
     ]
    },
    {
     "name": "stdout",
     "output_type": "stream",
     "text": [
      "Number of users: 10999\n"
     ]
    },
    {
     "name": "stderr",
     "output_type": "stream",
     "text": [
      "100%|███████████████████████████████████████████████████████████████████████████| 67731/67731 [02:42<00:00, 415.55it/s]\n",
      "  0%|                                                                              | 49/67731 [00:00<02:19, 486.45it/s]"
     ]
    },
    {
     "name": "stdout",
     "output_type": "stream",
     "text": [
      "Number of users: 10823\n"
     ]
    },
    {
     "name": "stderr",
     "output_type": "stream",
     "text": [
      "100%|███████████████████████████████████████████████████████████████████████████| 67731/67731 [02:43<00:00, 415.41it/s]\n"
     ]
    },
    {
     "name": "stdout",
     "output_type": "stream",
     "text": [
      "Number of users: 10823\n"
     ]
    },
    {
     "name": "stderr",
     "output_type": "stream",
     "text": [
      "100%|███████████████████████████████████████████████████████████████████████████| 75936/75936 [02:57<00:00, 427.20it/s]\n",
      "  0%|                                                                              | 59/75936 [00:00<02:14, 563.28it/s]"
     ]
    },
    {
     "name": "stdout",
     "output_type": "stream",
     "text": [
      "Number of users: 11929\n"
     ]
    },
    {
     "name": "stderr",
     "output_type": "stream",
     "text": [
      "100%|███████████████████████████████████████████████████████████████████████████| 75936/75936 [02:57<00:00, 428.45it/s]\n"
     ]
    },
    {
     "name": "stdout",
     "output_type": "stream",
     "text": [
      "Number of users: 11929\n"
     ]
    },
    {
     "name": "stderr",
     "output_type": "stream",
     "text": [
      "100%|███████████████████████████████████████████████████████████████████████████| 44624/44624 [01:27<00:00, 511.22it/s]\n",
      "  0%|                                                                              | 46/44624 [00:00<01:46, 419.20it/s]"
     ]
    },
    {
     "name": "stdout",
     "output_type": "stream",
     "text": [
      "Number of users: 6731\n"
     ]
    },
    {
     "name": "stderr",
     "output_type": "stream",
     "text": [
      "100%|███████████████████████████████████████████████████████████████████████████| 44624/44624 [01:27<00:00, 510.63it/s]\n"
     ]
    },
    {
     "name": "stdout",
     "output_type": "stream",
     "text": [
      "Number of users: 6731\n"
     ]
    },
    {
     "name": "stderr",
     "output_type": "stream",
     "text": [
      "100%|███████████████████████████████████████████████████████████████████████████| 71356/71356 [04:13<00:00, 281.63it/s]\n",
      "  0%|                                                                              | 38/71356 [00:00<03:27, 343.18it/s]"
     ]
    },
    {
     "name": "stdout",
     "output_type": "stream",
     "text": [
      "Number of users: 12008\n"
     ]
    },
    {
     "name": "stderr",
     "output_type": "stream",
     "text": [
      "100%|███████████████████████████████████████████████████████████████████████████| 71356/71356 [04:13<00:00, 281.82it/s]\n"
     ]
    },
    {
     "name": "stdout",
     "output_type": "stream",
     "text": [
      "Number of users: 12008\n"
     ]
    },
    {
     "name": "stderr",
     "output_type": "stream",
     "text": [
      "100%|███████████████████████████████████████████████████████████████████████████| 52624/52624 [02:12<00:00, 396.66it/s]\n",
      "  0%|                                                                              | 39/52624 [00:00<02:15, 388.89it/s]"
     ]
    },
    {
     "name": "stdout",
     "output_type": "stream",
     "text": [
      "Number of users: 7933\n"
     ]
    },
    {
     "name": "stderr",
     "output_type": "stream",
     "text": [
      "100%|███████████████████████████████████████████████████████████████████████████| 52624/52624 [02:12<00:00, 396.47it/s]\n"
     ]
    },
    {
     "name": "stdout",
     "output_type": "stream",
     "text": [
      "Number of users: 7933\n"
     ]
    },
    {
     "name": "stderr",
     "output_type": "stream",
     "text": [
      "100%|███████████████████████████████████████████████████████████████████████████| 51609/51609 [02:22<00:00, 361.01it/s]\n",
      "  0%|                                                                              | 42/51609 [00:00<02:03, 416.95it/s]"
     ]
    },
    {
     "name": "stdout",
     "output_type": "stream",
     "text": [
      "Number of users: 9427\n"
     ]
    },
    {
     "name": "stderr",
     "output_type": "stream",
     "text": [
      "100%|███████████████████████████████████████████████████████████████████████████| 51609/51609 [02:22<00:00, 360.91it/s]\n"
     ]
    },
    {
     "name": "stdout",
     "output_type": "stream",
     "text": [
      "Number of users: 9427\n"
     ]
    },
    {
     "name": "stderr",
     "output_type": "stream",
     "text": [
      "100%|███████████████████████████████████████████████████████████████████████████| 74480/74480 [05:49<00:00, 213.33it/s]\n",
      "  0%|                                                                              | 14/74480 [00:00<09:59, 124.23it/s]"
     ]
    },
    {
     "name": "stdout",
     "output_type": "stream",
     "text": [
      "Number of users: 16763\n"
     ]
    },
    {
     "name": "stderr",
     "output_type": "stream",
     "text": [
      "100%|███████████████████████████████████████████████████████████████████████████| 74480/74480 [05:49<00:00, 213.32it/s]\n"
     ]
    },
    {
     "name": "stdout",
     "output_type": "stream",
     "text": [
      "Number of users: 16763\n"
     ]
    },
    {
     "name": "stderr",
     "output_type": "stream",
     "text": [
      "100%|███████████████████████████████████████████████████████████████████████████| 78891/78891 [04:03<00:00, 324.53it/s]\n",
      "  0%|                                                                              | 30/78891 [00:00<04:40, 280.98it/s]"
     ]
    },
    {
     "name": "stdout",
     "output_type": "stream",
     "text": [
      "Number of users: 15119\n"
     ]
    },
    {
     "name": "stderr",
     "output_type": "stream",
     "text": [
      "100%|███████████████████████████████████████████████████████████████████████████| 78891/78891 [04:03<00:00, 323.73it/s]\n"
     ]
    },
    {
     "name": "stdout",
     "output_type": "stream",
     "text": [
      "Number of users: 15119\n"
     ]
    },
    {
     "name": "stderr",
     "output_type": "stream",
     "text": [
      "100%|█████████████████████████████████████████████████████████████████████████| 109321/109321 [12:59<00:00, 140.31it/s]\n",
      "  0%|                                                                             | 13/109321 [00:00<15:14, 119.59it/s]"
     ]
    },
    {
     "name": "stdout",
     "output_type": "stream",
     "text": [
      "Number of users: 28194\n"
     ]
    },
    {
     "name": "stderr",
     "output_type": "stream",
     "text": [
      "100%|█████████████████████████████████████████████████████████████████████████| 109321/109321 [13:02<00:00, 139.77it/s]\n"
     ]
    },
    {
     "name": "stdout",
     "output_type": "stream",
     "text": [
      "Number of users: 28194\n"
     ]
    },
    {
     "name": "stderr",
     "output_type": "stream",
     "text": [
      "100%|███████████████████████████████████████████████████████████████████████████| 85648/85648 [04:19<00:00, 330.65it/s]\n",
      "  0%|                                                                              | 37/85648 [00:00<03:57, 360.18it/s]"
     ]
    },
    {
     "name": "stdout",
     "output_type": "stream",
     "text": [
      "Number of users: 15893\n"
     ]
    },
    {
     "name": "stderr",
     "output_type": "stream",
     "text": [
      "100%|███████████████████████████████████████████████████████████████████████████| 85648/85648 [04:18<00:00, 330.79it/s]\n"
     ]
    },
    {
     "name": "stdout",
     "output_type": "stream",
     "text": [
      "Number of users: 15893\n"
     ]
    },
    {
     "name": "stderr",
     "output_type": "stream",
     "text": [
      "100%|███████████████████████████████████████████████████████████████████████████| 77277/77277 [04:19<00:00, 298.06it/s]\n",
      "  0%|                                                                              | 17/77277 [00:00<08:27, 152.16it/s]"
     ]
    },
    {
     "name": "stdout",
     "output_type": "stream",
     "text": [
      "Number of users: 15254\n"
     ]
    },
    {
     "name": "stderr",
     "output_type": "stream",
     "text": [
      "100%|███████████████████████████████████████████████████████████████████████████| 77277/77277 [04:18<00:00, 299.12it/s]\n"
     ]
    },
    {
     "name": "stdout",
     "output_type": "stream",
     "text": [
      "Number of users: 15254\n"
     ]
    },
    {
     "name": "stderr",
     "output_type": "stream",
     "text": [
      "100%|███████████████████████████████████████████████████████████████████████████| 84327/84327 [04:09<00:00, 338.39it/s]\n",
      "  0%|                                                                              | 35/84327 [00:00<04:01, 349.25it/s]"
     ]
    },
    {
     "name": "stdout",
     "output_type": "stream",
     "text": [
      "Number of users: 15385\n"
     ]
    },
    {
     "name": "stderr",
     "output_type": "stream",
     "text": [
      "100%|███████████████████████████████████████████████████████████████████████████| 84327/84327 [04:09<00:00, 338.04it/s]\n"
     ]
    },
    {
     "name": "stdout",
     "output_type": "stream",
     "text": [
      "Number of users: 15385\n"
     ]
    },
    {
     "name": "stderr",
     "output_type": "stream",
     "text": [
      "100%|███████████████████████████████████████████████████████████████████████████| 65673/65673 [03:22<00:00, 324.74it/s]\n",
      "  0%|                                                                              | 42/65673 [00:00<02:42, 404.82it/s]"
     ]
    },
    {
     "name": "stdout",
     "output_type": "stream",
     "text": [
      "Number of users: 12733\n"
     ]
    },
    {
     "name": "stderr",
     "output_type": "stream",
     "text": [
      "100%|███████████████████████████████████████████████████████████████████████████| 65673/65673 [03:22<00:00, 323.71it/s]"
     ]
    },
    {
     "name": "stdout",
     "output_type": "stream",
     "text": [
      "Number of users: 12733\n",
      "Wall time: 1h 56min 11s\n"
     ]
    },
    {
     "name": "stderr",
     "output_type": "stream",
     "text": [
      "\n"
     ]
    }
   ],
   "source": [
    "%%time\n",
    "\n",
    "AOP_results = []\n",
    "MAP_results = []\n",
    "num_users = []\n",
    "\n",
    "for i in range(len(eval_month)): #i: 0-21\n",
    "    for j in [0,4]: #j:0, 4\n",
    "        \n",
    "        mask_train = (transaction_raw.t_dat >= eval_month[i]+'-'+traintest_day[j]) & \\\n",
    "                     (transaction_raw.t_dat <= eval_month[i]+'-'+traintest_day[j+1])\n",
    "        X_train = transaction_raw.loc[mask_train].reset_index(drop=True)[['customer_id','article_id']]\n",
    "        mask_test = (transaction_raw.t_dat >= eval_month[i]+'-'+traintest_day[j+2]) & \\\n",
    "                    (transaction_raw.t_dat <= eval_month[i]+'-'+traintest_day[j+3])\n",
    "        X_test = transaction_raw.loc[mask_test].reset_index(drop=True)[['customer_id','article_id']]\n",
    "        \n",
    "        #find out top 12 selling items in training data\n",
    "        top12items = list(X_train.head(50000).article_id.value_counts()[0:12].index)\n",
    "        \n",
    "        #save top 12 selling items for users in a dict\n",
    "        top12_items = {}\n",
    "        for user in X_train.customer_id:\n",
    "            top12_items[user] = top12items\n",
    "        \n",
    "        #calculate AOP@12 for each train-test group\n",
    "        AOP12_top, num_user = cf.AOP(top12_items, X_test)\n",
    "        AOP_results.append(AOP12_top)\n",
    "        \n",
    "        #calculate MAP@12 for each train-test group\n",
    "        MAP12_top, num_user = cf.MAP(top12_items, X_test)\n",
    "        MAP_results.append(MAP12_top)\n",
    "        \n",
    "        #append number of users\n",
    "        num_users.append(num_user)"
   ]
  },
  {
   "cell_type": "code",
   "execution_count": 18,
   "metadata": {},
   "outputs": [],
   "source": [
    "#create a timeline list for AOP and MAP\n",
    "timeline = []\n",
    "for month in eval_month:\n",
    "    month_mid = month + '-15'\n",
    "    month_late = month + '-22'\n",
    "    timeline.append(month_mid)\n",
    "    timeline.append(month_late)"
   ]
  },
  {
   "cell_type": "code",
   "execution_count": 19,
   "metadata": {},
   "outputs": [
    {
     "data": {
      "text/plain": [
       "['2020-02-15',\n",
       " '2020-02-22',\n",
       " '2020-03-15',\n",
       " '2020-03-22',\n",
       " '2020-04-15',\n",
       " '2020-04-22',\n",
       " '2020-05-15',\n",
       " '2020-05-22',\n",
       " '2020-06-15',\n",
       " '2020-06-22',\n",
       " '2020-07-15',\n",
       " '2020-07-22',\n",
       " '2020-08-15',\n",
       " '2020-08-22']"
      ]
     },
     "execution_count": 19,
     "metadata": {},
     "output_type": "execute_result"
    }
   ],
   "source": [
    "timeline"
   ]
  },
  {
   "cell_type": "code",
   "execution_count": 20,
   "metadata": {},
   "outputs": [
    {
     "data": {
      "text/html": [
       "<div>\n",
       "<style scoped>\n",
       "    .dataframe tbody tr th:only-of-type {\n",
       "        vertical-align: middle;\n",
       "    }\n",
       "\n",
       "    .dataframe tbody tr th {\n",
       "        vertical-align: top;\n",
       "    }\n",
       "\n",
       "    .dataframe thead th {\n",
       "        text-align: right;\n",
       "    }\n",
       "</style>\n",
       "<table border=\"1\" class=\"dataframe\">\n",
       "  <thead>\n",
       "    <tr style=\"text-align: right;\">\n",
       "      <th></th>\n",
       "      <th>timeline</th>\n",
       "      <th>AOP</th>\n",
       "      <th>MAP</th>\n",
       "      <th>num_users</th>\n",
       "    </tr>\n",
       "  </thead>\n",
       "  <tbody>\n",
       "    <tr>\n",
       "      <th>0</th>\n",
       "      <td>2020-02-15</td>\n",
       "      <td>0.002955</td>\n",
       "      <td>0.002645</td>\n",
       "      <td>10999</td>\n",
       "    </tr>\n",
       "    <tr>\n",
       "      <th>1</th>\n",
       "      <td>2020-02-22</td>\n",
       "      <td>0.003303</td>\n",
       "      <td>0.003015</td>\n",
       "      <td>10823</td>\n",
       "    </tr>\n",
       "    <tr>\n",
       "      <th>2</th>\n",
       "      <td>2020-03-15</td>\n",
       "      <td>0.003570</td>\n",
       "      <td>0.003627</td>\n",
       "      <td>11929</td>\n",
       "    </tr>\n",
       "    <tr>\n",
       "      <th>3</th>\n",
       "      <td>2020-03-22</td>\n",
       "      <td>0.003442</td>\n",
       "      <td>0.004445</td>\n",
       "      <td>6731</td>\n",
       "    </tr>\n",
       "    <tr>\n",
       "      <th>4</th>\n",
       "      <td>2020-04-15</td>\n",
       "      <td>0.003643</td>\n",
       "      <td>0.004885</td>\n",
       "      <td>12008</td>\n",
       "    </tr>\n",
       "  </tbody>\n",
       "</table>\n",
       "</div>"
      ],
      "text/plain": [
       "     timeline       AOP       MAP  num_users\n",
       "0  2020-02-15  0.002955  0.002645      10999\n",
       "1  2020-02-22  0.003303  0.003015      10823\n",
       "2  2020-03-15  0.003570  0.003627      11929\n",
       "3  2020-03-22  0.003442  0.004445       6731\n",
       "4  2020-04-15  0.003643  0.004885      12008"
      ]
     },
     "execution_count": 20,
     "metadata": {},
     "output_type": "execute_result"
    }
   ],
   "source": [
    "#save results in a dataframe\n",
    "result_df = pd.DataFrame({'timeline':timeline,\n",
    "                          'AOP':AOP_results,\n",
    "                          'MAP':MAP_results,\n",
    "                          'num_users':num_users})\n",
    "\n",
    "#save the dataframe in csv\n",
    "#change file name for different period groups\n",
    "result_df.to_csv(\"../data/top_sell_results3.csv\")\n",
    "\n",
    "result_df.head()"
   ]
  },
  {
   "cell_type": "code",
   "execution_count": 21,
   "metadata": {},
   "outputs": [
    {
     "data": {
      "text/html": [
       "<div>\n",
       "<style scoped>\n",
       "    .dataframe tbody tr th:only-of-type {\n",
       "        vertical-align: middle;\n",
       "    }\n",
       "\n",
       "    .dataframe tbody tr th {\n",
       "        vertical-align: top;\n",
       "    }\n",
       "\n",
       "    .dataframe thead th {\n",
       "        text-align: right;\n",
       "    }\n",
       "</style>\n",
       "<table border=\"1\" class=\"dataframe\">\n",
       "  <thead>\n",
       "    <tr style=\"text-align: right;\">\n",
       "      <th></th>\n",
       "      <th>timeline</th>\n",
       "      <th>AOP</th>\n",
       "      <th>MAP</th>\n",
       "      <th>num_users</th>\n",
       "    </tr>\n",
       "  </thead>\n",
       "  <tbody>\n",
       "    <tr>\n",
       "      <th>0</th>\n",
       "      <td>2020-02-15</td>\n",
       "      <td>0.002955</td>\n",
       "      <td>0.002645</td>\n",
       "      <td>10999</td>\n",
       "    </tr>\n",
       "    <tr>\n",
       "      <th>1</th>\n",
       "      <td>2020-02-22</td>\n",
       "      <td>0.003303</td>\n",
       "      <td>0.003015</td>\n",
       "      <td>10823</td>\n",
       "    </tr>\n",
       "    <tr>\n",
       "      <th>2</th>\n",
       "      <td>2020-03-15</td>\n",
       "      <td>0.003570</td>\n",
       "      <td>0.003627</td>\n",
       "      <td>11929</td>\n",
       "    </tr>\n",
       "    <tr>\n",
       "      <th>3</th>\n",
       "      <td>2020-03-22</td>\n",
       "      <td>0.003442</td>\n",
       "      <td>0.004445</td>\n",
       "      <td>6731</td>\n",
       "    </tr>\n",
       "    <tr>\n",
       "      <th>4</th>\n",
       "      <td>2020-04-15</td>\n",
       "      <td>0.003643</td>\n",
       "      <td>0.004885</td>\n",
       "      <td>12008</td>\n",
       "    </tr>\n",
       "    <tr>\n",
       "      <th>5</th>\n",
       "      <td>2020-04-22</td>\n",
       "      <td>0.003624</td>\n",
       "      <td>0.003886</td>\n",
       "      <td>7933</td>\n",
       "    </tr>\n",
       "    <tr>\n",
       "      <th>6</th>\n",
       "      <td>2020-05-15</td>\n",
       "      <td>0.002864</td>\n",
       "      <td>0.002196</td>\n",
       "      <td>9427</td>\n",
       "    </tr>\n",
       "    <tr>\n",
       "      <th>7</th>\n",
       "      <td>2020-05-22</td>\n",
       "      <td>0.002709</td>\n",
       "      <td>0.003028</td>\n",
       "      <td>16763</td>\n",
       "    </tr>\n",
       "    <tr>\n",
       "      <th>8</th>\n",
       "      <td>2020-06-15</td>\n",
       "      <td>0.002039</td>\n",
       "      <td>0.002147</td>\n",
       "      <td>15119</td>\n",
       "    </tr>\n",
       "    <tr>\n",
       "      <th>9</th>\n",
       "      <td>2020-06-22</td>\n",
       "      <td>0.002314</td>\n",
       "      <td>0.001949</td>\n",
       "      <td>28194</td>\n",
       "    </tr>\n",
       "    <tr>\n",
       "      <th>10</th>\n",
       "      <td>2020-07-15</td>\n",
       "      <td>0.001683</td>\n",
       "      <td>0.001483</td>\n",
       "      <td>15893</td>\n",
       "    </tr>\n",
       "    <tr>\n",
       "      <th>11</th>\n",
       "      <td>2020-07-22</td>\n",
       "      <td>0.002125</td>\n",
       "      <td>0.002039</td>\n",
       "      <td>15254</td>\n",
       "    </tr>\n",
       "    <tr>\n",
       "      <th>12</th>\n",
       "      <td>2020-08-15</td>\n",
       "      <td>0.001739</td>\n",
       "      <td>0.002007</td>\n",
       "      <td>15385</td>\n",
       "    </tr>\n",
       "    <tr>\n",
       "      <th>13</th>\n",
       "      <td>2020-08-22</td>\n",
       "      <td>0.003717</td>\n",
       "      <td>0.004924</td>\n",
       "      <td>12733</td>\n",
       "    </tr>\n",
       "  </tbody>\n",
       "</table>\n",
       "</div>"
      ],
      "text/plain": [
       "      timeline       AOP       MAP  num_users\n",
       "0   2020-02-15  0.002955  0.002645      10999\n",
       "1   2020-02-22  0.003303  0.003015      10823\n",
       "2   2020-03-15  0.003570  0.003627      11929\n",
       "3   2020-03-22  0.003442  0.004445       6731\n",
       "4   2020-04-15  0.003643  0.004885      12008\n",
       "5   2020-04-22  0.003624  0.003886       7933\n",
       "6   2020-05-15  0.002864  0.002196       9427\n",
       "7   2020-05-22  0.002709  0.003028      16763\n",
       "8   2020-06-15  0.002039  0.002147      15119\n",
       "9   2020-06-22  0.002314  0.001949      28194\n",
       "10  2020-07-15  0.001683  0.001483      15893\n",
       "11  2020-07-22  0.002125  0.002039      15254\n",
       "12  2020-08-15  0.001739  0.002007      15385\n",
       "13  2020-08-22  0.003717  0.004924      12733"
      ]
     },
     "execution_count": 21,
     "metadata": {},
     "output_type": "execute_result"
    }
   ],
   "source": [
    "result_df"
   ]
  },
  {
   "cell_type": "code",
   "execution_count": 2,
   "metadata": {},
   "outputs": [],
   "source": [
    "#import results\n",
    "df = pd.read_csv(\"../data/top_sell_MAP12.csv\")"
   ]
  },
  {
   "cell_type": "code",
   "execution_count": 5,
   "metadata": {},
   "outputs": [
    {
     "data": {
      "text/plain": [
       "[<matplotlib.lines.Line2D at 0x19494277e20>]"
      ]
     },
     "execution_count": 5,
     "metadata": {},
     "output_type": "execute_result"
    },
    {
     "data": {
      "image/png": "[encoded data removed]",
      "text/plain": [
       "<Figure size 432x288 with 1 Axes>"
      ]
     },
     "metadata": {
      "needs_background": "light"
     },
     "output_type": "display_data"
    }
   ],
   "source": [
    "plt.plot(df.timeline, df.MAP)"
   ]
  },
  {
   "cell_type": "code",
   "execution_count": 3,
   "metadata": {},
   "outputs": [
    {
     "data": {
      "text/html": [
       "<div>\n",
       "<style scoped>\n",
       "    .dataframe tbody tr th:only-of-type {\n",
       "        vertical-align: middle;\n",
       "    }\n",
       "\n",
       "    .dataframe tbody tr th {\n",
       "        vertical-align: top;\n",
       "    }\n",
       "\n",
       "    .dataframe thead th {\n",
       "        text-align: right;\n",
       "    }\n",
       "</style>\n",
       "<table border=\"1\" class=\"dataframe\">\n",
       "  <thead>\n",
       "    <tr style=\"text-align: right;\">\n",
       "      <th></th>\n",
       "      <th>t_dat</th>\n",
       "      <th>customer_id</th>\n",
       "      <th>article_id</th>\n",
       "      <th>price</th>\n",
       "      <th>sales_channel_id</th>\n",
       "    </tr>\n",
       "  </thead>\n",
       "  <tbody>\n",
       "    <tr>\n",
       "      <th>0</th>\n",
       "      <td>2019-05-01</td>\n",
       "      <td>00019d6c20e0fbb551af18c57149af4707ec016bb0decd...</td>\n",
       "      <td>524061003</td>\n",
       "      <td>0.050831</td>\n",
       "      <td>2</td>\n",
       "    </tr>\n",
       "    <tr>\n",
       "      <th>1</th>\n",
       "      <td>2019-05-01</td>\n",
       "      <td>00019d6c20e0fbb551af18c57149af4707ec016bb0decd...</td>\n",
       "      <td>735404001</td>\n",
       "      <td>0.050831</td>\n",
       "      <td>2</td>\n",
       "    </tr>\n",
       "    <tr>\n",
       "      <th>2</th>\n",
       "      <td>2019-05-01</td>\n",
       "      <td>00019d6c20e0fbb551af18c57149af4707ec016bb0decd...</td>\n",
       "      <td>700370004</td>\n",
       "      <td>0.016932</td>\n",
       "      <td>2</td>\n",
       "    </tr>\n",
       "    <tr>\n",
       "      <th>3</th>\n",
       "      <td>2019-05-01</td>\n",
       "      <td>00019d6c20e0fbb551af18c57149af4707ec016bb0decd...</td>\n",
       "      <td>618800001</td>\n",
       "      <td>0.033881</td>\n",
       "      <td>2</td>\n",
       "    </tr>\n",
       "    <tr>\n",
       "      <th>4</th>\n",
       "      <td>2019-05-01</td>\n",
       "      <td>00019d6c20e0fbb551af18c57149af4707ec016bb0decd...</td>\n",
       "      <td>731407001</td>\n",
       "      <td>0.016932</td>\n",
       "      <td>2</td>\n",
       "    </tr>\n",
       "    <tr>\n",
       "      <th>...</th>\n",
       "      <td>...</td>\n",
       "      <td>...</td>\n",
       "      <td>...</td>\n",
       "      <td>...</td>\n",
       "      <td>...</td>\n",
       "    </tr>\n",
       "    <tr>\n",
       "      <th>1622933</th>\n",
       "      <td>2019-06-01</td>\n",
       "      <td>fffdaab7d9d79ceee4ffd2ab98bb68411438ea90e46a67...</td>\n",
       "      <td>738881002</td>\n",
       "      <td>0.016932</td>\n",
       "      <td>2</td>\n",
       "    </tr>\n",
       "    <tr>\n",
       "      <th>1622934</th>\n",
       "      <td>2019-06-01</td>\n",
       "      <td>fffdaab7d9d79ceee4ffd2ab98bb68411438ea90e46a67...</td>\n",
       "      <td>220094010</td>\n",
       "      <td>0.025407</td>\n",
       "      <td>2</td>\n",
       "    </tr>\n",
       "    <tr>\n",
       "      <th>1622935</th>\n",
       "      <td>2019-06-01</td>\n",
       "      <td>ffff4c4e8b57b633c1ddf8fbd53db16b962cf831baf9ed...</td>\n",
       "      <td>487800001</td>\n",
       "      <td>0.011847</td>\n",
       "      <td>2</td>\n",
       "    </tr>\n",
       "    <tr>\n",
       "      <th>1622936</th>\n",
       "      <td>2019-06-01</td>\n",
       "      <td>ffff4c4e8b57b633c1ddf8fbd53db16b962cf831baf9ed...</td>\n",
       "      <td>754013001</td>\n",
       "      <td>0.022017</td>\n",
       "      <td>2</td>\n",
       "    </tr>\n",
       "    <tr>\n",
       "      <th>1622937</th>\n",
       "      <td>2019-06-01</td>\n",
       "      <td>ffff4c4e8b57b633c1ddf8fbd53db16b962cf831baf9ed...</td>\n",
       "      <td>745502001</td>\n",
       "      <td>0.025407</td>\n",
       "      <td>2</td>\n",
       "    </tr>\n",
       "  </tbody>\n",
       "</table>\n",
       "<p>1622938 rows × 5 columns</p>\n",
       "</div>"
      ],
      "text/plain": [
       "              t_dat                                        customer_id  \\\n",
       "0        2019-05-01  00019d6c20e0fbb551af18c57149af4707ec016bb0decd...   \n",
       "1        2019-05-01  00019d6c20e0fbb551af18c57149af4707ec016bb0decd...   \n",
       "2        2019-05-01  00019d6c20e0fbb551af18c57149af4707ec016bb0decd...   \n",
       "3        2019-05-01  00019d6c20e0fbb551af18c57149af4707ec016bb0decd...   \n",
       "4        2019-05-01  00019d6c20e0fbb551af18c57149af4707ec016bb0decd...   \n",
       "...             ...                                                ...   \n",
       "1622933  2019-06-01  fffdaab7d9d79ceee4ffd2ab98bb68411438ea90e46a67...   \n",
       "1622934  2019-06-01  fffdaab7d9d79ceee4ffd2ab98bb68411438ea90e46a67...   \n",
       "1622935  2019-06-01  ffff4c4e8b57b633c1ddf8fbd53db16b962cf831baf9ed...   \n",
       "1622936  2019-06-01  ffff4c4e8b57b633c1ddf8fbd53db16b962cf831baf9ed...   \n",
       "1622937  2019-06-01  ffff4c4e8b57b633c1ddf8fbd53db16b962cf831baf9ed...   \n",
       "\n",
       "         article_id     price  sales_channel_id  \n",
       "0         524061003  0.050831                 2  \n",
       "1         735404001  0.050831                 2  \n",
       "2         700370004  0.016932                 2  \n",
       "3         618800001  0.033881                 2  \n",
       "4         731407001  0.016932                 2  \n",
       "...             ...       ...               ...  \n",
       "1622933   738881002  0.016932                 2  \n",
       "1622934   220094010  0.025407                 2  \n",
       "1622935   487800001  0.011847                 2  \n",
       "1622936   754013001  0.022017                 2  \n",
       "1622937   745502001  0.025407                 2  \n",
       "\n",
       "[1622938 rows x 5 columns]"
      ]
     },
     "execution_count": 3,
     "metadata": {},
     "output_type": "execute_result"
    }
   ],
   "source": [
    "#extract data between 2019-5-1 and 2019-6-1\n",
    "mask = (transaction_raw.t_dat >= '2019-05-01') & (transaction_raw.t_dat <= '2019-06-01')\n",
    "transaction_2019_May = transaction_raw.loc[mask].reset_index(drop=True)\n",
    "transaction_2019_May"
   ]
  },
  {
   "cell_type": "code",
   "execution_count": 8,
   "metadata": {},
   "outputs": [
    {
     "data": {
      "text/plain": [
       "44"
      ]
     },
     "execution_count": 8,
     "metadata": {},
     "output_type": "execute_result"
    }
   ],
   "source": [
    "len(MAP_results)"
   ]
  },
  {
   "cell_type": "code",
   "execution_count": 30,
   "metadata": {},
   "outputs": [
    {
     "name": "stderr",
     "output_type": "stream",
     "text": [
      "100%|███████████████████████████████████████████████████████████████████████████| 24031/24031 [01:18<00:00, 307.11it/s]"
     ]
    },
    {
     "name": "stdout",
     "output_type": "stream",
     "text": [
      "Number of users: 4332\n",
      "User-based collaborative filter MAP@12: 0.0037136724997412925\n"
     ]
    },
    {
     "name": "stderr",
     "output_type": "stream",
     "text": [
      "\n"
     ]
    }
   ],
   "source": [
    "MAP12_cf = cf.MAP(recommend_items, X_test)\n",
    "print(\"User-based collaborative filter MAP@12:\", MAP12_cf)"
   ]
  },
  {
   "cell_type": "code",
   "execution_count": 31,
   "metadata": {},
   "outputs": [],
   "source": [
    "##Identify top 12 selling items for training data\n",
    "top12items = list(X_train.head(100000).article_id.value_counts()[0:12].index)\n",
    "\n",
    "#save top 12 selling items for users in a dict\n",
    "top12_items = {}\n",
    "for user in recommend_items:\n",
    "    top12_items[user] = top12items"
   ]
  },
  {
   "cell_type": "code",
   "execution_count": 33,
   "metadata": {},
   "outputs": [
    {
     "name": "stderr",
     "output_type": "stream",
     "text": [
      "100%|███████████████████████████████████████████████████████████████████████████| 24031/24031 [01:21<00:00, 295.16it/s]"
     ]
    },
    {
     "name": "stdout",
     "output_type": "stream",
     "text": [
      "Number of users: 4332\n",
      "Top 12 selling products MAP@12: 0.0020729474647988057\n"
     ]
    },
    {
     "name": "stderr",
     "output_type": "stream",
     "text": [
      "\n"
     ]
    }
   ],
   "source": [
    "MAP12_top = cf.MAP(top12_items, X_test)\n",
    "print(\"Top 12 selling products MAP@12:\", MAP12_top)"
   ]
  },
  {
   "cell_type": "code",
   "execution_count": 38,
   "metadata": {},
   "outputs": [
    {
     "name": "stdout",
     "output_type": "stream",
     "text": [
      "MAP@12 increases by 79 %\n"
     ]
    }
   ],
   "source": [
    "# % increase in MAP@12\n",
    "print(\"MAP@12 increases by\", round(100*(MAP12_cf-MAP12_top)/MAP12_top), \"%\")"
   ]
  },
  {
   "cell_type": "markdown",
   "metadata": {},
   "source": []
  }
 ],
 "metadata": {
  "kernelspec": {
   "display_name": "Python 3 (ipykernel)",
   "language": "python",
   "name": "python3"
  },
  "language_info": {
   "codemirror_mode": {
    "name": "ipython",
    "version": 3
   },
   "file_extension": ".py",
   "mimetype": "text/x-python",
   "name": "python",
   "nbconvert_exporter": "python",
   "pygments_lexer": "ipython3",
   "version": "3.9.10"
  }
 },
 "nbformat": 4,
 "nbformat_minor": 2
}
