{
 "cells": [
  {
   "cell_type": "markdown",
   "id": "d659b6ba",
   "metadata": {},
   "source": [
    "### EDA on Kaggle\n",
    "\n",
    "- https://www.kaggle.com/vanguarde/h-m-eda-first-look\n",
    "- https://www.kaggle.com/gpreda/h-m-eda-and-prediction\n",
    "- https://www.kaggle.com/remekkinas/h-m-eda-first-look-into-data\n",
    "- https://www.kaggle.com/vickeytomer/h-m-eda-exploration\n",
    "- https://www.kaggle.com/negoto/best-selling-items-catalog-like-eda-of-articles"
   ]
  },
  {
   "cell_type": "code",
   "execution_count": 1,
   "id": "a3411793",
   "metadata": {},
   "outputs": [],
   "source": [
    "import pandas as pd"
   ]
  },
  {
   "cell_type": "code",
   "execution_count": 2,
   "id": "883ef983",
   "metadata": {},
   "outputs": [
    {
     "name": "stdout",
     "output_type": "stream",
     "text": [
      "CPU times: user 29.4 s, sys: 9.31 s, total: 38.7 s\n",
      "Wall time: 43 s\n"
     ]
    }
   ],
   "source": [
    "%%time\n",
    "#read transaction.csv\n",
    "transaction_raw = pd.read_csv(\"../data/transactions_train.csv\") "
   ]
  },
  {
   "cell_type": "code",
   "execution_count": 28,
   "id": "593b81c9",
   "metadata": {},
   "outputs": [
    {
     "name": "stdout",
     "output_type": "stream",
     "text": [
      "<class 'pandas.core.frame.DataFrame'>\n",
      "RangeIndex: 31788324 entries, 0 to 31788323\n",
      "Data columns (total 8 columns):\n",
      " #   Column            Dtype         \n",
      "---  ------            -----         \n",
      " 0   t_dat             datetime64[ns]\n",
      " 1   customer_id       object        \n",
      " 2   article_id        int64         \n",
      " 3   price             float64       \n",
      " 4   sales_channel_id  int64         \n",
      " 5   week              int64         \n",
      " 6   year              UInt32        \n",
      " 7   month             int64         \n",
      "dtypes: UInt32(1), datetime64[ns](1), float64(1), int64(4), object(1)\n",
      "memory usage: 1.8+ GB\n"
     ]
    }
   ],
   "source": [
    "transaction_raw.info()"
   ]
  },
  {
   "cell_type": "code",
   "execution_count": 29,
   "id": "1a84c8d0",
   "metadata": {},
   "outputs": [
    {
     "data": {
      "text/html": [
       "<div>\n",
       "<style scoped>\n",
       "    .dataframe tbody tr th:only-of-type {\n",
       "        vertical-align: middle;\n",
       "    }\n",
       "\n",
       "    .dataframe tbody tr th {\n",
       "        vertical-align: top;\n",
       "    }\n",
       "\n",
       "    .dataframe thead th {\n",
       "        text-align: right;\n",
       "    }\n",
       "</style>\n",
       "<table border=\"1\" class=\"dataframe\">\n",
       "  <thead>\n",
       "    <tr style=\"text-align: right;\">\n",
       "      <th></th>\n",
       "      <th>t_dat</th>\n",
       "      <th>customer_id</th>\n",
       "      <th>article_id</th>\n",
       "      <th>price</th>\n",
       "      <th>sales_channel_id</th>\n",
       "      <th>week</th>\n",
       "      <th>year</th>\n",
       "      <th>month</th>\n",
       "    </tr>\n",
       "  </thead>\n",
       "  <tbody>\n",
       "    <tr>\n",
       "      <th>0</th>\n",
       "      <td>2018-09-20</td>\n",
       "      <td>000058a12d5b43e67d225668fa1f8d618c13dc232df0ca...</td>\n",
       "      <td>663713001</td>\n",
       "      <td>0.050831</td>\n",
       "      <td>2</td>\n",
       "      <td>38</td>\n",
       "      <td>2018</td>\n",
       "      <td>9</td>\n",
       "    </tr>\n",
       "    <tr>\n",
       "      <th>1</th>\n",
       "      <td>2018-09-20</td>\n",
       "      <td>000058a12d5b43e67d225668fa1f8d618c13dc232df0ca...</td>\n",
       "      <td>541518023</td>\n",
       "      <td>0.030492</td>\n",
       "      <td>2</td>\n",
       "      <td>38</td>\n",
       "      <td>2018</td>\n",
       "      <td>9</td>\n",
       "    </tr>\n",
       "    <tr>\n",
       "      <th>2</th>\n",
       "      <td>2018-09-20</td>\n",
       "      <td>00007d2de826758b65a93dd24ce629ed66842531df6699...</td>\n",
       "      <td>505221004</td>\n",
       "      <td>0.015237</td>\n",
       "      <td>2</td>\n",
       "      <td>38</td>\n",
       "      <td>2018</td>\n",
       "      <td>9</td>\n",
       "    </tr>\n",
       "    <tr>\n",
       "      <th>3</th>\n",
       "      <td>2018-09-20</td>\n",
       "      <td>00007d2de826758b65a93dd24ce629ed66842531df6699...</td>\n",
       "      <td>685687003</td>\n",
       "      <td>0.016932</td>\n",
       "      <td>2</td>\n",
       "      <td>38</td>\n",
       "      <td>2018</td>\n",
       "      <td>9</td>\n",
       "    </tr>\n",
       "    <tr>\n",
       "      <th>4</th>\n",
       "      <td>2018-09-20</td>\n",
       "      <td>00007d2de826758b65a93dd24ce629ed66842531df6699...</td>\n",
       "      <td>685687004</td>\n",
       "      <td>0.016932</td>\n",
       "      <td>2</td>\n",
       "      <td>38</td>\n",
       "      <td>2018</td>\n",
       "      <td>9</td>\n",
       "    </tr>\n",
       "  </tbody>\n",
       "</table>\n",
       "</div>"
      ],
      "text/plain": [
       "       t_dat                                        customer_id  article_id  \\\n",
       "0 2018-09-20  000058a12d5b43e67d225668fa1f8d618c13dc232df0ca...   663713001   \n",
       "1 2018-09-20  000058a12d5b43e67d225668fa1f8d618c13dc232df0ca...   541518023   \n",
       "2 2018-09-20  00007d2de826758b65a93dd24ce629ed66842531df6699...   505221004   \n",
       "3 2018-09-20  00007d2de826758b65a93dd24ce629ed66842531df6699...   685687003   \n",
       "4 2018-09-20  00007d2de826758b65a93dd24ce629ed66842531df6699...   685687004   \n",
       "\n",
       "      price  sales_channel_id  week  year  month  \n",
       "0  0.050831                 2    38  2018      9  \n",
       "1  0.030492                 2    38  2018      9  \n",
       "2  0.015237                 2    38  2018      9  \n",
       "3  0.016932                 2    38  2018      9  \n",
       "4  0.016932                 2    38  2018      9  "
      ]
     },
     "execution_count": 29,
     "metadata": {},
     "output_type": "execute_result"
    }
   ],
   "source": [
    "transaction_raw.head()"
   ]
  },
  {
   "cell_type": "code",
   "execution_count": 5,
   "id": "3b7a2013",
   "metadata": {},
   "outputs": [
    {
     "name": "stdout",
     "output_type": "stream",
     "text": [
      "Start date: 2018-09-20\n",
      "Last date: 2020-09-22\n"
     ]
    }
   ],
   "source": [
    "#check start date and last date\n",
    "print(\"Start date:\", transaction_raw.t_dat.min())\n",
    "print(\"Last date:\", transaction_raw.t_dat.max())"
   ]
  },
  {
   "cell_type": "code",
   "execution_count": 11,
   "id": "aee8f2ff",
   "metadata": {},
   "outputs": [
    {
     "name": "stderr",
     "output_type": "stream",
     "text": [
      "/var/folders/w2/dlrbl14x0798cgptjdb2hzwr0000gn/T/ipykernel_35604/3470333112.py:3: FutureWarning: Series.dt.weekofyear and Series.dt.week have been deprecated. Please use Series.dt.isocalendar().week instead.\n",
      "  transaction_raw['week'] = transaction_raw['t_dat'].dt.week\n"
     ]
    }
   ],
   "source": [
    "#add week number column to dataframe\n",
    "transaction_raw['t_dat'] = pd.to_datetime(transaction_raw['t_dat'])"
   ]
  },
  {
   "cell_type": "code",
   "execution_count": 15,
   "id": "86c5a441",
   "metadata": {},
   "outputs": [],
   "source": [
    "transaction_raw['year'] = transaction_raw['t_dat'].dt.isocalendar().year"
   ]
  },
  {
   "cell_type": "code",
   "execution_count": 27,
   "id": "1d50090d",
   "metadata": {},
   "outputs": [],
   "source": [
    "transaction_raw['month'] = transaction_raw['t_dat'].dt.month"
   ]
  },
  {
   "cell_type": "code",
   "execution_count": 30,
   "id": "c67f6b7b",
   "metadata": {},
   "outputs": [
    {
     "data": {
      "text/plain": [
       "10    1397040\n",
       "11    1270619\n",
       "12    1124924\n",
       "9      594776\n",
       "Name: month, dtype: int64"
      ]
     },
     "execution_count": 30,
     "metadata": {},
     "output_type": "execute_result"
    }
   ],
   "source": [
    "transaction_raw_2018 = transaction_raw.loc[transaction_raw['year']==2018]\n",
    "transaction_raw_2018.month.value_counts()"
   ]
  },
  {
   "cell_type": "code",
   "execution_count": 31,
   "id": "97a7d5b7",
   "metadata": {},
   "outputs": [
    {
     "data": {
      "text/plain": [
       "6     1906202\n",
       "7     1807494\n",
       "5     1560319\n",
       "4     1476454\n",
       "3     1286750\n",
       "1     1263471\n",
       "8     1253530\n",
       "9     1227178\n",
       "11    1198033\n",
       "2     1152412\n",
       "10    1146772\n",
       "12    1082910\n",
       "Name: month, dtype: int64"
      ]
     },
     "execution_count": 31,
     "metadata": {},
     "output_type": "execute_result"
    }
   ],
   "source": [
    "transaction_raw_2019 = transaction_raw.loc[transaction_raw['year']==2019]\n",
    "transaction_raw_2019.month.value_counts()"
   ]
  },
  {
   "cell_type": "code",
   "execution_count": 33,
   "id": "9dd598bb",
   "metadata": {},
   "outputs": [
    {
     "data": {
      "text/plain": [
       "21    357346\n",
       "20    340916\n",
       "18    291779\n",
       "22    287093\n",
       "19    283185\n",
       "Name: week, dtype: int64"
      ]
     },
     "execution_count": 33,
     "metadata": {},
     "output_type": "execute_result"
    }
   ],
   "source": [
    "mask = (transaction_raw['year']==2019) & (transaction_raw['month']==5)\n",
    "transaction_raw.loc[mask].week.value_counts()"
   ]
  },
  {
   "cell_type": "code",
   "execution_count": 34,
   "id": "944b9197",
   "metadata": {},
   "outputs": [
    {
     "data": {
      "text/html": [
       "<div>\n",
       "<style scoped>\n",
       "    .dataframe tbody tr th:only-of-type {\n",
       "        vertical-align: middle;\n",
       "    }\n",
       "\n",
       "    .dataframe tbody tr th {\n",
       "        vertical-align: top;\n",
       "    }\n",
       "\n",
       "    .dataframe thead th {\n",
       "        text-align: right;\n",
       "    }\n",
       "</style>\n",
       "<table border=\"1\" class=\"dataframe\">\n",
       "  <thead>\n",
       "    <tr style=\"text-align: right;\">\n",
       "      <th></th>\n",
       "      <th>t_dat</th>\n",
       "      <th>customer_id</th>\n",
       "      <th>article_id</th>\n",
       "      <th>price</th>\n",
       "      <th>sales_channel_id</th>\n",
       "      <th>week</th>\n",
       "      <th>year</th>\n",
       "      <th>month</th>\n",
       "    </tr>\n",
       "  </thead>\n",
       "  <tbody>\n",
       "    <tr>\n",
       "      <th>9590349</th>\n",
       "      <td>2019-05-01</td>\n",
       "      <td>00019d6c20e0fbb551af18c57149af4707ec016bb0decd...</td>\n",
       "      <td>524061003</td>\n",
       "      <td>0.050831</td>\n",
       "      <td>2</td>\n",
       "      <td>18</td>\n",
       "      <td>2019</td>\n",
       "      <td>5</td>\n",
       "    </tr>\n",
       "    <tr>\n",
       "      <th>9590350</th>\n",
       "      <td>2019-05-01</td>\n",
       "      <td>00019d6c20e0fbb551af18c57149af4707ec016bb0decd...</td>\n",
       "      <td>735404001</td>\n",
       "      <td>0.050831</td>\n",
       "      <td>2</td>\n",
       "      <td>18</td>\n",
       "      <td>2019</td>\n",
       "      <td>5</td>\n",
       "    </tr>\n",
       "    <tr>\n",
       "      <th>9590351</th>\n",
       "      <td>2019-05-01</td>\n",
       "      <td>00019d6c20e0fbb551af18c57149af4707ec016bb0decd...</td>\n",
       "      <td>700370004</td>\n",
       "      <td>0.016932</td>\n",
       "      <td>2</td>\n",
       "      <td>18</td>\n",
       "      <td>2019</td>\n",
       "      <td>5</td>\n",
       "    </tr>\n",
       "    <tr>\n",
       "      <th>9590352</th>\n",
       "      <td>2019-05-01</td>\n",
       "      <td>00019d6c20e0fbb551af18c57149af4707ec016bb0decd...</td>\n",
       "      <td>618800001</td>\n",
       "      <td>0.033881</td>\n",
       "      <td>2</td>\n",
       "      <td>18</td>\n",
       "      <td>2019</td>\n",
       "      <td>5</td>\n",
       "    </tr>\n",
       "    <tr>\n",
       "      <th>9590353</th>\n",
       "      <td>2019-05-01</td>\n",
       "      <td>00019d6c20e0fbb551af18c57149af4707ec016bb0decd...</td>\n",
       "      <td>731407001</td>\n",
       "      <td>0.016932</td>\n",
       "      <td>2</td>\n",
       "      <td>18</td>\n",
       "      <td>2019</td>\n",
       "      <td>5</td>\n",
       "    </tr>\n",
       "    <tr>\n",
       "      <th>...</th>\n",
       "      <td>...</td>\n",
       "      <td>...</td>\n",
       "      <td>...</td>\n",
       "      <td>...</td>\n",
       "      <td>...</td>\n",
       "      <td>...</td>\n",
       "      <td>...</td>\n",
       "      <td>...</td>\n",
       "    </tr>\n",
       "    <tr>\n",
       "      <th>9882123</th>\n",
       "      <td>2019-05-05</td>\n",
       "      <td>ffed71450acc902268fc4b99dfdc28f1a22583f573863b...</td>\n",
       "      <td>525518008</td>\n",
       "      <td>0.042356</td>\n",
       "      <td>2</td>\n",
       "      <td>18</td>\n",
       "      <td>2019</td>\n",
       "      <td>5</td>\n",
       "    </tr>\n",
       "    <tr>\n",
       "      <th>9882124</th>\n",
       "      <td>2019-05-05</td>\n",
       "      <td>ffed71450acc902268fc4b99dfdc28f1a22583f573863b...</td>\n",
       "      <td>689018003</td>\n",
       "      <td>0.050831</td>\n",
       "      <td>2</td>\n",
       "      <td>18</td>\n",
       "      <td>2019</td>\n",
       "      <td>5</td>\n",
       "    </tr>\n",
       "    <tr>\n",
       "      <th>9882125</th>\n",
       "      <td>2019-05-05</td>\n",
       "      <td>ffed71450acc902268fc4b99dfdc28f1a22583f573863b...</td>\n",
       "      <td>734346001</td>\n",
       "      <td>0.033881</td>\n",
       "      <td>2</td>\n",
       "      <td>18</td>\n",
       "      <td>2019</td>\n",
       "      <td>5</td>\n",
       "    </tr>\n",
       "    <tr>\n",
       "      <th>9882126</th>\n",
       "      <td>2019-05-05</td>\n",
       "      <td>ffed71450acc902268fc4b99dfdc28f1a22583f573863b...</td>\n",
       "      <td>757741005</td>\n",
       "      <td>0.025407</td>\n",
       "      <td>2</td>\n",
       "      <td>18</td>\n",
       "      <td>2019</td>\n",
       "      <td>5</td>\n",
       "    </tr>\n",
       "    <tr>\n",
       "      <th>9882127</th>\n",
       "      <td>2019-05-05</td>\n",
       "      <td>ffee80ef25fd2cc6092ccdbbbb7c116381cc4e4151e283...</td>\n",
       "      <td>220094001</td>\n",
       "      <td>0.025407</td>\n",
       "      <td>2</td>\n",
       "      <td>18</td>\n",
       "      <td>2019</td>\n",
       "      <td>5</td>\n",
       "    </tr>\n",
       "  </tbody>\n",
       "</table>\n",
       "<p>291779 rows × 8 columns</p>\n",
       "</div>"
      ],
      "text/plain": [
       "             t_dat                                        customer_id  \\\n",
       "9590349 2019-05-01  00019d6c20e0fbb551af18c57149af4707ec016bb0decd...   \n",
       "9590350 2019-05-01  00019d6c20e0fbb551af18c57149af4707ec016bb0decd...   \n",
       "9590351 2019-05-01  00019d6c20e0fbb551af18c57149af4707ec016bb0decd...   \n",
       "9590352 2019-05-01  00019d6c20e0fbb551af18c57149af4707ec016bb0decd...   \n",
       "9590353 2019-05-01  00019d6c20e0fbb551af18c57149af4707ec016bb0decd...   \n",
       "...            ...                                                ...   \n",
       "9882123 2019-05-05  ffed71450acc902268fc4b99dfdc28f1a22583f573863b...   \n",
       "9882124 2019-05-05  ffed71450acc902268fc4b99dfdc28f1a22583f573863b...   \n",
       "9882125 2019-05-05  ffed71450acc902268fc4b99dfdc28f1a22583f573863b...   \n",
       "9882126 2019-05-05  ffed71450acc902268fc4b99dfdc28f1a22583f573863b...   \n",
       "9882127 2019-05-05  ffee80ef25fd2cc6092ccdbbbb7c116381cc4e4151e283...   \n",
       "\n",
       "         article_id     price  sales_channel_id  week  year  month  \n",
       "9590349   524061003  0.050831                 2    18  2019      5  \n",
       "9590350   735404001  0.050831                 2    18  2019      5  \n",
       "9590351   700370004  0.016932                 2    18  2019      5  \n",
       "9590352   618800001  0.033881                 2    18  2019      5  \n",
       "9590353   731407001  0.016932                 2    18  2019      5  \n",
       "...             ...       ...               ...   ...   ...    ...  \n",
       "9882123   525518008  0.042356                 2    18  2019      5  \n",
       "9882124   689018003  0.050831                 2    18  2019      5  \n",
       "9882125   734346001  0.033881                 2    18  2019      5  \n",
       "9882126   757741005  0.025407                 2    18  2019      5  \n",
       "9882127   220094001  0.025407                 2    18  2019      5  \n",
       "\n",
       "[291779 rows x 8 columns]"
      ]
     },
     "execution_count": 34,
     "metadata": {},
     "output_type": "execute_result"
    }
   ],
   "source": [
    "mask = (transaction_raw['year']==2019) & (transaction_raw['month']==5) & (transaction_raw['week']==18)\n",
    "transaction_raw.loc[mask]"
   ]
  },
  {
   "cell_type": "code",
   "execution_count": 32,
   "id": "0ad39502",
   "metadata": {},
   "outputs": [
    {
     "data": {
      "text/plain": [
       "6     1764507\n",
       "5     1361815\n",
       "7     1351502\n",
       "4     1340882\n",
       "8     1237192\n",
       "1     1076354\n",
       "3     1047752\n",
       "2     1001859\n",
       "9      798269\n",
       "12      59308\n",
       "Name: month, dtype: int64"
      ]
     },
     "execution_count": 32,
     "metadata": {},
     "output_type": "execute_result"
    }
   ],
   "source": [
    "transaction_raw_2020 = transaction_raw.loc[transaction_raw['year']==2020]\n",
    "transaction_raw_2020.month.value_counts()"
   ]
  },
  {
   "cell_type": "code",
   "execution_count": 7,
   "id": "393b970d",
   "metadata": {},
   "outputs": [],
   "source": [
    "#get data between 2019-5-1 and 2019-8-1\n",
    "transaction_raw.t_dat = pd.to_datetime(transaction_raw.t_dat)\n",
    "mask = (transaction_raw.t_dat >= '2019-05-01') & (transaction_raw.t_dat <= '2019-08-01')\n",
    "transaction_raw_2019 = transaction_raw.loc[mask].reset_index(drop=True)"
   ]
  },
  {
   "cell_type": "code",
   "execution_count": 8,
   "id": "bd2672c2",
   "metadata": {},
   "outputs": [
    {
     "data": {
      "text/html": [
       "<div>\n",
       "<style scoped>\n",
       "    .dataframe tbody tr th:only-of-type {\n",
       "        vertical-align: middle;\n",
       "    }\n",
       "\n",
       "    .dataframe tbody tr th {\n",
       "        vertical-align: top;\n",
       "    }\n",
       "\n",
       "    .dataframe thead th {\n",
       "        text-align: right;\n",
       "    }\n",
       "</style>\n",
       "<table border=\"1\" class=\"dataframe\">\n",
       "  <thead>\n",
       "    <tr style=\"text-align: right;\">\n",
       "      <th></th>\n",
       "      <th>t_dat</th>\n",
       "      <th>customer_id</th>\n",
       "      <th>article_id</th>\n",
       "      <th>price</th>\n",
       "      <th>sales_channel_id</th>\n",
       "    </tr>\n",
       "  </thead>\n",
       "  <tbody>\n",
       "    <tr>\n",
       "      <th>0</th>\n",
       "      <td>2019-05-01</td>\n",
       "      <td>00019d6c20e0fbb551af18c57149af4707ec016bb0decd...</td>\n",
       "      <td>524061003</td>\n",
       "      <td>0.050831</td>\n",
       "      <td>2</td>\n",
       "    </tr>\n",
       "    <tr>\n",
       "      <th>1</th>\n",
       "      <td>2019-05-01</td>\n",
       "      <td>00019d6c20e0fbb551af18c57149af4707ec016bb0decd...</td>\n",
       "      <td>735404001</td>\n",
       "      <td>0.050831</td>\n",
       "      <td>2</td>\n",
       "    </tr>\n",
       "    <tr>\n",
       "      <th>2</th>\n",
       "      <td>2019-05-01</td>\n",
       "      <td>00019d6c20e0fbb551af18c57149af4707ec016bb0decd...</td>\n",
       "      <td>700370004</td>\n",
       "      <td>0.016932</td>\n",
       "      <td>2</td>\n",
       "    </tr>\n",
       "    <tr>\n",
       "      <th>3</th>\n",
       "      <td>2019-05-01</td>\n",
       "      <td>00019d6c20e0fbb551af18c57149af4707ec016bb0decd...</td>\n",
       "      <td>618800001</td>\n",
       "      <td>0.033881</td>\n",
       "      <td>2</td>\n",
       "    </tr>\n",
       "    <tr>\n",
       "      <th>4</th>\n",
       "      <td>2019-05-01</td>\n",
       "      <td>00019d6c20e0fbb551af18c57149af4707ec016bb0decd...</td>\n",
       "      <td>731407001</td>\n",
       "      <td>0.016932</td>\n",
       "      <td>2</td>\n",
       "    </tr>\n",
       "    <tr>\n",
       "      <th>...</th>\n",
       "      <td>...</td>\n",
       "      <td>...</td>\n",
       "      <td>...</td>\n",
       "      <td>...</td>\n",
       "      <td>...</td>\n",
       "    </tr>\n",
       "    <tr>\n",
       "      <th>5326381</th>\n",
       "      <td>2019-08-01</td>\n",
       "      <td>fff613e0adf409bc8acf40c7eabb40f377c7d4f7b12f61...</td>\n",
       "      <td>719209001</td>\n",
       "      <td>0.016932</td>\n",
       "      <td>2</td>\n",
       "    </tr>\n",
       "    <tr>\n",
       "      <th>5326382</th>\n",
       "      <td>2019-08-01</td>\n",
       "      <td>fff613e0adf409bc8acf40c7eabb40f377c7d4f7b12f61...</td>\n",
       "      <td>720426001</td>\n",
       "      <td>0.025407</td>\n",
       "      <td>2</td>\n",
       "    </tr>\n",
       "    <tr>\n",
       "      <th>5326383</th>\n",
       "      <td>2019-08-01</td>\n",
       "      <td>fff613e0adf409bc8acf40c7eabb40f377c7d4f7b12f61...</td>\n",
       "      <td>713199001</td>\n",
       "      <td>0.033881</td>\n",
       "      <td>2</td>\n",
       "    </tr>\n",
       "    <tr>\n",
       "      <th>5326384</th>\n",
       "      <td>2019-08-01</td>\n",
       "      <td>fff613e0adf409bc8acf40c7eabb40f377c7d4f7b12f61...</td>\n",
       "      <td>739590002</td>\n",
       "      <td>0.016932</td>\n",
       "      <td>2</td>\n",
       "    </tr>\n",
       "    <tr>\n",
       "      <th>5326385</th>\n",
       "      <td>2019-08-01</td>\n",
       "      <td>fff887d056fff68679d6e2491588ee4e83e57bf077ca7a...</td>\n",
       "      <td>713774006</td>\n",
       "      <td>0.022017</td>\n",
       "      <td>1</td>\n",
       "    </tr>\n",
       "  </tbody>\n",
       "</table>\n",
       "<p>5326386 rows × 5 columns</p>\n",
       "</div>"
      ],
      "text/plain": [
       "             t_dat                                        customer_id  \\\n",
       "0       2019-05-01  00019d6c20e0fbb551af18c57149af4707ec016bb0decd...   \n",
       "1       2019-05-01  00019d6c20e0fbb551af18c57149af4707ec016bb0decd...   \n",
       "2       2019-05-01  00019d6c20e0fbb551af18c57149af4707ec016bb0decd...   \n",
       "3       2019-05-01  00019d6c20e0fbb551af18c57149af4707ec016bb0decd...   \n",
       "4       2019-05-01  00019d6c20e0fbb551af18c57149af4707ec016bb0decd...   \n",
       "...            ...                                                ...   \n",
       "5326381 2019-08-01  fff613e0adf409bc8acf40c7eabb40f377c7d4f7b12f61...   \n",
       "5326382 2019-08-01  fff613e0adf409bc8acf40c7eabb40f377c7d4f7b12f61...   \n",
       "5326383 2019-08-01  fff613e0adf409bc8acf40c7eabb40f377c7d4f7b12f61...   \n",
       "5326384 2019-08-01  fff613e0adf409bc8acf40c7eabb40f377c7d4f7b12f61...   \n",
       "5326385 2019-08-01  fff887d056fff68679d6e2491588ee4e83e57bf077ca7a...   \n",
       "\n",
       "         article_id     price  sales_channel_id  \n",
       "0         524061003  0.050831                 2  \n",
       "1         735404001  0.050831                 2  \n",
       "2         700370004  0.016932                 2  \n",
       "3         618800001  0.033881                 2  \n",
       "4         731407001  0.016932                 2  \n",
       "...             ...       ...               ...  \n",
       "5326381   719209001  0.016932                 2  \n",
       "5326382   720426001  0.025407                 2  \n",
       "5326383   713199001  0.033881                 2  \n",
       "5326384   739590002  0.016932                 2  \n",
       "5326385   713774006  0.022017                 1  \n",
       "\n",
       "[5326386 rows x 5 columns]"
      ]
     },
     "execution_count": 8,
     "metadata": {},
     "output_type": "execute_result"
    }
   ],
   "source": [
    "transaction_raw_2019"
   ]
  },
  {
   "cell_type": "code",
   "execution_count": 9,
   "id": "840b4c24",
   "metadata": {},
   "outputs": [
    {
     "name": "stdout",
     "output_type": "stream",
     "text": [
      "Number of customers: 562225\n",
      "Total number of purchased items: 5326386\n"
     ]
    }
   ],
   "source": [
    "#the number of customers and the number of items they purchase\n",
    "print(\"Number of customers:\",transaction_raw_2019.customer_id.nunique())\n",
    "print(\"Total number of purchased items:\", len(transaction_raw_2019))\n",
    "#transaction_raw_2019.customer_id.value_counts()"
   ]
  },
  {
   "cell_type": "code",
   "execution_count": 10,
   "id": "c1c412e6",
   "metadata": {},
   "outputs": [
    {
     "name": "stdout",
     "output_type": "stream",
     "text": [
      "Number of unique items: 44117\n"
     ]
    }
   ],
   "source": [
    "#number of uniuqe items purchased in 2019 summer\n",
    "print(\"Number of unique items:\", transaction_raw_2019.article_id.nunique())\n",
    "#transaction_raw_2019.article_id.value_counts()"
   ]
  },
  {
   "cell_type": "code",
   "execution_count": 11,
   "id": "2bf2154f",
   "metadata": {},
   "outputs": [
    {
     "data": {
      "text/plain": [
       "[759871002,\n",
       " 554479005,\n",
       " 599580017,\n",
       " 688537004,\n",
       " 684209004,\n",
       " 656763001,\n",
       " 739144003,\n",
       " 688537011,\n",
       " 351484002,\n",
       " 612481002,\n",
       " 720137001,\n",
       " 739144004,\n",
       " 758064001,\n",
       " 554479001,\n",
       " 739144007,\n",
       " 739590002,\n",
       " 610776002,\n",
       " 706016002,\n",
       " 706016001,\n",
       " 747939002]"
      ]
     },
     "execution_count": 11,
     "metadata": {},
     "output_type": "execute_result"
    }
   ],
   "source": [
    "#Top-20 selling article IDs\n",
    "freq_cnt = transaction_raw_2019.article_id.value_counts()\n",
    "top20_article_id = list(freq_cnt.index[0:20])\n",
    "top20_article_id "
   ]
  },
  {
   "cell_type": "code",
   "execution_count": 12,
   "id": "eecd1d23",
   "metadata": {},
   "outputs": [
    {
     "data": {
      "text/html": [
       "<div>\n",
       "<style scoped>\n",
       "    .dataframe tbody tr th:only-of-type {\n",
       "        vertical-align: middle;\n",
       "    }\n",
       "\n",
       "    .dataframe tbody tr th {\n",
       "        vertical-align: top;\n",
       "    }\n",
       "\n",
       "    .dataframe thead th {\n",
       "        text-align: right;\n",
       "    }\n",
       "</style>\n",
       "<table border=\"1\" class=\"dataframe\">\n",
       "  <thead>\n",
       "    <tr style=\"text-align: right;\">\n",
       "      <th></th>\n",
       "      <th>t_dat</th>\n",
       "      <th>customer_id</th>\n",
       "      <th>article_id</th>\n",
       "      <th>price</th>\n",
       "      <th>sales_channel_id</th>\n",
       "    </tr>\n",
       "  </thead>\n",
       "  <tbody>\n",
       "    <tr>\n",
       "      <th>0</th>\n",
       "      <td>2019-05-01</td>\n",
       "      <td>00019d6c20e0fbb551af18c57149af4707ec016bb0decd...</td>\n",
       "      <td>524061003</td>\n",
       "      <td>0.050831</td>\n",
       "      <td>2</td>\n",
       "    </tr>\n",
       "    <tr>\n",
       "      <th>1</th>\n",
       "      <td>2019-05-01</td>\n",
       "      <td>00019d6c20e0fbb551af18c57149af4707ec016bb0decd...</td>\n",
       "      <td>735404001</td>\n",
       "      <td>0.050831</td>\n",
       "      <td>2</td>\n",
       "    </tr>\n",
       "    <tr>\n",
       "      <th>2</th>\n",
       "      <td>2019-05-01</td>\n",
       "      <td>00019d6c20e0fbb551af18c57149af4707ec016bb0decd...</td>\n",
       "      <td>700370004</td>\n",
       "      <td>0.016932</td>\n",
       "      <td>2</td>\n",
       "    </tr>\n",
       "    <tr>\n",
       "      <th>3</th>\n",
       "      <td>2019-05-01</td>\n",
       "      <td>00019d6c20e0fbb551af18c57149af4707ec016bb0decd...</td>\n",
       "      <td>618800001</td>\n",
       "      <td>0.033881</td>\n",
       "      <td>2</td>\n",
       "    </tr>\n",
       "    <tr>\n",
       "      <th>4</th>\n",
       "      <td>2019-05-01</td>\n",
       "      <td>00019d6c20e0fbb551af18c57149af4707ec016bb0decd...</td>\n",
       "      <td>731407001</td>\n",
       "      <td>0.016932</td>\n",
       "      <td>2</td>\n",
       "    </tr>\n",
       "    <tr>\n",
       "      <th>...</th>\n",
       "      <td>...</td>\n",
       "      <td>...</td>\n",
       "      <td>...</td>\n",
       "      <td>...</td>\n",
       "      <td>...</td>\n",
       "    </tr>\n",
       "    <tr>\n",
       "      <th>4953538</th>\n",
       "      <td>2019-07-25</td>\n",
       "      <td>fff3e75605ec575be9b95eda1e6557299e81bba12668d7...</td>\n",
       "      <td>751530001</td>\n",
       "      <td>0.011847</td>\n",
       "      <td>1</td>\n",
       "    </tr>\n",
       "    <tr>\n",
       "      <th>4953539</th>\n",
       "      <td>2019-07-25</td>\n",
       "      <td>fff3e75605ec575be9b95eda1e6557299e81bba12668d7...</td>\n",
       "      <td>800988001</td>\n",
       "      <td>0.028458</td>\n",
       "      <td>1</td>\n",
       "    </tr>\n",
       "    <tr>\n",
       "      <th>4953540</th>\n",
       "      <td>2019-07-25</td>\n",
       "      <td>fff4d3a8b1f3b60af93e78c30a7cb4cf75edaf2590d3e5...</td>\n",
       "      <td>749699001</td>\n",
       "      <td>0.025407</td>\n",
       "      <td>1</td>\n",
       "    </tr>\n",
       "    <tr>\n",
       "      <th>4953541</th>\n",
       "      <td>2019-07-25</td>\n",
       "      <td>fff4d3a8b1f3b60af93e78c30a7cb4cf75edaf2590d3e5...</td>\n",
       "      <td>507883009</td>\n",
       "      <td>0.013542</td>\n",
       "      <td>1</td>\n",
       "    </tr>\n",
       "    <tr>\n",
       "      <th>4953542</th>\n",
       "      <td>2019-07-25</td>\n",
       "      <td>fff4d3a8b1f3b60af93e78c30a7cb4cf75edaf2590d3e5...</td>\n",
       "      <td>788261001</td>\n",
       "      <td>0.008458</td>\n",
       "      <td>1</td>\n",
       "    </tr>\n",
       "  </tbody>\n",
       "</table>\n",
       "<p>4953543 rows × 5 columns</p>\n",
       "</div>"
      ],
      "text/plain": [
       "             t_dat                                        customer_id  \\\n",
       "0       2019-05-01  00019d6c20e0fbb551af18c57149af4707ec016bb0decd...   \n",
       "1       2019-05-01  00019d6c20e0fbb551af18c57149af4707ec016bb0decd...   \n",
       "2       2019-05-01  00019d6c20e0fbb551af18c57149af4707ec016bb0decd...   \n",
       "3       2019-05-01  00019d6c20e0fbb551af18c57149af4707ec016bb0decd...   \n",
       "4       2019-05-01  00019d6c20e0fbb551af18c57149af4707ec016bb0decd...   \n",
       "...            ...                                                ...   \n",
       "4953538 2019-07-25  fff3e75605ec575be9b95eda1e6557299e81bba12668d7...   \n",
       "4953539 2019-07-25  fff3e75605ec575be9b95eda1e6557299e81bba12668d7...   \n",
       "4953540 2019-07-25  fff4d3a8b1f3b60af93e78c30a7cb4cf75edaf2590d3e5...   \n",
       "4953541 2019-07-25  fff4d3a8b1f3b60af93e78c30a7cb4cf75edaf2590d3e5...   \n",
       "4953542 2019-07-25  fff4d3a8b1f3b60af93e78c30a7cb4cf75edaf2590d3e5...   \n",
       "\n",
       "         article_id     price  sales_channel_id  \n",
       "0         524061003  0.050831                 2  \n",
       "1         735404001  0.050831                 2  \n",
       "2         700370004  0.016932                 2  \n",
       "3         618800001  0.033881                 2  \n",
       "4         731407001  0.016932                 2  \n",
       "...             ...       ...               ...  \n",
       "4953538   751530001  0.011847                 1  \n",
       "4953539   800988001  0.028458                 1  \n",
       "4953540   749699001  0.025407                 1  \n",
       "4953541   507883009  0.013542                 1  \n",
       "4953542   788261001  0.008458                 1  \n",
       "\n",
       "[4953543 rows x 5 columns]"
      ]
     },
     "execution_count": 12,
     "metadata": {},
     "output_type": "execute_result"
    }
   ],
   "source": [
    "#Get training data from 2019-5-1 to 2019-7-25\n",
    "mask_train = (transaction_raw.t_dat >= '2019-05-01') & (transaction_raw.t_dat <= '2019-07-25')\n",
    "train_raw = transaction_raw.loc[mask_train].reset_index(drop=True)\n",
    "train_raw"
   ]
  },
  {
   "cell_type": "code",
   "execution_count": 13,
   "id": "34fbf93b",
   "metadata": {},
   "outputs": [
    {
     "data": {
      "text/html": [
       "<div>\n",
       "<style scoped>\n",
       "    .dataframe tbody tr th:only-of-type {\n",
       "        vertical-align: middle;\n",
       "    }\n",
       "\n",
       "    .dataframe tbody tr th {\n",
       "        vertical-align: top;\n",
       "    }\n",
       "\n",
       "    .dataframe thead th {\n",
       "        text-align: right;\n",
       "    }\n",
       "</style>\n",
       "<table border=\"1\" class=\"dataframe\">\n",
       "  <thead>\n",
       "    <tr style=\"text-align: right;\">\n",
       "      <th></th>\n",
       "      <th>t_dat</th>\n",
       "      <th>customer_id</th>\n",
       "      <th>article_id</th>\n",
       "      <th>price</th>\n",
       "      <th>sales_channel_id</th>\n",
       "    </tr>\n",
       "  </thead>\n",
       "  <tbody>\n",
       "    <tr>\n",
       "      <th>0</th>\n",
       "      <td>2019-07-26</td>\n",
       "      <td>0000423b00ade91418cceaf3b26c6af3dd342b51fd051e...</td>\n",
       "      <td>740943002</td>\n",
       "      <td>0.013542</td>\n",
       "      <td>2</td>\n",
       "    </tr>\n",
       "    <tr>\n",
       "      <th>1</th>\n",
       "      <td>2019-07-26</td>\n",
       "      <td>0002db27a1651998a3de4463437b580b45dfa7d8107afa...</td>\n",
       "      <td>773980002</td>\n",
       "      <td>0.010153</td>\n",
       "      <td>1</td>\n",
       "    </tr>\n",
       "    <tr>\n",
       "      <th>2</th>\n",
       "      <td>2019-07-26</td>\n",
       "      <td>0006d3ff0caf0cb4d4e0615ee5cb7d268622364d483335...</td>\n",
       "      <td>752020001</td>\n",
       "      <td>0.022017</td>\n",
       "      <td>1</td>\n",
       "    </tr>\n",
       "    <tr>\n",
       "      <th>3</th>\n",
       "      <td>2019-07-26</td>\n",
       "      <td>000c6b4be3802318b68fe21ac36b119ef6568f42a82f18...</td>\n",
       "      <td>650672001</td>\n",
       "      <td>0.007610</td>\n",
       "      <td>2</td>\n",
       "    </tr>\n",
       "    <tr>\n",
       "      <th>4</th>\n",
       "      <td>2019-07-26</td>\n",
       "      <td>000c6b4be3802318b68fe21ac36b119ef6568f42a82f18...</td>\n",
       "      <td>740720002</td>\n",
       "      <td>0.007610</td>\n",
       "      <td>2</td>\n",
       "    </tr>\n",
       "    <tr>\n",
       "      <th>...</th>\n",
       "      <td>...</td>\n",
       "      <td>...</td>\n",
       "      <td>...</td>\n",
       "      <td>...</td>\n",
       "      <td>...</td>\n",
       "    </tr>\n",
       "    <tr>\n",
       "      <th>372838</th>\n",
       "      <td>2019-08-01</td>\n",
       "      <td>fff613e0adf409bc8acf40c7eabb40f377c7d4f7b12f61...</td>\n",
       "      <td>719209001</td>\n",
       "      <td>0.016932</td>\n",
       "      <td>2</td>\n",
       "    </tr>\n",
       "    <tr>\n",
       "      <th>372839</th>\n",
       "      <td>2019-08-01</td>\n",
       "      <td>fff613e0adf409bc8acf40c7eabb40f377c7d4f7b12f61...</td>\n",
       "      <td>720426001</td>\n",
       "      <td>0.025407</td>\n",
       "      <td>2</td>\n",
       "    </tr>\n",
       "    <tr>\n",
       "      <th>372840</th>\n",
       "      <td>2019-08-01</td>\n",
       "      <td>fff613e0adf409bc8acf40c7eabb40f377c7d4f7b12f61...</td>\n",
       "      <td>713199001</td>\n",
       "      <td>0.033881</td>\n",
       "      <td>2</td>\n",
       "    </tr>\n",
       "    <tr>\n",
       "      <th>372841</th>\n",
       "      <td>2019-08-01</td>\n",
       "      <td>fff613e0adf409bc8acf40c7eabb40f377c7d4f7b12f61...</td>\n",
       "      <td>739590002</td>\n",
       "      <td>0.016932</td>\n",
       "      <td>2</td>\n",
       "    </tr>\n",
       "    <tr>\n",
       "      <th>372842</th>\n",
       "      <td>2019-08-01</td>\n",
       "      <td>fff887d056fff68679d6e2491588ee4e83e57bf077ca7a...</td>\n",
       "      <td>713774006</td>\n",
       "      <td>0.022017</td>\n",
       "      <td>1</td>\n",
       "    </tr>\n",
       "  </tbody>\n",
       "</table>\n",
       "<p>372843 rows × 5 columns</p>\n",
       "</div>"
      ],
      "text/plain": [
       "            t_dat                                        customer_id  \\\n",
       "0      2019-07-26  0000423b00ade91418cceaf3b26c6af3dd342b51fd051e...   \n",
       "1      2019-07-26  0002db27a1651998a3de4463437b580b45dfa7d8107afa...   \n",
       "2      2019-07-26  0006d3ff0caf0cb4d4e0615ee5cb7d268622364d483335...   \n",
       "3      2019-07-26  000c6b4be3802318b68fe21ac36b119ef6568f42a82f18...   \n",
       "4      2019-07-26  000c6b4be3802318b68fe21ac36b119ef6568f42a82f18...   \n",
       "...           ...                                                ...   \n",
       "372838 2019-08-01  fff613e0adf409bc8acf40c7eabb40f377c7d4f7b12f61...   \n",
       "372839 2019-08-01  fff613e0adf409bc8acf40c7eabb40f377c7d4f7b12f61...   \n",
       "372840 2019-08-01  fff613e0adf409bc8acf40c7eabb40f377c7d4f7b12f61...   \n",
       "372841 2019-08-01  fff613e0adf409bc8acf40c7eabb40f377c7d4f7b12f61...   \n",
       "372842 2019-08-01  fff887d056fff68679d6e2491588ee4e83e57bf077ca7a...   \n",
       "\n",
       "        article_id     price  sales_channel_id  \n",
       "0        740943002  0.013542                 2  \n",
       "1        773980002  0.010153                 1  \n",
       "2        752020001  0.022017                 1  \n",
       "3        650672001  0.007610                 2  \n",
       "4        740720002  0.007610                 2  \n",
       "...            ...       ...               ...  \n",
       "372838   719209001  0.016932                 2  \n",
       "372839   720426001  0.025407                 2  \n",
       "372840   713199001  0.033881                 2  \n",
       "372841   739590002  0.016932                 2  \n",
       "372842   713774006  0.022017                 1  \n",
       "\n",
       "[372843 rows x 5 columns]"
      ]
     },
     "execution_count": 13,
     "metadata": {},
     "output_type": "execute_result"
    }
   ],
   "source": [
    "#Get test data from 2019-7-26 to 2019-8-1\n",
    "mask_test = (transaction_raw.t_dat >= '2019-07-26') & (transaction_raw.t_dat <= '2019-08-01')\n",
    "test_raw = transaction_raw.loc[mask_test].reset_index(drop=True)\n",
    "test_raw"
   ]
  },
  {
   "cell_type": "code",
   "execution_count": 16,
   "id": "db81b4b0",
   "metadata": {},
   "outputs": [],
   "source": [
    "#common customer_id between training and testing data\n",
    "no_customer_train = train_raw.customer_id.nunique()\n",
    "no_customer_test = test_raw.customer_id.nunique()\n",
    "common_customers = set(train_raw.customer_id.unique()) & set(test_raw.customer_id.unique())"
   ]
  },
  {
   "cell_type": "code",
   "execution_count": 21,
   "id": "32d72bdc",
   "metadata": {},
   "outputs": [
    {
     "name": "stdout",
     "output_type": "stream",
     "text": [
      "Number of customers in training: 542310\n",
      "Number of customers in testing: 83377\n",
      "Number of returning customers in testing: 63462\n",
      "Number of new customers in testing: 19915\n"
     ]
    }
   ],
   "source": [
    "print(\"Number of customers in training:\", no_customer_train)\n",
    "print(\"Number of customers in testing:\", no_customer_test)\n",
    "print(\"Number of returning customers in testing:\", len(common_customers))\n",
    "print(\"Number of new customers in testing:\", no_customer_test - len(common_customers))"
   ]
  },
  {
   "cell_type": "code",
   "execution_count": 22,
   "id": "4fe8c4e6",
   "metadata": {},
   "outputs": [
    {
     "data": {
      "text/plain": [
       "43362"
      ]
     },
     "execution_count": 22,
     "metadata": {},
     "output_type": "execute_result"
    }
   ],
   "source": [
    "#Number of unique articles in training\n",
    "no_article_train = train_raw.article_id.nunique()\n",
    "no_article_train"
   ]
  },
  {
   "cell_type": "code",
   "execution_count": null,
   "id": "ad4677cb",
   "metadata": {},
   "outputs": [],
   "source": []
  },
  {
   "cell_type": "code",
   "execution_count": 5,
   "id": "4daa025b",
   "metadata": {},
   "outputs": [
    {
     "name": "stdout",
     "output_type": "stream",
     "text": [
      "CPU times: user 34.3 s, sys: 10.1 s, total: 44.4 s\n",
      "Wall time: 47.9 s\n"
     ]
    }
   ],
   "source": [
    "%%time\n",
    "\n",
    "article_raw = pd.read_csv(\"../data/articles.csv\")\n",
    "customer_raw = pd.read_csv(\"../data/customers.csv\")\n",
    "sample_sub_raw = pd.read_csv(\"../data/sample_submission.csv\")\n",
    "transaction_raw = pd.read_csv(\"../data/transactions_train.csv\")"
   ]
  },
  {
   "cell_type": "code",
   "execution_count": null,
   "id": "6ea3d7fa",
   "metadata": {},
   "outputs": [],
   "source": []
  },
  {
   "cell_type": "markdown",
   "id": "717f054d",
   "metadata": {},
   "source": [
    "## 1. article.csv\n",
    "\n",
    "- What are the features and their data type? \n",
    "- Percentage of missing data, how to handle missing data.\n",
    "- How do features relate to each other?\n",
    "- How should we consider or use the features for predictions/product recommendations?"
   ]
  },
  {
   "cell_type": "code",
   "execution_count": null,
   "id": "503c5f27",
   "metadata": {},
   "outputs": [],
   "source": [
    "article_raw.head()"
   ]
  },
  {
   "cell_type": "markdown",
   "id": "267e814f",
   "metadata": {},
   "source": [
    "## 2. customers.csv\n"
   ]
  },
  {
   "cell_type": "code",
   "execution_count": null,
   "id": "43031beb",
   "metadata": {},
   "outputs": [],
   "source": [
    "customer_raw.head()"
   ]
  },
  {
   "cell_type": "markdown",
   "id": "43fd8eaf",
   "metadata": {},
   "source": [
    "## 3. transactions_train.csv"
   ]
  },
  {
   "cell_type": "code",
   "execution_count": null,
   "id": "6659c86c",
   "metadata": {},
   "outputs": [],
   "source": [
    "transaction_raw.head()"
   ]
  },
  {
   "cell_type": "markdown",
   "id": "bf109cf3",
   "metadata": {},
   "source": [
    "## 4. sample_submission.csv"
   ]
  },
  {
   "cell_type": "code",
   "execution_count": null,
   "id": "6c24549d",
   "metadata": {},
   "outputs": [],
   "source": [
    "sample_sub_raw.head()"
   ]
  },
  {
   "cell_type": "code",
   "execution_count": null,
   "id": "313d042a",
   "metadata": {},
   "outputs": [],
   "source": []
  },
  {
   "cell_type": "code",
   "execution_count": 3,
   "id": "2b18c3f1",
   "metadata": {},
   "outputs": [],
   "source": [
    "#calculating cosine similarity\n",
    "from sklearn.metrics import pairwise\n"
   ]
  },
  {
   "cell_type": "code",
   "execution_count": 7,
   "id": "e106766b",
   "metadata": {},
   "outputs": [
    {
     "data": {
      "text/plain": [
       "array([[0.81649658]])"
      ]
     },
     "execution_count": 7,
     "metadata": {},
     "output_type": "execute_result"
    }
   ],
   "source": [
    "#Ben and John\n",
    "pairwise.cosine_similarity([[1,1,1]],[[1,0,1]])"
   ]
  },
  {
   "cell_type": "code",
   "execution_count": 8,
   "id": "3f68266f",
   "metadata": {},
   "outputs": [
    {
     "data": {
      "text/plain": [
       "array([[0.70710678]])"
      ]
     },
     "execution_count": 8,
     "metadata": {},
     "output_type": "execute_result"
    }
   ],
   "source": [
    "#John and David\n",
    "pairwise.cosine_similarity([[1,0,1]],[[1,0,0]])"
   ]
  },
  {
   "cell_type": "code",
   "execution_count": 9,
   "id": "2a94daf9",
   "metadata": {},
   "outputs": [
    {
     "data": {
      "text/plain": [
       "array([[0.57735027]])"
      ]
     },
     "execution_count": 9,
     "metadata": {},
     "output_type": "execute_result"
    }
   ],
   "source": [
    "#Ben and Daivd\n",
    "pairwise.cosine_similarity([[1,1,1]],[[1,0,0]])"
   ]
  },
  {
   "cell_type": "code",
   "execution_count": null,
   "id": "8f46ab65",
   "metadata": {},
   "outputs": [],
   "source": []
  }
 ],
 "metadata": {
  "kernelspec": {
   "display_name": "Python 3 (ipykernel)",
   "language": "python",
   "name": "python3"
  },
  "language_info": {
   "codemirror_mode": {
    "name": "ipython",
    "version": 3
   },
   "file_extension": ".py",
   "mimetype": "text/x-python",
   "name": "python",
   "nbconvert_exporter": "python",
   "pygments_lexer": "ipython3",
   "version": "3.9.10"
  }
 },
 "nbformat": 4,
 "nbformat_minor": 5
}
