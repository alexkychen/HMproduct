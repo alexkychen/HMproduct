{
 "cells": [
  {
   "cell_type": "markdown",
   "id": "10c8c4aa",
   "metadata": {},
   "source": [
    "### EDA on Kaggle\n",
    "\n",
    "- https://www.kaggle.com/vanguarde/h-m-eda-first-look\n",
    "- https://www.kaggle.com/gpreda/h-m-eda-and-prediction\n",
    "- https://www.kaggle.com/remekkinas/h-m-eda-first-look-into-data\n",
    "- https://www.kaggle.com/vickeytomer/h-m-eda-exploration\n",
    "- https://www.kaggle.com/negoto/best-selling-items-catalog-like-eda-of-articles"
   ]
  },
  {
   "cell_type": "code",
   "execution_count": 1,
   "id": "b6e87f5e",
   "metadata": {},
   "outputs": [],
   "source": [
    "import pandas as pd"
   ]
  },
  {
   "cell_type": "code",
   "execution_count": 2,
   "id": "8f53f1a5",
   "metadata": {},
   "outputs": [],
   "source": [
    "#read transaction.csv\n",
    "transaction_raw = pd.read_csv(\"../data/transactions_train.csv\")"
   ]
  },
  {
   "cell_type": "code",
   "execution_count": 3,
   "id": "10e13f45",
   "metadata": {},
   "outputs": [
    {
     "name": "stdout",
     "output_type": "stream",
     "text": [
      "<class 'pandas.core.frame.DataFrame'>\n",
      "RangeIndex: 31788324 entries, 0 to 31788323\n",
      "Data columns (total 5 columns):\n",
      " #   Column            Dtype  \n",
      "---  ------            -----  \n",
      " 0   t_dat             object \n",
      " 1   customer_id       object \n",
      " 2   article_id        int64  \n",
      " 3   price             float64\n",
      " 4   sales_channel_id  int64  \n",
      "dtypes: float64(1), int64(2), object(2)\n",
      "memory usage: 1.2+ GB\n"
     ]
    }
   ],
   "source": [
    "transaction_raw.info()"
   ]
  },
  {
   "cell_type": "code",
   "execution_count": 4,
   "id": "0b8886b6",
   "metadata": {},
   "outputs": [
    {
     "data": {
      "text/html": [
       "<div>\n",
       "<style scoped>\n",
       "    .dataframe tbody tr th:only-of-type {\n",
       "        vertical-align: middle;\n",
       "    }\n",
       "\n",
       "    .dataframe tbody tr th {\n",
       "        vertical-align: top;\n",
       "    }\n",
       "\n",
       "    .dataframe thead th {\n",
       "        text-align: right;\n",
       "    }\n",
       "</style>\n",
       "<table border=\"1\" class=\"dataframe\">\n",
       "  <thead>\n",
       "    <tr style=\"text-align: right;\">\n",
       "      <th></th>\n",
       "      <th>t_dat</th>\n",
       "      <th>customer_id</th>\n",
       "      <th>article_id</th>\n",
       "      <th>price</th>\n",
       "      <th>sales_channel_id</th>\n",
       "    </tr>\n",
       "  </thead>\n",
       "  <tbody>\n",
       "    <tr>\n",
       "      <th>0</th>\n",
       "      <td>2018-09-20</td>\n",
       "      <td>000058a12d5b43e67d225668fa1f8d618c13dc232df0ca...</td>\n",
       "      <td>663713001</td>\n",
       "      <td>0.050831</td>\n",
       "      <td>2</td>\n",
       "    </tr>\n",
       "    <tr>\n",
       "      <th>1</th>\n",
       "      <td>2018-09-20</td>\n",
       "      <td>000058a12d5b43e67d225668fa1f8d618c13dc232df0ca...</td>\n",
       "      <td>541518023</td>\n",
       "      <td>0.030492</td>\n",
       "      <td>2</td>\n",
       "    </tr>\n",
       "    <tr>\n",
       "      <th>2</th>\n",
       "      <td>2018-09-20</td>\n",
       "      <td>00007d2de826758b65a93dd24ce629ed66842531df6699...</td>\n",
       "      <td>505221004</td>\n",
       "      <td>0.015237</td>\n",
       "      <td>2</td>\n",
       "    </tr>\n",
       "    <tr>\n",
       "      <th>3</th>\n",
       "      <td>2018-09-20</td>\n",
       "      <td>00007d2de826758b65a93dd24ce629ed66842531df6699...</td>\n",
       "      <td>685687003</td>\n",
       "      <td>0.016932</td>\n",
       "      <td>2</td>\n",
       "    </tr>\n",
       "    <tr>\n",
       "      <th>4</th>\n",
       "      <td>2018-09-20</td>\n",
       "      <td>00007d2de826758b65a93dd24ce629ed66842531df6699...</td>\n",
       "      <td>685687004</td>\n",
       "      <td>0.016932</td>\n",
       "      <td>2</td>\n",
       "    </tr>\n",
       "  </tbody>\n",
       "</table>\n",
       "</div>"
      ],
      "text/plain": [
       "        t_dat                                        customer_id  article_id  \\\n",
       "0  2018-09-20  000058a12d5b43e67d225668fa1f8d618c13dc232df0ca...   663713001   \n",
       "1  2018-09-20  000058a12d5b43e67d225668fa1f8d618c13dc232df0ca...   541518023   \n",
       "2  2018-09-20  00007d2de826758b65a93dd24ce629ed66842531df6699...   505221004   \n",
       "3  2018-09-20  00007d2de826758b65a93dd24ce629ed66842531df6699...   685687003   \n",
       "4  2018-09-20  00007d2de826758b65a93dd24ce629ed66842531df6699...   685687004   \n",
       "\n",
       "      price  sales_channel_id  \n",
       "0  0.050831                 2  \n",
       "1  0.030492                 2  \n",
       "2  0.015237                 2  \n",
       "3  0.016932                 2  \n",
       "4  0.016932                 2  "
      ]
     },
     "execution_count": 4,
     "metadata": {},
     "output_type": "execute_result"
    }
   ],
   "source": [
    "transaction_raw.head()"
   ]
  },
  {
   "cell_type": "code",
   "execution_count": 6,
   "id": "d07da8b5",
   "metadata": {},
   "outputs": [
    {
     "name": "stdout",
     "output_type": "stream",
     "text": [
      "Start date: 2018-09-20\n",
      "Last date: 2020-09-22\n"
     ]
    }
   ],
   "source": [
    "#check start date and last date\n",
    "print(\"Start date:\", transaction_raw.t_dat.min())\n",
    "print(\"Last date:\", transaction_raw.t_dat.max())"
   ]
  },
  {
   "cell_type": "code",
   "execution_count": 14,
   "id": "dc7a92f6",
   "metadata": {},
   "outputs": [],
   "source": [
    "#get data between 2019-5-1 and 2019-8-1\n",
    "transaction_raw.t_dat = pd.to_datetime(transaction_raw.t_dat)\n",
    "mask = (transaction_raw.t_dat >= '2019-05-01') & (transaction_raw.t_dat <= '2019-08-01')\n",
    "transaction_raw_2019 = transaction_raw.loc[mask].reset_index(drop=True)"
   ]
  },
  {
   "cell_type": "code",
   "execution_count": 15,
   "id": "b9498256",
   "metadata": {},
   "outputs": [
    {
     "data": {
      "text/html": [
       "<div>\n",
       "<style scoped>\n",
       "    .dataframe tbody tr th:only-of-type {\n",
       "        vertical-align: middle;\n",
       "    }\n",
       "\n",
       "    .dataframe tbody tr th {\n",
       "        vertical-align: top;\n",
       "    }\n",
       "\n",
       "    .dataframe thead th {\n",
       "        text-align: right;\n",
       "    }\n",
       "</style>\n",
       "<table border=\"1\" class=\"dataframe\">\n",
       "  <thead>\n",
       "    <tr style=\"text-align: right;\">\n",
       "      <th></th>\n",
       "      <th>t_dat</th>\n",
       "      <th>customer_id</th>\n",
       "      <th>article_id</th>\n",
       "      <th>price</th>\n",
       "      <th>sales_channel_id</th>\n",
       "    </tr>\n",
       "  </thead>\n",
       "  <tbody>\n",
       "    <tr>\n",
       "      <th>0</th>\n",
       "      <td>2019-05-01</td>\n",
       "      <td>00019d6c20e0fbb551af18c57149af4707ec016bb0decd...</td>\n",
       "      <td>524061003</td>\n",
       "      <td>0.050831</td>\n",
       "      <td>2</td>\n",
       "    </tr>\n",
       "    <tr>\n",
       "      <th>1</th>\n",
       "      <td>2019-05-01</td>\n",
       "      <td>00019d6c20e0fbb551af18c57149af4707ec016bb0decd...</td>\n",
       "      <td>735404001</td>\n",
       "      <td>0.050831</td>\n",
       "      <td>2</td>\n",
       "    </tr>\n",
       "    <tr>\n",
       "      <th>2</th>\n",
       "      <td>2019-05-01</td>\n",
       "      <td>00019d6c20e0fbb551af18c57149af4707ec016bb0decd...</td>\n",
       "      <td>700370004</td>\n",
       "      <td>0.016932</td>\n",
       "      <td>2</td>\n",
       "    </tr>\n",
       "    <tr>\n",
       "      <th>3</th>\n",
       "      <td>2019-05-01</td>\n",
       "      <td>00019d6c20e0fbb551af18c57149af4707ec016bb0decd...</td>\n",
       "      <td>618800001</td>\n",
       "      <td>0.033881</td>\n",
       "      <td>2</td>\n",
       "    </tr>\n",
       "    <tr>\n",
       "      <th>4</th>\n",
       "      <td>2019-05-01</td>\n",
       "      <td>00019d6c20e0fbb551af18c57149af4707ec016bb0decd...</td>\n",
       "      <td>731407001</td>\n",
       "      <td>0.016932</td>\n",
       "      <td>2</td>\n",
       "    </tr>\n",
       "    <tr>\n",
       "      <th>...</th>\n",
       "      <td>...</td>\n",
       "      <td>...</td>\n",
       "      <td>...</td>\n",
       "      <td>...</td>\n",
       "      <td>...</td>\n",
       "    </tr>\n",
       "    <tr>\n",
       "      <th>5326381</th>\n",
       "      <td>2019-08-01</td>\n",
       "      <td>fff613e0adf409bc8acf40c7eabb40f377c7d4f7b12f61...</td>\n",
       "      <td>719209001</td>\n",
       "      <td>0.016932</td>\n",
       "      <td>2</td>\n",
       "    </tr>\n",
       "    <tr>\n",
       "      <th>5326382</th>\n",
       "      <td>2019-08-01</td>\n",
       "      <td>fff613e0adf409bc8acf40c7eabb40f377c7d4f7b12f61...</td>\n",
       "      <td>720426001</td>\n",
       "      <td>0.025407</td>\n",
       "      <td>2</td>\n",
       "    </tr>\n",
       "    <tr>\n",
       "      <th>5326383</th>\n",
       "      <td>2019-08-01</td>\n",
       "      <td>fff613e0adf409bc8acf40c7eabb40f377c7d4f7b12f61...</td>\n",
       "      <td>713199001</td>\n",
       "      <td>0.033881</td>\n",
       "      <td>2</td>\n",
       "    </tr>\n",
       "    <tr>\n",
       "      <th>5326384</th>\n",
       "      <td>2019-08-01</td>\n",
       "      <td>fff613e0adf409bc8acf40c7eabb40f377c7d4f7b12f61...</td>\n",
       "      <td>739590002</td>\n",
       "      <td>0.016932</td>\n",
       "      <td>2</td>\n",
       "    </tr>\n",
       "    <tr>\n",
       "      <th>5326385</th>\n",
       "      <td>2019-08-01</td>\n",
       "      <td>fff887d056fff68679d6e2491588ee4e83e57bf077ca7a...</td>\n",
       "      <td>713774006</td>\n",
       "      <td>0.022017</td>\n",
       "      <td>1</td>\n",
       "    </tr>\n",
       "  </tbody>\n",
       "</table>\n",
       "<p>5326386 rows × 5 columns</p>\n",
       "</div>"
      ],
      "text/plain": [
       "             t_dat                                        customer_id  \\\n",
       "0       2019-05-01  00019d6c20e0fbb551af18c57149af4707ec016bb0decd...   \n",
       "1       2019-05-01  00019d6c20e0fbb551af18c57149af4707ec016bb0decd...   \n",
       "2       2019-05-01  00019d6c20e0fbb551af18c57149af4707ec016bb0decd...   \n",
       "3       2019-05-01  00019d6c20e0fbb551af18c57149af4707ec016bb0decd...   \n",
       "4       2019-05-01  00019d6c20e0fbb551af18c57149af4707ec016bb0decd...   \n",
       "...            ...                                                ...   \n",
       "5326381 2019-08-01  fff613e0adf409bc8acf40c7eabb40f377c7d4f7b12f61...   \n",
       "5326382 2019-08-01  fff613e0adf409bc8acf40c7eabb40f377c7d4f7b12f61...   \n",
       "5326383 2019-08-01  fff613e0adf409bc8acf40c7eabb40f377c7d4f7b12f61...   \n",
       "5326384 2019-08-01  fff613e0adf409bc8acf40c7eabb40f377c7d4f7b12f61...   \n",
       "5326385 2019-08-01  fff887d056fff68679d6e2491588ee4e83e57bf077ca7a...   \n",
       "\n",
       "         article_id     price  sales_channel_id  \n",
       "0         524061003  0.050831                 2  \n",
       "1         735404001  0.050831                 2  \n",
       "2         700370004  0.016932                 2  \n",
       "3         618800001  0.033881                 2  \n",
       "4         731407001  0.016932                 2  \n",
       "...             ...       ...               ...  \n",
       "5326381   719209001  0.016932                 2  \n",
       "5326382   720426001  0.025407                 2  \n",
       "5326383   713199001  0.033881                 2  \n",
       "5326384   739590002  0.016932                 2  \n",
       "5326385   713774006  0.022017                 1  \n",
       "\n",
       "[5326386 rows x 5 columns]"
      ]
     },
     "execution_count": 15,
     "metadata": {},
     "output_type": "execute_result"
    }
   ],
   "source": [
    "transaction_raw_2019"
   ]
  },
  {
   "cell_type": "code",
   "execution_count": 21,
   "id": "337d0f2c",
   "metadata": {},
   "outputs": [
    {
     "name": "stdout",
     "output_type": "stream",
     "text": [
      "Number of customers: 562225\n",
      "Total number of purchased items: 5326386\n"
     ]
    }
   ],
   "source": [
    "#the number of customers and the number of items they purchase\n",
    "print(\"Number of customers:\",transaction_raw_2019.customer_id.nunique())\n",
    "print(\"Total number of purchased items:\", len(transaction_raw_2019))\n",
    "#transaction_raw_2019.customer_id.value_counts()"
   ]
  },
  {
   "cell_type": "code",
   "execution_count": 24,
   "id": "b6abc357",
   "metadata": {},
   "outputs": [
    {
     "name": "stdout",
     "output_type": "stream",
     "text": [
      "Number of unique items: 44117\n"
     ]
    }
   ],
   "source": [
    "#number of uniuqe items purchased in 2019 summer\n",
    "print(\"Number of unique items:\", transaction_raw_2019.article_id.nunique())\n",
    "#transaction_raw_2019.article_id.value_counts()"
   ]
  },
  {
   "cell_type": "code",
   "execution_count": 33,
   "id": "cb1b7352",
   "metadata": {},
   "outputs": [
    {
     "data": {
      "text/plain": [
       "[759871002,\n",
       " 554479005,\n",
       " 599580017,\n",
       " 688537004,\n",
       " 684209004,\n",
       " 656763001,\n",
       " 739144003,\n",
       " 688537011,\n",
       " 351484002,\n",
       " 612481002,\n",
       " 720137001,\n",
       " 739144004,\n",
       " 758064001,\n",
       " 554479001,\n",
       " 739144007,\n",
       " 739590002,\n",
       " 610776002,\n",
       " 706016002,\n",
       " 706016001,\n",
       " 747939002]"
      ]
     },
     "execution_count": 33,
     "metadata": {},
     "output_type": "execute_result"
    }
   ],
   "source": [
    "#Top-20 selling article IDs\n",
    "freq_cnt = transaction_raw_2019.article_id.value_counts()\n",
    "top20_article_id = list(freq_cnt.index[0:20])\n",
    "top20_article_id "
   ]
  },
  {
   "cell_type": "code",
   "execution_count": null,
   "id": "6c4c36bb",
   "metadata": {},
   "outputs": [],
   "source": []
  },
  {
   "cell_type": "code",
   "execution_count": 5,
   "id": "bef44926",
   "metadata": {},
   "outputs": [
    {
     "name": "stdout",
     "output_type": "stream",
     "text": [
      "CPU times: user 34.3 s, sys: 10.1 s, total: 44.4 s\n",
      "Wall time: 47.9 s\n"
     ]
    }
   ],
   "source": [
    "%%time\n",
    "\n",
    "article_raw = pd.read_csv(\"../data/articles.csv\")\n",
    "customer_raw = pd.read_csv(\"../data/customers.csv\")\n",
    "sample_sub_raw = pd.read_csv(\"../data/sample_submission.csv\")\n",
    "transaction_raw = pd.read_csv(\"../data/transactions_train.csv\")"
   ]
  },
  {
   "cell_type": "code",
   "execution_count": null,
   "id": "e7a44e4b",
   "metadata": {},
   "outputs": [],
   "source": []
  },
  {
   "cell_type": "markdown",
   "id": "fb2790cc",
   "metadata": {},
   "source": [
    "## 1. article.csv\n",
    "\n",
    "- What are the features and their data type? \n",
    "- Percentage of missing data, how to handle missing data.\n",
    "- How do features relate to each other?\n",
    "- How should we consider or use the features for predictions/product recommendations?"
   ]
  },
  {
   "cell_type": "code",
   "execution_count": null,
   "id": "f905a166",
   "metadata": {},
   "outputs": [],
   "source": [
    "article_raw.head()"
   ]
  },
  {
   "cell_type": "markdown",
   "id": "4781df11",
   "metadata": {},
   "source": [
    "## 2. customers.csv\n"
   ]
  },
  {
   "cell_type": "code",
   "execution_count": null,
   "id": "286f7170",
   "metadata": {},
   "outputs": [],
   "source": [
    "customer_raw.head()"
   ]
  },
  {
   "cell_type": "markdown",
   "id": "6dce02c2",
   "metadata": {},
   "source": [
    "## 3. transactions_train.csv"
   ]
  },
  {
   "cell_type": "code",
   "execution_count": null,
   "id": "cb70d3d3",
   "metadata": {},
   "outputs": [],
   "source": [
    "transaction_raw.head()"
   ]
  },
  {
   "cell_type": "markdown",
   "id": "1ccd3b6f",
   "metadata": {},
   "source": [
    "## 4. sample_submission.csv"
   ]
  },
  {
   "cell_type": "code",
   "execution_count": null,
   "id": "acb4c427",
   "metadata": {},
   "outputs": [],
   "source": [
    "sample_sub_raw.head()"
   ]
  }
 ],
 "metadata": {
  "kernelspec": {
   "display_name": "Python 3 (ipykernel)",
   "language": "python",
   "name": "python3"
  },
  "language_info": {
   "codemirror_mode": {
    "name": "ipython",
    "version": 3
   },
   "file_extension": ".py",
   "mimetype": "text/x-python",
   "name": "python",
   "nbconvert_exporter": "python",
   "pygments_lexer": "ipython3",
   "version": "3.9.10"
  }
 },
 "nbformat": 4,
 "nbformat_minor": 5
}
