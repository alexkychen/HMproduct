{
 "cells": [
  {
   "cell_type": "markdown",
   "metadata": {},
   "source": [
    "## User-based collaborative filtering using consine similarity \n",
    "## 2019 Summer Menswear data"
   ]
  },
  {
   "cell_type": "code",
   "execution_count": 1,
   "metadata": {},
   "outputs": [],
   "source": [
    "import pandas as pd\n",
    "import numpy as np\n",
    "import collaborative_filter as cf\n",
    "import matplotlib.pyplot as plt"
   ]
  },
  {
   "cell_type": "code",
   "execution_count": 2,
   "metadata": {},
   "outputs": [
    {
     "data": {
      "text/html": [
       "<div>\n",
       "<style scoped>\n",
       "    .dataframe tbody tr th:only-of-type {\n",
       "        vertical-align: middle;\n",
       "    }\n",
       "\n",
       "    .dataframe tbody tr th {\n",
       "        vertical-align: top;\n",
       "    }\n",
       "\n",
       "    .dataframe thead th {\n",
       "        text-align: right;\n",
       "    }\n",
       "</style>\n",
       "<table border=\"1\" class=\"dataframe\">\n",
       "  <thead>\n",
       "    <tr style=\"text-align: right;\">\n",
       "      <th></th>\n",
       "      <th>Unnamed: 0</th>\n",
       "      <th>t_dat</th>\n",
       "      <th>customer_id</th>\n",
       "      <th>article_id</th>\n",
       "      <th>price</th>\n",
       "      <th>sales_channel_id</th>\n",
       "      <th>year</th>\n",
       "      <th>month</th>\n",
       "      <th>week</th>\n",
       "      <th>product_code</th>\n",
       "      <th>...</th>\n",
       "      <th>department_name</th>\n",
       "      <th>index_code</th>\n",
       "      <th>index_name</th>\n",
       "      <th>index_group_no</th>\n",
       "      <th>index_group_name</th>\n",
       "      <th>section_no</th>\n",
       "      <th>section_name</th>\n",
       "      <th>garment_group_no</th>\n",
       "      <th>garment_group_name</th>\n",
       "      <th>detail_desc</th>\n",
       "    </tr>\n",
       "  </thead>\n",
       "  <tbody>\n",
       "    <tr>\n",
       "      <th>0</th>\n",
       "      <td>60</td>\n",
       "      <td>2019-05-01</td>\n",
       "      <td>00357b192b81fc83261a45be87f5f3d59112db7d117513...</td>\n",
       "      <td>743719001</td>\n",
       "      <td>0.050831</td>\n",
       "      <td>2</td>\n",
       "      <td>2019</td>\n",
       "      <td>5</td>\n",
       "      <td>18</td>\n",
       "      <td>743719</td>\n",
       "      <td>...</td>\n",
       "      <td>Shoes</td>\n",
       "      <td>F</td>\n",
       "      <td>Menswear</td>\n",
       "      <td>3</td>\n",
       "      <td>Menswear</td>\n",
       "      <td>27</td>\n",
       "      <td>Men Shoes</td>\n",
       "      <td>1020</td>\n",
       "      <td>Shoes</td>\n",
       "      <td>Cotton canvas trainers with a padded edge and ...</td>\n",
       "    </tr>\n",
       "    <tr>\n",
       "      <th>1</th>\n",
       "      <td>140</td>\n",
       "      <td>2019-05-01</td>\n",
       "      <td>0083ee250b3845008465de0e938d0ed2ae4f5bfde8b56e...</td>\n",
       "      <td>507431031</td>\n",
       "      <td>0.015237</td>\n",
       "      <td>2</td>\n",
       "      <td>2019</td>\n",
       "      <td>5</td>\n",
       "      <td>18</td>\n",
       "      <td>507431</td>\n",
       "      <td>...</td>\n",
       "      <td>Jersey inactive from s1</td>\n",
       "      <td>F</td>\n",
       "      <td>Menswear</td>\n",
       "      <td>3</td>\n",
       "      <td>Menswear</td>\n",
       "      <td>55</td>\n",
       "      <td>Contemporary Street</td>\n",
       "      <td>1005</td>\n",
       "      <td>Jersey Fancy</td>\n",
       "      <td>T-shirt in hard-washed slub cotton jersey with...</td>\n",
       "    </tr>\n",
       "    <tr>\n",
       "      <th>2</th>\n",
       "      <td>141</td>\n",
       "      <td>2019-05-01</td>\n",
       "      <td>0083ee250b3845008465de0e938d0ed2ae4f5bfde8b56e...</td>\n",
       "      <td>378447036</td>\n",
       "      <td>0.054220</td>\n",
       "      <td>2</td>\n",
       "      <td>2019</td>\n",
       "      <td>5</td>\n",
       "      <td>18</td>\n",
       "      <td>378447</td>\n",
       "      <td>...</td>\n",
       "      <td>Knitwear</td>\n",
       "      <td>F</td>\n",
       "      <td>Menswear</td>\n",
       "      <td>3</td>\n",
       "      <td>Menswear</td>\n",
       "      <td>23</td>\n",
       "      <td>Men Suits &amp; Tailoring</td>\n",
       "      <td>1003</td>\n",
       "      <td>Knitwear</td>\n",
       "      <td>Jumper in fine-knit merino wool with a V-neck ...</td>\n",
       "    </tr>\n",
       "    <tr>\n",
       "      <th>3</th>\n",
       "      <td>142</td>\n",
       "      <td>2019-05-01</td>\n",
       "      <td>0083ee250b3845008465de0e938d0ed2ae4f5bfde8b56e...</td>\n",
       "      <td>657850001</td>\n",
       "      <td>0.030492</td>\n",
       "      <td>2</td>\n",
       "      <td>2019</td>\n",
       "      <td>5</td>\n",
       "      <td>18</td>\n",
       "      <td>657850</td>\n",
       "      <td>...</td>\n",
       "      <td>Knitwear</td>\n",
       "      <td>F</td>\n",
       "      <td>Menswear</td>\n",
       "      <td>3</td>\n",
       "      <td>Menswear</td>\n",
       "      <td>20</td>\n",
       "      <td>Contemporary Smart</td>\n",
       "      <td>1003</td>\n",
       "      <td>Knitwear</td>\n",
       "      <td>Jumper in a textured-knit wool blend with long...</td>\n",
       "    </tr>\n",
       "    <tr>\n",
       "      <th>4</th>\n",
       "      <td>143</td>\n",
       "      <td>2019-05-01</td>\n",
       "      <td>0083ee250b3845008465de0e938d0ed2ae4f5bfde8b56e...</td>\n",
       "      <td>598755015</td>\n",
       "      <td>0.013542</td>\n",
       "      <td>2</td>\n",
       "      <td>2019</td>\n",
       "      <td>5</td>\n",
       "      <td>18</td>\n",
       "      <td>598755</td>\n",
       "      <td>...</td>\n",
       "      <td>Light Basic Jersey</td>\n",
       "      <td>F</td>\n",
       "      <td>Menswear</td>\n",
       "      <td>3</td>\n",
       "      <td>Menswear</td>\n",
       "      <td>26</td>\n",
       "      <td>Men Underwear</td>\n",
       "      <td>1002</td>\n",
       "      <td>Jersey Basic</td>\n",
       "      <td>Long, round-necked T-shirt in soft jersey with...</td>\n",
       "    </tr>\n",
       "    <tr>\n",
       "      <th>...</th>\n",
       "      <td>...</td>\n",
       "      <td>...</td>\n",
       "      <td>...</td>\n",
       "      <td>...</td>\n",
       "      <td>...</td>\n",
       "      <td>...</td>\n",
       "      <td>...</td>\n",
       "      <td>...</td>\n",
       "      <td>...</td>\n",
       "      <td>...</td>\n",
       "      <td>...</td>\n",
       "      <td>...</td>\n",
       "      <td>...</td>\n",
       "      <td>...</td>\n",
       "      <td>...</td>\n",
       "      <td>...</td>\n",
       "      <td>...</td>\n",
       "      <td>...</td>\n",
       "      <td>...</td>\n",
       "      <td>...</td>\n",
       "      <td>...</td>\n",
       "    </tr>\n",
       "    <tr>\n",
       "      <th>286342</th>\n",
       "      <td>5273975</td>\n",
       "      <td>2019-07-31</td>\n",
       "      <td>ffc55f51a8636d9cc7b2834ae0886b1136a71a80124836...</td>\n",
       "      <td>736769005</td>\n",
       "      <td>0.006695</td>\n",
       "      <td>2</td>\n",
       "      <td>2019</td>\n",
       "      <td>7</td>\n",
       "      <td>31</td>\n",
       "      <td>736769</td>\n",
       "      <td>...</td>\n",
       "      <td>Jersey Fancy</td>\n",
       "      <td>F</td>\n",
       "      <td>Menswear</td>\n",
       "      <td>3</td>\n",
       "      <td>Menswear</td>\n",
       "      <td>21</td>\n",
       "      <td>Contemporary Casual</td>\n",
       "      <td>1005</td>\n",
       "      <td>Jersey Fancy</td>\n",
       "      <td>Vest top in cotton jersey with a print motif.</td>\n",
       "    </tr>\n",
       "    <tr>\n",
       "      <th>286343</th>\n",
       "      <td>5273976</td>\n",
       "      <td>2019-07-31</td>\n",
       "      <td>ffc55f51a8636d9cc7b2834ae0886b1136a71a80124836...</td>\n",
       "      <td>736769005</td>\n",
       "      <td>0.006695</td>\n",
       "      <td>2</td>\n",
       "      <td>2019</td>\n",
       "      <td>7</td>\n",
       "      <td>31</td>\n",
       "      <td>736769</td>\n",
       "      <td>...</td>\n",
       "      <td>Jersey Fancy</td>\n",
       "      <td>F</td>\n",
       "      <td>Menswear</td>\n",
       "      <td>3</td>\n",
       "      <td>Menswear</td>\n",
       "      <td>21</td>\n",
       "      <td>Contemporary Casual</td>\n",
       "      <td>1005</td>\n",
       "      <td>Jersey Fancy</td>\n",
       "      <td>Vest top in cotton jersey with a print motif.</td>\n",
       "    </tr>\n",
       "    <tr>\n",
       "      <th>286344</th>\n",
       "      <td>5273978</td>\n",
       "      <td>2019-07-31</td>\n",
       "      <td>ffc64655379797b426ef5a5be86332e901b916c1e55ab0...</td>\n",
       "      <td>663793009</td>\n",
       "      <td>0.022864</td>\n",
       "      <td>1</td>\n",
       "      <td>2019</td>\n",
       "      <td>7</td>\n",
       "      <td>31</td>\n",
       "      <td>663793</td>\n",
       "      <td>...</td>\n",
       "      <td>Underwear Jersey</td>\n",
       "      <td>F</td>\n",
       "      <td>Menswear</td>\n",
       "      <td>3</td>\n",
       "      <td>Menswear</td>\n",
       "      <td>26</td>\n",
       "      <td>Men Underwear</td>\n",
       "      <td>1017</td>\n",
       "      <td>Under-, Nightwear</td>\n",
       "      <td>Briefs in stretch cotton jersey with flatlock ...</td>\n",
       "    </tr>\n",
       "    <tr>\n",
       "      <th>286345</th>\n",
       "      <td>5273979</td>\n",
       "      <td>2019-07-31</td>\n",
       "      <td>ffc64655379797b426ef5a5be86332e901b916c1e55ab0...</td>\n",
       "      <td>501619019</td>\n",
       "      <td>0.022864</td>\n",
       "      <td>1</td>\n",
       "      <td>2019</td>\n",
       "      <td>7</td>\n",
       "      <td>31</td>\n",
       "      <td>501619</td>\n",
       "      <td>...</td>\n",
       "      <td>Shirt</td>\n",
       "      <td>F</td>\n",
       "      <td>Menswear</td>\n",
       "      <td>3</td>\n",
       "      <td>Menswear</td>\n",
       "      <td>20</td>\n",
       "      <td>Contemporary Smart</td>\n",
       "      <td>1011</td>\n",
       "      <td>Shirts</td>\n",
       "      <td>Shirt in an airy cotton weave with a turn-down...</td>\n",
       "    </tr>\n",
       "    <tr>\n",
       "      <th>286346</th>\n",
       "      <td>5274011</td>\n",
       "      <td>2019-07-31</td>\n",
       "      <td>ffe4bd3f42225fb51da4fe110a0fb2519efef670ff07ee...</td>\n",
       "      <td>757811001</td>\n",
       "      <td>0.013542</td>\n",
       "      <td>1</td>\n",
       "      <td>2019</td>\n",
       "      <td>7</td>\n",
       "      <td>31</td>\n",
       "      <td>757811</td>\n",
       "      <td>...</td>\n",
       "      <td>Jersey Fancy</td>\n",
       "      <td>F</td>\n",
       "      <td>Menswear</td>\n",
       "      <td>3</td>\n",
       "      <td>Menswear</td>\n",
       "      <td>55</td>\n",
       "      <td>Contemporary Street</td>\n",
       "      <td>1005</td>\n",
       "      <td>Jersey Fancy</td>\n",
       "      <td>T-shirt in cotton jersey with a ribbed neckline.</td>\n",
       "    </tr>\n",
       "  </tbody>\n",
       "</table>\n",
       "<p>286347 rows × 33 columns</p>\n",
       "</div>"
      ],
      "text/plain": [
       "        Unnamed: 0       t_dat  \\\n",
       "0               60  2019-05-01   \n",
       "1              140  2019-05-01   \n",
       "2              141  2019-05-01   \n",
       "3              142  2019-05-01   \n",
       "4              143  2019-05-01   \n",
       "...            ...         ...   \n",
       "286342     5273975  2019-07-31   \n",
       "286343     5273976  2019-07-31   \n",
       "286344     5273978  2019-07-31   \n",
       "286345     5273979  2019-07-31   \n",
       "286346     5274011  2019-07-31   \n",
       "\n",
       "                                              customer_id  article_id  \\\n",
       "0       00357b192b81fc83261a45be87f5f3d59112db7d117513...   743719001   \n",
       "1       0083ee250b3845008465de0e938d0ed2ae4f5bfde8b56e...   507431031   \n",
       "2       0083ee250b3845008465de0e938d0ed2ae4f5bfde8b56e...   378447036   \n",
       "3       0083ee250b3845008465de0e938d0ed2ae4f5bfde8b56e...   657850001   \n",
       "4       0083ee250b3845008465de0e938d0ed2ae4f5bfde8b56e...   598755015   \n",
       "...                                                   ...         ...   \n",
       "286342  ffc55f51a8636d9cc7b2834ae0886b1136a71a80124836...   736769005   \n",
       "286343  ffc55f51a8636d9cc7b2834ae0886b1136a71a80124836...   736769005   \n",
       "286344  ffc64655379797b426ef5a5be86332e901b916c1e55ab0...   663793009   \n",
       "286345  ffc64655379797b426ef5a5be86332e901b916c1e55ab0...   501619019   \n",
       "286346  ffe4bd3f42225fb51da4fe110a0fb2519efef670ff07ee...   757811001   \n",
       "\n",
       "           price  sales_channel_id  year  month  week  product_code  ...  \\\n",
       "0       0.050831                 2  2019      5    18        743719  ...   \n",
       "1       0.015237                 2  2019      5    18        507431  ...   \n",
       "2       0.054220                 2  2019      5    18        378447  ...   \n",
       "3       0.030492                 2  2019      5    18        657850  ...   \n",
       "4       0.013542                 2  2019      5    18        598755  ...   \n",
       "...          ...               ...   ...    ...   ...           ...  ...   \n",
       "286342  0.006695                 2  2019      7    31        736769  ...   \n",
       "286343  0.006695                 2  2019      7    31        736769  ...   \n",
       "286344  0.022864                 1  2019      7    31        663793  ...   \n",
       "286345  0.022864                 1  2019      7    31        501619  ...   \n",
       "286346  0.013542                 1  2019      7    31        757811  ...   \n",
       "\n",
       "                department_name  index_code index_name index_group_no  \\\n",
       "0                         Shoes           F   Menswear              3   \n",
       "1       Jersey inactive from s1           F   Menswear              3   \n",
       "2                      Knitwear           F   Menswear              3   \n",
       "3                      Knitwear           F   Menswear              3   \n",
       "4            Light Basic Jersey           F   Menswear              3   \n",
       "...                         ...         ...        ...            ...   \n",
       "286342             Jersey Fancy           F   Menswear              3   \n",
       "286343             Jersey Fancy           F   Menswear              3   \n",
       "286344         Underwear Jersey           F   Menswear              3   \n",
       "286345                    Shirt           F   Menswear              3   \n",
       "286346             Jersey Fancy           F   Menswear              3   \n",
       "\n",
       "        index_group_name section_no           section_name garment_group_no  \\\n",
       "0               Menswear         27              Men Shoes             1020   \n",
       "1               Menswear         55    Contemporary Street             1005   \n",
       "2               Menswear         23  Men Suits & Tailoring             1003   \n",
       "3               Menswear         20     Contemporary Smart             1003   \n",
       "4               Menswear         26          Men Underwear             1002   \n",
       "...                  ...        ...                    ...              ...   \n",
       "286342          Menswear         21    Contemporary Casual             1005   \n",
       "286343          Menswear         21    Contemporary Casual             1005   \n",
       "286344          Menswear         26          Men Underwear             1017   \n",
       "286345          Menswear         20     Contemporary Smart             1011   \n",
       "286346          Menswear         55    Contemporary Street             1005   \n",
       "\n",
       "        garment_group_name                                        detail_desc  \n",
       "0                    Shoes  Cotton canvas trainers with a padded edge and ...  \n",
       "1             Jersey Fancy  T-shirt in hard-washed slub cotton jersey with...  \n",
       "2                 Knitwear  Jumper in fine-knit merino wool with a V-neck ...  \n",
       "3                 Knitwear  Jumper in a textured-knit wool blend with long...  \n",
       "4             Jersey Basic  Long, round-necked T-shirt in soft jersey with...  \n",
       "...                    ...                                                ...  \n",
       "286342        Jersey Fancy      Vest top in cotton jersey with a print motif.  \n",
       "286343        Jersey Fancy      Vest top in cotton jersey with a print motif.  \n",
       "286344   Under-, Nightwear  Briefs in stretch cotton jersey with flatlock ...  \n",
       "286345              Shirts  Shirt in an airy cotton weave with a turn-down...  \n",
       "286346        Jersey Fancy   T-shirt in cotton jersey with a ribbed neckline.  \n",
       "\n",
       "[286347 rows x 33 columns]"
      ]
     },
     "execution_count": 2,
     "metadata": {},
     "output_type": "execute_result"
    }
   ],
   "source": [
    "##read 2019 567 Menswear transaction data \n",
    "transaction_men_raw = pd.read_csv(\"../data/large_data/transaction_2019_567_Menswear.csv\")\n",
    "transaction_men_raw"
   ]
  },
  {
   "cell_type": "code",
   "execution_count": 5,
   "metadata": {},
   "outputs": [
    {
     "name": "stderr",
     "output_type": "stream",
     "text": [
      "100%|████████████████████████████████████████████████████████████████████████████| 5993/5993 [00:00<00:00, 8627.42it/s]\n",
      " 32%|████████████████████████▎                                                   | 1921/5993 [00:00<00:00, 8925.43it/s]"
     ]
    },
    {
     "name": "stdout",
     "output_type": "stream",
     "text": [
      "Number of users: 379\n"
     ]
    },
    {
     "name": "stderr",
     "output_type": "stream",
     "text": [
      "100%|████████████████████████████████████████████████████████████████████████████| 5993/5993 [00:00<00:00, 8548.99it/s]\n"
     ]
    },
    {
     "name": "stdout",
     "output_type": "stream",
     "text": [
      "Number of users: 379\n"
     ]
    },
    {
     "name": "stderr",
     "output_type": "stream",
     "text": [
      "100%|██████████████████████████████████████████████████████████████████████████| 10712/10712 [00:01<00:00, 7785.28it/s]\n",
      "  8%|█████▋                                                                      | 809/10712 [00:00<00:01, 8081.91it/s]"
     ]
    },
    {
     "name": "stdout",
     "output_type": "stream",
     "text": [
      "Number of users: 567\n"
     ]
    },
    {
     "name": "stderr",
     "output_type": "stream",
     "text": [
      "100%|██████████████████████████████████████████████████████████████████████████| 10712/10712 [00:01<00:00, 7846.90it/s]\n"
     ]
    },
    {
     "name": "stdout",
     "output_type": "stream",
     "text": [
      "Number of users: 567\n"
     ]
    },
    {
     "name": "stderr",
     "output_type": "stream",
     "text": [
      "100%|██████████████████████████████████████████████████████████████████████████| 16303/16303 [00:02<00:00, 7276.81it/s]\n",
      " 10%|███████▏                                                                   | 1562/16303 [00:00<00:01, 7621.68it/s]"
     ]
    },
    {
     "name": "stdout",
     "output_type": "stream",
     "text": [
      "Number of users: 870\n"
     ]
    },
    {
     "name": "stderr",
     "output_type": "stream",
     "text": [
      "100%|██████████████████████████████████████████████████████████████████████████| 16303/16303 [00:02<00:00, 7185.70it/s]\n"
     ]
    },
    {
     "name": "stdout",
     "output_type": "stream",
     "text": [
      "Number of users: 870\n"
     ]
    },
    {
     "name": "stderr",
     "output_type": "stream",
     "text": [
      "100%|██████████████████████████████████████████████████████████████████████████| 22417/22417 [00:03<00:00, 6219.67it/s]\n",
      "  6%|████▋                                                                      | 1397/22417 [00:00<00:03, 6254.33it/s]"
     ]
    },
    {
     "name": "stdout",
     "output_type": "stream",
     "text": [
      "Number of users: 1226\n"
     ]
    },
    {
     "name": "stderr",
     "output_type": "stream",
     "text": [
      "100%|██████████████████████████████████████████████████████████████████████████| 22417/22417 [00:03<00:00, 6378.23it/s]\n"
     ]
    },
    {
     "name": "stdout",
     "output_type": "stream",
     "text": [
      "Number of users: 1226\n"
     ]
    },
    {
     "name": "stderr",
     "output_type": "stream",
     "text": [
      "100%|██████████████████████████████████████████████████████████████████████████| 29403/29403 [00:03<00:00, 8374.91it/s]\n",
      "  6%|████▎                                                                      | 1714/29403 [00:00<00:03, 8058.83it/s]"
     ]
    },
    {
     "name": "stdout",
     "output_type": "stream",
     "text": [
      "Number of users: 1219\n"
     ]
    },
    {
     "name": "stderr",
     "output_type": "stream",
     "text": [
      "100%|██████████████████████████████████████████████████████████████████████████| 29403/29403 [00:03<00:00, 8534.14it/s]\n"
     ]
    },
    {
     "name": "stdout",
     "output_type": "stream",
     "text": [
      "Number of users: 1219\n"
     ]
    },
    {
     "name": "stderr",
     "output_type": "stream",
     "text": [
      "100%|██████████████████████████████████████████████████████████████████████████| 34473/34473 [00:04<00:00, 8490.86it/s]\n",
      "  5%|███▉                                                                       | 1830/34473 [00:00<00:03, 9129.01it/s]"
     ]
    },
    {
     "name": "stdout",
     "output_type": "stream",
     "text": [
      "Number of users: 1301\n"
     ]
    },
    {
     "name": "stderr",
     "output_type": "stream",
     "text": [
      "100%|██████████████████████████████████████████████████████████████████████████| 34473/34473 [00:03<00:00, 8936.61it/s]\n"
     ]
    },
    {
     "name": "stdout",
     "output_type": "stream",
     "text": [
      "Number of users: 1301\n"
     ]
    },
    {
     "name": "stderr",
     "output_type": "stream",
     "text": [
      "100%|██████████████████████████████████████████████████████████████████████████| 39508/39508 [00:07<00:00, 5008.55it/s]\n",
      "  3%|██                                                                         | 1086/39508 [00:00<00:07, 5073.85it/s]"
     ]
    },
    {
     "name": "stdout",
     "output_type": "stream",
     "text": [
      "Number of users: 2244\n"
     ]
    },
    {
     "name": "stderr",
     "output_type": "stream",
     "text": [
      "100%|██████████████████████████████████████████████████████████████████████████| 39508/39508 [00:07<00:00, 5132.07it/s]\n"
     ]
    },
    {
     "name": "stdout",
     "output_type": "stream",
     "text": [
      "Number of users: 2244\n"
     ]
    },
    {
     "name": "stderr",
     "output_type": "stream",
     "text": [
      "100%|██████████████████████████████████████████████████████████████████████████| 47161/47161 [00:10<00:00, 4323.69it/s]\n",
      "  2%|█▍                                                                          | 896/47161 [00:00<00:10, 4254.83it/s]"
     ]
    },
    {
     "name": "stdout",
     "output_type": "stream",
     "text": [
      "Number of users: 2947\n"
     ]
    },
    {
     "name": "stderr",
     "output_type": "stream",
     "text": [
      "100%|██████████████████████████████████████████████████████████████████████████| 47161/47161 [00:10<00:00, 4446.14it/s]\n"
     ]
    },
    {
     "name": "stdout",
     "output_type": "stream",
     "text": [
      "Number of users: 2947\n"
     ]
    },
    {
     "ename": "MemoryError",
     "evalue": "Unable to allocate 22.8 GiB for an array with shape (55307, 55307) and data type int64",
     "output_type": "error",
     "traceback": [
      "\u001b[1;31m---------------------------------------------------------------------------\u001b[0m",
      "\u001b[1;31mMemoryError\u001b[0m                               Traceback (most recent call last)",
      "\u001b[1;32m<timed exec>\u001b[0m in \u001b[0;36m<module>\u001b[1;34m\u001b[0m\n",
      "\u001b[1;32m~\\Documents\\Github\\HMproduct\\notebook\\collaborative_filter.py\u001b[0m in \u001b[0;36mall_user_collaborative_filter\u001b[1;34m(X, similar_user_number, max_recommend_items)\u001b[0m\n\u001b[0;32m     35\u001b[0m \u001b[1;33m\u001b[0m\u001b[0m\n\u001b[0;32m     36\u001b[0m     \u001b[1;31m#sort user index by similarity (left-high/right-low) for each row(user)\u001b[0m\u001b[1;33m\u001b[0m\u001b[1;33m\u001b[0m\u001b[1;33m\u001b[0m\u001b[0m\n\u001b[1;32m---> 37\u001b[1;33m     \u001b[0msorted_sim_index\u001b[0m \u001b[1;33m=\u001b[0m \u001b[0mnp\u001b[0m\u001b[1;33m.\u001b[0m\u001b[0mfliplr\u001b[0m\u001b[1;33m(\u001b[0m\u001b[0mnp\u001b[0m\u001b[1;33m.\u001b[0m\u001b[0margsort\u001b[0m\u001b[1;33m(\u001b[0m\u001b[0msimilarity\u001b[0m\u001b[1;33m)\u001b[0m\u001b[1;33m)\u001b[0m\u001b[1;33m\u001b[0m\u001b[1;33m\u001b[0m\u001b[0m\n\u001b[0m\u001b[0;32m     38\u001b[0m \u001b[1;33m\u001b[0m\u001b[0m\n\u001b[0;32m     39\u001b[0m     \u001b[1;31m#number of total users\u001b[0m\u001b[1;33m\u001b[0m\u001b[1;33m\u001b[0m\u001b[1;33m\u001b[0m\u001b[0m\n",
      "\u001b[1;32m<__array_function__ internals>\u001b[0m in \u001b[0;36margsort\u001b[1;34m(*args, **kwargs)\u001b[0m\n",
      "\u001b[1;32m~\\anaconda3\\lib\\site-packages\\numpy\\core\\fromnumeric.py\u001b[0m in \u001b[0;36margsort\u001b[1;34m(a, axis, kind, order)\u001b[0m\n\u001b[0;32m   1110\u001b[0m \u001b[1;33m\u001b[0m\u001b[0m\n\u001b[0;32m   1111\u001b[0m     \"\"\"\n\u001b[1;32m-> 1112\u001b[1;33m     \u001b[1;32mreturn\u001b[0m \u001b[0m_wrapfunc\u001b[0m\u001b[1;33m(\u001b[0m\u001b[0ma\u001b[0m\u001b[1;33m,\u001b[0m \u001b[1;34m'argsort'\u001b[0m\u001b[1;33m,\u001b[0m \u001b[0maxis\u001b[0m\u001b[1;33m=\u001b[0m\u001b[0maxis\u001b[0m\u001b[1;33m,\u001b[0m \u001b[0mkind\u001b[0m\u001b[1;33m=\u001b[0m\u001b[0mkind\u001b[0m\u001b[1;33m,\u001b[0m \u001b[0morder\u001b[0m\u001b[1;33m=\u001b[0m\u001b[0morder\u001b[0m\u001b[1;33m)\u001b[0m\u001b[1;33m\u001b[0m\u001b[1;33m\u001b[0m\u001b[0m\n\u001b[0m\u001b[0;32m   1113\u001b[0m \u001b[1;33m\u001b[0m\u001b[0m\n\u001b[0;32m   1114\u001b[0m \u001b[1;33m\u001b[0m\u001b[0m\n",
      "\u001b[1;32m~\\anaconda3\\lib\\site-packages\\numpy\\core\\fromnumeric.py\u001b[0m in \u001b[0;36m_wrapfunc\u001b[1;34m(obj, method, *args, **kwds)\u001b[0m\n\u001b[0;32m     56\u001b[0m \u001b[1;33m\u001b[0m\u001b[0m\n\u001b[0;32m     57\u001b[0m     \u001b[1;32mtry\u001b[0m\u001b[1;33m:\u001b[0m\u001b[1;33m\u001b[0m\u001b[1;33m\u001b[0m\u001b[0m\n\u001b[1;32m---> 58\u001b[1;33m         \u001b[1;32mreturn\u001b[0m \u001b[0mbound\u001b[0m\u001b[1;33m(\u001b[0m\u001b[1;33m*\u001b[0m\u001b[0margs\u001b[0m\u001b[1;33m,\u001b[0m \u001b[1;33m**\u001b[0m\u001b[0mkwds\u001b[0m\u001b[1;33m)\u001b[0m\u001b[1;33m\u001b[0m\u001b[1;33m\u001b[0m\u001b[0m\n\u001b[0m\u001b[0;32m     59\u001b[0m     \u001b[1;32mexcept\u001b[0m \u001b[0mTypeError\u001b[0m\u001b[1;33m:\u001b[0m\u001b[1;33m\u001b[0m\u001b[1;33m\u001b[0m\u001b[0m\n\u001b[0;32m     60\u001b[0m         \u001b[1;31m# A TypeError occurs if the object does have such a method in its\u001b[0m\u001b[1;33m\u001b[0m\u001b[1;33m\u001b[0m\u001b[1;33m\u001b[0m\u001b[0m\n",
      "\u001b[1;31mMemoryError\u001b[0m: Unable to allocate 22.8 GiB for an array with shape (55307, 55307) and data type int64"
     ]
    }
   ],
   "source": [
    "%%time\n",
    "AOP_results = []\n",
    "MAP_results = []\n",
    "num_users = []\n",
    "timeline = []\n",
    "\n",
    "# week 18 - 31\n",
    "for wk in range(18,31):\n",
    "    \n",
    "    #mask_train = transaction_men_raw.week == wk\n",
    "    mask_train = transaction_men_raw.week <= wk\n",
    "    X_train = transaction_men_raw.loc[mask_train].reset_index(drop=True)[['customer_id','article_id']]\n",
    "    mask_test = transaction_men_raw.week == wk + 1\n",
    "    X_test = transaction_men_raw.loc[mask_test].reset_index(drop=True)[['customer_id','article_id']]\n",
    "    \n",
    "    #print(wk, len(X_train), len(X_test))\n",
    "    \n",
    "    #Get recommended items via user-based collaborative filtering\n",
    "    recommend_items = cf.all_user_collaborative_filter(X_train, \n",
    "                                                       similar_user_number = 500, max_recommend_items = 12) \n",
    "\n",
    "    #calculate AOP@12 for each train-test group\n",
    "    AOP12_top, num_user = cf.AOP(recommend_items, X_test)\n",
    "    AOP_results.append(AOP12_top)\n",
    "\n",
    "    #calculate MAP@12 for each train-test group\n",
    "    MAP12_top, num_user = cf.MAP(recommend_items, X_test)\n",
    "    MAP_results.append(MAP12_top)\n",
    "\n",
    "    #append number of users\n",
    "    num_users.append(num_user)\n",
    "    \n",
    "    #append week to timeline\n",
    "    timeline.append('Wk_'+str(wk+1))"
   ]
  },
  {
   "cell_type": "code",
   "execution_count": 6,
   "metadata": {},
   "outputs": [
    {
     "name": "stdout",
     "output_type": "stream",
     "text": [
      "[0.012532981530343006, 0.010875955320399757, 0.009003831417624513, 0.00910821098423057, 0.008271807492480179, 0.00935178068152704, 0.006907308377896624, 0.007323832145684865]\n",
      "[0.01804614019323782, 0.013347089989506218, 0.010636973180076626, 0.011157877226392731, 0.010355389908302136, 0.011121225153700176, 0.007493413840896019, 0.009158158572817545]\n",
      "[379, 567, 870, 1226, 1219, 1301, 2244, 2947]\n",
      "['Wk_19', 'Wk_20', 'Wk_21', 'Wk_22', 'Wk_23', 'Wk_24', 'Wk_25', 'Wk_26']\n"
     ]
    }
   ],
   "source": [
    "print(AOP_results)\n",
    "print(MAP_results)\n",
    "print(num_users)\n",
    "print(timeline)"
   ]
  },
  {
   "cell_type": "code",
   "execution_count": null,
   "metadata": {},
   "outputs": [],
   "source": [
    "#save results in a dataframe\n",
    "result_df = pd.DataFrame({'timeline':timeline,\n",
    "                          'AOP':AOP_results,\n",
    "                          'MAP':MAP_results,\n",
    "                          'num_users':num_users})\n",
    "\n",
    "#save the dataframe in csv\n",
    "#change file name for different period groups\n",
    "result_df.to_csv(\"../data/MenswearResults/user_based_cf.csv\")\n",
    "\n",
    "result_df.head()"
   ]
  },
  {
   "cell_type": "code",
   "execution_count": 3,
   "metadata": {},
   "outputs": [
    {
     "data": {
      "text/html": [
       "<div>\n",
       "<style scoped>\n",
       "    .dataframe tbody tr th:only-of-type {\n",
       "        vertical-align: middle;\n",
       "    }\n",
       "\n",
       "    .dataframe tbody tr th {\n",
       "        vertical-align: top;\n",
       "    }\n",
       "\n",
       "    .dataframe thead th {\n",
       "        text-align: right;\n",
       "    }\n",
       "</style>\n",
       "<table border=\"1\" class=\"dataframe\">\n",
       "  <thead>\n",
       "    <tr style=\"text-align: right;\">\n",
       "      <th></th>\n",
       "      <th>timeline</th>\n",
       "      <th>AOP</th>\n",
       "      <th>MAP</th>\n",
       "      <th>num_users</th>\n",
       "    </tr>\n",
       "  </thead>\n",
       "  <tbody>\n",
       "    <tr>\n",
       "      <th>0</th>\n",
       "      <td>Wk_19</td>\n",
       "      <td>0.012533</td>\n",
       "      <td>0.018046</td>\n",
       "      <td>379</td>\n",
       "    </tr>\n",
       "    <tr>\n",
       "      <th>1</th>\n",
       "      <td>Wk_20</td>\n",
       "      <td>0.007735</td>\n",
       "      <td>0.011129</td>\n",
       "      <td>334</td>\n",
       "    </tr>\n",
       "    <tr>\n",
       "      <th>2</th>\n",
       "      <td>Wk_21</td>\n",
       "      <td>0.011372</td>\n",
       "      <td>0.016208</td>\n",
       "      <td>447</td>\n",
       "    </tr>\n",
       "    <tr>\n",
       "      <th>3</th>\n",
       "      <td>Wk_22</td>\n",
       "      <td>0.010632</td>\n",
       "      <td>0.012934</td>\n",
       "      <td>533</td>\n",
       "    </tr>\n",
       "    <tr>\n",
       "      <th>4</th>\n",
       "      <td>Wk_23</td>\n",
       "      <td>0.008895</td>\n",
       "      <td>0.010148</td>\n",
       "      <td>534</td>\n",
       "    </tr>\n",
       "    <tr>\n",
       "      <th>5</th>\n",
       "      <td>Wk_24</td>\n",
       "      <td>0.011364</td>\n",
       "      <td>0.014354</td>\n",
       "      <td>396</td>\n",
       "    </tr>\n",
       "    <tr>\n",
       "      <th>6</th>\n",
       "      <td>Wk_25</td>\n",
       "      <td>0.008576</td>\n",
       "      <td>0.009661</td>\n",
       "      <td>583</td>\n",
       "    </tr>\n",
       "    <tr>\n",
       "      <th>7</th>\n",
       "      <td>Wk_26</td>\n",
       "      <td>0.010884</td>\n",
       "      <td>0.011560</td>\n",
       "      <td>1003</td>\n",
       "    </tr>\n",
       "    <tr>\n",
       "      <th>8</th>\n",
       "      <td>Wk_27</td>\n",
       "      <td>0.009416</td>\n",
       "      <td>0.011357</td>\n",
       "      <td>885</td>\n",
       "    </tr>\n",
       "    <tr>\n",
       "      <th>9</th>\n",
       "      <td>Wk_28</td>\n",
       "      <td>0.008191</td>\n",
       "      <td>0.010758</td>\n",
       "      <td>702</td>\n",
       "    </tr>\n",
       "    <tr>\n",
       "      <th>10</th>\n",
       "      <td>Wk_29</td>\n",
       "      <td>0.010580</td>\n",
       "      <td>0.013793</td>\n",
       "      <td>575</td>\n",
       "    </tr>\n",
       "    <tr>\n",
       "      <th>11</th>\n",
       "      <td>Wk_30</td>\n",
       "      <td>0.009892</td>\n",
       "      <td>0.013229</td>\n",
       "      <td>615</td>\n",
       "    </tr>\n",
       "    <tr>\n",
       "      <th>12</th>\n",
       "      <td>Wk_31</td>\n",
       "      <td>0.012821</td>\n",
       "      <td>0.016865</td>\n",
       "      <td>351</td>\n",
       "    </tr>\n",
       "  </tbody>\n",
       "</table>\n",
       "</div>"
      ],
      "text/plain": [
       "   timeline       AOP       MAP  num_users\n",
       "0     Wk_19  0.012533  0.018046        379\n",
       "1     Wk_20  0.007735  0.011129        334\n",
       "2     Wk_21  0.011372  0.016208        447\n",
       "3     Wk_22  0.010632  0.012934        533\n",
       "4     Wk_23  0.008895  0.010148        534\n",
       "5     Wk_24  0.011364  0.014354        396\n",
       "6     Wk_25  0.008576  0.009661        583\n",
       "7     Wk_26  0.010884  0.011560       1003\n",
       "8     Wk_27  0.009416  0.011357        885\n",
       "9     Wk_28  0.008191  0.010758        702\n",
       "10    Wk_29  0.010580  0.013793        575\n",
       "11    Wk_30  0.009892  0.013229        615\n",
       "12    Wk_31  0.012821  0.016865        351"
      ]
     },
     "execution_count": 3,
     "metadata": {},
     "output_type": "execute_result"
    }
   ],
   "source": [
    "## Read result csv file\n",
    "userCF_df = pd.read_csv(\"../data/MenswearResults/user_based_cf.csv\").iloc[:,1:]\n",
    "userCF_df"
   ]
  },
  {
   "cell_type": "code",
   "execution_count": 4,
   "metadata": {},
   "outputs": [
    {
     "data": {
      "text/plain": [
       "<matplotlib.legend.Legend at 0x5838c438>"
      ]
     },
     "execution_count": 4,
     "metadata": {},
     "output_type": "execute_result"
    },
    {
     "data": {
      "image/png": "[encoded data removed]",
      "text/plain": [
       "<Figure size 720x432 with 1 Axes>"
      ]
     },
     "metadata": {},
     "output_type": "display_data"
    }
   ],
   "source": [
    "#plot for AOP MAP\n",
    "plt.figure(figsize=(10,6))\n",
    "plt.plot(userCF_df.timeline, userCF_df.AOP, color= 'blue')\n",
    "plt.plot(userCF_df.timeline, userCF_df.MAP, color= 'orange')\n",
    "plt.xlabel('2019 May-July')\n",
    "plt.ylabel('Precision@12')\n",
    "plt.legend(['AOP','MAP'])"
   ]
  },
  {
   "cell_type": "code",
   "execution_count": 5,
   "metadata": {},
   "outputs": [
    {
     "data": {
      "text/plain": [
       "<matplotlib.legend.Legend at 0x583e9978>"
      ]
     },
     "execution_count": 5,
     "metadata": {},
     "output_type": "execute_result"
    },
    {
     "data": {
      "image/png": "[encoded data removed]",
      "text/plain": [
       "<Figure size 720x432 with 1 Axes>"
      ]
     },
     "metadata": {},
     "output_type": "display_data"
    }
   ],
   "source": [
    "#scatter plot for AOP and number of users\n",
    "plt.figure(figsize=(10,6))\n",
    "plt.scatter(userCF_df.num_users, userCF_df.AOP, color = 'blue')\n",
    "plt.scatter(userCF_df.num_users, userCF_df.MAP, color = 'orange')\n",
    "plt.xlabel('Number of customers')\n",
    "plt.ylabel('Precision@12')\n",
    "plt.legend(['AOP','MAP'])"
   ]
  },
  {
   "cell_type": "markdown",
   "metadata": {},
   "source": [
    "## User-based CF plus top-seller recommendation\n",
    "\n",
    "Use user-user similarity for returning customers and recommend top sellers (from previous week) to new customers"
   ]
  },
  {
   "cell_type": "code",
   "execution_count": null,
   "metadata": {},
   "outputs": [],
   "source": [
    "AOP_results = []\n",
    "MAP_results = []\n",
    "num_users = []\n",
    "timeline = []\n",
    "\n",
    "# week 18 - 31\n",
    "for wk in range(18,31):\n",
    "    \n",
    "    mask_train = transaction_men_raw.week == wk\n",
    "    X_train = transaction_men_raw.loc[mask_train].reset_index(drop=True)[['customer_id','article_id']]\n",
    "    mask_test = transaction_men_raw.week == wk + 1\n",
    "    X_test = transaction_men_raw.loc[mask_test].reset_index(drop=True)[['customer_id','article_id']]\n",
    "    \n",
    "    #print(wk, len(X_train), len(X_test))\n",
    "    \n",
    "    #find out top 12 selling items in training data\n",
    "    top12items = list(X_train.article_id.value_counts()[0:12].index)\n",
    "        \n",
    "    #Get recommended items via user-based collaborative filtering\n",
    "    recommend_items = cf.all_user_collaborative_filter(X_train, \n",
    "                                                       similar_user_number = 200, max_recommend_items = 12)\n",
    "    #identify all unique users in test data\n",
    "    all_unique_users_in_test = X_test.customer_id.unique()\n",
    "    \n",
    "    #add top12items to user not found in the above recommend_items\n",
    "    for user in all_unique_users_in_test:\n",
    "        if user not in recommend_items:\n",
    "            recommend_items[user] = top12items\n",
    "    \n",
    "    #calculate AOP@12 for each train-test group\n",
    "    AOP12_top, num_user = cf.AOP(recommend_items, X_test)\n",
    "    AOP_results.append(AOP12_top)\n",
    "\n",
    "    #calculate MAP@12 for each train-test group\n",
    "    MAP12_top, num_user = cf.MAP(recommend_items, X_test)\n",
    "    MAP_results.append(MAP12_top)\n",
    "\n",
    "    #append number of users\n",
    "    num_users.append(num_user)\n",
    "    \n",
    "    #append week to timeline\n",
    "    timeline.append('Wk_'+str(wk+1))"
   ]
  },
  {
   "cell_type": "code",
   "execution_count": null,
   "metadata": {},
   "outputs": [],
   "source": [
    "print(AOP_results)\n",
    "print(MAP_results)\n",
    "print(num_users)\n",
    "print(timeline)"
   ]
  },
  {
   "cell_type": "code",
   "execution_count": null,
   "metadata": {},
   "outputs": [],
   "source": [
    "#save results in a dataframe\n",
    "result_df = pd.DataFrame({'timeline':timeline,\n",
    "                          'AOP':AOP_results,\n",
    "                          'MAP':MAP_results,\n",
    "                          'num_users':num_users})\n",
    "\n",
    "#save the dataframe in csv\n",
    "#change file name for different period groups\n",
    "result_df.to_csv(\"../data/MenswearResults/userCF_plus_topSell.csv\")\n",
    "\n",
    "result_df.head()"
   ]
  },
  {
   "cell_type": "code",
   "execution_count": 3,
   "metadata": {},
   "outputs": [
    {
     "data": {
      "text/html": [
       "<div>\n",
       "<style scoped>\n",
       "    .dataframe tbody tr th:only-of-type {\n",
       "        vertical-align: middle;\n",
       "    }\n",
       "\n",
       "    .dataframe tbody tr th {\n",
       "        vertical-align: top;\n",
       "    }\n",
       "\n",
       "    .dataframe thead th {\n",
       "        text-align: right;\n",
       "    }\n",
       "</style>\n",
       "<table border=\"1\" class=\"dataframe\">\n",
       "  <thead>\n",
       "    <tr style=\"text-align: right;\">\n",
       "      <th></th>\n",
       "      <th>timeline</th>\n",
       "      <th>AOP</th>\n",
       "      <th>MAP</th>\n",
       "      <th>num_users</th>\n",
       "    </tr>\n",
       "  </thead>\n",
       "  <tbody>\n",
       "    <tr>\n",
       "      <th>0</th>\n",
       "      <td>Wk_19</td>\n",
       "      <td>0.011426</td>\n",
       "      <td>0.013330</td>\n",
       "      <td>5098</td>\n",
       "    </tr>\n",
       "    <tr>\n",
       "      <th>1</th>\n",
       "      <td>Wk_20</td>\n",
       "      <td>0.008309</td>\n",
       "      <td>0.009108</td>\n",
       "      <td>6158</td>\n",
       "    </tr>\n",
       "    <tr>\n",
       "      <th>2</th>\n",
       "      <td>Wk_21</td>\n",
       "      <td>0.009367</td>\n",
       "      <td>0.012210</td>\n",
       "      <td>6984</td>\n",
       "    </tr>\n",
       "    <tr>\n",
       "      <th>3</th>\n",
       "      <td>Wk_22</td>\n",
       "      <td>0.010046</td>\n",
       "      <td>0.012350</td>\n",
       "      <td>8212</td>\n",
       "    </tr>\n",
       "    <tr>\n",
       "      <th>4</th>\n",
       "      <td>Wk_23</td>\n",
       "      <td>0.010216</td>\n",
       "      <td>0.013005</td>\n",
       "      <td>6289</td>\n",
       "    </tr>\n",
       "    <tr>\n",
       "      <th>5</th>\n",
       "      <td>Wk_24</td>\n",
       "      <td>0.009720</td>\n",
       "      <td>0.011742</td>\n",
       "      <td>6336</td>\n",
       "    </tr>\n",
       "    <tr>\n",
       "      <th>6</th>\n",
       "      <td>Wk_25</td>\n",
       "      <td>0.008807</td>\n",
       "      <td>0.010133</td>\n",
       "      <td>9897</td>\n",
       "    </tr>\n",
       "    <tr>\n",
       "      <th>7</th>\n",
       "      <td>Wk_26</td>\n",
       "      <td>0.011005</td>\n",
       "      <td>0.011418</td>\n",
       "      <td>11093</td>\n",
       "    </tr>\n",
       "    <tr>\n",
       "      <th>8</th>\n",
       "      <td>Wk_27</td>\n",
       "      <td>0.010098</td>\n",
       "      <td>0.010915</td>\n",
       "      <td>9243</td>\n",
       "    </tr>\n",
       "    <tr>\n",
       "      <th>9</th>\n",
       "      <td>Wk_28</td>\n",
       "      <td>0.008496</td>\n",
       "      <td>0.009127</td>\n",
       "      <td>8023</td>\n",
       "    </tr>\n",
       "    <tr>\n",
       "      <th>10</th>\n",
       "      <td>Wk_29</td>\n",
       "      <td>0.010750</td>\n",
       "      <td>0.011394</td>\n",
       "      <td>7527</td>\n",
       "    </tr>\n",
       "    <tr>\n",
       "      <th>11</th>\n",
       "      <td>Wk_30</td>\n",
       "      <td>0.010968</td>\n",
       "      <td>0.014074</td>\n",
       "      <td>8844</td>\n",
       "    </tr>\n",
       "    <tr>\n",
       "      <th>12</th>\n",
       "      <td>Wk_31</td>\n",
       "      <td>0.009295</td>\n",
       "      <td>0.012561</td>\n",
       "      <td>3138</td>\n",
       "    </tr>\n",
       "  </tbody>\n",
       "</table>\n",
       "</div>"
      ],
      "text/plain": [
       "   timeline       AOP       MAP  num_users\n",
       "0     Wk_19  0.011426  0.013330       5098\n",
       "1     Wk_20  0.008309  0.009108       6158\n",
       "2     Wk_21  0.009367  0.012210       6984\n",
       "3     Wk_22  0.010046  0.012350       8212\n",
       "4     Wk_23  0.010216  0.013005       6289\n",
       "5     Wk_24  0.009720  0.011742       6336\n",
       "6     Wk_25  0.008807  0.010133       9897\n",
       "7     Wk_26  0.011005  0.011418      11093\n",
       "8     Wk_27  0.010098  0.010915       9243\n",
       "9     Wk_28  0.008496  0.009127       8023\n",
       "10    Wk_29  0.010750  0.011394       7527\n",
       "11    Wk_30  0.010968  0.014074       8844\n",
       "12    Wk_31  0.009295  0.012561       3138"
      ]
     },
     "execution_count": 3,
     "metadata": {},
     "output_type": "execute_result"
    }
   ],
   "source": [
    "## Read result csv file\n",
    "userCF_topSell_df = pd.read_csv(\"../data/MenswearResults/userCF_plus_topSell.csv\").iloc[:,1:]\n",
    "userCF_topSell_df"
   ]
  },
  {
   "cell_type": "code",
   "execution_count": 4,
   "metadata": {},
   "outputs": [
    {
     "data": {
      "text/plain": [
       "<matplotlib.legend.Legend at 0x2181b55aa30>"
      ]
     },
     "execution_count": 4,
     "metadata": {},
     "output_type": "execute_result"
    },
    {
     "data": {
      "image/png": "[encoded data removed]",
      "text/plain": [
       "<Figure size 720x432 with 1 Axes>"
      ]
     },
     "metadata": {
      "needs_background": "light"
     },
     "output_type": "display_data"
    }
   ],
   "source": [
    "#plot for AOP MAP\n",
    "plt.figure(figsize=(10,6))\n",
    "plt.plot(userCF_topSell_df.timeline, userCF_topSell_df.AOP, color= 'blue')\n",
    "plt.plot(userCF_topSell_df.timeline, userCF_topSell_df.MAP, color= 'orange')\n",
    "plt.xlabel('2019 May-July')\n",
    "plt.ylabel('Precision@12')\n",
    "plt.legend(['AOP','MAP'])"
   ]
  },
  {
   "cell_type": "code",
   "execution_count": 5,
   "metadata": {},
   "outputs": [
    {
     "data": {
      "text/plain": [
       "<matplotlib.legend.Legend at 0x2181b5edee0>"
      ]
     },
     "execution_count": 5,
     "metadata": {},
     "output_type": "execute_result"
    },
    {
     "data": {
      "image/png": "[encoded data removed]",
      "text/plain": [
       "<Figure size 720x432 with 1 Axes>"
      ]
     },
     "metadata": {
      "needs_background": "light"
     },
     "output_type": "display_data"
    }
   ],
   "source": [
    "#scatter plot for AOP and number of users\n",
    "plt.figure(figsize=(10,6))\n",
    "plt.scatter(userCF_topSell_df.num_users, userCF_topSell_df.AOP, color = 'blue')\n",
    "plt.scatter(userCF_topSell_df.num_users, userCF_topSell_df.MAP, color = 'orange')\n",
    "plt.xlabel('Number of customers')\n",
    "plt.ylabel('Precision@12')\n",
    "plt.legend(['AOP','MAP'])"
   ]
  },
  {
   "cell_type": "code",
   "execution_count": null,
   "metadata": {},
   "outputs": [],
   "source": []
  }
 ],
 "metadata": {
  "kernelspec": {
   "display_name": "Python 3",
   "language": "python",
   "name": "python3"
  },
  "language_info": {
   "codemirror_mode": {
    "name": "ipython",
    "version": 3
   },
   "file_extension": ".py",
   "mimetype": "text/x-python",
   "name": "python",
   "nbconvert_exporter": "python",
   "pygments_lexer": "ipython3",
   "version": "3.8.8"
  }
 },
 "nbformat": 4,
 "nbformat_minor": 2
}
