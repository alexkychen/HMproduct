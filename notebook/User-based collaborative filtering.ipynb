{
 "cells": [
  {
   "cell_type": "code",
   "execution_count": 1,
   "metadata": {},
   "outputs": [],
   "source": [
    "import pandas as pd\n",
    "import numpy as np\n",
    "from sklearn.metrics.pairwise import cosine_similarity"
   ]
  },
  {
   "cell_type": "code",
   "execution_count": 2,
   "metadata": {},
   "outputs": [],
   "source": [
    "def user_collaborative_filter(X, target_user, similar_user_number = 1, \n",
    "                              max_recommend_items = None, similar_user_thresh = None):\n",
    "    \"\"\"\n",
    "    X: a dataframe containing two columns, first column is users, second is purchased item\n",
    "    target_user: a string specified the user we plan to give recommendations\n",
    "    similar_user_number: select the number of top similar users\n",
    "    similar_user_thresh (WORK IN PROGRESS): a floating number between 0 and 1 to set\n",
    "                                            a minimum threshold for consine similarity\n",
    "    \"\"\"\n",
    "    \n",
    "    #add a value=1 column to data\n",
    "    X['value'] = np.ones(len(X))\n",
    "    \n",
    "    #drop duplicate rows, if one purchased more than one items\n",
    "    X.drop_duplicates(inplace=True)\n",
    "    \n",
    "    #convert dataframe to user-by-item matrix and fill nan with 0\n",
    "    user_item_df = X.pivot(index=X.columns[0], columns=X.columns[1] )['value'].fillna(0)\n",
    "    \n",
    "    #convert user_item_df to numpy matrix\n",
    "    matrix = np.array(user_item_df)\n",
    "    \n",
    "    #print(\"start cosine\")\n",
    "    #calculate cosine similarity\n",
    "    similarity = cosine_similarity(matrix)\n",
    "    #print(\"cosine end\")\n",
    "    \n",
    "    #get target user index\n",
    "    target_user_index = int(np.where(user_item_df.index == target_user)[0])\n",
    "    \n",
    "    #get the row of target user similarity\n",
    "    target_user_similarity = similarity[target_user_index,:]\n",
    "    \n",
    "    #sort the index of user similarity in descending order\n",
    "    #use [::-1] to reverse the order\n",
    "    #[1:] filter out the target user [0] itself\n",
    "    similar_user_index = np.argsort(target_user_similarity)[::-1][1:]\n",
    "    \n",
    "    recommended_items = []\n",
    "    item_list = list(user_item_df.columns)\n",
    "    #get unpurchased item index by substrating target user from most similar user\n",
    "    for i in range(similar_user_number):\n",
    "        not_purchased = matrix[similar_user_index[i]] - matrix[target_user_index]\n",
    "        \n",
    "        #check out item names\n",
    "        for j in np.where(not_purchased == 1)[0]:\n",
    "            if item_list[j] not in recommended_items:\n",
    "                recommended_items.append(item_list[j])\n",
    "                if max_recommend_items is not None:\n",
    "                    if len(recommended_items) == max_recommend_items:\n",
    "                        return recommended_items\n",
    "    \n",
    "    return recommended_items\n",
    "    "
   ]
  },
  {
   "cell_type": "code",
   "execution_count": 3,
   "metadata": {},
   "outputs": [
    {
     "data": {
      "text/plain": [
       "['d', 'e']"
      ]
     },
     "execution_count": 3,
     "metadata": {},
     "output_type": "execute_result"
    }
   ],
   "source": [
    "#TEST DRIVE\n",
    "X = pd.DataFrame({\"customer\":[\"A\",\"A\",\"A\",\"B\",\"B\",\"B\",\"C\",\"C\",\"C\",\"D\",\"D\"],\n",
    "                  \"article\":[\"a\",\"a\",\"b\",\"a\",\"b\",\"c\",\"c\",\"d\",\"e\",\"d\",\"e\"]})\n",
    "user_collaborative_filter(X, target_user = \"B\",similar_user_number = 2)"
   ]
  },
  {
   "cell_type": "code",
   "execution_count": null,
   "metadata": {},
   "outputs": [],
   "source": []
  },
  {
   "cell_type": "markdown",
   "metadata": {},
   "source": [
    "## A simple example"
   ]
  },
  {
   "cell_type": "code",
   "execution_count": 11,
   "metadata": {},
   "outputs": [
    {
     "data": {
      "text/html": [
       "<div>\n",
       "<style scoped>\n",
       "    .dataframe tbody tr th:only-of-type {\n",
       "        vertical-align: middle;\n",
       "    }\n",
       "\n",
       "    .dataframe tbody tr th {\n",
       "        vertical-align: top;\n",
       "    }\n",
       "\n",
       "    .dataframe thead th {\n",
       "        text-align: right;\n",
       "    }\n",
       "</style>\n",
       "<table border=\"1\" class=\"dataframe\">\n",
       "  <thead>\n",
       "    <tr style=\"text-align: right;\">\n",
       "      <th></th>\n",
       "      <th>customer</th>\n",
       "      <th>article</th>\n",
       "      <th>value</th>\n",
       "    </tr>\n",
       "  </thead>\n",
       "  <tbody>\n",
       "    <tr>\n",
       "      <th>0</th>\n",
       "      <td>A</td>\n",
       "      <td>a</td>\n",
       "      <td>1.0</td>\n",
       "    </tr>\n",
       "    <tr>\n",
       "      <th>1</th>\n",
       "      <td>A</td>\n",
       "      <td>a</td>\n",
       "      <td>1.0</td>\n",
       "    </tr>\n",
       "    <tr>\n",
       "      <th>2</th>\n",
       "      <td>A</td>\n",
       "      <td>b</td>\n",
       "      <td>1.0</td>\n",
       "    </tr>\n",
       "    <tr>\n",
       "      <th>3</th>\n",
       "      <td>B</td>\n",
       "      <td>a</td>\n",
       "      <td>1.0</td>\n",
       "    </tr>\n",
       "    <tr>\n",
       "      <th>4</th>\n",
       "      <td>B</td>\n",
       "      <td>b</td>\n",
       "      <td>1.0</td>\n",
       "    </tr>\n",
       "    <tr>\n",
       "      <th>5</th>\n",
       "      <td>B</td>\n",
       "      <td>c</td>\n",
       "      <td>1.0</td>\n",
       "    </tr>\n",
       "    <tr>\n",
       "      <th>6</th>\n",
       "      <td>C</td>\n",
       "      <td>c</td>\n",
       "      <td>1.0</td>\n",
       "    </tr>\n",
       "    <tr>\n",
       "      <th>7</th>\n",
       "      <td>C</td>\n",
       "      <td>d</td>\n",
       "      <td>1.0</td>\n",
       "    </tr>\n",
       "    <tr>\n",
       "      <th>8</th>\n",
       "      <td>C</td>\n",
       "      <td>e</td>\n",
       "      <td>1.0</td>\n",
       "    </tr>\n",
       "    <tr>\n",
       "      <th>9</th>\n",
       "      <td>D</td>\n",
       "      <td>d</td>\n",
       "      <td>1.0</td>\n",
       "    </tr>\n",
       "    <tr>\n",
       "      <th>10</th>\n",
       "      <td>D</td>\n",
       "      <td>e</td>\n",
       "      <td>1.0</td>\n",
       "    </tr>\n",
       "  </tbody>\n",
       "</table>\n",
       "</div>"
      ],
      "text/plain": [
       "   customer article  value\n",
       "0         A       a    1.0\n",
       "1         A       a    1.0\n",
       "2         A       b    1.0\n",
       "3         B       a    1.0\n",
       "4         B       b    1.0\n",
       "5         B       c    1.0\n",
       "6         C       c    1.0\n",
       "7         C       d    1.0\n",
       "8         C       e    1.0\n",
       "9         D       d    1.0\n",
       "10        D       e    1.0"
      ]
     },
     "execution_count": 11,
     "metadata": {},
     "output_type": "execute_result"
    }
   ],
   "source": [
    "#create user-article matrix of training data\n",
    "df_t = pd.DataFrame({\"customer\":[\"A\",\"A\",\"A\",\"B\",\"B\",\"B\",\"C\",\"C\",\"C\",\"D\",\"D\"],\n",
    "                     \"article\":[\"a\",\"a\",\"b\",\"a\",\"b\",\"c\",\"c\",\"d\",\"e\",\"d\",\"e\"],\n",
    "                     \"value\":np.ones(11)})\n",
    "df_t"
   ]
  },
  {
   "cell_type": "code",
   "execution_count": 13,
   "metadata": {},
   "outputs": [],
   "source": [
    "#remove duplicate purchase history\n",
    "df_t.drop_duplicates(inplace=True)"
   ]
  },
  {
   "cell_type": "code",
   "execution_count": 14,
   "metadata": {},
   "outputs": [
    {
     "data": {
      "text/html": [
       "<div>\n",
       "<style scoped>\n",
       "    .dataframe tbody tr th:only-of-type {\n",
       "        vertical-align: middle;\n",
       "    }\n",
       "\n",
       "    .dataframe tbody tr th {\n",
       "        vertical-align: top;\n",
       "    }\n",
       "\n",
       "    .dataframe thead th {\n",
       "        text-align: right;\n",
       "    }\n",
       "</style>\n",
       "<table border=\"1\" class=\"dataframe\">\n",
       "  <thead>\n",
       "    <tr style=\"text-align: right;\">\n",
       "      <th>article</th>\n",
       "      <th>a</th>\n",
       "      <th>b</th>\n",
       "      <th>c</th>\n",
       "      <th>d</th>\n",
       "      <th>e</th>\n",
       "    </tr>\n",
       "    <tr>\n",
       "      <th>customer</th>\n",
       "      <th></th>\n",
       "      <th></th>\n",
       "      <th></th>\n",
       "      <th></th>\n",
       "      <th></th>\n",
       "    </tr>\n",
       "  </thead>\n",
       "  <tbody>\n",
       "    <tr>\n",
       "      <th>A</th>\n",
       "      <td>1.0</td>\n",
       "      <td>1.0</td>\n",
       "      <td>0.0</td>\n",
       "      <td>0.0</td>\n",
       "      <td>0.0</td>\n",
       "    </tr>\n",
       "    <tr>\n",
       "      <th>B</th>\n",
       "      <td>1.0</td>\n",
       "      <td>1.0</td>\n",
       "      <td>1.0</td>\n",
       "      <td>0.0</td>\n",
       "      <td>0.0</td>\n",
       "    </tr>\n",
       "    <tr>\n",
       "      <th>C</th>\n",
       "      <td>0.0</td>\n",
       "      <td>0.0</td>\n",
       "      <td>1.0</td>\n",
       "      <td>1.0</td>\n",
       "      <td>1.0</td>\n",
       "    </tr>\n",
       "    <tr>\n",
       "      <th>D</th>\n",
       "      <td>0.0</td>\n",
       "      <td>0.0</td>\n",
       "      <td>0.0</td>\n",
       "      <td>1.0</td>\n",
       "      <td>1.0</td>\n",
       "    </tr>\n",
       "  </tbody>\n",
       "</table>\n",
       "</div>"
      ],
      "text/plain": [
       "article     a    b    c    d    e\n",
       "customer                         \n",
       "A         1.0  1.0  0.0  0.0  0.0\n",
       "B         1.0  1.0  1.0  0.0  0.0\n",
       "C         0.0  0.0  1.0  1.0  1.0\n",
       "D         0.0  0.0  0.0  1.0  1.0"
      ]
     },
     "execution_count": 14,
     "metadata": {},
     "output_type": "execute_result"
    }
   ],
   "source": [
    "#fill missing values with 0\n",
    "df_p = df_t.pivot(index='customer', columns=\"article\")['value'].fillna(0)\n",
    "df_p"
   ]
  },
  {
   "cell_type": "code",
   "execution_count": 51,
   "metadata": {},
   "outputs": [
    {
     "data": {
      "text/plain": [
       "1"
      ]
     },
     "execution_count": 51,
     "metadata": {},
     "output_type": "execute_result"
    }
   ],
   "source": [
    "user = 'B'\n",
    "int(np.where(df_p.index == user)[0])"
   ]
  },
  {
   "cell_type": "code",
   "execution_count": 6,
   "metadata": {},
   "outputs": [
    {
     "data": {
      "text/plain": [
       "array([[1., 1., 0., 0., 0.],\n",
       "       [1., 1., 1., 0., 0.],\n",
       "       [0., 0., 1., 1., 1.],\n",
       "       [0., 0., 0., 1., 1.]])"
      ]
     },
     "execution_count": 6,
     "metadata": {},
     "output_type": "execute_result"
    }
   ],
   "source": [
    "#conver dataframe to numpy matrix\n",
    "df_m = np.array(df_p)\n",
    "df_m"
   ]
  },
  {
   "cell_type": "code",
   "execution_count": 7,
   "metadata": {},
   "outputs": [
    {
     "data": {
      "text/plain": [
       "array([[1.        , 0.81649658, 0.        , 0.        ],\n",
       "       [0.81649658, 1.        , 0.33333333, 0.        ],\n",
       "       [0.        , 0.33333333, 1.        , 0.81649658],\n",
       "       [0.        , 0.        , 0.81649658, 1.        ]])"
      ]
     },
     "execution_count": 7,
     "metadata": {},
     "output_type": "execute_result"
    }
   ],
   "source": [
    "#calculating pairwise cosine similarity\n",
    "similarity = cosine_similarity(df_m)\n",
    "similarity"
   ]
  },
  {
   "cell_type": "code",
   "execution_count": 8,
   "metadata": {},
   "outputs": [
    {
     "data": {
      "text/plain": [
       "array([1.        , 0.81649658, 0.        , 0.        ])"
      ]
     },
     "execution_count": 8,
     "metadata": {},
     "output_type": "execute_result"
    }
   ],
   "source": [
    "#Identify similar customers to customer A (index=0)\n",
    "similarity[0,:]"
   ]
  },
  {
   "cell_type": "code",
   "execution_count": 9,
   "metadata": {},
   "outputs": [
    {
     "data": {
      "text/plain": [
       "array([0, 1])"
      ]
     },
     "execution_count": 9,
     "metadata": {},
     "output_type": "execute_result"
    }
   ],
   "source": [
    "np.where(similarity[0,:] > 0.8)[0]"
   ]
  },
  {
   "cell_type": "code",
   "execution_count": 10,
   "metadata": {},
   "outputs": [
    {
     "data": {
      "text/plain": [
       "array([1, 3, 2])"
      ]
     },
     "execution_count": 10,
     "metadata": {},
     "output_type": "execute_result"
    }
   ],
   "source": [
    "np.argsort(similarity[0,:])[::-1][1:]"
   ]
  },
  {
   "cell_type": "code",
   "execution_count": 11,
   "metadata": {},
   "outputs": [
    {
     "data": {
      "text/plain": [
       "(array([2]),)"
      ]
     },
     "execution_count": 11,
     "metadata": {},
     "output_type": "execute_result"
    }
   ],
   "source": [
    "#Get index of articles which were not yet purchased by the customer A, but purchased by cutomer B\n",
    "not_purchased = df_m[1] - df_m[0]\n",
    "np.where(not_purchased == 1)"
   ]
  },
  {
   "cell_type": "code",
   "execution_count": 12,
   "metadata": {},
   "outputs": [
    {
     "data": {
      "text/plain": [
       "['c']"
      ]
     },
     "execution_count": 12,
     "metadata": {},
     "output_type": "execute_result"
    }
   ],
   "source": [
    "#check non-purchased items in df_p columns\n",
    "recommended_items = [ list(df_p.columns)[i] for i in np.where(not_purchased == 1)[0]]\n",
    "recommended_items"
   ]
  },
  {
   "cell_type": "code",
   "execution_count": 13,
   "metadata": {},
   "outputs": [
    {
     "data": {
      "text/plain": [
       "array([0.81649658, 1.        , 0.33333333, 0.        ])"
      ]
     },
     "execution_count": 13,
     "metadata": {},
     "output_type": "execute_result"
    }
   ],
   "source": [
    "#If we recommend to customer B [1]\n",
    "similarity[1,:]"
   ]
  },
  {
   "cell_type": "code",
   "execution_count": 14,
   "metadata": {},
   "outputs": [
    {
     "data": {
      "text/plain": [
       "array([0, 2, 3])"
      ]
     },
     "execution_count": 14,
     "metadata": {},
     "output_type": "execute_result"
    }
   ],
   "source": [
    "np.argsort(similarity[1,:])[::-1][1:]"
   ]
  },
  {
   "cell_type": "code",
   "execution_count": 15,
   "metadata": {},
   "outputs": [
    {
     "data": {
      "text/plain": [
       "(array([], dtype=int64),)"
      ]
     },
     "execution_count": 15,
     "metadata": {},
     "output_type": "execute_result"
    }
   ],
   "source": [
    "not_purchased = df_m[0] - df_m[1]\n",
    "np.where(not_purchased == 1)"
   ]
  },
  {
   "cell_type": "code",
   "execution_count": 16,
   "metadata": {},
   "outputs": [
    {
     "data": {
      "text/plain": [
       "[]"
      ]
     },
     "execution_count": 16,
     "metadata": {},
     "output_type": "execute_result"
    }
   ],
   "source": [
    "recommended_items = [ list(df_p.columns)[i] for i in np.where(not_purchased == 1)[0]]\n",
    "recommended_items"
   ]
  },
  {
   "cell_type": "markdown",
   "metadata": {},
   "source": [
    "## Dive in H&M dataset"
   ]
  },
  {
   "cell_type": "code",
   "execution_count": 4,
   "metadata": {},
   "outputs": [
    {
     "name": "stdout",
     "output_type": "stream",
     "text": [
      "CPU times: user 29.3 s, sys: 9.82 s, total: 39.1 s\n",
      "Wall time: 43.7 s\n"
     ]
    }
   ],
   "source": [
    "%%time\n",
    "transaction_raw = pd.read_csv(\"../data/transactions_train.csv\") "
   ]
  },
  {
   "cell_type": "code",
   "execution_count": 5,
   "metadata": {},
   "outputs": [
    {
     "data": {
      "text/html": [
       "<div>\n",
       "<style scoped>\n",
       "    .dataframe tbody tr th:only-of-type {\n",
       "        vertical-align: middle;\n",
       "    }\n",
       "\n",
       "    .dataframe tbody tr th {\n",
       "        vertical-align: top;\n",
       "    }\n",
       "\n",
       "    .dataframe thead th {\n",
       "        text-align: right;\n",
       "    }\n",
       "</style>\n",
       "<table border=\"1\" class=\"dataframe\">\n",
       "  <thead>\n",
       "    <tr style=\"text-align: right;\">\n",
       "      <th></th>\n",
       "      <th>t_dat</th>\n",
       "      <th>customer_id</th>\n",
       "      <th>article_id</th>\n",
       "      <th>price</th>\n",
       "      <th>sales_channel_id</th>\n",
       "    </tr>\n",
       "  </thead>\n",
       "  <tbody>\n",
       "    <tr>\n",
       "      <th>0</th>\n",
       "      <td>2019-05-01</td>\n",
       "      <td>00019d6c20e0fbb551af18c57149af4707ec016bb0decd...</td>\n",
       "      <td>524061003</td>\n",
       "      <td>0.050831</td>\n",
       "      <td>2</td>\n",
       "    </tr>\n",
       "    <tr>\n",
       "      <th>1</th>\n",
       "      <td>2019-05-01</td>\n",
       "      <td>00019d6c20e0fbb551af18c57149af4707ec016bb0decd...</td>\n",
       "      <td>735404001</td>\n",
       "      <td>0.050831</td>\n",
       "      <td>2</td>\n",
       "    </tr>\n",
       "    <tr>\n",
       "      <th>2</th>\n",
       "      <td>2019-05-01</td>\n",
       "      <td>00019d6c20e0fbb551af18c57149af4707ec016bb0decd...</td>\n",
       "      <td>700370004</td>\n",
       "      <td>0.016932</td>\n",
       "      <td>2</td>\n",
       "    </tr>\n",
       "    <tr>\n",
       "      <th>3</th>\n",
       "      <td>2019-05-01</td>\n",
       "      <td>00019d6c20e0fbb551af18c57149af4707ec016bb0decd...</td>\n",
       "      <td>618800001</td>\n",
       "      <td>0.033881</td>\n",
       "      <td>2</td>\n",
       "    </tr>\n",
       "    <tr>\n",
       "      <th>4</th>\n",
       "      <td>2019-05-01</td>\n",
       "      <td>00019d6c20e0fbb551af18c57149af4707ec016bb0decd...</td>\n",
       "      <td>731407001</td>\n",
       "      <td>0.016932</td>\n",
       "      <td>2</td>\n",
       "    </tr>\n",
       "    <tr>\n",
       "      <th>...</th>\n",
       "      <td>...</td>\n",
       "      <td>...</td>\n",
       "      <td>...</td>\n",
       "      <td>...</td>\n",
       "      <td>...</td>\n",
       "    </tr>\n",
       "    <tr>\n",
       "      <th>4953538</th>\n",
       "      <td>2019-07-25</td>\n",
       "      <td>fff3e75605ec575be9b95eda1e6557299e81bba12668d7...</td>\n",
       "      <td>751530001</td>\n",
       "      <td>0.011847</td>\n",
       "      <td>1</td>\n",
       "    </tr>\n",
       "    <tr>\n",
       "      <th>4953539</th>\n",
       "      <td>2019-07-25</td>\n",
       "      <td>fff3e75605ec575be9b95eda1e6557299e81bba12668d7...</td>\n",
       "      <td>800988001</td>\n",
       "      <td>0.028458</td>\n",
       "      <td>1</td>\n",
       "    </tr>\n",
       "    <tr>\n",
       "      <th>4953540</th>\n",
       "      <td>2019-07-25</td>\n",
       "      <td>fff4d3a8b1f3b60af93e78c30a7cb4cf75edaf2590d3e5...</td>\n",
       "      <td>749699001</td>\n",
       "      <td>0.025407</td>\n",
       "      <td>1</td>\n",
       "    </tr>\n",
       "    <tr>\n",
       "      <th>4953541</th>\n",
       "      <td>2019-07-25</td>\n",
       "      <td>fff4d3a8b1f3b60af93e78c30a7cb4cf75edaf2590d3e5...</td>\n",
       "      <td>507883009</td>\n",
       "      <td>0.013542</td>\n",
       "      <td>1</td>\n",
       "    </tr>\n",
       "    <tr>\n",
       "      <th>4953542</th>\n",
       "      <td>2019-07-25</td>\n",
       "      <td>fff4d3a8b1f3b60af93e78c30a7cb4cf75edaf2590d3e5...</td>\n",
       "      <td>788261001</td>\n",
       "      <td>0.008458</td>\n",
       "      <td>1</td>\n",
       "    </tr>\n",
       "  </tbody>\n",
       "</table>\n",
       "<p>4953543 rows × 5 columns</p>\n",
       "</div>"
      ],
      "text/plain": [
       "              t_dat                                        customer_id  \\\n",
       "0        2019-05-01  00019d6c20e0fbb551af18c57149af4707ec016bb0decd...   \n",
       "1        2019-05-01  00019d6c20e0fbb551af18c57149af4707ec016bb0decd...   \n",
       "2        2019-05-01  00019d6c20e0fbb551af18c57149af4707ec016bb0decd...   \n",
       "3        2019-05-01  00019d6c20e0fbb551af18c57149af4707ec016bb0decd...   \n",
       "4        2019-05-01  00019d6c20e0fbb551af18c57149af4707ec016bb0decd...   \n",
       "...             ...                                                ...   \n",
       "4953538  2019-07-25  fff3e75605ec575be9b95eda1e6557299e81bba12668d7...   \n",
       "4953539  2019-07-25  fff3e75605ec575be9b95eda1e6557299e81bba12668d7...   \n",
       "4953540  2019-07-25  fff4d3a8b1f3b60af93e78c30a7cb4cf75edaf2590d3e5...   \n",
       "4953541  2019-07-25  fff4d3a8b1f3b60af93e78c30a7cb4cf75edaf2590d3e5...   \n",
       "4953542  2019-07-25  fff4d3a8b1f3b60af93e78c30a7cb4cf75edaf2590d3e5...   \n",
       "\n",
       "         article_id     price  sales_channel_id  \n",
       "0         524061003  0.050831                 2  \n",
       "1         735404001  0.050831                 2  \n",
       "2         700370004  0.016932                 2  \n",
       "3         618800001  0.033881                 2  \n",
       "4         731407001  0.016932                 2  \n",
       "...             ...       ...               ...  \n",
       "4953538   751530001  0.011847                 1  \n",
       "4953539   800988001  0.028458                 1  \n",
       "4953540   749699001  0.025407                 1  \n",
       "4953541   507883009  0.013542                 1  \n",
       "4953542   788261001  0.008458                 1  \n",
       "\n",
       "[4953543 rows x 5 columns]"
      ]
     },
     "execution_count": 5,
     "metadata": {},
     "output_type": "execute_result"
    }
   ],
   "source": [
    "#Get training data from 2019-5-1 to 2019-7-25\n",
    "mask_train = (transaction_raw.t_dat >= '2019-05-01') & (transaction_raw.t_dat <= '2019-07-25')\n",
    "train_raw = transaction_raw.loc[mask_train].reset_index(drop=True)\n",
    "train_raw"
   ]
  },
  {
   "cell_type": "code",
   "execution_count": 6,
   "metadata": {},
   "outputs": [
    {
     "data": {
      "text/html": [
       "<div>\n",
       "<style scoped>\n",
       "    .dataframe tbody tr th:only-of-type {\n",
       "        vertical-align: middle;\n",
       "    }\n",
       "\n",
       "    .dataframe tbody tr th {\n",
       "        vertical-align: top;\n",
       "    }\n",
       "\n",
       "    .dataframe thead th {\n",
       "        text-align: right;\n",
       "    }\n",
       "</style>\n",
       "<table border=\"1\" class=\"dataframe\">\n",
       "  <thead>\n",
       "    <tr style=\"text-align: right;\">\n",
       "      <th></th>\n",
       "      <th>t_dat</th>\n",
       "      <th>customer_id</th>\n",
       "      <th>article_id</th>\n",
       "      <th>price</th>\n",
       "      <th>sales_channel_id</th>\n",
       "    </tr>\n",
       "  </thead>\n",
       "  <tbody>\n",
       "    <tr>\n",
       "      <th>0</th>\n",
       "      <td>2019-07-26</td>\n",
       "      <td>0000423b00ade91418cceaf3b26c6af3dd342b51fd051e...</td>\n",
       "      <td>740943002</td>\n",
       "      <td>0.013542</td>\n",
       "      <td>2</td>\n",
       "    </tr>\n",
       "    <tr>\n",
       "      <th>1</th>\n",
       "      <td>2019-07-26</td>\n",
       "      <td>0002db27a1651998a3de4463437b580b45dfa7d8107afa...</td>\n",
       "      <td>773980002</td>\n",
       "      <td>0.010153</td>\n",
       "      <td>1</td>\n",
       "    </tr>\n",
       "    <tr>\n",
       "      <th>2</th>\n",
       "      <td>2019-07-26</td>\n",
       "      <td>0006d3ff0caf0cb4d4e0615ee5cb7d268622364d483335...</td>\n",
       "      <td>752020001</td>\n",
       "      <td>0.022017</td>\n",
       "      <td>1</td>\n",
       "    </tr>\n",
       "    <tr>\n",
       "      <th>3</th>\n",
       "      <td>2019-07-26</td>\n",
       "      <td>000c6b4be3802318b68fe21ac36b119ef6568f42a82f18...</td>\n",
       "      <td>650672001</td>\n",
       "      <td>0.007610</td>\n",
       "      <td>2</td>\n",
       "    </tr>\n",
       "    <tr>\n",
       "      <th>4</th>\n",
       "      <td>2019-07-26</td>\n",
       "      <td>000c6b4be3802318b68fe21ac36b119ef6568f42a82f18...</td>\n",
       "      <td>740720002</td>\n",
       "      <td>0.007610</td>\n",
       "      <td>2</td>\n",
       "    </tr>\n",
       "    <tr>\n",
       "      <th>...</th>\n",
       "      <td>...</td>\n",
       "      <td>...</td>\n",
       "      <td>...</td>\n",
       "      <td>...</td>\n",
       "      <td>...</td>\n",
       "    </tr>\n",
       "    <tr>\n",
       "      <th>372838</th>\n",
       "      <td>2019-08-01</td>\n",
       "      <td>fff613e0adf409bc8acf40c7eabb40f377c7d4f7b12f61...</td>\n",
       "      <td>719209001</td>\n",
       "      <td>0.016932</td>\n",
       "      <td>2</td>\n",
       "    </tr>\n",
       "    <tr>\n",
       "      <th>372839</th>\n",
       "      <td>2019-08-01</td>\n",
       "      <td>fff613e0adf409bc8acf40c7eabb40f377c7d4f7b12f61...</td>\n",
       "      <td>720426001</td>\n",
       "      <td>0.025407</td>\n",
       "      <td>2</td>\n",
       "    </tr>\n",
       "    <tr>\n",
       "      <th>372840</th>\n",
       "      <td>2019-08-01</td>\n",
       "      <td>fff613e0adf409bc8acf40c7eabb40f377c7d4f7b12f61...</td>\n",
       "      <td>713199001</td>\n",
       "      <td>0.033881</td>\n",
       "      <td>2</td>\n",
       "    </tr>\n",
       "    <tr>\n",
       "      <th>372841</th>\n",
       "      <td>2019-08-01</td>\n",
       "      <td>fff613e0adf409bc8acf40c7eabb40f377c7d4f7b12f61...</td>\n",
       "      <td>739590002</td>\n",
       "      <td>0.016932</td>\n",
       "      <td>2</td>\n",
       "    </tr>\n",
       "    <tr>\n",
       "      <th>372842</th>\n",
       "      <td>2019-08-01</td>\n",
       "      <td>fff887d056fff68679d6e2491588ee4e83e57bf077ca7a...</td>\n",
       "      <td>713774006</td>\n",
       "      <td>0.022017</td>\n",
       "      <td>1</td>\n",
       "    </tr>\n",
       "  </tbody>\n",
       "</table>\n",
       "<p>372843 rows × 5 columns</p>\n",
       "</div>"
      ],
      "text/plain": [
       "             t_dat                                        customer_id  \\\n",
       "0       2019-07-26  0000423b00ade91418cceaf3b26c6af3dd342b51fd051e...   \n",
       "1       2019-07-26  0002db27a1651998a3de4463437b580b45dfa7d8107afa...   \n",
       "2       2019-07-26  0006d3ff0caf0cb4d4e0615ee5cb7d268622364d483335...   \n",
       "3       2019-07-26  000c6b4be3802318b68fe21ac36b119ef6568f42a82f18...   \n",
       "4       2019-07-26  000c6b4be3802318b68fe21ac36b119ef6568f42a82f18...   \n",
       "...            ...                                                ...   \n",
       "372838  2019-08-01  fff613e0adf409bc8acf40c7eabb40f377c7d4f7b12f61...   \n",
       "372839  2019-08-01  fff613e0adf409bc8acf40c7eabb40f377c7d4f7b12f61...   \n",
       "372840  2019-08-01  fff613e0adf409bc8acf40c7eabb40f377c7d4f7b12f61...   \n",
       "372841  2019-08-01  fff613e0adf409bc8acf40c7eabb40f377c7d4f7b12f61...   \n",
       "372842  2019-08-01  fff887d056fff68679d6e2491588ee4e83e57bf077ca7a...   \n",
       "\n",
       "        article_id     price  sales_channel_id  \n",
       "0        740943002  0.013542                 2  \n",
       "1        773980002  0.010153                 1  \n",
       "2        752020001  0.022017                 1  \n",
       "3        650672001  0.007610                 2  \n",
       "4        740720002  0.007610                 2  \n",
       "...            ...       ...               ...  \n",
       "372838   719209001  0.016932                 2  \n",
       "372839   720426001  0.025407                 2  \n",
       "372840   713199001  0.033881                 2  \n",
       "372841   739590002  0.016932                 2  \n",
       "372842   713774006  0.022017                 1  \n",
       "\n",
       "[372843 rows x 5 columns]"
      ]
     },
     "execution_count": 6,
     "metadata": {},
     "output_type": "execute_result"
    }
   ],
   "source": [
    "#Get test data from 2019-7-26 to 2019-8-1\n",
    "mask_test = (transaction_raw.t_dat >= '2019-07-26') & (transaction_raw.t_dat <= '2019-08-01')\n",
    "test_raw = transaction_raw.loc[mask_test].reset_index(drop=True)\n",
    "test_raw"
   ]
  },
  {
   "cell_type": "code",
   "execution_count": 7,
   "metadata": {},
   "outputs": [],
   "source": [
    "#Get X_train for user_collaborative_filter\n",
    "X_train = train_raw[[\"customer_id\",\"article_id\"]].head(120000)"
   ]
  },
  {
   "cell_type": "code",
   "execution_count": null,
   "metadata": {},
   "outputs": [],
   "source": [
    "%%time\n",
    "customer = X_train.customer_id[0]\n",
    "user_collaborative_filter(X_train, target_user = customer, similar_user_number = 1)"
   ]
  },
  {
   "cell_type": "code",
   "execution_count": 45,
   "metadata": {},
   "outputs": [
    {
     "data": {
      "text/plain": [
       "[769434001, 742083002]"
      ]
     },
     "execution_count": 45,
     "metadata": {},
     "output_type": "execute_result"
    }
   ],
   "source": [
    "user_collaborative_filter(X_train, target_user = customer, similar_user_number = 2)"
   ]
  },
  {
   "cell_type": "code",
   "execution_count": 47,
   "metadata": {},
   "outputs": [
    {
     "name": "stdout",
     "output_type": "stream",
     "text": [
      "CPU times: user 55.8 s, sys: 3.32 s, total: 59.2 s\n",
      "Wall time: 36.1 s\n"
     ]
    },
    {
     "data": {
      "text/plain": [
       "[769434001, 742083002, 661333002]"
      ]
     },
     "execution_count": 47,
     "metadata": {},
     "output_type": "execute_result"
    }
   ],
   "source": [
    "%%time\n",
    "\n",
    "user_collaborative_filter(X_train, target_user = customer, similar_user_number = 3, max_recommend_items=12)"
   ]
  },
  {
   "cell_type": "code",
   "execution_count": 51,
   "metadata": {},
   "outputs": [
    {
     "name": "stdout",
     "output_type": "stream",
     "text": [
      "start cosine\n",
      "cosine end\n",
      "CPU times: user 57.2 s, sys: 3.6 s, total: 1min\n",
      "Wall time: 38.1 s\n"
     ]
    },
    {
     "data": {
      "text/plain": [
       "[769434001,\n",
       " 742083002,\n",
       " 661333002,\n",
       " 669882007,\n",
       " 735550003,\n",
       " 746329003,\n",
       " 735404002,\n",
       " 775629001,\n",
       " 600886001,\n",
       " 628917001,\n",
       " 643642001,\n",
       " 733419005]"
      ]
     },
     "execution_count": 51,
     "metadata": {},
     "output_type": "execute_result"
    }
   ],
   "source": [
    "%%time\n",
    "\n",
    "user_collaborative_filter(X_train, target_user = customer, similar_user_number = 100, max_recommend_items=12)"
   ]
  },
  {
   "cell_type": "code",
   "execution_count": 41,
   "metadata": {},
   "outputs": [
    {
     "data": {
      "text/plain": [
       "[735550003,\n",
       " 746329003,\n",
       " 696209005,\n",
       " 727347005,\n",
       " 749699007,\n",
       " 699075009,\n",
       " 723370002,\n",
       " 733267001,\n",
       " 735428002,\n",
       " 629420001,\n",
       " 699598008,\n",
       " 674606006,\n",
       " 702623002,\n",
       " 788107002]"
      ]
     },
     "execution_count": 41,
     "metadata": {},
     "output_type": "execute_result"
    }
   ],
   "source": [
    "user_collaborative_filter(X_train, target_user = customer, similar_user_number = 7)"
   ]
  },
  {
   "cell_type": "code",
   "execution_count": null,
   "metadata": {},
   "outputs": [],
   "source": []
  }
 ],
 "metadata": {
  "kernelspec": {
   "display_name": "Python 3 (ipykernel)",
   "language": "python",
   "name": "python3"
  },
  "language_info": {
   "codemirror_mode": {
    "name": "ipython",
    "version": 3
   },
   "file_extension": ".py",
   "mimetype": "text/x-python",
   "name": "python",
   "nbconvert_exporter": "python",
   "pygments_lexer": "ipython3",
   "version": "3.9.10"
  }
 },
 "nbformat": 4,
 "nbformat_minor": 2
}
