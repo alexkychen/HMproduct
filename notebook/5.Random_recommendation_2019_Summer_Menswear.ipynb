{
 "cells": [
  {
   "cell_type": "markdown",
   "id": "20db3566",
   "metadata": {},
   "source": [
    "## Randomly recommend 12 articles to customers for 2019 Summer Menswear data"
   ]
  },
  {
   "cell_type": "code",
   "execution_count": 7,
   "id": "175f21b2",
   "metadata": {},
   "outputs": [],
   "source": [
    "import pandas as pd\n",
    "import numpy as np\n",
    "import collaborative_filter as cf\n",
    "import matplotlib.pyplot as plt\n",
    "import random"
   ]
  },
  {
   "cell_type": "code",
   "execution_count": 2,
   "id": "6ef1d8bf",
   "metadata": {},
   "outputs": [
    {
     "data": {
      "text/html": [
       "<div>\n",
       "<style scoped>\n",
       "    .dataframe tbody tr th:only-of-type {\n",
       "        vertical-align: middle;\n",
       "    }\n",
       "\n",
       "    .dataframe tbody tr th {\n",
       "        vertical-align: top;\n",
       "    }\n",
       "\n",
       "    .dataframe thead th {\n",
       "        text-align: right;\n",
       "    }\n",
       "</style>\n",
       "<table border=\"1\" class=\"dataframe\">\n",
       "  <thead>\n",
       "    <tr style=\"text-align: right;\">\n",
       "      <th></th>\n",
       "      <th>Unnamed: 0</th>\n",
       "      <th>t_dat</th>\n",
       "      <th>customer_id</th>\n",
       "      <th>article_id</th>\n",
       "      <th>price</th>\n",
       "      <th>sales_channel_id</th>\n",
       "      <th>year</th>\n",
       "      <th>month</th>\n",
       "      <th>week</th>\n",
       "      <th>product_code</th>\n",
       "      <th>...</th>\n",
       "      <th>department_name</th>\n",
       "      <th>index_code</th>\n",
       "      <th>index_name</th>\n",
       "      <th>index_group_no</th>\n",
       "      <th>index_group_name</th>\n",
       "      <th>section_no</th>\n",
       "      <th>section_name</th>\n",
       "      <th>garment_group_no</th>\n",
       "      <th>garment_group_name</th>\n",
       "      <th>detail_desc</th>\n",
       "    </tr>\n",
       "  </thead>\n",
       "  <tbody>\n",
       "    <tr>\n",
       "      <th>0</th>\n",
       "      <td>60</td>\n",
       "      <td>2019-05-01</td>\n",
       "      <td>00357b192b81fc83261a45be87f5f3d59112db7d117513...</td>\n",
       "      <td>743719001</td>\n",
       "      <td>0.050831</td>\n",
       "      <td>2</td>\n",
       "      <td>2019</td>\n",
       "      <td>5</td>\n",
       "      <td>18</td>\n",
       "      <td>743719</td>\n",
       "      <td>...</td>\n",
       "      <td>Shoes</td>\n",
       "      <td>F</td>\n",
       "      <td>Menswear</td>\n",
       "      <td>3</td>\n",
       "      <td>Menswear</td>\n",
       "      <td>27</td>\n",
       "      <td>Men Shoes</td>\n",
       "      <td>1020</td>\n",
       "      <td>Shoes</td>\n",
       "      <td>Cotton canvas trainers with a padded edge and ...</td>\n",
       "    </tr>\n",
       "    <tr>\n",
       "      <th>1</th>\n",
       "      <td>140</td>\n",
       "      <td>2019-05-01</td>\n",
       "      <td>0083ee250b3845008465de0e938d0ed2ae4f5bfde8b56e...</td>\n",
       "      <td>507431031</td>\n",
       "      <td>0.015237</td>\n",
       "      <td>2</td>\n",
       "      <td>2019</td>\n",
       "      <td>5</td>\n",
       "      <td>18</td>\n",
       "      <td>507431</td>\n",
       "      <td>...</td>\n",
       "      <td>Jersey inactive from s1</td>\n",
       "      <td>F</td>\n",
       "      <td>Menswear</td>\n",
       "      <td>3</td>\n",
       "      <td>Menswear</td>\n",
       "      <td>55</td>\n",
       "      <td>Contemporary Street</td>\n",
       "      <td>1005</td>\n",
       "      <td>Jersey Fancy</td>\n",
       "      <td>T-shirt in hard-washed slub cotton jersey with...</td>\n",
       "    </tr>\n",
       "    <tr>\n",
       "      <th>2</th>\n",
       "      <td>141</td>\n",
       "      <td>2019-05-01</td>\n",
       "      <td>0083ee250b3845008465de0e938d0ed2ae4f5bfde8b56e...</td>\n",
       "      <td>378447036</td>\n",
       "      <td>0.054220</td>\n",
       "      <td>2</td>\n",
       "      <td>2019</td>\n",
       "      <td>5</td>\n",
       "      <td>18</td>\n",
       "      <td>378447</td>\n",
       "      <td>...</td>\n",
       "      <td>Knitwear</td>\n",
       "      <td>F</td>\n",
       "      <td>Menswear</td>\n",
       "      <td>3</td>\n",
       "      <td>Menswear</td>\n",
       "      <td>23</td>\n",
       "      <td>Men Suits &amp; Tailoring</td>\n",
       "      <td>1003</td>\n",
       "      <td>Knitwear</td>\n",
       "      <td>Jumper in fine-knit merino wool with a V-neck ...</td>\n",
       "    </tr>\n",
       "    <tr>\n",
       "      <th>3</th>\n",
       "      <td>142</td>\n",
       "      <td>2019-05-01</td>\n",
       "      <td>0083ee250b3845008465de0e938d0ed2ae4f5bfde8b56e...</td>\n",
       "      <td>657850001</td>\n",
       "      <td>0.030492</td>\n",
       "      <td>2</td>\n",
       "      <td>2019</td>\n",
       "      <td>5</td>\n",
       "      <td>18</td>\n",
       "      <td>657850</td>\n",
       "      <td>...</td>\n",
       "      <td>Knitwear</td>\n",
       "      <td>F</td>\n",
       "      <td>Menswear</td>\n",
       "      <td>3</td>\n",
       "      <td>Menswear</td>\n",
       "      <td>20</td>\n",
       "      <td>Contemporary Smart</td>\n",
       "      <td>1003</td>\n",
       "      <td>Knitwear</td>\n",
       "      <td>Jumper in a textured-knit wool blend with long...</td>\n",
       "    </tr>\n",
       "    <tr>\n",
       "      <th>4</th>\n",
       "      <td>143</td>\n",
       "      <td>2019-05-01</td>\n",
       "      <td>0083ee250b3845008465de0e938d0ed2ae4f5bfde8b56e...</td>\n",
       "      <td>598755015</td>\n",
       "      <td>0.013542</td>\n",
       "      <td>2</td>\n",
       "      <td>2019</td>\n",
       "      <td>5</td>\n",
       "      <td>18</td>\n",
       "      <td>598755</td>\n",
       "      <td>...</td>\n",
       "      <td>Light Basic Jersey</td>\n",
       "      <td>F</td>\n",
       "      <td>Menswear</td>\n",
       "      <td>3</td>\n",
       "      <td>Menswear</td>\n",
       "      <td>26</td>\n",
       "      <td>Men Underwear</td>\n",
       "      <td>1002</td>\n",
       "      <td>Jersey Basic</td>\n",
       "      <td>Long, round-necked T-shirt in soft jersey with...</td>\n",
       "    </tr>\n",
       "    <tr>\n",
       "      <th>...</th>\n",
       "      <td>...</td>\n",
       "      <td>...</td>\n",
       "      <td>...</td>\n",
       "      <td>...</td>\n",
       "      <td>...</td>\n",
       "      <td>...</td>\n",
       "      <td>...</td>\n",
       "      <td>...</td>\n",
       "      <td>...</td>\n",
       "      <td>...</td>\n",
       "      <td>...</td>\n",
       "      <td>...</td>\n",
       "      <td>...</td>\n",
       "      <td>...</td>\n",
       "      <td>...</td>\n",
       "      <td>...</td>\n",
       "      <td>...</td>\n",
       "      <td>...</td>\n",
       "      <td>...</td>\n",
       "      <td>...</td>\n",
       "      <td>...</td>\n",
       "    </tr>\n",
       "    <tr>\n",
       "      <th>286342</th>\n",
       "      <td>5273975</td>\n",
       "      <td>2019-07-31</td>\n",
       "      <td>ffc55f51a8636d9cc7b2834ae0886b1136a71a80124836...</td>\n",
       "      <td>736769005</td>\n",
       "      <td>0.006695</td>\n",
       "      <td>2</td>\n",
       "      <td>2019</td>\n",
       "      <td>7</td>\n",
       "      <td>31</td>\n",
       "      <td>736769</td>\n",
       "      <td>...</td>\n",
       "      <td>Jersey Fancy</td>\n",
       "      <td>F</td>\n",
       "      <td>Menswear</td>\n",
       "      <td>3</td>\n",
       "      <td>Menswear</td>\n",
       "      <td>21</td>\n",
       "      <td>Contemporary Casual</td>\n",
       "      <td>1005</td>\n",
       "      <td>Jersey Fancy</td>\n",
       "      <td>Vest top in cotton jersey with a print motif.</td>\n",
       "    </tr>\n",
       "    <tr>\n",
       "      <th>286343</th>\n",
       "      <td>5273976</td>\n",
       "      <td>2019-07-31</td>\n",
       "      <td>ffc55f51a8636d9cc7b2834ae0886b1136a71a80124836...</td>\n",
       "      <td>736769005</td>\n",
       "      <td>0.006695</td>\n",
       "      <td>2</td>\n",
       "      <td>2019</td>\n",
       "      <td>7</td>\n",
       "      <td>31</td>\n",
       "      <td>736769</td>\n",
       "      <td>...</td>\n",
       "      <td>Jersey Fancy</td>\n",
       "      <td>F</td>\n",
       "      <td>Menswear</td>\n",
       "      <td>3</td>\n",
       "      <td>Menswear</td>\n",
       "      <td>21</td>\n",
       "      <td>Contemporary Casual</td>\n",
       "      <td>1005</td>\n",
       "      <td>Jersey Fancy</td>\n",
       "      <td>Vest top in cotton jersey with a print motif.</td>\n",
       "    </tr>\n",
       "    <tr>\n",
       "      <th>286344</th>\n",
       "      <td>5273978</td>\n",
       "      <td>2019-07-31</td>\n",
       "      <td>ffc64655379797b426ef5a5be86332e901b916c1e55ab0...</td>\n",
       "      <td>663793009</td>\n",
       "      <td>0.022864</td>\n",
       "      <td>1</td>\n",
       "      <td>2019</td>\n",
       "      <td>7</td>\n",
       "      <td>31</td>\n",
       "      <td>663793</td>\n",
       "      <td>...</td>\n",
       "      <td>Underwear Jersey</td>\n",
       "      <td>F</td>\n",
       "      <td>Menswear</td>\n",
       "      <td>3</td>\n",
       "      <td>Menswear</td>\n",
       "      <td>26</td>\n",
       "      <td>Men Underwear</td>\n",
       "      <td>1017</td>\n",
       "      <td>Under-, Nightwear</td>\n",
       "      <td>Briefs in stretch cotton jersey with flatlock ...</td>\n",
       "    </tr>\n",
       "    <tr>\n",
       "      <th>286345</th>\n",
       "      <td>5273979</td>\n",
       "      <td>2019-07-31</td>\n",
       "      <td>ffc64655379797b426ef5a5be86332e901b916c1e55ab0...</td>\n",
       "      <td>501619019</td>\n",
       "      <td>0.022864</td>\n",
       "      <td>1</td>\n",
       "      <td>2019</td>\n",
       "      <td>7</td>\n",
       "      <td>31</td>\n",
       "      <td>501619</td>\n",
       "      <td>...</td>\n",
       "      <td>Shirt</td>\n",
       "      <td>F</td>\n",
       "      <td>Menswear</td>\n",
       "      <td>3</td>\n",
       "      <td>Menswear</td>\n",
       "      <td>20</td>\n",
       "      <td>Contemporary Smart</td>\n",
       "      <td>1011</td>\n",
       "      <td>Shirts</td>\n",
       "      <td>Shirt in an airy cotton weave with a turn-down...</td>\n",
       "    </tr>\n",
       "    <tr>\n",
       "      <th>286346</th>\n",
       "      <td>5274011</td>\n",
       "      <td>2019-07-31</td>\n",
       "      <td>ffe4bd3f42225fb51da4fe110a0fb2519efef670ff07ee...</td>\n",
       "      <td>757811001</td>\n",
       "      <td>0.013542</td>\n",
       "      <td>1</td>\n",
       "      <td>2019</td>\n",
       "      <td>7</td>\n",
       "      <td>31</td>\n",
       "      <td>757811</td>\n",
       "      <td>...</td>\n",
       "      <td>Jersey Fancy</td>\n",
       "      <td>F</td>\n",
       "      <td>Menswear</td>\n",
       "      <td>3</td>\n",
       "      <td>Menswear</td>\n",
       "      <td>55</td>\n",
       "      <td>Contemporary Street</td>\n",
       "      <td>1005</td>\n",
       "      <td>Jersey Fancy</td>\n",
       "      <td>T-shirt in cotton jersey with a ribbed neckline.</td>\n",
       "    </tr>\n",
       "  </tbody>\n",
       "</table>\n",
       "<p>286347 rows × 33 columns</p>\n",
       "</div>"
      ],
      "text/plain": [
       "        Unnamed: 0       t_dat  \\\n",
       "0               60  2019-05-01   \n",
       "1              140  2019-05-01   \n",
       "2              141  2019-05-01   \n",
       "3              142  2019-05-01   \n",
       "4              143  2019-05-01   \n",
       "...            ...         ...   \n",
       "286342     5273975  2019-07-31   \n",
       "286343     5273976  2019-07-31   \n",
       "286344     5273978  2019-07-31   \n",
       "286345     5273979  2019-07-31   \n",
       "286346     5274011  2019-07-31   \n",
       "\n",
       "                                              customer_id  article_id  \\\n",
       "0       00357b192b81fc83261a45be87f5f3d59112db7d117513...   743719001   \n",
       "1       0083ee250b3845008465de0e938d0ed2ae4f5bfde8b56e...   507431031   \n",
       "2       0083ee250b3845008465de0e938d0ed2ae4f5bfde8b56e...   378447036   \n",
       "3       0083ee250b3845008465de0e938d0ed2ae4f5bfde8b56e...   657850001   \n",
       "4       0083ee250b3845008465de0e938d0ed2ae4f5bfde8b56e...   598755015   \n",
       "...                                                   ...         ...   \n",
       "286342  ffc55f51a8636d9cc7b2834ae0886b1136a71a80124836...   736769005   \n",
       "286343  ffc55f51a8636d9cc7b2834ae0886b1136a71a80124836...   736769005   \n",
       "286344  ffc64655379797b426ef5a5be86332e901b916c1e55ab0...   663793009   \n",
       "286345  ffc64655379797b426ef5a5be86332e901b916c1e55ab0...   501619019   \n",
       "286346  ffe4bd3f42225fb51da4fe110a0fb2519efef670ff07ee...   757811001   \n",
       "\n",
       "           price  sales_channel_id  year  month  week  product_code  ...  \\\n",
       "0       0.050831                 2  2019      5    18        743719  ...   \n",
       "1       0.015237                 2  2019      5    18        507431  ...   \n",
       "2       0.054220                 2  2019      5    18        378447  ...   \n",
       "3       0.030492                 2  2019      5    18        657850  ...   \n",
       "4       0.013542                 2  2019      5    18        598755  ...   \n",
       "...          ...               ...   ...    ...   ...           ...  ...   \n",
       "286342  0.006695                 2  2019      7    31        736769  ...   \n",
       "286343  0.006695                 2  2019      7    31        736769  ...   \n",
       "286344  0.022864                 1  2019      7    31        663793  ...   \n",
       "286345  0.022864                 1  2019      7    31        501619  ...   \n",
       "286346  0.013542                 1  2019      7    31        757811  ...   \n",
       "\n",
       "                department_name  index_code index_name index_group_no  \\\n",
       "0                         Shoes           F   Menswear              3   \n",
       "1       Jersey inactive from s1           F   Menswear              3   \n",
       "2                      Knitwear           F   Menswear              3   \n",
       "3                      Knitwear           F   Menswear              3   \n",
       "4            Light Basic Jersey           F   Menswear              3   \n",
       "...                         ...         ...        ...            ...   \n",
       "286342             Jersey Fancy           F   Menswear              3   \n",
       "286343             Jersey Fancy           F   Menswear              3   \n",
       "286344         Underwear Jersey           F   Menswear              3   \n",
       "286345                    Shirt           F   Menswear              3   \n",
       "286346             Jersey Fancy           F   Menswear              3   \n",
       "\n",
       "        index_group_name section_no           section_name garment_group_no  \\\n",
       "0               Menswear         27              Men Shoes             1020   \n",
       "1               Menswear         55    Contemporary Street             1005   \n",
       "2               Menswear         23  Men Suits & Tailoring             1003   \n",
       "3               Menswear         20     Contemporary Smart             1003   \n",
       "4               Menswear         26          Men Underwear             1002   \n",
       "...                  ...        ...                    ...              ...   \n",
       "286342          Menswear         21    Contemporary Casual             1005   \n",
       "286343          Menswear         21    Contemporary Casual             1005   \n",
       "286344          Menswear         26          Men Underwear             1017   \n",
       "286345          Menswear         20     Contemporary Smart             1011   \n",
       "286346          Menswear         55    Contemporary Street             1005   \n",
       "\n",
       "        garment_group_name                                        detail_desc  \n",
       "0                    Shoes  Cotton canvas trainers with a padded edge and ...  \n",
       "1             Jersey Fancy  T-shirt in hard-washed slub cotton jersey with...  \n",
       "2                 Knitwear  Jumper in fine-knit merino wool with a V-neck ...  \n",
       "3                 Knitwear  Jumper in a textured-knit wool blend with long...  \n",
       "4             Jersey Basic  Long, round-necked T-shirt in soft jersey with...  \n",
       "...                    ...                                                ...  \n",
       "286342        Jersey Fancy      Vest top in cotton jersey with a print motif.  \n",
       "286343        Jersey Fancy      Vest top in cotton jersey with a print motif.  \n",
       "286344   Under-, Nightwear  Briefs in stretch cotton jersey with flatlock ...  \n",
       "286345              Shirts  Shirt in an airy cotton weave with a turn-down...  \n",
       "286346        Jersey Fancy   T-shirt in cotton jersey with a ribbed neckline.  \n",
       "\n",
       "[286347 rows x 33 columns]"
      ]
     },
     "execution_count": 2,
     "metadata": {},
     "output_type": "execute_result"
    }
   ],
   "source": [
    "##read 2019 567 Menswear transaction data \n",
    "transaction_men_raw = pd.read_csv(\"../data/large_data/transaction_2019_567_Menswear.csv\")\n",
    "transaction_men_raw"
   ]
  },
  {
   "cell_type": "code",
   "execution_count": 17,
   "id": "2113b4bd",
   "metadata": {},
   "outputs": [
    {
     "name": "stderr",
     "output_type": "stream",
     "text": [
      "100%|████████████████████████████████████████████████████████████████████████████| 5098/5098 [00:04<00:00, 1102.70it/s]\n",
      "  4%|███▎                                                                         | 219/5098 [00:00<00:04, 1090.70it/s]"
     ]
    },
    {
     "name": "stdout",
     "output_type": "stream",
     "text": [
      "Number of users: 5098\n"
     ]
    },
    {
     "name": "stderr",
     "output_type": "stream",
     "text": [
      "100%|████████████████████████████████████████████████████████████████████████████| 5098/5098 [00:04<00:00, 1095.37it/s]\n",
      "  2%|█▎                                                                            | 102/6158 [00:00<00:06, 951.16it/s]"
     ]
    },
    {
     "name": "stdout",
     "output_type": "stream",
     "text": [
      "Number of users: 5098\n"
     ]
    },
    {
     "name": "stderr",
     "output_type": "stream",
     "text": [
      "100%|█████████████████████████████████████████████████████████████████████████████| 6158/6158 [00:06<00:00, 950.69it/s]\n",
      "  3%|██▍                                                                           | 189/6158 [00:00<00:06, 940.59it/s]"
     ]
    },
    {
     "name": "stdout",
     "output_type": "stream",
     "text": [
      "Number of users: 6158\n"
     ]
    },
    {
     "name": "stderr",
     "output_type": "stream",
     "text": [
      "100%|█████████████████████████████████████████████████████████████████████████████| 6158/6158 [00:06<00:00, 937.51it/s]\n",
      "  3%|█▉                                                                            | 176/6984 [00:00<00:07, 870.44it/s]"
     ]
    },
    {
     "name": "stdout",
     "output_type": "stream",
     "text": [
      "Number of users: 6158\n"
     ]
    },
    {
     "name": "stderr",
     "output_type": "stream",
     "text": [
      "100%|█████████████████████████████████████████████████████████████████████████████| 6984/6984 [00:07<00:00, 876.41it/s]\n",
      "  1%|▉                                                                              | 88/6984 [00:00<00:07, 868.45it/s]"
     ]
    },
    {
     "name": "stdout",
     "output_type": "stream",
     "text": [
      "Number of users: 6984\n"
     ]
    },
    {
     "name": "stderr",
     "output_type": "stream",
     "text": [
      "100%|█████████████████████████████████████████████████████████████████████████████| 6984/6984 [00:07<00:00, 874.58it/s]\n",
      "  1%|▊                                                                              | 84/8212 [00:00<00:10, 770.57it/s]"
     ]
    },
    {
     "name": "stdout",
     "output_type": "stream",
     "text": [
      "Number of users: 6984\n"
     ]
    },
    {
     "name": "stderr",
     "output_type": "stream",
     "text": [
      "100%|█████████████████████████████████████████████████████████████████████████████| 8212/8212 [00:10<00:00, 771.90it/s]\n",
      "  1%|▊                                                                              | 90/8212 [00:00<00:10, 779.66it/s]"
     ]
    },
    {
     "name": "stdout",
     "output_type": "stream",
     "text": [
      "Number of users: 8212\n"
     ]
    },
    {
     "name": "stderr",
     "output_type": "stream",
     "text": [
      "100%|█████████████████████████████████████████████████████████████████████████████| 8212/8212 [00:10<00:00, 767.45it/s]\n",
      "  2%|█▎                                                                            | 101/6289 [00:00<00:06, 931.21it/s]"
     ]
    },
    {
     "name": "stdout",
     "output_type": "stream",
     "text": [
      "Number of users: 8212\n"
     ]
    },
    {
     "name": "stderr",
     "output_type": "stream",
     "text": [
      "100%|█████████████████████████████████████████████████████████████████████████████| 6289/6289 [00:06<00:00, 937.37it/s]\n",
      "  2%|█▎                                                                            | 105/6289 [00:00<00:06, 933.65it/s]"
     ]
    },
    {
     "name": "stdout",
     "output_type": "stream",
     "text": [
      "Number of users: 6289\n"
     ]
    },
    {
     "name": "stderr",
     "output_type": "stream",
     "text": [
      "100%|█████████████████████████████████████████████████████████████████████████████| 6289/6289 [00:06<00:00, 921.13it/s]\n",
      "  1%|█▏                                                                             | 95/6336 [00:00<00:06, 948.21it/s]"
     ]
    },
    {
     "name": "stdout",
     "output_type": "stream",
     "text": [
      "Number of users: 6289\n"
     ]
    },
    {
     "name": "stderr",
     "output_type": "stream",
     "text": [
      "100%|█████████████████████████████████████████████████████████████████████████████| 6336/6336 [00:06<00:00, 955.82it/s]\n",
      "  3%|██▎                                                                           | 192/6336 [00:00<00:06, 943.99it/s]"
     ]
    },
    {
     "name": "stdout",
     "output_type": "stream",
     "text": [
      "Number of users: 6336\n"
     ]
    },
    {
     "name": "stderr",
     "output_type": "stream",
     "text": [
      "100%|█████████████████████████████████████████████████████████████████████████████| 6336/6336 [00:06<00:00, 939.16it/s]\n",
      "  1%|█                                                                             | 128/9897 [00:00<00:15, 635.70it/s]"
     ]
    },
    {
     "name": "stdout",
     "output_type": "stream",
     "text": [
      "Number of users: 6336\n"
     ]
    },
    {
     "name": "stderr",
     "output_type": "stream",
     "text": [
      "100%|█████████████████████████████████████████████████████████████████████████████| 9897/9897 [00:15<00:00, 644.34it/s]\n",
      "  1%|█                                                                             | 134/9897 [00:00<00:15, 637.14it/s]"
     ]
    },
    {
     "name": "stdout",
     "output_type": "stream",
     "text": [
      "Number of users: 9897\n"
     ]
    },
    {
     "name": "stderr",
     "output_type": "stream",
     "text": [
      "100%|█████████████████████████████████████████████████████████████████████████████| 9897/9897 [00:15<00:00, 645.66it/s]\n",
      "  1%|▊                                                                            | 119/11093 [00:00<00:18, 588.38it/s]"
     ]
    },
    {
     "name": "stdout",
     "output_type": "stream",
     "text": [
      "Number of users: 9897\n"
     ]
    },
    {
     "name": "stderr",
     "output_type": "stream",
     "text": [
      "100%|███████████████████████████████████████████████████████████████████████████| 11093/11093 [00:18<00:00, 589.22it/s]\n",
      "  1%|▍                                                                             | 68/11093 [00:00<00:18, 588.96it/s]"
     ]
    },
    {
     "name": "stdout",
     "output_type": "stream",
     "text": [
      "Number of users: 11093\n"
     ]
    },
    {
     "name": "stderr",
     "output_type": "stream",
     "text": [
      "100%|███████████████████████████████████████████████████████████████████████████| 11093/11093 [00:18<00:00, 585.92it/s]\n",
      "  2%|█▎                                                                            | 151/9243 [00:00<00:12, 710.51it/s]"
     ]
    },
    {
     "name": "stdout",
     "output_type": "stream",
     "text": [
      "Number of users: 11093\n"
     ]
    },
    {
     "name": "stderr",
     "output_type": "stream",
     "text": [
      "100%|█████████████████████████████████████████████████████████████████████████████| 9243/9243 [00:13<00:00, 703.83it/s]\n",
      "  1%|▌                                                                              | 73/9243 [00:00<00:13, 688.81it/s]"
     ]
    },
    {
     "name": "stdout",
     "output_type": "stream",
     "text": [
      "Number of users: 9243\n"
     ]
    },
    {
     "name": "stderr",
     "output_type": "stream",
     "text": [
      "100%|█████████████████████████████████████████████████████████████████████████████| 9243/9243 [00:13<00:00, 698.88it/s]\n",
      "  1%|▊                                                                              | 84/8023 [00:00<00:09, 804.02it/s]"
     ]
    },
    {
     "name": "stdout",
     "output_type": "stream",
     "text": [
      "Number of users: 9243\n"
     ]
    },
    {
     "name": "stderr",
     "output_type": "stream",
     "text": [
      "100%|█████████████████████████████████████████████████████████████████████████████| 8023/8023 [00:10<00:00, 788.74it/s]\n",
      "  1%|▉                                                                              | 90/8023 [00:00<00:10, 787.96it/s]"
     ]
    },
    {
     "name": "stdout",
     "output_type": "stream",
     "text": [
      "Number of users: 8023\n"
     ]
    },
    {
     "name": "stderr",
     "output_type": "stream",
     "text": [
      "100%|█████████████████████████████████████████████████████████████████████████████| 8023/8023 [00:10<00:00, 787.81it/s]\n",
      "  1%|▉                                                                              | 84/7527 [00:00<00:09, 822.51it/s]"
     ]
    },
    {
     "name": "stdout",
     "output_type": "stream",
     "text": [
      "Number of users: 8023\n"
     ]
    },
    {
     "name": "stderr",
     "output_type": "stream",
     "text": [
      "100%|█████████████████████████████████████████████████████████████████████████████| 7527/7527 [00:09<00:00, 820.48it/s]\n",
      "  1%|▉                                                                              | 94/7527 [00:00<00:09, 823.49it/s]"
     ]
    },
    {
     "name": "stdout",
     "output_type": "stream",
     "text": [
      "Number of users: 7527\n"
     ]
    },
    {
     "name": "stderr",
     "output_type": "stream",
     "text": [
      "100%|█████████████████████████████████████████████████████████████████████████████| 7527/7527 [00:09<00:00, 819.74it/s]\n",
      "  1%|▋                                                                              | 76/8844 [00:00<00:13, 665.47it/s]"
     ]
    },
    {
     "name": "stdout",
     "output_type": "stream",
     "text": [
      "Number of users: 7527\n"
     ]
    },
    {
     "name": "stderr",
     "output_type": "stream",
     "text": [
      "100%|█████████████████████████████████████████████████████████████████████████████| 8844/8844 [00:12<00:00, 706.02it/s]\n",
      "  1%|▋                                                                              | 78/8844 [00:00<00:12, 701.89it/s]"
     ]
    },
    {
     "name": "stdout",
     "output_type": "stream",
     "text": [
      "Number of users: 8844\n"
     ]
    },
    {
     "name": "stderr",
     "output_type": "stream",
     "text": [
      "100%|█████████████████████████████████████████████████████████████████████████████| 8844/8844 [00:12<00:00, 700.01it/s]\n",
      "  9%|███████                                                                      | 287/3138 [00:00<00:02, 1423.64it/s]"
     ]
    },
    {
     "name": "stdout",
     "output_type": "stream",
     "text": [
      "Number of users: 8844\n"
     ]
    },
    {
     "name": "stderr",
     "output_type": "stream",
     "text": [
      "100%|████████████████████████████████████████████████████████████████████████████| 3138/3138 [00:02<00:00, 1440.02it/s]\n",
      "  9%|███████                                                                      | 287/3138 [00:00<00:01, 1425.58it/s]"
     ]
    },
    {
     "name": "stdout",
     "output_type": "stream",
     "text": [
      "Number of users: 3138\n"
     ]
    },
    {
     "name": "stderr",
     "output_type": "stream",
     "text": [
      "100%|████████████████████████████████████████████████████████████████████████████| 3138/3138 [00:02<00:00, 1423.42it/s]"
     ]
    },
    {
     "name": "stdout",
     "output_type": "stream",
     "text": [
      "Number of users: 3138\n",
      "Wall time: 4min 10s\n"
     ]
    },
    {
     "name": "stderr",
     "output_type": "stream",
     "text": [
      "\n"
     ]
    }
   ],
   "source": [
    "%%time\n",
    "\n",
    "random.seed(1)\n",
    "\n",
    "AOP_results = []\n",
    "MAP_results = []\n",
    "num_users = []\n",
    "timeline = []\n",
    "\n",
    "for wk in range(18,31):\n",
    "    \n",
    "    mask_train = transaction_men_raw.week == wk\n",
    "    X_train = transaction_men_raw.loc[mask_train].reset_index(drop=True)[['customer_id','article_id']]\n",
    "    mask_test = transaction_men_raw.week == wk + 1\n",
    "    X_test = transaction_men_raw.loc[mask_test].reset_index(drop=True)[['customer_id','article_id']]\n",
    "    \n",
    "    #get unique article id from train\n",
    "    unique_articles_train = list(X_train.article_id.unique())\n",
    "    \n",
    "    #select random 12 articles\n",
    "    random12items = random.choices(unique_articles_train, k=12)\n",
    "    \n",
    "    #dict to store customer_id and random12 items\n",
    "    random_recommend = {}\n",
    "    \n",
    "    #customer\n",
    "    customer_IDs = list(X_test.customer_id.unique())\n",
    "    \n",
    "    for customer in customer_IDs:\n",
    "        random_recommend[customer] = random12items\n",
    "        \n",
    "    #calculate AOP@12 for each train-test group\n",
    "    AOP12_random, num_user = cf.AOP(random_recommend, X_test)\n",
    "    AOP_results.append(AOP12_random)\n",
    "\n",
    "    #calculate MAP@12 for each train-test group\n",
    "    MAP12_random, num_user = cf.MAP(random_recommend, X_test)\n",
    "    MAP_results.append(MAP12_random)\n",
    "    \n",
    "    #append number of users\n",
    "    num_users.append(num_user)\n",
    "    \n",
    "    #append week to timeline\n",
    "    timeline.append('Wk_'+str(wk+1))\n"
   ]
  },
  {
   "cell_type": "code",
   "execution_count": 18,
   "id": "90116391",
   "metadata": {},
   "outputs": [
    {
     "name": "stdout",
     "output_type": "stream",
     "text": [
      "[0.0011278932914868568, 0.000554833820504493, 0.0012528636884306978, 0.0007204903393408016, 0.0005830285683998519, 0.000894360269360269, 0.0005641440167053986, 0.0004657591874755851, 0.0005229182444372318, 0.00110100128796377, 0.000929985385943934, 0.0015358812000603077, 0.0007966857871255577]\n",
      "[0.0012631575756820947, 0.0005886041276996134, 0.001492448795212254, 0.000656339125956758, 0.0008162610285364303, 0.0009810419877891465, 0.0008759635622573885, 0.0004308990646095128, 0.00043993421278934626, 0.0008751984509182562, 0.0010454619262909417, 0.001926126084453762, 0.0004553831434009892]\n",
      "[5098, 6158, 6984, 8212, 6289, 6336, 9897, 11093, 9243, 8023, 7527, 8844, 3138]\n"
     ]
    }
   ],
   "source": [
    "print(AOP_results)\n",
    "print(MAP_results)\n",
    "print(num_users)"
   ]
  },
  {
   "cell_type": "code",
   "execution_count": 19,
   "id": "8d6e8c56",
   "metadata": {},
   "outputs": [
    {
     "data": {
      "text/html": [
       "<div>\n",
       "<style scoped>\n",
       "    .dataframe tbody tr th:only-of-type {\n",
       "        vertical-align: middle;\n",
       "    }\n",
       "\n",
       "    .dataframe tbody tr th {\n",
       "        vertical-align: top;\n",
       "    }\n",
       "\n",
       "    .dataframe thead th {\n",
       "        text-align: right;\n",
       "    }\n",
       "</style>\n",
       "<table border=\"1\" class=\"dataframe\">\n",
       "  <thead>\n",
       "    <tr style=\"text-align: right;\">\n",
       "      <th></th>\n",
       "      <th>timeline</th>\n",
       "      <th>AOP</th>\n",
       "      <th>MAP</th>\n",
       "      <th>num_users</th>\n",
       "    </tr>\n",
       "  </thead>\n",
       "  <tbody>\n",
       "    <tr>\n",
       "      <th>0</th>\n",
       "      <td>Wk_19</td>\n",
       "      <td>0.001128</td>\n",
       "      <td>0.001263</td>\n",
       "      <td>5098</td>\n",
       "    </tr>\n",
       "    <tr>\n",
       "      <th>1</th>\n",
       "      <td>Wk_20</td>\n",
       "      <td>0.000555</td>\n",
       "      <td>0.000589</td>\n",
       "      <td>6158</td>\n",
       "    </tr>\n",
       "    <tr>\n",
       "      <th>2</th>\n",
       "      <td>Wk_21</td>\n",
       "      <td>0.001253</td>\n",
       "      <td>0.001492</td>\n",
       "      <td>6984</td>\n",
       "    </tr>\n",
       "    <tr>\n",
       "      <th>3</th>\n",
       "      <td>Wk_22</td>\n",
       "      <td>0.000720</td>\n",
       "      <td>0.000656</td>\n",
       "      <td>8212</td>\n",
       "    </tr>\n",
       "    <tr>\n",
       "      <th>4</th>\n",
       "      <td>Wk_23</td>\n",
       "      <td>0.000583</td>\n",
       "      <td>0.000816</td>\n",
       "      <td>6289</td>\n",
       "    </tr>\n",
       "  </tbody>\n",
       "</table>\n",
       "</div>"
      ],
      "text/plain": [
       "  timeline       AOP       MAP  num_users\n",
       "0    Wk_19  0.001128  0.001263       5098\n",
       "1    Wk_20  0.000555  0.000589       6158\n",
       "2    Wk_21  0.001253  0.001492       6984\n",
       "3    Wk_22  0.000720  0.000656       8212\n",
       "4    Wk_23  0.000583  0.000816       6289"
      ]
     },
     "execution_count": 19,
     "metadata": {},
     "output_type": "execute_result"
    }
   ],
   "source": [
    "#save results in a dataframe\n",
    "result_df = pd.DataFrame({'timeline':timeline,\n",
    "                          'AOP':AOP_results,\n",
    "                          'MAP':MAP_results,\n",
    "                          'num_users':num_users})\n",
    "\n",
    "#save the dataframe in csv\n",
    "#change file name for different period groups\n",
    "result_df.to_csv(\"../data/MenswearResults/random_recommend.csv\")\n",
    "\n",
    "result_df.head()"
   ]
  },
  {
   "cell_type": "code",
   "execution_count": 21,
   "id": "4fbf46bc",
   "metadata": {},
   "outputs": [
    {
     "data": {
      "text/html": [
       "<div>\n",
       "<style scoped>\n",
       "    .dataframe tbody tr th:only-of-type {\n",
       "        vertical-align: middle;\n",
       "    }\n",
       "\n",
       "    .dataframe tbody tr th {\n",
       "        vertical-align: top;\n",
       "    }\n",
       "\n",
       "    .dataframe thead th {\n",
       "        text-align: right;\n",
       "    }\n",
       "</style>\n",
       "<table border=\"1\" class=\"dataframe\">\n",
       "  <thead>\n",
       "    <tr style=\"text-align: right;\">\n",
       "      <th></th>\n",
       "      <th>timeline</th>\n",
       "      <th>AOP</th>\n",
       "      <th>MAP</th>\n",
       "      <th>num_users</th>\n",
       "    </tr>\n",
       "  </thead>\n",
       "  <tbody>\n",
       "    <tr>\n",
       "      <th>0</th>\n",
       "      <td>Wk_19</td>\n",
       "      <td>0.001128</td>\n",
       "      <td>0.001263</td>\n",
       "      <td>5098</td>\n",
       "    </tr>\n",
       "    <tr>\n",
       "      <th>1</th>\n",
       "      <td>Wk_20</td>\n",
       "      <td>0.000555</td>\n",
       "      <td>0.000589</td>\n",
       "      <td>6158</td>\n",
       "    </tr>\n",
       "    <tr>\n",
       "      <th>2</th>\n",
       "      <td>Wk_21</td>\n",
       "      <td>0.001253</td>\n",
       "      <td>0.001492</td>\n",
       "      <td>6984</td>\n",
       "    </tr>\n",
       "    <tr>\n",
       "      <th>3</th>\n",
       "      <td>Wk_22</td>\n",
       "      <td>0.000720</td>\n",
       "      <td>0.000656</td>\n",
       "      <td>8212</td>\n",
       "    </tr>\n",
       "    <tr>\n",
       "      <th>4</th>\n",
       "      <td>Wk_23</td>\n",
       "      <td>0.000583</td>\n",
       "      <td>0.000816</td>\n",
       "      <td>6289</td>\n",
       "    </tr>\n",
       "    <tr>\n",
       "      <th>5</th>\n",
       "      <td>Wk_24</td>\n",
       "      <td>0.000894</td>\n",
       "      <td>0.000981</td>\n",
       "      <td>6336</td>\n",
       "    </tr>\n",
       "    <tr>\n",
       "      <th>6</th>\n",
       "      <td>Wk_25</td>\n",
       "      <td>0.000564</td>\n",
       "      <td>0.000876</td>\n",
       "      <td>9897</td>\n",
       "    </tr>\n",
       "    <tr>\n",
       "      <th>7</th>\n",
       "      <td>Wk_26</td>\n",
       "      <td>0.000466</td>\n",
       "      <td>0.000431</td>\n",
       "      <td>11093</td>\n",
       "    </tr>\n",
       "    <tr>\n",
       "      <th>8</th>\n",
       "      <td>Wk_27</td>\n",
       "      <td>0.000523</td>\n",
       "      <td>0.000440</td>\n",
       "      <td>9243</td>\n",
       "    </tr>\n",
       "    <tr>\n",
       "      <th>9</th>\n",
       "      <td>Wk_28</td>\n",
       "      <td>0.001101</td>\n",
       "      <td>0.000875</td>\n",
       "      <td>8023</td>\n",
       "    </tr>\n",
       "    <tr>\n",
       "      <th>10</th>\n",
       "      <td>Wk_29</td>\n",
       "      <td>0.000930</td>\n",
       "      <td>0.001045</td>\n",
       "      <td>7527</td>\n",
       "    </tr>\n",
       "    <tr>\n",
       "      <th>11</th>\n",
       "      <td>Wk_30</td>\n",
       "      <td>0.001536</td>\n",
       "      <td>0.001926</td>\n",
       "      <td>8844</td>\n",
       "    </tr>\n",
       "    <tr>\n",
       "      <th>12</th>\n",
       "      <td>Wk_31</td>\n",
       "      <td>0.000797</td>\n",
       "      <td>0.000455</td>\n",
       "      <td>3138</td>\n",
       "    </tr>\n",
       "  </tbody>\n",
       "</table>\n",
       "</div>"
      ],
      "text/plain": [
       "   timeline       AOP       MAP  num_users\n",
       "0     Wk_19  0.001128  0.001263       5098\n",
       "1     Wk_20  0.000555  0.000589       6158\n",
       "2     Wk_21  0.001253  0.001492       6984\n",
       "3     Wk_22  0.000720  0.000656       8212\n",
       "4     Wk_23  0.000583  0.000816       6289\n",
       "5     Wk_24  0.000894  0.000981       6336\n",
       "6     Wk_25  0.000564  0.000876       9897\n",
       "7     Wk_26  0.000466  0.000431      11093\n",
       "8     Wk_27  0.000523  0.000440       9243\n",
       "9     Wk_28  0.001101  0.000875       8023\n",
       "10    Wk_29  0.000930  0.001045       7527\n",
       "11    Wk_30  0.001536  0.001926       8844\n",
       "12    Wk_31  0.000797  0.000455       3138"
      ]
     },
     "execution_count": 21,
     "metadata": {},
     "output_type": "execute_result"
    }
   ],
   "source": [
    "#read result csv\n",
    "random_df = pd.read_csv(\"../data/MenswearResults/random_recommend.csv\").iloc[:,1:]\n",
    "random_df"
   ]
  },
  {
   "cell_type": "code",
   "execution_count": 22,
   "id": "7a8527a2",
   "metadata": {},
   "outputs": [
    {
     "data": {
      "text/plain": [
       "<matplotlib.legend.Legend at 0x1749a0baca0>"
      ]
     },
     "execution_count": 22,
     "metadata": {},
     "output_type": "execute_result"
    },
    {
     "data": {
      "image/png": "[encoded data removed]",
      "text/plain": [
       "<Figure size 720x432 with 1 Axes>"
      ]
     },
     "metadata": {
      "needs_background": "light"
     },
     "output_type": "display_data"
    }
   ],
   "source": [
    "#plot for AOP MAP\n",
    "plt.figure(figsize=(10,6))\n",
    "plt.plot(random_df.timeline, random_df.AOP, color= 'blue')\n",
    "plt.plot(random_df.timeline, random_df.MAP, color= 'orange')\n",
    "plt.xlabel('2019 May-July')\n",
    "plt.ylabel('Precision@12')\n",
    "plt.legend(['AOP','MAP'])"
   ]
  },
  {
   "cell_type": "code",
   "execution_count": 23,
   "id": "1983daa8",
   "metadata": {},
   "outputs": [
    {
     "data": {
      "text/plain": [
       "<matplotlib.legend.Legend at 0x1749aa66bb0>"
      ]
     },
     "execution_count": 23,
     "metadata": {},
     "output_type": "execute_result"
    },
    {
     "data": {
      "image/png": "[encoded data removed]",
      "text/plain": [
       "<Figure size 720x432 with 1 Axes>"
      ]
     },
     "metadata": {
      "needs_background": "light"
     },
     "output_type": "display_data"
    }
   ],
   "source": [
    "#scatter plot for AOP and number of users\n",
    "plt.figure(figsize=(10,6))\n",
    "plt.scatter(random_df.num_users, random_df.AOP, color = 'blue')\n",
    "plt.scatter(random_df.num_users, random_df.MAP, color = 'orange')\n",
    "plt.xlabel('Number of customers')\n",
    "plt.ylabel('Precision@12')\n",
    "plt.legend(['AOP','MAP'])"
   ]
  },
  {
   "cell_type": "code",
   "execution_count": null,
   "id": "47bf4382",
   "metadata": {},
   "outputs": [],
   "source": []
  }
 ],
 "metadata": {
  "kernelspec": {
   "display_name": "Python 3",
   "language": "python",
   "name": "python3"
  },
  "language_info": {
   "codemirror_mode": {
    "name": "ipython",
    "version": 3
   },
   "file_extension": ".py",
   "mimetype": "text/x-python",
   "name": "python",
   "nbconvert_exporter": "python",
   "pygments_lexer": "ipython3",
   "version": "3.8.8"
  }
 },
 "nbformat": 4,
 "nbformat_minor": 5
}
