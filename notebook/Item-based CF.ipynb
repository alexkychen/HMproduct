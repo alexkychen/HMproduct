{
 "cells": [
  {
   "cell_type": "code",
   "execution_count": 1,
   "id": "51c2c94d",
   "metadata": {},
   "outputs": [],
   "source": [
    "import pandas as pd\n",
    "import numpy as np\n",
    "import collaborative_filter as cf\n",
    "import matplotlib.pyplot as plt\n",
    "from sklearn.metrics.pairwise import cosine_similarity"
   ]
  },
  {
   "cell_type": "code",
   "execution_count": 2,
   "id": "9fad4c81",
   "metadata": {},
   "outputs": [
    {
     "data": {
      "text/html": [
       "<div>\n",
       "<style scoped>\n",
       "    .dataframe tbody tr th:only-of-type {\n",
       "        vertical-align: middle;\n",
       "    }\n",
       "\n",
       "    .dataframe tbody tr th {\n",
       "        vertical-align: top;\n",
       "    }\n",
       "\n",
       "    .dataframe thead th {\n",
       "        text-align: right;\n",
       "    }\n",
       "</style>\n",
       "<table border=\"1\" class=\"dataframe\">\n",
       "  <thead>\n",
       "    <tr style=\"text-align: right;\">\n",
       "      <th></th>\n",
       "      <th>Unnamed: 0</th>\n",
       "      <th>t_dat</th>\n",
       "      <th>customer_id</th>\n",
       "      <th>article_id</th>\n",
       "      <th>price</th>\n",
       "      <th>sales_channel_id</th>\n",
       "      <th>year</th>\n",
       "      <th>month</th>\n",
       "      <th>week</th>\n",
       "      <th>product_code</th>\n",
       "      <th>...</th>\n",
       "      <th>department_name</th>\n",
       "      <th>index_code</th>\n",
       "      <th>index_name</th>\n",
       "      <th>index_group_no</th>\n",
       "      <th>index_group_name</th>\n",
       "      <th>section_no</th>\n",
       "      <th>section_name</th>\n",
       "      <th>garment_group_no</th>\n",
       "      <th>garment_group_name</th>\n",
       "      <th>detail_desc</th>\n",
       "    </tr>\n",
       "  </thead>\n",
       "  <tbody>\n",
       "    <tr>\n",
       "      <th>0</th>\n",
       "      <td>60</td>\n",
       "      <td>2019-05-01</td>\n",
       "      <td>00357b192b81fc83261a45be87f5f3d59112db7d117513...</td>\n",
       "      <td>743719001</td>\n",
       "      <td>0.050831</td>\n",
       "      <td>2</td>\n",
       "      <td>2019</td>\n",
       "      <td>5</td>\n",
       "      <td>18</td>\n",
       "      <td>743719</td>\n",
       "      <td>...</td>\n",
       "      <td>Shoes</td>\n",
       "      <td>F</td>\n",
       "      <td>Menswear</td>\n",
       "      <td>3</td>\n",
       "      <td>Menswear</td>\n",
       "      <td>27</td>\n",
       "      <td>Men Shoes</td>\n",
       "      <td>1020</td>\n",
       "      <td>Shoes</td>\n",
       "      <td>Cotton canvas trainers with a padded edge and ...</td>\n",
       "    </tr>\n",
       "    <tr>\n",
       "      <th>1</th>\n",
       "      <td>140</td>\n",
       "      <td>2019-05-01</td>\n",
       "      <td>0083ee250b3845008465de0e938d0ed2ae4f5bfde8b56e...</td>\n",
       "      <td>507431031</td>\n",
       "      <td>0.015237</td>\n",
       "      <td>2</td>\n",
       "      <td>2019</td>\n",
       "      <td>5</td>\n",
       "      <td>18</td>\n",
       "      <td>507431</td>\n",
       "      <td>...</td>\n",
       "      <td>Jersey inactive from s1</td>\n",
       "      <td>F</td>\n",
       "      <td>Menswear</td>\n",
       "      <td>3</td>\n",
       "      <td>Menswear</td>\n",
       "      <td>55</td>\n",
       "      <td>Contemporary Street</td>\n",
       "      <td>1005</td>\n",
       "      <td>Jersey Fancy</td>\n",
       "      <td>T-shirt in hard-washed slub cotton jersey with...</td>\n",
       "    </tr>\n",
       "    <tr>\n",
       "      <th>2</th>\n",
       "      <td>141</td>\n",
       "      <td>2019-05-01</td>\n",
       "      <td>0083ee250b3845008465de0e938d0ed2ae4f5bfde8b56e...</td>\n",
       "      <td>378447036</td>\n",
       "      <td>0.054220</td>\n",
       "      <td>2</td>\n",
       "      <td>2019</td>\n",
       "      <td>5</td>\n",
       "      <td>18</td>\n",
       "      <td>378447</td>\n",
       "      <td>...</td>\n",
       "      <td>Knitwear</td>\n",
       "      <td>F</td>\n",
       "      <td>Menswear</td>\n",
       "      <td>3</td>\n",
       "      <td>Menswear</td>\n",
       "      <td>23</td>\n",
       "      <td>Men Suits &amp; Tailoring</td>\n",
       "      <td>1003</td>\n",
       "      <td>Knitwear</td>\n",
       "      <td>Jumper in fine-knit merino wool with a V-neck ...</td>\n",
       "    </tr>\n",
       "    <tr>\n",
       "      <th>3</th>\n",
       "      <td>142</td>\n",
       "      <td>2019-05-01</td>\n",
       "      <td>0083ee250b3845008465de0e938d0ed2ae4f5bfde8b56e...</td>\n",
       "      <td>657850001</td>\n",
       "      <td>0.030492</td>\n",
       "      <td>2</td>\n",
       "      <td>2019</td>\n",
       "      <td>5</td>\n",
       "      <td>18</td>\n",
       "      <td>657850</td>\n",
       "      <td>...</td>\n",
       "      <td>Knitwear</td>\n",
       "      <td>F</td>\n",
       "      <td>Menswear</td>\n",
       "      <td>3</td>\n",
       "      <td>Menswear</td>\n",
       "      <td>20</td>\n",
       "      <td>Contemporary Smart</td>\n",
       "      <td>1003</td>\n",
       "      <td>Knitwear</td>\n",
       "      <td>Jumper in a textured-knit wool blend with long...</td>\n",
       "    </tr>\n",
       "    <tr>\n",
       "      <th>4</th>\n",
       "      <td>143</td>\n",
       "      <td>2019-05-01</td>\n",
       "      <td>0083ee250b3845008465de0e938d0ed2ae4f5bfde8b56e...</td>\n",
       "      <td>598755015</td>\n",
       "      <td>0.013542</td>\n",
       "      <td>2</td>\n",
       "      <td>2019</td>\n",
       "      <td>5</td>\n",
       "      <td>18</td>\n",
       "      <td>598755</td>\n",
       "      <td>...</td>\n",
       "      <td>Light Basic Jersey</td>\n",
       "      <td>F</td>\n",
       "      <td>Menswear</td>\n",
       "      <td>3</td>\n",
       "      <td>Menswear</td>\n",
       "      <td>26</td>\n",
       "      <td>Men Underwear</td>\n",
       "      <td>1002</td>\n",
       "      <td>Jersey Basic</td>\n",
       "      <td>Long, round-necked T-shirt in soft jersey with...</td>\n",
       "    </tr>\n",
       "    <tr>\n",
       "      <th>...</th>\n",
       "      <td>...</td>\n",
       "      <td>...</td>\n",
       "      <td>...</td>\n",
       "      <td>...</td>\n",
       "      <td>...</td>\n",
       "      <td>...</td>\n",
       "      <td>...</td>\n",
       "      <td>...</td>\n",
       "      <td>...</td>\n",
       "      <td>...</td>\n",
       "      <td>...</td>\n",
       "      <td>...</td>\n",
       "      <td>...</td>\n",
       "      <td>...</td>\n",
       "      <td>...</td>\n",
       "      <td>...</td>\n",
       "      <td>...</td>\n",
       "      <td>...</td>\n",
       "      <td>...</td>\n",
       "      <td>...</td>\n",
       "      <td>...</td>\n",
       "    </tr>\n",
       "    <tr>\n",
       "      <th>286342</th>\n",
       "      <td>5273975</td>\n",
       "      <td>2019-07-31</td>\n",
       "      <td>ffc55f51a8636d9cc7b2834ae0886b1136a71a80124836...</td>\n",
       "      <td>736769005</td>\n",
       "      <td>0.006695</td>\n",
       "      <td>2</td>\n",
       "      <td>2019</td>\n",
       "      <td>7</td>\n",
       "      <td>31</td>\n",
       "      <td>736769</td>\n",
       "      <td>...</td>\n",
       "      <td>Jersey Fancy</td>\n",
       "      <td>F</td>\n",
       "      <td>Menswear</td>\n",
       "      <td>3</td>\n",
       "      <td>Menswear</td>\n",
       "      <td>21</td>\n",
       "      <td>Contemporary Casual</td>\n",
       "      <td>1005</td>\n",
       "      <td>Jersey Fancy</td>\n",
       "      <td>Vest top in cotton jersey with a print motif.</td>\n",
       "    </tr>\n",
       "    <tr>\n",
       "      <th>286343</th>\n",
       "      <td>5273976</td>\n",
       "      <td>2019-07-31</td>\n",
       "      <td>ffc55f51a8636d9cc7b2834ae0886b1136a71a80124836...</td>\n",
       "      <td>736769005</td>\n",
       "      <td>0.006695</td>\n",
       "      <td>2</td>\n",
       "      <td>2019</td>\n",
       "      <td>7</td>\n",
       "      <td>31</td>\n",
       "      <td>736769</td>\n",
       "      <td>...</td>\n",
       "      <td>Jersey Fancy</td>\n",
       "      <td>F</td>\n",
       "      <td>Menswear</td>\n",
       "      <td>3</td>\n",
       "      <td>Menswear</td>\n",
       "      <td>21</td>\n",
       "      <td>Contemporary Casual</td>\n",
       "      <td>1005</td>\n",
       "      <td>Jersey Fancy</td>\n",
       "      <td>Vest top in cotton jersey with a print motif.</td>\n",
       "    </tr>\n",
       "    <tr>\n",
       "      <th>286344</th>\n",
       "      <td>5273978</td>\n",
       "      <td>2019-07-31</td>\n",
       "      <td>ffc64655379797b426ef5a5be86332e901b916c1e55ab0...</td>\n",
       "      <td>663793009</td>\n",
       "      <td>0.022864</td>\n",
       "      <td>1</td>\n",
       "      <td>2019</td>\n",
       "      <td>7</td>\n",
       "      <td>31</td>\n",
       "      <td>663793</td>\n",
       "      <td>...</td>\n",
       "      <td>Underwear Jersey</td>\n",
       "      <td>F</td>\n",
       "      <td>Menswear</td>\n",
       "      <td>3</td>\n",
       "      <td>Menswear</td>\n",
       "      <td>26</td>\n",
       "      <td>Men Underwear</td>\n",
       "      <td>1017</td>\n",
       "      <td>Under-, Nightwear</td>\n",
       "      <td>Briefs in stretch cotton jersey with flatlock ...</td>\n",
       "    </tr>\n",
       "    <tr>\n",
       "      <th>286345</th>\n",
       "      <td>5273979</td>\n",
       "      <td>2019-07-31</td>\n",
       "      <td>ffc64655379797b426ef5a5be86332e901b916c1e55ab0...</td>\n",
       "      <td>501619019</td>\n",
       "      <td>0.022864</td>\n",
       "      <td>1</td>\n",
       "      <td>2019</td>\n",
       "      <td>7</td>\n",
       "      <td>31</td>\n",
       "      <td>501619</td>\n",
       "      <td>...</td>\n",
       "      <td>Shirt</td>\n",
       "      <td>F</td>\n",
       "      <td>Menswear</td>\n",
       "      <td>3</td>\n",
       "      <td>Menswear</td>\n",
       "      <td>20</td>\n",
       "      <td>Contemporary Smart</td>\n",
       "      <td>1011</td>\n",
       "      <td>Shirts</td>\n",
       "      <td>Shirt in an airy cotton weave with a turn-down...</td>\n",
       "    </tr>\n",
       "    <tr>\n",
       "      <th>286346</th>\n",
       "      <td>5274011</td>\n",
       "      <td>2019-07-31</td>\n",
       "      <td>ffe4bd3f42225fb51da4fe110a0fb2519efef670ff07ee...</td>\n",
       "      <td>757811001</td>\n",
       "      <td>0.013542</td>\n",
       "      <td>1</td>\n",
       "      <td>2019</td>\n",
       "      <td>7</td>\n",
       "      <td>31</td>\n",
       "      <td>757811</td>\n",
       "      <td>...</td>\n",
       "      <td>Jersey Fancy</td>\n",
       "      <td>F</td>\n",
       "      <td>Menswear</td>\n",
       "      <td>3</td>\n",
       "      <td>Menswear</td>\n",
       "      <td>55</td>\n",
       "      <td>Contemporary Street</td>\n",
       "      <td>1005</td>\n",
       "      <td>Jersey Fancy</td>\n",
       "      <td>T-shirt in cotton jersey with a ribbed neckline.</td>\n",
       "    </tr>\n",
       "  </tbody>\n",
       "</table>\n",
       "<p>286347 rows × 33 columns</p>\n",
       "</div>"
      ],
      "text/plain": [
       "        Unnamed: 0       t_dat  \\\n",
       "0               60  2019-05-01   \n",
       "1              140  2019-05-01   \n",
       "2              141  2019-05-01   \n",
       "3              142  2019-05-01   \n",
       "4              143  2019-05-01   \n",
       "...            ...         ...   \n",
       "286342     5273975  2019-07-31   \n",
       "286343     5273976  2019-07-31   \n",
       "286344     5273978  2019-07-31   \n",
       "286345     5273979  2019-07-31   \n",
       "286346     5274011  2019-07-31   \n",
       "\n",
       "                                              customer_id  article_id  \\\n",
       "0       00357b192b81fc83261a45be87f5f3d59112db7d117513...   743719001   \n",
       "1       0083ee250b3845008465de0e938d0ed2ae4f5bfde8b56e...   507431031   \n",
       "2       0083ee250b3845008465de0e938d0ed2ae4f5bfde8b56e...   378447036   \n",
       "3       0083ee250b3845008465de0e938d0ed2ae4f5bfde8b56e...   657850001   \n",
       "4       0083ee250b3845008465de0e938d0ed2ae4f5bfde8b56e...   598755015   \n",
       "...                                                   ...         ...   \n",
       "286342  ffc55f51a8636d9cc7b2834ae0886b1136a71a80124836...   736769005   \n",
       "286343  ffc55f51a8636d9cc7b2834ae0886b1136a71a80124836...   736769005   \n",
       "286344  ffc64655379797b426ef5a5be86332e901b916c1e55ab0...   663793009   \n",
       "286345  ffc64655379797b426ef5a5be86332e901b916c1e55ab0...   501619019   \n",
       "286346  ffe4bd3f42225fb51da4fe110a0fb2519efef670ff07ee...   757811001   \n",
       "\n",
       "           price  sales_channel_id  year  month  week  product_code  ...  \\\n",
       "0       0.050831                 2  2019      5    18        743719  ...   \n",
       "1       0.015237                 2  2019      5    18        507431  ...   \n",
       "2       0.054220                 2  2019      5    18        378447  ...   \n",
       "3       0.030492                 2  2019      5    18        657850  ...   \n",
       "4       0.013542                 2  2019      5    18        598755  ...   \n",
       "...          ...               ...   ...    ...   ...           ...  ...   \n",
       "286342  0.006695                 2  2019      7    31        736769  ...   \n",
       "286343  0.006695                 2  2019      7    31        736769  ...   \n",
       "286344  0.022864                 1  2019      7    31        663793  ...   \n",
       "286345  0.022864                 1  2019      7    31        501619  ...   \n",
       "286346  0.013542                 1  2019      7    31        757811  ...   \n",
       "\n",
       "                department_name  index_code index_name index_group_no  \\\n",
       "0                         Shoes           F   Menswear              3   \n",
       "1       Jersey inactive from s1           F   Menswear              3   \n",
       "2                      Knitwear           F   Menswear              3   \n",
       "3                      Knitwear           F   Menswear              3   \n",
       "4            Light Basic Jersey           F   Menswear              3   \n",
       "...                         ...         ...        ...            ...   \n",
       "286342             Jersey Fancy           F   Menswear              3   \n",
       "286343             Jersey Fancy           F   Menswear              3   \n",
       "286344         Underwear Jersey           F   Menswear              3   \n",
       "286345                    Shirt           F   Menswear              3   \n",
       "286346             Jersey Fancy           F   Menswear              3   \n",
       "\n",
       "        index_group_name section_no           section_name garment_group_no  \\\n",
       "0               Menswear         27              Men Shoes             1020   \n",
       "1               Menswear         55    Contemporary Street             1005   \n",
       "2               Menswear         23  Men Suits & Tailoring             1003   \n",
       "3               Menswear         20     Contemporary Smart             1003   \n",
       "4               Menswear         26          Men Underwear             1002   \n",
       "...                  ...        ...                    ...              ...   \n",
       "286342          Menswear         21    Contemporary Casual             1005   \n",
       "286343          Menswear         21    Contemporary Casual             1005   \n",
       "286344          Menswear         26          Men Underwear             1017   \n",
       "286345          Menswear         20     Contemporary Smart             1011   \n",
       "286346          Menswear         55    Contemporary Street             1005   \n",
       "\n",
       "        garment_group_name                                        detail_desc  \n",
       "0                    Shoes  Cotton canvas trainers with a padded edge and ...  \n",
       "1             Jersey Fancy  T-shirt in hard-washed slub cotton jersey with...  \n",
       "2                 Knitwear  Jumper in fine-knit merino wool with a V-neck ...  \n",
       "3                 Knitwear  Jumper in a textured-knit wool blend with long...  \n",
       "4             Jersey Basic  Long, round-necked T-shirt in soft jersey with...  \n",
       "...                    ...                                                ...  \n",
       "286342        Jersey Fancy      Vest top in cotton jersey with a print motif.  \n",
       "286343        Jersey Fancy      Vest top in cotton jersey with a print motif.  \n",
       "286344   Under-, Nightwear  Briefs in stretch cotton jersey with flatlock ...  \n",
       "286345              Shirts  Shirt in an airy cotton weave with a turn-down...  \n",
       "286346        Jersey Fancy   T-shirt in cotton jersey with a ribbed neckline.  \n",
       "\n",
       "[286347 rows x 33 columns]"
      ]
     },
     "execution_count": 2,
     "metadata": {},
     "output_type": "execute_result"
    }
   ],
   "source": [
    "##read 2019 567 Menswear transaction data \n",
    "transaction_men_raw = pd.read_csv(\"../data/large_data/transaction_2019_567_Menswear.csv\")\n",
    "transaction_men_raw"
   ]
  },
  {
   "cell_type": "code",
   "execution_count": 8,
   "id": "0a3a2486",
   "metadata": {},
   "outputs": [
    {
     "name": "stderr",
     "output_type": "stream",
     "text": [
      "100%|█████████████████████████████████████| 5993/5993 [00:01<00:00, 4376.62it/s]\n"
     ]
    },
    {
     "name": "stdout",
     "output_type": "stream",
     "text": [
      "Number of users: 379\n"
     ]
    },
    {
     "name": "stderr",
     "output_type": "stream",
     "text": [
      "100%|█████████████████████████████████████| 5993/5993 [00:01<00:00, 3602.91it/s]\n"
     ]
    },
    {
     "name": "stdout",
     "output_type": "stream",
     "text": [
      "Number of users: 379\n"
     ]
    },
    {
     "name": "stderr",
     "output_type": "stream",
     "text": [
      "100%|███████████████████████████████████| 10712/10712 [00:02<00:00, 3995.20it/s]\n"
     ]
    },
    {
     "name": "stdout",
     "output_type": "stream",
     "text": [
      "Number of users: 567\n"
     ]
    },
    {
     "name": "stderr",
     "output_type": "stream",
     "text": [
      "100%|███████████████████████████████████| 10712/10712 [00:02<00:00, 3621.54it/s]\n"
     ]
    },
    {
     "name": "stdout",
     "output_type": "stream",
     "text": [
      "Number of users: 567\n"
     ]
    },
    {
     "name": "stderr",
     "output_type": "stream",
     "text": [
      "100%|███████████████████████████████████| 16303/16303 [00:04<00:00, 3809.47it/s]\n"
     ]
    },
    {
     "name": "stdout",
     "output_type": "stream",
     "text": [
      "Number of users: 870\n"
     ]
    },
    {
     "name": "stderr",
     "output_type": "stream",
     "text": [
      "100%|███████████████████████████████████| 16303/16303 [00:04<00:00, 3796.98it/s]\n"
     ]
    },
    {
     "name": "stdout",
     "output_type": "stream",
     "text": [
      "Number of users: 870\n"
     ]
    },
    {
     "name": "stderr",
     "output_type": "stream",
     "text": [
      "100%|███████████████████████████████████| 22417/22417 [00:08<00:00, 2642.14it/s]\n"
     ]
    },
    {
     "name": "stdout",
     "output_type": "stream",
     "text": [
      "Number of users: 1226\n"
     ]
    },
    {
     "name": "stderr",
     "output_type": "stream",
     "text": [
      "100%|███████████████████████████████████| 22417/22417 [00:07<00:00, 2979.50it/s]\n"
     ]
    },
    {
     "name": "stdout",
     "output_type": "stream",
     "text": [
      "Number of users: 1226\n"
     ]
    },
    {
     "name": "stderr",
     "output_type": "stream",
     "text": [
      "100%|███████████████████████████████████| 29403/29403 [00:06<00:00, 4359.78it/s]\n"
     ]
    },
    {
     "name": "stdout",
     "output_type": "stream",
     "text": [
      "Number of users: 1219\n"
     ]
    },
    {
     "name": "stderr",
     "output_type": "stream",
     "text": [
      "100%|███████████████████████████████████| 29403/29403 [00:06<00:00, 4450.39it/s]\n"
     ]
    },
    {
     "name": "stdout",
     "output_type": "stream",
     "text": [
      "Number of users: 1219\n"
     ]
    },
    {
     "name": "stderr",
     "output_type": "stream",
     "text": [
      "100%|███████████████████████████████████| 34473/34473 [00:07<00:00, 4646.39it/s]\n"
     ]
    },
    {
     "name": "stdout",
     "output_type": "stream",
     "text": [
      "Number of users: 1301\n"
     ]
    },
    {
     "name": "stderr",
     "output_type": "stream",
     "text": [
      "100%|███████████████████████████████████| 34473/34473 [00:07<00:00, 4391.60it/s]\n"
     ]
    },
    {
     "name": "stdout",
     "output_type": "stream",
     "text": [
      "Number of users: 1301\n"
     ]
    },
    {
     "name": "stderr",
     "output_type": "stream",
     "text": [
      "100%|███████████████████████████████████| 39508/39508 [00:15<00:00, 2620.65it/s]\n"
     ]
    },
    {
     "name": "stdout",
     "output_type": "stream",
     "text": [
      "Number of users: 2244\n"
     ]
    },
    {
     "name": "stderr",
     "output_type": "stream",
     "text": [
      "100%|███████████████████████████████████| 39508/39508 [00:15<00:00, 2630.95it/s]\n"
     ]
    },
    {
     "name": "stdout",
     "output_type": "stream",
     "text": [
      "Number of users: 2244\n"
     ]
    },
    {
     "name": "stderr",
     "output_type": "stream",
     "text": [
      "100%|███████████████████████████████████| 47161/47161 [00:20<00:00, 2315.90it/s]\n"
     ]
    },
    {
     "name": "stdout",
     "output_type": "stream",
     "text": [
      "Number of users: 2947\n"
     ]
    },
    {
     "name": "stderr",
     "output_type": "stream",
     "text": [
      "100%|███████████████████████████████████| 47161/47161 [00:20<00:00, 2305.09it/s]\n"
     ]
    },
    {
     "name": "stdout",
     "output_type": "stream",
     "text": [
      "Number of users: 2947\n"
     ]
    },
    {
     "name": "stderr",
     "output_type": "stream",
     "text": [
      "100%|███████████████████████████████████| 55307/55307 [00:19<00:00, 2811.13it/s]\n"
     ]
    },
    {
     "name": "stdout",
     "output_type": "stream",
     "text": [
      "Number of users: 2767\n"
     ]
    },
    {
     "name": "stderr",
     "output_type": "stream",
     "text": [
      "100%|███████████████████████████████████| 55307/55307 [00:19<00:00, 2772.30it/s]\n"
     ]
    },
    {
     "name": "stdout",
     "output_type": "stream",
     "text": [
      "Number of users: 2767\n"
     ]
    },
    {
     "name": "stderr",
     "output_type": "stream",
     "text": [
      "100%|███████████████████████████████████| 61783/61783 [00:19<00:00, 3169.75it/s]\n"
     ]
    },
    {
     "name": "stdout",
     "output_type": "stream",
     "text": [
      "Number of users: 2527\n"
     ]
    },
    {
     "name": "stderr",
     "output_type": "stream",
     "text": [
      "100%|███████████████████████████████████| 61783/61783 [00:19<00:00, 3122.65it/s]\n"
     ]
    },
    {
     "name": "stdout",
     "output_type": "stream",
     "text": [
      "Number of users: 2527\n"
     ]
    },
    {
     "name": "stderr",
     "output_type": "stream",
     "text": [
      "100%|███████████████████████████████████| 67279/67279 [00:18<00:00, 3634.76it/s]\n"
     ]
    },
    {
     "name": "stdout",
     "output_type": "stream",
     "text": [
      "Number of users: 2508\n"
     ]
    },
    {
     "name": "stderr",
     "output_type": "stream",
     "text": [
      "100%|███████████████████████████████████| 67279/67279 [00:20<00:00, 3298.67it/s]\n"
     ]
    },
    {
     "name": "stdout",
     "output_type": "stream",
     "text": [
      "Number of users: 2508\n"
     ]
    },
    {
     "name": "stderr",
     "output_type": "stream",
     "text": [
      "100%|███████████████████████████████████| 72298/72298 [00:23<00:00, 3064.42it/s]\n"
     ]
    },
    {
     "name": "stdout",
     "output_type": "stream",
     "text": [
      "Number of users: 3032\n"
     ]
    },
    {
     "name": "stderr",
     "output_type": "stream",
     "text": [
      "100%|███████████████████████████████████| 72298/72298 [00:25<00:00, 2783.67it/s]\n"
     ]
    },
    {
     "name": "stdout",
     "output_type": "stream",
     "text": [
      "Number of users: 3032\n"
     ]
    },
    {
     "name": "stderr",
     "output_type": "stream",
     "text": [
      "100%|███████████████████████████████████| 78110/78110 [00:08<00:00, 9748.24it/s]\n"
     ]
    },
    {
     "name": "stdout",
     "output_type": "stream",
     "text": [
      "Number of users: 1167\n"
     ]
    },
    {
     "name": "stderr",
     "output_type": "stream",
     "text": [
      "100%|███████████████████████████████████| 78110/78110 [00:07<00:00, 9856.21it/s]"
     ]
    },
    {
     "name": "stdout",
     "output_type": "stream",
     "text": [
      "Number of users: 1167\n",
      "CPU times: user 2h 15min 49s, sys: 2min 32s, total: 2h 18min 22s\n",
      "Wall time: 2h 19min 29s\n"
     ]
    },
    {
     "name": "stderr",
     "output_type": "stream",
     "text": [
      "\n"
     ]
    }
   ],
   "source": [
    "%%time\n",
    "AOP_results = []\n",
    "MAP_results = []\n",
    "num_users = []\n",
    "timeline = []\n",
    "\n",
    "# week 18 - 31\n",
    "for wk in range(18,31):\n",
    "    \n",
    "    #mask_train = transaction_men_raw.week == wk\n",
    "    mask_train = transaction_men_raw.week <= wk\n",
    "    X_train = transaction_men_raw.loc[mask_train].reset_index(drop=True)[['customer_id','article_id']]\n",
    "    mask_test = transaction_men_raw.week == wk + 1\n",
    "    X_test = transaction_men_raw.loc[mask_test].reset_index(drop=True)[['customer_id','article_id']]\n",
    "    \n",
    "    #print(wk, len(X_train), len(X_test))\n",
    "    \n",
    "    #Get recommended items via user-based collaborative filtering\n",
    "    recommend_items = cf.all_item_collaborative_filter(X_train) \n",
    "\n",
    "    #calculate AOP@12 for each train-test group\n",
    "    AOP12_top, num_user = cf.AOP(recommend_items, X_test)\n",
    "    AOP_results.append(AOP12_top)\n",
    "\n",
    "    #calculate MAP@12 for each train-test group\n",
    "    MAP12_top, num_user = cf.MAP(recommend_items, X_test)\n",
    "    MAP_results.append(MAP12_top)\n",
    "\n",
    "    #append number of users\n",
    "    num_users.append(num_user)\n",
    "    \n",
    "    #append week to timeline\n",
    "    timeline.append('Wk_'+str(wk+1))"
   ]
  },
  {
   "cell_type": "code",
   "execution_count": 9,
   "id": "81da0e71",
   "metadata": {},
   "outputs": [
    {
     "name": "stdout",
     "output_type": "stream",
     "text": [
      "[0.031002638522427454, 0.026748971193415644, 0.015900383141762463, 0.014953779227841224, 0.01585999453103636, 0.014347937483986684, 0.010546642899584076, 0.011452324397692556, 0.013130948078544747, 0.010222925735391101, 0.009070972886762351, 0.009207343887423025, 0.009925735504141685]\n",
      "[0.04348278456128061, 0.02828315700890656, 0.02000130616509927, 0.016941209166943246, 0.0240062323891282, 0.018295612136888073, 0.015889842315867257, 0.014901318801471488, 0.016691395732324515, 0.013551525915495053, 0.01367925188698713, 0.011613298140342995, 0.013289348786349643]\n",
      "[379, 567, 870, 1226, 1219, 1301, 2244, 2947, 2767, 2527, 2508, 3032, 1167]\n"
     ]
    }
   ],
   "source": [
    "print(AOP_results)\n",
    "print(MAP_results)\n",
    "print(num_users)"
   ]
  },
  {
   "cell_type": "code",
   "execution_count": 10,
   "id": "d665582b",
   "metadata": {},
   "outputs": [
    {
     "data": {
      "text/html": [
       "<div>\n",
       "<style scoped>\n",
       "    .dataframe tbody tr th:only-of-type {\n",
       "        vertical-align: middle;\n",
       "    }\n",
       "\n",
       "    .dataframe tbody tr th {\n",
       "        vertical-align: top;\n",
       "    }\n",
       "\n",
       "    .dataframe thead th {\n",
       "        text-align: right;\n",
       "    }\n",
       "</style>\n",
       "<table border=\"1\" class=\"dataframe\">\n",
       "  <thead>\n",
       "    <tr style=\"text-align: right;\">\n",
       "      <th></th>\n",
       "      <th>timeline</th>\n",
       "      <th>AOP</th>\n",
       "      <th>MAP</th>\n",
       "      <th>num_users</th>\n",
       "    </tr>\n",
       "  </thead>\n",
       "  <tbody>\n",
       "    <tr>\n",
       "      <th>0</th>\n",
       "      <td>Wk_19</td>\n",
       "      <td>0.031003</td>\n",
       "      <td>0.043483</td>\n",
       "      <td>379</td>\n",
       "    </tr>\n",
       "    <tr>\n",
       "      <th>1</th>\n",
       "      <td>Wk_20</td>\n",
       "      <td>0.026749</td>\n",
       "      <td>0.028283</td>\n",
       "      <td>567</td>\n",
       "    </tr>\n",
       "    <tr>\n",
       "      <th>2</th>\n",
       "      <td>Wk_21</td>\n",
       "      <td>0.015900</td>\n",
       "      <td>0.020001</td>\n",
       "      <td>870</td>\n",
       "    </tr>\n",
       "    <tr>\n",
       "      <th>3</th>\n",
       "      <td>Wk_22</td>\n",
       "      <td>0.014954</td>\n",
       "      <td>0.016941</td>\n",
       "      <td>1226</td>\n",
       "    </tr>\n",
       "    <tr>\n",
       "      <th>4</th>\n",
       "      <td>Wk_23</td>\n",
       "      <td>0.015860</td>\n",
       "      <td>0.024006</td>\n",
       "      <td>1219</td>\n",
       "    </tr>\n",
       "    <tr>\n",
       "      <th>5</th>\n",
       "      <td>Wk_24</td>\n",
       "      <td>0.014348</td>\n",
       "      <td>0.018296</td>\n",
       "      <td>1301</td>\n",
       "    </tr>\n",
       "    <tr>\n",
       "      <th>6</th>\n",
       "      <td>Wk_25</td>\n",
       "      <td>0.010547</td>\n",
       "      <td>0.015890</td>\n",
       "      <td>2244</td>\n",
       "    </tr>\n",
       "    <tr>\n",
       "      <th>7</th>\n",
       "      <td>Wk_26</td>\n",
       "      <td>0.011452</td>\n",
       "      <td>0.014901</td>\n",
       "      <td>2947</td>\n",
       "    </tr>\n",
       "    <tr>\n",
       "      <th>8</th>\n",
       "      <td>Wk_27</td>\n",
       "      <td>0.013131</td>\n",
       "      <td>0.016691</td>\n",
       "      <td>2767</td>\n",
       "    </tr>\n",
       "    <tr>\n",
       "      <th>9</th>\n",
       "      <td>Wk_28</td>\n",
       "      <td>0.010223</td>\n",
       "      <td>0.013552</td>\n",
       "      <td>2527</td>\n",
       "    </tr>\n",
       "    <tr>\n",
       "      <th>10</th>\n",
       "      <td>Wk_29</td>\n",
       "      <td>0.009071</td>\n",
       "      <td>0.013679</td>\n",
       "      <td>2508</td>\n",
       "    </tr>\n",
       "    <tr>\n",
       "      <th>11</th>\n",
       "      <td>Wk_30</td>\n",
       "      <td>0.009207</td>\n",
       "      <td>0.011613</td>\n",
       "      <td>3032</td>\n",
       "    </tr>\n",
       "    <tr>\n",
       "      <th>12</th>\n",
       "      <td>Wk_31</td>\n",
       "      <td>0.009926</td>\n",
       "      <td>0.013289</td>\n",
       "      <td>1167</td>\n",
       "    </tr>\n",
       "  </tbody>\n",
       "</table>\n",
       "</div>"
      ],
      "text/plain": [
       "   timeline       AOP       MAP  num_users\n",
       "0     Wk_19  0.031003  0.043483        379\n",
       "1     Wk_20  0.026749  0.028283        567\n",
       "2     Wk_21  0.015900  0.020001        870\n",
       "3     Wk_22  0.014954  0.016941       1226\n",
       "4     Wk_23  0.015860  0.024006       1219\n",
       "5     Wk_24  0.014348  0.018296       1301\n",
       "6     Wk_25  0.010547  0.015890       2244\n",
       "7     Wk_26  0.011452  0.014901       2947\n",
       "8     Wk_27  0.013131  0.016691       2767\n",
       "9     Wk_28  0.010223  0.013552       2527\n",
       "10    Wk_29  0.009071  0.013679       2508\n",
       "11    Wk_30  0.009207  0.011613       3032\n",
       "12    Wk_31  0.009926  0.013289       1167"
      ]
     },
     "execution_count": 10,
     "metadata": {},
     "output_type": "execute_result"
    }
   ],
   "source": [
    "#save results in a dataframe\n",
    "result_df = pd.DataFrame({'timeline':timeline,\n",
    "                          'AOP':AOP_results,\n",
    "                          'MAP':MAP_results,\n",
    "                          'num_users':num_users})\n",
    "\n",
    "#save the dataframe in csv\n",
    "#change file name for different period groups\n",
    "#result_df.to_csv(\"../data/MenswearResults/item_based_cf.csv\")\n",
    "result_df.to_csv(\"../data/MenswearResults/item_based_cf_accum.csv\")\n",
    "\n",
    "result_df"
   ]
  },
  {
   "cell_type": "code",
   "execution_count": 12,
   "id": "a75400bb",
   "metadata": {},
   "outputs": [
    {
     "data": {
      "text/html": [
       "<div>\n",
       "<style scoped>\n",
       "    .dataframe tbody tr th:only-of-type {\n",
       "        vertical-align: middle;\n",
       "    }\n",
       "\n",
       "    .dataframe tbody tr th {\n",
       "        vertical-align: top;\n",
       "    }\n",
       "\n",
       "    .dataframe thead th {\n",
       "        text-align: right;\n",
       "    }\n",
       "</style>\n",
       "<table border=\"1\" class=\"dataframe\">\n",
       "  <thead>\n",
       "    <tr style=\"text-align: right;\">\n",
       "      <th></th>\n",
       "      <th>timeline</th>\n",
       "      <th>AOP</th>\n",
       "      <th>MAP</th>\n",
       "      <th>num_users</th>\n",
       "    </tr>\n",
       "  </thead>\n",
       "  <tbody>\n",
       "    <tr>\n",
       "      <th>0</th>\n",
       "      <td>Wk_19</td>\n",
       "      <td>0.031003</td>\n",
       "      <td>0.043483</td>\n",
       "      <td>379</td>\n",
       "    </tr>\n",
       "    <tr>\n",
       "      <th>1</th>\n",
       "      <td>Wk_20</td>\n",
       "      <td>0.026749</td>\n",
       "      <td>0.028283</td>\n",
       "      <td>567</td>\n",
       "    </tr>\n",
       "    <tr>\n",
       "      <th>2</th>\n",
       "      <td>Wk_21</td>\n",
       "      <td>0.015900</td>\n",
       "      <td>0.020001</td>\n",
       "      <td>870</td>\n",
       "    </tr>\n",
       "    <tr>\n",
       "      <th>3</th>\n",
       "      <td>Wk_22</td>\n",
       "      <td>0.014954</td>\n",
       "      <td>0.016941</td>\n",
       "      <td>1226</td>\n",
       "    </tr>\n",
       "    <tr>\n",
       "      <th>4</th>\n",
       "      <td>Wk_23</td>\n",
       "      <td>0.015860</td>\n",
       "      <td>0.024006</td>\n",
       "      <td>1219</td>\n",
       "    </tr>\n",
       "    <tr>\n",
       "      <th>5</th>\n",
       "      <td>Wk_24</td>\n",
       "      <td>0.014348</td>\n",
       "      <td>0.018296</td>\n",
       "      <td>1301</td>\n",
       "    </tr>\n",
       "    <tr>\n",
       "      <th>6</th>\n",
       "      <td>Wk_25</td>\n",
       "      <td>0.010547</td>\n",
       "      <td>0.015890</td>\n",
       "      <td>2244</td>\n",
       "    </tr>\n",
       "    <tr>\n",
       "      <th>7</th>\n",
       "      <td>Wk_26</td>\n",
       "      <td>0.011452</td>\n",
       "      <td>0.014901</td>\n",
       "      <td>2947</td>\n",
       "    </tr>\n",
       "    <tr>\n",
       "      <th>8</th>\n",
       "      <td>Wk_27</td>\n",
       "      <td>0.013131</td>\n",
       "      <td>0.016691</td>\n",
       "      <td>2767</td>\n",
       "    </tr>\n",
       "    <tr>\n",
       "      <th>9</th>\n",
       "      <td>Wk_28</td>\n",
       "      <td>0.010223</td>\n",
       "      <td>0.013552</td>\n",
       "      <td>2527</td>\n",
       "    </tr>\n",
       "    <tr>\n",
       "      <th>10</th>\n",
       "      <td>Wk_29</td>\n",
       "      <td>0.009071</td>\n",
       "      <td>0.013679</td>\n",
       "      <td>2508</td>\n",
       "    </tr>\n",
       "    <tr>\n",
       "      <th>11</th>\n",
       "      <td>Wk_30</td>\n",
       "      <td>0.009207</td>\n",
       "      <td>0.011613</td>\n",
       "      <td>3032</td>\n",
       "    </tr>\n",
       "    <tr>\n",
       "      <th>12</th>\n",
       "      <td>Wk_31</td>\n",
       "      <td>0.009926</td>\n",
       "      <td>0.013289</td>\n",
       "      <td>1167</td>\n",
       "    </tr>\n",
       "  </tbody>\n",
       "</table>\n",
       "</div>"
      ],
      "text/plain": [
       "   timeline       AOP       MAP  num_users\n",
       "0     Wk_19  0.031003  0.043483        379\n",
       "1     Wk_20  0.026749  0.028283        567\n",
       "2     Wk_21  0.015900  0.020001        870\n",
       "3     Wk_22  0.014954  0.016941       1226\n",
       "4     Wk_23  0.015860  0.024006       1219\n",
       "5     Wk_24  0.014348  0.018296       1301\n",
       "6     Wk_25  0.010547  0.015890       2244\n",
       "7     Wk_26  0.011452  0.014901       2947\n",
       "8     Wk_27  0.013131  0.016691       2767\n",
       "9     Wk_28  0.010223  0.013552       2527\n",
       "10    Wk_29  0.009071  0.013679       2508\n",
       "11    Wk_30  0.009207  0.011613       3032\n",
       "12    Wk_31  0.009926  0.013289       1167"
      ]
     },
     "execution_count": 12,
     "metadata": {},
     "output_type": "execute_result"
    }
   ],
   "source": [
    "#Read result csv\n",
    "itemCF_df = pd.read_csv(\"../data/MenswearResults/item_based_cf_accum.csv\").iloc[:,1:]\n",
    "#itemCF_df = pd.read_csv(\"../data/MenswearResults/item_based_cf.csv\").iloc[:,1:]\n",
    "itemCF_df"
   ]
  },
  {
   "cell_type": "code",
   "execution_count": 13,
   "id": "9147afdc",
   "metadata": {},
   "outputs": [
    {
     "data": {
      "text/plain": [
       "<matplotlib.legend.Legend at 0x129c0cbb0>"
      ]
     },
     "execution_count": 13,
     "metadata": {},
     "output_type": "execute_result"
    },
    {
     "data": {
      "image/png": "[encoded data removed]",
      "text/plain": [
       "<Figure size 720x432 with 1 Axes>"
      ]
     },
     "metadata": {
      "needs_background": "light"
     },
     "output_type": "display_data"
    }
   ],
   "source": [
    "#plot for AOP MAP\n",
    "plt.figure(figsize=(10,6))\n",
    "plt.plot(itemCF_df.timeline, itemCF_df.AOP, color= 'blue')\n",
    "plt.plot(itemCF_df.timeline, itemCF_df.MAP, color= 'orange')\n",
    "plt.xlabel('2019 May-July')\n",
    "plt.ylabel('Precision@12')\n",
    "plt.legend(['AOP','MAP'])"
   ]
  },
  {
   "cell_type": "code",
   "execution_count": null,
   "id": "d5a4e1f5",
   "metadata": {},
   "outputs": [],
   "source": []
  },
  {
   "cell_type": "code",
   "execution_count": null,
   "id": "2f9a1e87",
   "metadata": {},
   "outputs": [],
   "source": []
  },
  {
   "cell_type": "code",
   "execution_count": 4,
   "id": "64d69cd0",
   "metadata": {},
   "outputs": [
    {
     "data": {
      "text/html": [
       "<div>\n",
       "<style scoped>\n",
       "    .dataframe tbody tr th:only-of-type {\n",
       "        vertical-align: middle;\n",
       "    }\n",
       "\n",
       "    .dataframe tbody tr th {\n",
       "        vertical-align: top;\n",
       "    }\n",
       "\n",
       "    .dataframe thead th {\n",
       "        text-align: right;\n",
       "    }\n",
       "</style>\n",
       "<table border=\"1\" class=\"dataframe\">\n",
       "  <thead>\n",
       "    <tr style=\"text-align: right;\">\n",
       "      <th></th>\n",
       "      <th>customer</th>\n",
       "      <th>article</th>\n",
       "      <th>value</th>\n",
       "    </tr>\n",
       "  </thead>\n",
       "  <tbody>\n",
       "    <tr>\n",
       "      <th>0</th>\n",
       "      <td>A</td>\n",
       "      <td>a</td>\n",
       "      <td>1</td>\n",
       "    </tr>\n",
       "    <tr>\n",
       "      <th>1</th>\n",
       "      <td>A</td>\n",
       "      <td>a</td>\n",
       "      <td>1</td>\n",
       "    </tr>\n",
       "    <tr>\n",
       "      <th>2</th>\n",
       "      <td>A</td>\n",
       "      <td>b</td>\n",
       "      <td>1</td>\n",
       "    </tr>\n",
       "    <tr>\n",
       "      <th>3</th>\n",
       "      <td>B</td>\n",
       "      <td>a</td>\n",
       "      <td>1</td>\n",
       "    </tr>\n",
       "    <tr>\n",
       "      <th>4</th>\n",
       "      <td>B</td>\n",
       "      <td>b</td>\n",
       "      <td>1</td>\n",
       "    </tr>\n",
       "    <tr>\n",
       "      <th>5</th>\n",
       "      <td>B</td>\n",
       "      <td>c</td>\n",
       "      <td>1</td>\n",
       "    </tr>\n",
       "    <tr>\n",
       "      <th>6</th>\n",
       "      <td>C</td>\n",
       "      <td>c</td>\n",
       "      <td>1</td>\n",
       "    </tr>\n",
       "    <tr>\n",
       "      <th>7</th>\n",
       "      <td>C</td>\n",
       "      <td>d</td>\n",
       "      <td>1</td>\n",
       "    </tr>\n",
       "    <tr>\n",
       "      <th>8</th>\n",
       "      <td>C</td>\n",
       "      <td>e</td>\n",
       "      <td>1</td>\n",
       "    </tr>\n",
       "    <tr>\n",
       "      <th>9</th>\n",
       "      <td>D</td>\n",
       "      <td>d</td>\n",
       "      <td>1</td>\n",
       "    </tr>\n",
       "    <tr>\n",
       "      <th>10</th>\n",
       "      <td>D</td>\n",
       "      <td>e</td>\n",
       "      <td>1</td>\n",
       "    </tr>\n",
       "  </tbody>\n",
       "</table>\n",
       "</div>"
      ],
      "text/plain": [
       "   customer article  value\n",
       "0         A       a      1\n",
       "1         A       a      1\n",
       "2         A       b      1\n",
       "3         B       a      1\n",
       "4         B       b      1\n",
       "5         B       c      1\n",
       "6         C       c      1\n",
       "7         C       d      1\n",
       "8         C       e      1\n",
       "9         D       d      1\n",
       "10        D       e      1"
      ]
     },
     "execution_count": 4,
     "metadata": {},
     "output_type": "execute_result"
    }
   ],
   "source": [
    "#create user-article matrix of training data\n",
    "df_t = pd.DataFrame({\"customer\":[\"A\",\"A\",\"A\",\"B\",\"B\",\"B\",\"C\",\"C\",\"C\",\"D\",\"D\"],\n",
    "                     \"article\":[\"a\",\"a\",\"b\",\"a\",\"b\",\"c\",\"c\",\"d\",\"e\",\"d\",\"e\"],\n",
    "                     \"value\":[1]*11})\n",
    "df_t"
   ]
  },
  {
   "cell_type": "code",
   "execution_count": 5,
   "id": "5015026f",
   "metadata": {},
   "outputs": [],
   "source": [
    "#remove duplicate purchase history\n",
    "df_t.drop_duplicates(inplace=True)"
   ]
  },
  {
   "cell_type": "code",
   "execution_count": 6,
   "id": "4a2110a1",
   "metadata": {},
   "outputs": [
    {
     "data": {
      "text/html": [
       "<div>\n",
       "<style scoped>\n",
       "    .dataframe tbody tr th:only-of-type {\n",
       "        vertical-align: middle;\n",
       "    }\n",
       "\n",
       "    .dataframe tbody tr th {\n",
       "        vertical-align: top;\n",
       "    }\n",
       "\n",
       "    .dataframe thead th {\n",
       "        text-align: right;\n",
       "    }\n",
       "</style>\n",
       "<table border=\"1\" class=\"dataframe\">\n",
       "  <thead>\n",
       "    <tr style=\"text-align: right;\">\n",
       "      <th>customer</th>\n",
       "      <th>A</th>\n",
       "      <th>B</th>\n",
       "      <th>C</th>\n",
       "      <th>D</th>\n",
       "    </tr>\n",
       "    <tr>\n",
       "      <th>article</th>\n",
       "      <th></th>\n",
       "      <th></th>\n",
       "      <th></th>\n",
       "      <th></th>\n",
       "    </tr>\n",
       "  </thead>\n",
       "  <tbody>\n",
       "    <tr>\n",
       "      <th>a</th>\n",
       "      <td>1.0</td>\n",
       "      <td>1.0</td>\n",
       "      <td>0.0</td>\n",
       "      <td>0.0</td>\n",
       "    </tr>\n",
       "    <tr>\n",
       "      <th>b</th>\n",
       "      <td>1.0</td>\n",
       "      <td>1.0</td>\n",
       "      <td>0.0</td>\n",
       "      <td>0.0</td>\n",
       "    </tr>\n",
       "    <tr>\n",
       "      <th>c</th>\n",
       "      <td>0.0</td>\n",
       "      <td>1.0</td>\n",
       "      <td>1.0</td>\n",
       "      <td>0.0</td>\n",
       "    </tr>\n",
       "    <tr>\n",
       "      <th>d</th>\n",
       "      <td>0.0</td>\n",
       "      <td>0.0</td>\n",
       "      <td>1.0</td>\n",
       "      <td>1.0</td>\n",
       "    </tr>\n",
       "    <tr>\n",
       "      <th>e</th>\n",
       "      <td>0.0</td>\n",
       "      <td>0.0</td>\n",
       "      <td>1.0</td>\n",
       "      <td>1.0</td>\n",
       "    </tr>\n",
       "  </tbody>\n",
       "</table>\n",
       "</div>"
      ],
      "text/plain": [
       "customer    A    B    C    D\n",
       "article                     \n",
       "a         1.0  1.0  0.0  0.0\n",
       "b         1.0  1.0  0.0  0.0\n",
       "c         0.0  1.0  1.0  0.0\n",
       "d         0.0  0.0  1.0  1.0\n",
       "e         0.0  0.0  1.0  1.0"
      ]
     },
     "execution_count": 6,
     "metadata": {},
     "output_type": "execute_result"
    }
   ],
   "source": [
    "#convert transaction data to customer-by-article table and fill missing values with 0\n",
    "article_customer_table = df_t.pivot(index='article', columns=\"customer\")['value'].fillna(0)\n",
    "article_customer_table"
   ]
  },
  {
   "cell_type": "code",
   "execution_count": 7,
   "id": "3b35a8de",
   "metadata": {},
   "outputs": [
    {
     "data": {
      "text/html": [
       "<div>\n",
       "<style scoped>\n",
       "    .dataframe tbody tr th:only-of-type {\n",
       "        vertical-align: middle;\n",
       "    }\n",
       "\n",
       "    .dataframe tbody tr th {\n",
       "        vertical-align: top;\n",
       "    }\n",
       "\n",
       "    .dataframe thead th {\n",
       "        text-align: right;\n",
       "    }\n",
       "</style>\n",
       "<table border=\"1\" class=\"dataframe\">\n",
       "  <thead>\n",
       "    <tr style=\"text-align: right;\">\n",
       "      <th></th>\n",
       "      <th>article</th>\n",
       "    </tr>\n",
       "  </thead>\n",
       "  <tbody>\n",
       "    <tr>\n",
       "      <th>0</th>\n",
       "      <td>a</td>\n",
       "    </tr>\n",
       "    <tr>\n",
       "      <th>1</th>\n",
       "      <td>b</td>\n",
       "    </tr>\n",
       "    <tr>\n",
       "      <th>2</th>\n",
       "      <td>c</td>\n",
       "    </tr>\n",
       "    <tr>\n",
       "      <th>3</th>\n",
       "      <td>d</td>\n",
       "    </tr>\n",
       "    <tr>\n",
       "      <th>4</th>\n",
       "      <td>e</td>\n",
       "    </tr>\n",
       "  </tbody>\n",
       "</table>\n",
       "</div>"
      ],
      "text/plain": [
       "  article\n",
       "0       a\n",
       "1       b\n",
       "2       c\n",
       "3       d\n",
       "4       e"
      ]
     },
     "execution_count": 7,
     "metadata": {},
     "output_type": "execute_result"
    }
   ],
   "source": [
    "article_idx_df = pd.DataFrame({'article':article_customer_table.index})\n",
    "article_idx_df"
   ]
  },
  {
   "cell_type": "code",
   "execution_count": 9,
   "id": "35167454",
   "metadata": {},
   "outputs": [
    {
     "data": {
      "text/plain": [
       "array([[1., 1., 0., 0.],\n",
       "       [1., 1., 0., 0.],\n",
       "       [0., 1., 1., 0.],\n",
       "       [0., 0., 1., 1.],\n",
       "       [0., 0., 1., 1.]])"
      ]
     },
     "execution_count": 9,
     "metadata": {},
     "output_type": "execute_result"
    }
   ],
   "source": [
    "#conver dataframe to numpy array\n",
    "matrix = np.array(article_customer_table)\n",
    "matrix"
   ]
  },
  {
   "cell_type": "code",
   "execution_count": 10,
   "id": "e749055e",
   "metadata": {},
   "outputs": [
    {
     "data": {
      "text/plain": [
       "array([[1. , 1. , 0.5, 0. , 0. ],\n",
       "       [1. , 1. , 0.5, 0. , 0. ],\n",
       "       [0.5, 0.5, 1. , 0.5, 0.5],\n",
       "       [0. , 0. , 0.5, 1. , 1. ],\n",
       "       [0. , 0. , 0.5, 1. , 1. ]])"
      ]
     },
     "execution_count": 10,
     "metadata": {},
     "output_type": "execute_result"
    }
   ],
   "source": [
    "similarity = cosine_similarity(matrix)\n",
    "similarity"
   ]
  },
  {
   "cell_type": "code",
   "execution_count": 11,
   "id": "a7bae95a",
   "metadata": {},
   "outputs": [
    {
     "data": {
      "text/plain": [
       "array([[1, 0, 2, 4, 3],\n",
       "       [1, 0, 2, 4, 3],\n",
       "       [2, 4, 3, 1, 0],\n",
       "       [4, 3, 2, 1, 0],\n",
       "       [4, 3, 2, 1, 0]])"
      ]
     },
     "execution_count": 11,
     "metadata": {},
     "output_type": "execute_result"
    }
   ],
   "source": [
    "#sort index of similarity\n",
    "sorted_sim_index = np.fliplr(np.argsort(similarity))\n",
    "sorted_sim_index"
   ]
  },
  {
   "cell_type": "code",
   "execution_count": 17,
   "id": "d8389c52",
   "metadata": {},
   "outputs": [
    {
     "data": {
      "text/plain": [
       "2"
      ]
     },
     "execution_count": 17,
     "metadata": {},
     "output_type": "execute_result"
    }
   ],
   "source": [
    "#find similar items for item c\n",
    "np.where(article_idx_df.article == 'c')[0][0]"
   ]
  },
  {
   "cell_type": "code",
   "execution_count": null,
   "id": "5bbaa928",
   "metadata": {},
   "outputs": [],
   "source": []
  }
 ],
 "metadata": {
  "kernelspec": {
   "display_name": "Python 3 (ipykernel)",
   "language": "python",
   "name": "python3"
  },
  "language_info": {
   "codemirror_mode": {
    "name": "ipython",
    "version": 3
   },
   "file_extension": ".py",
   "mimetype": "text/x-python",
   "name": "python",
   "nbconvert_exporter": "python",
   "pygments_lexer": "ipython3",
   "version": "3.9.10"
  }
 },
 "nbformat": 4,
 "nbformat_minor": 5
}
