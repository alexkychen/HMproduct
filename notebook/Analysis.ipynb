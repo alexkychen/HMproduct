{
 "cells": [
  {
   "cell_type": "code",
   "execution_count": 9,
   "id": "acaaf138",
   "metadata": {},
   "outputs": [],
   "source": [
    "import pandas as pd\n",
    "import numpy as np\n",
    "import collaborative_filter as cf"
   ]
  },
  {
   "cell_type": "code",
   "execution_count": null,
   "id": "d69fef0c",
   "metadata": {},
   "outputs": [],
   "source": [
    "#Task: Perform collaborative filterin vs. top-selling items recommendations for each month\n",
    "#Training data: Sample first 100K transation history of 1st-7th day and 15th-21st day of every month\n",
    "#Testing data: data from 8th-14th and 22nd-28th day of every month"
   ]
  },
  {
   "cell_type": "code",
   "execution_count": 10,
   "id": "4ed63ab8",
   "metadata": {},
   "outputs": [
    {
     "name": "stdout",
     "output_type": "stream",
     "text": [
      "CPU times: user 29.1 s, sys: 8.29 s, total: 37.4 s\n",
      "Wall time: 41.1 s\n"
     ]
    }
   ],
   "source": [
    "%%time\n",
    "transaction_raw = pd.read_csv(\"../data/transactions_train.csv\")"
   ]
  },
  {
   "cell_type": "code",
   "execution_count": 11,
   "id": "ad5dd0e3",
   "metadata": {},
   "outputs": [],
   "source": [
    "#2018-10-01, 2018-10-07 Train_1\n",
    "#2018-10-08, 2018-10-14 Test_2\n",
    "#2018-10-15, 2018-10-21 Train_1\n",
    "#2018-10-22, 2018-10-28 Test_2\n",
    "\n",
    "#2020-08-01, 2020-08-07 Train_1\n",
    "#2020-08-08, 2020-08-14 Test2\n",
    "#2020-08-15, 2020-08-21 Train_1\n",
    "#2020-08-22, 2020-08-28 Test_2\n",
    "\n",
    "eval_month = ['2018-10','2018-11','2018-12','2019-01','2019-02','2019-03','2019-04','2019-05','2019-06','2019-07',\n",
    "                    '2019-09','2019-10','2019-11','2019-12','2020-01','2020-02','2020-03','2020-04','2020-05','2020-06',\n",
    "                    '2020-07','2020-08']\n",
    "traintest_day = ['01','07','08','14','15','21','22','28']"
   ]
  },
  {
   "cell_type": "code",
   "execution_count": 12,
   "id": "199765b2",
   "metadata": {},
   "outputs": [
    {
     "name": "stdout",
     "output_type": "stream",
     "text": [
      "2018-10-01\n"
     ]
    }
   ],
   "source": [
    "print(eval_month[0]+'-'+traintest_day[0])"
   ]
  },
  {
   "cell_type": "code",
   "execution_count": 13,
   "id": "27c8d728",
   "metadata": {},
   "outputs": [],
   "source": [
    "mask_train = (transaction_raw.t_dat >= eval_month[0]+'-'+traintest_day[0]) & \\\n",
    "            (transaction_raw.t_dat <= eval_month[0]+'-'+traintest_day[1])\n",
    "X_train = transaction_raw.loc[mask_train].reset_index(drop=True)[['customer_id','article_id']]\n",
    "\n",
    "mask_test = (transaction_raw.t_dat >= eval_month[0]+'-'+traintest_day[2]) & \\\n",
    "            (transaction_raw.t_dat <= eval_month[0]+'-'+traintest_day[3])\n",
    "X_test = transaction_raw.loc[mask_test].reset_index(drop=True)[['customer_id','article_id']]\n"
   ]
  },
  {
   "cell_type": "code",
   "execution_count": null,
   "id": "74b893c2",
   "metadata": {},
   "outputs": [],
   "source": [
    "recommend_items = cf.all_user_collaborative_filter(X_train.head(100000), similar_user_number = 250, \n",
    "                                                   max_recommend_items = 12)\n"
   ]
  },
  {
   "cell_type": "code",
   "execution_count": 22,
   "id": "4b36912d",
   "metadata": {
    "scrolled": false
   },
   "outputs": [],
   "source": [
    "for user, recommend_Items in recommend_items.items():\n",
    "    if len(recommend_Items) < 12:\n",
    "        print(\"Items < 12\")"
   ]
  },
  {
   "cell_type": "code",
   "execution_count": 23,
   "id": "3c599dc4",
   "metadata": {},
   "outputs": [
    {
     "name": "stderr",
     "output_type": "stream",
     "text": [
      "100%|██████████████████████████████████████| 1373/1373 [00:09<00:00, 144.81it/s]"
     ]
    },
    {
     "name": "stdout",
     "output_type": "stream",
     "text": [
      "Number of users: 262\n"
     ]
    },
    {
     "name": "stderr",
     "output_type": "stream",
     "text": [
      "\n"
     ]
    },
    {
     "data": {
      "text/plain": [
       "0.002878085654803213"
      ]
     },
     "execution_count": 23,
     "metadata": {},
     "output_type": "execute_result"
    }
   ],
   "source": [
    "MAP12_cf = cf.MAP(recommend_items, X_test)\n",
    "MAP12_cf"
   ]
  },
  {
   "cell_type": "code",
   "execution_count": 24,
   "id": "fed1cdaf",
   "metadata": {},
   "outputs": [
    {
     "name": "stderr",
     "output_type": "stream",
     "text": [
      "100%|██████████████████████████████████████| 1373/1373 [00:09<00:00, 151.85it/s]"
     ]
    },
    {
     "name": "stdout",
     "output_type": "stream",
     "text": [
      "Number of users: 262\n"
     ]
    },
    {
     "name": "stderr",
     "output_type": "stream",
     "text": [
      "\n"
     ]
    },
    {
     "data": {
      "text/plain": [
       "0.0025445292620865138"
      ]
     },
     "execution_count": 24,
     "metadata": {},
     "output_type": "execute_result"
    }
   ],
   "source": [
    "AOP12_cf = cf.AOP(recommend_items, X_test)\n",
    "AOP12_cf"
   ]
  },
  {
   "cell_type": "code",
   "execution_count": 7,
   "id": "32ee8ce1",
   "metadata": {},
   "outputs": [],
   "source": [
    "mask_train = (transaction_raw.t_dat >= '2019-05-01') & (transaction_raw.t_dat <= '2019-05-10')\n",
    "X_train = transaction_raw.loc[mask_train].reset_index(drop=True)[['customer_id','article_id']]\n",
    "mask_test = (transaction_raw.t_dat >= '2019-05-01') & (transaction_raw.t_dat <= '2019-05-10')\n",
    "X_test = transaction_raw.loc[mask_test].reset_index(drop=True)[['customer_id','article_id']]\n",
    "\n",
    "\n",
    "recommend_items = cf.all_user_collaborative_filter(X_train.head(100000), similar_user_number = 100, max_recommend_items = 12)\n",
    "MAP12_cf = cf.MAP(recommend_items, X_test)\n"
   ]
  }
 ],
 "metadata": {
  "kernelspec": {
   "display_name": "Python 3 (ipykernel)",
   "language": "python",
   "name": "python3"
  },
  "language_info": {
   "codemirror_mode": {
    "name": "ipython",
    "version": 3
   },
   "file_extension": ".py",
   "mimetype": "text/x-python",
   "name": "python",
   "nbconvert_exporter": "python",
   "pygments_lexer": "ipython3",
   "version": "3.9.10"
  }
 },
 "nbformat": 4,
 "nbformat_minor": 5
}
