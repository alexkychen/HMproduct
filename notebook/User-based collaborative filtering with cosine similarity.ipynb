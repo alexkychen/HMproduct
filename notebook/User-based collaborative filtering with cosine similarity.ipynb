{
 "cells": [
  {
   "cell_type": "markdown",
   "id": "0693ccf3",
   "metadata": {},
   "source": [
    "# User-based collaborative filtering with cosine similarity\n",
    "\n",
    "Recommend 12 items to returning customers who haven't purchased those items based on user-based collaborative filtering\n",
    "\n",
    "- Use transaction data from 1st-7th day and 15th-21st day each month (2018-10 ~ 2020-08) to build user-based cosine similarity\n",
    "- Use most similar customers(users) to identify 12 items that were not purchased by target customers\n",
    "- 12 recommended items were validated using data from from 8th-14th (for 1st-7th data) and 22nd-28th (for 15th-21st data) day each month \n",
    "- calcuate AOP@12 and MAP@12 to evaluate results"
   ]
  },
  {
   "cell_type": "code",
   "execution_count": 1,
   "id": "2d6260dc",
   "metadata": {},
   "outputs": [],
   "source": [
    "import pandas as pd\n",
    "import numpy as np\n",
    "import collaborative_filter as cf"
   ]
  },
  {
   "cell_type": "code",
   "execution_count": 2,
   "id": "74b8542f",
   "metadata": {},
   "outputs": [
    {
     "name": "stdout",
     "output_type": "stream",
     "text": [
      "Wall time: 22 s\n"
     ]
    }
   ],
   "source": [
    "%%time\n",
    "transaction_raw = pd.read_csv(\"../data/transactions_train.csv\")"
   ]
  },
  {
   "cell_type": "code",
   "execution_count": 3,
   "id": "f1c93956",
   "metadata": {},
   "outputs": [],
   "source": [
    "#set dates for training and testing\n",
    "traintest_day = ['01','07','08','14','15','21','22','28']"
   ]
  },
  {
   "cell_type": "code",
   "execution_count": 4,
   "id": "a39ce390",
   "metadata": {},
   "outputs": [],
   "source": [
    "eval_month = ['2018-10','2018-11','2018-12','2019-01']"
   ]
  },
  {
   "cell_type": "code",
   "execution_count": 9,
   "id": "608bcd0a",
   "metadata": {},
   "outputs": [],
   "source": [
    "eval_month = ['2019-02','2019-03','2019-04','2019-05']"
   ]
  },
  {
   "cell_type": "code",
   "execution_count": 14,
   "id": "9a7b79c6",
   "metadata": {},
   "outputs": [],
   "source": [
    "eval_month = ['2019-06','2019-07','2019-08','2019-09','2019-10','2019-11','2019-12','2020-01']"
   ]
  },
  {
   "cell_type": "code",
   "execution_count": 19,
   "id": "5b17294f",
   "metadata": {},
   "outputs": [],
   "source": [
    "eval_month = ['2020-02','2020-03','2020-04','2020-05','2020-06','2020-07','2020-08']"
   ]
  },
  {
   "cell_type": "code",
   "execution_count": 20,
   "id": "ef275234",
   "metadata": {},
   "outputs": [
    {
     "name": "stderr",
     "output_type": "stream",
     "text": [
      "100%|███████████████████████████████████████████████████████████████████████████| 15943/15943 [00:36<00:00, 431.55it/s]\n",
      "  0%|▏                                                                             | 33/15943 [00:00<00:50, 318.16it/s]"
     ]
    },
    {
     "name": "stdout",
     "output_type": "stream",
     "text": [
      "Number of users: 2347\n"
     ]
    },
    {
     "name": "stderr",
     "output_type": "stream",
     "text": [
      "100%|███████████████████████████████████████████████████████████████████████████| 15943/15943 [00:36<00:00, 432.18it/s]\n"
     ]
    },
    {
     "name": "stdout",
     "output_type": "stream",
     "text": [
      "Number of users: 2347\n"
     ]
    },
    {
     "name": "stderr",
     "output_type": "stream",
     "text": [
      "100%|███████████████████████████████████████████████████████████████████████████| 15881/15881 [00:43<00:00, 365.06it/s]\n",
      "  0%|▏                                                                             | 50/15881 [00:00<00:32, 491.51it/s]"
     ]
    },
    {
     "name": "stdout",
     "output_type": "stream",
     "text": [
      "Number of users: 2539\n"
     ]
    },
    {
     "name": "stderr",
     "output_type": "stream",
     "text": [
      "100%|███████████████████████████████████████████████████████████████████████████| 15881/15881 [00:43<00:00, 361.64it/s]\n"
     ]
    },
    {
     "name": "stdout",
     "output_type": "stream",
     "text": [
      "Number of users: 2539\n"
     ]
    },
    {
     "name": "stderr",
     "output_type": "stream",
     "text": [
      "100%|███████████████████████████████████████████████████████████████████████████| 14180/14180 [00:34<00:00, 411.12it/s]\n",
      "  0%|▎                                                                             | 65/14180 [00:00<00:24, 588.10it/s]"
     ]
    },
    {
     "name": "stdout",
     "output_type": "stream",
     "text": [
      "Number of users: 2167\n"
     ]
    },
    {
     "name": "stderr",
     "output_type": "stream",
     "text": [
      "100%|███████████████████████████████████████████████████████████████████████████| 14180/14180 [00:34<00:00, 411.97it/s]\n"
     ]
    },
    {
     "name": "stdout",
     "output_type": "stream",
     "text": [
      "Number of users: 2167\n"
     ]
    },
    {
     "name": "stderr",
     "output_type": "stream",
     "text": [
      "100%|███████████████████████████████████████████████████████████████████████████| 13482/13482 [00:26<00:00, 514.15it/s]\n",
      "  0%|▎                                                                             | 46/13482 [00:00<00:32, 411.97it/s]"
     ]
    },
    {
     "name": "stdout",
     "output_type": "stream",
     "text": [
      "Number of users: 1827\n"
     ]
    },
    {
     "name": "stderr",
     "output_type": "stream",
     "text": [
      "100%|███████████████████████████████████████████████████████████████████████████| 13482/13482 [00:26<00:00, 513.76it/s]\n"
     ]
    },
    {
     "name": "stdout",
     "output_type": "stream",
     "text": [
      "Number of users: 1827\n"
     ]
    },
    {
     "name": "stderr",
     "output_type": "stream",
     "text": [
      "100%|███████████████████████████████████████████████████████████████████████████| 12682/12682 [00:51<00:00, 248.55it/s]\n",
      "  0%|▏                                                                             | 26/12682 [00:00<00:50, 249.73it/s]"
     ]
    },
    {
     "name": "stdout",
     "output_type": "stream",
     "text": [
      "Number of users: 2246\n"
     ]
    },
    {
     "name": "stderr",
     "output_type": "stream",
     "text": [
      "100%|███████████████████████████████████████████████████████████████████████████| 12682/12682 [00:51<00:00, 248.47it/s]\n"
     ]
    },
    {
     "name": "stdout",
     "output_type": "stream",
     "text": [
      "Number of users: 2246\n"
     ]
    },
    {
     "name": "stderr",
     "output_type": "stream",
     "text": [
      "100%|███████████████████████████████████████████████████████████████████████████| 12428/12428 [00:36<00:00, 340.61it/s]\n",
      "  0%|▎                                                                             | 53/12428 [00:00<00:23, 522.00it/s]"
     ]
    },
    {
     "name": "stdout",
     "output_type": "stream",
     "text": [
      "Number of users: 2072\n"
     ]
    },
    {
     "name": "stderr",
     "output_type": "stream",
     "text": [
      "100%|███████████████████████████████████████████████████████████████████████████| 12428/12428 [00:36<00:00, 340.70it/s]\n"
     ]
    },
    {
     "name": "stdout",
     "output_type": "stream",
     "text": [
      "Number of users: 2072\n"
     ]
    },
    {
     "name": "stderr",
     "output_type": "stream",
     "text": [
      "100%|███████████████████████████████████████████████████████████████████████████| 12620/12620 [00:42<00:00, 298.78it/s]\n",
      "  0%|▏                                                                             | 25/12620 [00:00<00:55, 227.82it/s]"
     ]
    },
    {
     "name": "stdout",
     "output_type": "stream",
     "text": [
      "Number of users: 2358\n"
     ]
    },
    {
     "name": "stderr",
     "output_type": "stream",
     "text": [
      "100%|███████████████████████████████████████████████████████████████████████████| 12620/12620 [00:42<00:00, 297.64it/s]\n"
     ]
    },
    {
     "name": "stdout",
     "output_type": "stream",
     "text": [
      "Number of users: 2358\n"
     ]
    },
    {
     "name": "stderr",
     "output_type": "stream",
     "text": [
      "100%|███████████████████████████████████████████████████████████████████████████| 14020/14020 [01:11<00:00, 195.27it/s]\n",
      "  0%|                                                                              | 20/14020 [00:00<01:18, 177.47it/s]"
     ]
    },
    {
     "name": "stdout",
     "output_type": "stream",
     "text": [
      "Number of users: 3097\n"
     ]
    },
    {
     "name": "stderr",
     "output_type": "stream",
     "text": [
      "100%|███████████████████████████████████████████████████████████████████████████| 14020/14020 [01:11<00:00, 195.36it/s]\n"
     ]
    },
    {
     "name": "stdout",
     "output_type": "stream",
     "text": [
      "Number of users: 3097\n"
     ]
    },
    {
     "name": "stderr",
     "output_type": "stream",
     "text": [
      "100%|███████████████████████████████████████████████████████████████████████████| 13058/13058 [00:42<00:00, 308.44it/s]\n",
      "  0%|▏                                                                             | 25/13058 [00:00<00:58, 221.83it/s]"
     ]
    },
    {
     "name": "stdout",
     "output_type": "stream",
     "text": [
      "Number of users: 2352\n"
     ]
    },
    {
     "name": "stderr",
     "output_type": "stream",
     "text": [
      "100%|███████████████████████████████████████████████████████████████████████████| 13058/13058 [00:42<00:00, 308.98it/s]\n"
     ]
    },
    {
     "name": "stdout",
     "output_type": "stream",
     "text": [
      "Number of users: 2352\n"
     ]
    },
    {
     "name": "stderr",
     "output_type": "stream",
     "text": [
      "100%|███████████████████████████████████████████████████████████████████████████| 14520/14520 [01:59<00:00, 121.07it/s]\n",
      "  0%|                                                                                | 7/14520 [00:00<03:49, 63.22it/s]"
     ]
    },
    {
     "name": "stdout",
     "output_type": "stream",
     "text": [
      "Number of users: 3945\n"
     ]
    },
    {
     "name": "stderr",
     "output_type": "stream",
     "text": [
      "100%|███████████████████████████████████████████████████████████████████████████| 14520/14520 [02:00<00:00, 120.98it/s]\n"
     ]
    },
    {
     "name": "stdout",
     "output_type": "stream",
     "text": [
      "Number of users: 3945\n"
     ]
    },
    {
     "name": "stderr",
     "output_type": "stream",
     "text": [
      "100%|███████████████████████████████████████████████████████████████████████████| 14014/14014 [00:47<00:00, 297.98it/s]\n",
      "  0%|▏                                                                             | 36/14014 [00:00<00:39, 357.40it/s]"
     ]
    },
    {
     "name": "stdout",
     "output_type": "stream",
     "text": [
      "Number of users: 2645\n"
     ]
    },
    {
     "name": "stderr",
     "output_type": "stream",
     "text": [
      "100%|███████████████████████████████████████████████████████████████████████████| 14014/14014 [00:47<00:00, 298.00it/s]\n"
     ]
    },
    {
     "name": "stdout",
     "output_type": "stream",
     "text": [
      "Number of users: 2645\n"
     ]
    },
    {
     "name": "stderr",
     "output_type": "stream",
     "text": [
      "100%|███████████████████████████████████████████████████████████████████████████| 15120/15120 [00:56<00:00, 268.63it/s]\n",
      "  0%|                                                                              | 14/15120 [00:00<01:58, 127.59it/s]"
     ]
    },
    {
     "name": "stdout",
     "output_type": "stream",
     "text": [
      "Number of users: 3049\n"
     ]
    },
    {
     "name": "stderr",
     "output_type": "stream",
     "text": [
      "100%|███████████████████████████████████████████████████████████████████████████| 15120/15120 [00:56<00:00, 268.58it/s]\n"
     ]
    },
    {
     "name": "stdout",
     "output_type": "stream",
     "text": [
      "Number of users: 3049\n"
     ]
    },
    {
     "name": "stderr",
     "output_type": "stream",
     "text": [
      "100%|███████████████████████████████████████████████████████████████████████████| 14622/14622 [00:50<00:00, 292.40it/s]\n",
      "  0%|                                                                              | 22/14622 [00:00<01:18, 185.41it/s]"
     ]
    },
    {
     "name": "stdout",
     "output_type": "stream",
     "text": [
      "Number of users: 2861\n"
     ]
    },
    {
     "name": "stderr",
     "output_type": "stream",
     "text": [
      "100%|███████████████████████████████████████████████████████████████████████████| 14622/14622 [00:49<00:00, 292.70it/s]\n"
     ]
    },
    {
     "name": "stdout",
     "output_type": "stream",
     "text": [
      "Number of users: 2861\n"
     ]
    },
    {
     "name": "stderr",
     "output_type": "stream",
     "text": [
      "100%|███████████████████████████████████████████████████████████████████████████| 15975/15975 [00:52<00:00, 306.53it/s]\n",
      "  0%|▏                                                                             | 38/15975 [00:00<00:46, 343.17it/s]"
     ]
    },
    {
     "name": "stdout",
     "output_type": "stream",
     "text": [
      "Number of users: 2938\n"
     ]
    },
    {
     "name": "stderr",
     "output_type": "stream",
     "text": [
      "100%|███████████████████████████████████████████████████████████████████████████| 15975/15975 [00:52<00:00, 307.08it/s]"
     ]
    },
    {
     "name": "stdout",
     "output_type": "stream",
     "text": [
      "Number of users: 2938\n",
      "Wall time: 38min 45s\n"
     ]
    },
    {
     "name": "stderr",
     "output_type": "stream",
     "text": [
      "\n"
     ]
    }
   ],
   "source": [
    "%%time\n",
    "\n",
    "#empty list to store results\n",
    "AOP_results = []\n",
    "MAP_results = []\n",
    "num_users = []\n",
    "\n",
    "#main analysis for each period\n",
    "for i in range(len(eval_month)): #i: 0-21\n",
    "    for j in [0,4]: #j:0, 4\n",
    "        \n",
    "        mask_train = (transaction_raw.t_dat >= eval_month[i]+'-'+traintest_day[j]) & \\\n",
    "                     (transaction_raw.t_dat <= eval_month[i]+'-'+traintest_day[j+1])\n",
    "        X_train = transaction_raw.loc[mask_train].reset_index(drop=True)[['customer_id','article_id']]\n",
    "        mask_test = (transaction_raw.t_dat >= eval_month[i]+'-'+traintest_day[j+2]) & \\\n",
    "                    (transaction_raw.t_dat <= eval_month[i]+'-'+traintest_day[j+3])\n",
    "        X_test = transaction_raw.loc[mask_test].reset_index(drop=True)[['customer_id','article_id']]\n",
    "        \n",
    "        #Get recommended items via user-based collaborative filtering\n",
    "        recommend_items = cf.all_user_collaborative_filter(X_train.head(50000), \n",
    "                                                           similar_user_number = 200, max_recommend_items = 12)\n",
    "        \n",
    "        #calculate AOP@12 for each train-test group\n",
    "        AOP12_cf, num_user = cf.AOP(recommend_items, X_test)\n",
    "        AOP_results.append(AOP12_cf)\n",
    "        \n",
    "        #calculate MAP@12 for each train-test group\n",
    "        MAP12_cf, num_user = cf.MAP(recommend_items, X_test)\n",
    "        MAP_results.append(MAP12_cf)\n",
    "        \n",
    "        #append number of users\n",
    "        num_users.append(num_user)"
   ]
  },
  {
   "cell_type": "code",
   "execution_count": 72,
   "id": "9dc76bd6",
   "metadata": {},
   "outputs": [
    {
     "name": "stdout",
     "output_type": "stream",
     "text": [
      "AOP size: 14\n",
      "MAP size: 14\n"
     ]
    }
   ],
   "source": [
    "print(\"AOP size:\", len(AOP_results))\n",
    "print(\"MAP size:\", len(MAP_results))"
   ]
  },
  {
   "cell_type": "code",
   "execution_count": 22,
   "id": "007aae8b",
   "metadata": {},
   "outputs": [
    {
     "data": {
      "text/plain": [
       "['2020-02-15',\n",
       " '2020-02-22',\n",
       " '2020-03-15',\n",
       " '2020-03-22',\n",
       " '2020-04-15',\n",
       " '2020-04-22',\n",
       " '2020-05-15',\n",
       " '2020-05-22',\n",
       " '2020-06-15',\n",
       " '2020-06-22',\n",
       " '2020-07-15',\n",
       " '2020-07-22',\n",
       " '2020-08-15',\n",
       " '2020-08-22']"
      ]
     },
     "execution_count": 22,
     "metadata": {},
     "output_type": "execute_result"
    }
   ],
   "source": [
    "#create a timeline list for AOP and MAP\n",
    "timeline = []\n",
    "for month in eval_month:\n",
    "    month_mid = month + '-15'\n",
    "    month_late = month + '-22'\n",
    "    timeline.append(month_mid)\n",
    "    timeline.append(month_late)\n",
    "timeline"
   ]
  },
  {
   "cell_type": "code",
   "execution_count": 23,
   "id": "a5c8c9ca",
   "metadata": {},
   "outputs": [
    {
     "data": {
      "text/html": [
       "<div>\n",
       "<style scoped>\n",
       "    .dataframe tbody tr th:only-of-type {\n",
       "        vertical-align: middle;\n",
       "    }\n",
       "\n",
       "    .dataframe tbody tr th {\n",
       "        vertical-align: top;\n",
       "    }\n",
       "\n",
       "    .dataframe thead th {\n",
       "        text-align: right;\n",
       "    }\n",
       "</style>\n",
       "<table border=\"1\" class=\"dataframe\">\n",
       "  <thead>\n",
       "    <tr style=\"text-align: right;\">\n",
       "      <th></th>\n",
       "      <th>timeline</th>\n",
       "      <th>AOP</th>\n",
       "      <th>MAP</th>\n",
       "      <th>num_users</th>\n",
       "    </tr>\n",
       "  </thead>\n",
       "  <tbody>\n",
       "    <tr>\n",
       "      <th>0</th>\n",
       "      <td>2020-02-15</td>\n",
       "      <td>0.002414</td>\n",
       "      <td>0.003089</td>\n",
       "      <td>2347</td>\n",
       "    </tr>\n",
       "    <tr>\n",
       "      <th>1</th>\n",
       "      <td>2020-02-22</td>\n",
       "      <td>0.002855</td>\n",
       "      <td>0.003385</td>\n",
       "      <td>2539</td>\n",
       "    </tr>\n",
       "    <tr>\n",
       "      <th>2</th>\n",
       "      <td>2020-03-15</td>\n",
       "      <td>0.002384</td>\n",
       "      <td>0.003030</td>\n",
       "      <td>2167</td>\n",
       "    </tr>\n",
       "    <tr>\n",
       "      <th>3</th>\n",
       "      <td>2020-03-22</td>\n",
       "      <td>0.002919</td>\n",
       "      <td>0.003484</td>\n",
       "      <td>1827</td>\n",
       "    </tr>\n",
       "    <tr>\n",
       "      <th>4</th>\n",
       "      <td>2020-04-15</td>\n",
       "      <td>0.004638</td>\n",
       "      <td>0.004840</td>\n",
       "      <td>2246</td>\n",
       "    </tr>\n",
       "  </tbody>\n",
       "</table>\n",
       "</div>"
      ],
      "text/plain": [
       "     timeline       AOP       MAP  num_users\n",
       "0  2020-02-15  0.002414  0.003089       2347\n",
       "1  2020-02-22  0.002855  0.003385       2539\n",
       "2  2020-03-15  0.002384  0.003030       2167\n",
       "3  2020-03-22  0.002919  0.003484       1827\n",
       "4  2020-04-15  0.004638  0.004840       2246"
      ]
     },
     "execution_count": 23,
     "metadata": {},
     "output_type": "execute_result"
    }
   ],
   "source": [
    "#save results in a dataframe\n",
    "result_df = pd.DataFrame({'timeline':timeline,\n",
    "                          'AOP':AOP_results,\n",
    "                          'MAP':MAP_results,\n",
    "                          'num_users':num_users})\n",
    "\n",
    "#save the dataframe in csv\n",
    "#change file name for different period groups\n",
    "result_df.to_csv(\"../data/userCF_results4.csv\")\n",
    "\n",
    "result_df.head()"
   ]
  },
  {
   "cell_type": "code",
   "execution_count": 36,
   "id": "1b2f2c4b",
   "metadata": {},
   "outputs": [],
   "source": [
    "#import result data\n",
    "df1 = pd.read_csv(\"../data/userCF_50K/userCF_results1.csv\").iloc[:,1:]\n",
    "df2 = pd.read_csv(\"../data/userCF_50K/userCF_results2.csv\").iloc[:,1:]\n",
    "df3 = pd.read_csv(\"../data/userCF_50K/userCF_results3.csv\").iloc[:,1:]\n",
    "df4 = pd.read_csv(\"../data/userCF_50K/userCF_results4.csv\").iloc[:,1:]\n",
    "\n",
    "df_all = pd.concat([df1,df2,df3,df4]).reset_index(drop=True)"
   ]
  },
  {
   "cell_type": "code",
   "execution_count": 67,
   "id": "f617db34",
   "metadata": {},
   "outputs": [
    {
     "data": {
      "image/png": "[encoded data removed]",
      "text/plain": [
       "<Figure size 1440x576 with 1 Axes>"
      ]
     },
     "metadata": {
      "needs_background": "light"
     },
     "output_type": "display_data"
    }
   ],
   "source": [
    "import matplotlib.pyplot as plt\n",
    "\n",
    "plt.plot(df_all.timeline, df_all.AOP, label='AOP@12')\n",
    "plt.plot(df_all.timeline, df_all.MAP, label='MAP@12')\n",
    "plt.ylabel('Precision', fontsize=20)\n",
    "plt.xticks(rotation=45, fontsize=14, ha='right')\n",
    "plt.yticks(fontsize=18)\n",
    "plt.legend()\n",
    "plt.rcParams['figure.figsize'] = [20, 10]"
   ]
  },
  {
   "cell_type": "code",
   "execution_count": 70,
   "id": "a898b788",
   "metadata": {},
   "outputs": [
    {
     "name": "stdout",
     "output_type": "stream",
     "text": [
      "overall AOP@12 mean: 0.002855023305518663\n",
      "Overall MAP@12 mean: 0.0033310568927802696\n"
     ]
    }
   ],
   "source": [
    "#mean of AOP and MAP across 2018-2020\n",
    "print(\"overall AOP@12 mean:\", df_all.AOP.mean())\n",
    "print(\"Overall MAP@12 mean:\", df_all.MAP.mean())"
   ]
  },
  {
   "cell_type": "code",
   "execution_count": 71,
   "id": "db0a6854",
   "metadata": {},
   "outputs": [
    {
     "data": {
      "text/html": [
       "<div>\n",
       "<style scoped>\n",
       "    .dataframe tbody tr th:only-of-type {\n",
       "        vertical-align: middle;\n",
       "    }\n",
       "\n",
       "    .dataframe tbody tr th {\n",
       "        vertical-align: top;\n",
       "    }\n",
       "\n",
       "    .dataframe thead th {\n",
       "        text-align: right;\n",
       "    }\n",
       "</style>\n",
       "<table border=\"1\" class=\"dataframe\">\n",
       "  <thead>\n",
       "    <tr style=\"text-align: right;\">\n",
       "      <th></th>\n",
       "      <th>timeline</th>\n",
       "      <th>AOP</th>\n",
       "      <th>MAP</th>\n",
       "      <th>num_users</th>\n",
       "    </tr>\n",
       "  </thead>\n",
       "  <tbody>\n",
       "    <tr>\n",
       "      <th>0</th>\n",
       "      <td>2018-10-15</td>\n",
       "      <td>0.003046</td>\n",
       "      <td>0.003667</td>\n",
       "      <td>2873</td>\n",
       "    </tr>\n",
       "    <tr>\n",
       "      <th>1</th>\n",
       "      <td>2018-10-22</td>\n",
       "      <td>0.002707</td>\n",
       "      <td>0.003010</td>\n",
       "      <td>2863</td>\n",
       "    </tr>\n",
       "    <tr>\n",
       "      <th>2</th>\n",
       "      <td>2018-11-15</td>\n",
       "      <td>0.002475</td>\n",
       "      <td>0.002960</td>\n",
       "      <td>2929</td>\n",
       "    </tr>\n",
       "    <tr>\n",
       "      <th>3</th>\n",
       "      <td>2018-11-22</td>\n",
       "      <td>0.003006</td>\n",
       "      <td>0.003719</td>\n",
       "      <td>4353</td>\n",
       "    </tr>\n",
       "    <tr>\n",
       "      <th>4</th>\n",
       "      <td>2018-12-15</td>\n",
       "      <td>0.001889</td>\n",
       "      <td>0.002077</td>\n",
       "      <td>2911</td>\n",
       "    </tr>\n",
       "    <tr>\n",
       "      <th>5</th>\n",
       "      <td>2018-12-22</td>\n",
       "      <td>0.001731</td>\n",
       "      <td>0.001721</td>\n",
       "      <td>3081</td>\n",
       "    </tr>\n",
       "    <tr>\n",
       "      <th>6</th>\n",
       "      <td>2019-01-15</td>\n",
       "      <td>0.002454</td>\n",
       "      <td>0.002744</td>\n",
       "      <td>2513</td>\n",
       "    </tr>\n",
       "    <tr>\n",
       "      <th>7</th>\n",
       "      <td>2019-01-22</td>\n",
       "      <td>0.003725</td>\n",
       "      <td>0.004999</td>\n",
       "      <td>2573</td>\n",
       "    </tr>\n",
       "    <tr>\n",
       "      <th>8</th>\n",
       "      <td>2019-02-15</td>\n",
       "      <td>0.002290</td>\n",
       "      <td>0.002839</td>\n",
       "      <td>2329</td>\n",
       "    </tr>\n",
       "    <tr>\n",
       "      <th>9</th>\n",
       "      <td>2019-02-22</td>\n",
       "      <td>0.002625</td>\n",
       "      <td>0.002780</td>\n",
       "      <td>3143</td>\n",
       "    </tr>\n",
       "    <tr>\n",
       "      <th>10</th>\n",
       "      <td>2019-03-15</td>\n",
       "      <td>0.002209</td>\n",
       "      <td>0.002321</td>\n",
       "      <td>2603</td>\n",
       "    </tr>\n",
       "    <tr>\n",
       "      <th>11</th>\n",
       "      <td>2019-03-22</td>\n",
       "      <td>0.002266</td>\n",
       "      <td>0.003101</td>\n",
       "      <td>2685</td>\n",
       "    </tr>\n",
       "    <tr>\n",
       "      <th>12</th>\n",
       "      <td>2019-04-15</td>\n",
       "      <td>0.003245</td>\n",
       "      <td>0.003140</td>\n",
       "      <td>2388</td>\n",
       "    </tr>\n",
       "    <tr>\n",
       "      <th>13</th>\n",
       "      <td>2019-04-22</td>\n",
       "      <td>0.003108</td>\n",
       "      <td>0.003189</td>\n",
       "      <td>2520</td>\n",
       "    </tr>\n",
       "    <tr>\n",
       "      <th>14</th>\n",
       "      <td>2019-05-15</td>\n",
       "      <td>0.003057</td>\n",
       "      <td>0.002872</td>\n",
       "      <td>1990</td>\n",
       "    </tr>\n",
       "    <tr>\n",
       "      <th>15</th>\n",
       "      <td>2019-05-22</td>\n",
       "      <td>0.002571</td>\n",
       "      <td>0.003082</td>\n",
       "      <td>2755</td>\n",
       "    </tr>\n",
       "    <tr>\n",
       "      <th>16</th>\n",
       "      <td>2019-06-15</td>\n",
       "      <td>0.002297</td>\n",
       "      <td>0.002449</td>\n",
       "      <td>2322</td>\n",
       "    </tr>\n",
       "    <tr>\n",
       "      <th>17</th>\n",
       "      <td>2019-06-22</td>\n",
       "      <td>0.002807</td>\n",
       "      <td>0.002950</td>\n",
       "      <td>3563</td>\n",
       "    </tr>\n",
       "    <tr>\n",
       "      <th>18</th>\n",
       "      <td>2019-07-15</td>\n",
       "      <td>0.002859</td>\n",
       "      <td>0.003531</td>\n",
       "      <td>2448</td>\n",
       "    </tr>\n",
       "    <tr>\n",
       "      <th>19</th>\n",
       "      <td>2019-07-22</td>\n",
       "      <td>0.002623</td>\n",
       "      <td>0.002659</td>\n",
       "      <td>2573</td>\n",
       "    </tr>\n",
       "    <tr>\n",
       "      <th>20</th>\n",
       "      <td>2019-08-15</td>\n",
       "      <td>0.003109</td>\n",
       "      <td>0.003748</td>\n",
       "      <td>2546</td>\n",
       "    </tr>\n",
       "    <tr>\n",
       "      <th>21</th>\n",
       "      <td>2019-08-22</td>\n",
       "      <td>0.002975</td>\n",
       "      <td>0.003686</td>\n",
       "      <td>2129</td>\n",
       "    </tr>\n",
       "    <tr>\n",
       "      <th>22</th>\n",
       "      <td>2019-09-15</td>\n",
       "      <td>0.003278</td>\n",
       "      <td>0.003418</td>\n",
       "      <td>2466</td>\n",
       "    </tr>\n",
       "    <tr>\n",
       "      <th>23</th>\n",
       "      <td>2019-09-22</td>\n",
       "      <td>0.003373</td>\n",
       "      <td>0.003999</td>\n",
       "      <td>3162</td>\n",
       "    </tr>\n",
       "    <tr>\n",
       "      <th>24</th>\n",
       "      <td>2019-10-15</td>\n",
       "      <td>0.002974</td>\n",
       "      <td>0.004052</td>\n",
       "      <td>2774</td>\n",
       "    </tr>\n",
       "    <tr>\n",
       "      <th>25</th>\n",
       "      <td>2019-10-22</td>\n",
       "      <td>0.002595</td>\n",
       "      <td>0.003219</td>\n",
       "      <td>2698</td>\n",
       "    </tr>\n",
       "    <tr>\n",
       "      <th>26</th>\n",
       "      <td>2019-11-15</td>\n",
       "      <td>0.002452</td>\n",
       "      <td>0.002522</td>\n",
       "      <td>2787</td>\n",
       "    </tr>\n",
       "    <tr>\n",
       "      <th>27</th>\n",
       "      <td>2019-11-22</td>\n",
       "      <td>0.003259</td>\n",
       "      <td>0.003284</td>\n",
       "      <td>3708</td>\n",
       "    </tr>\n",
       "    <tr>\n",
       "      <th>28</th>\n",
       "      <td>2019-12-15</td>\n",
       "      <td>0.001359</td>\n",
       "      <td>0.001670</td>\n",
       "      <td>2024</td>\n",
       "    </tr>\n",
       "    <tr>\n",
       "      <th>29</th>\n",
       "      <td>2019-12-22</td>\n",
       "      <td>0.002513</td>\n",
       "      <td>0.002675</td>\n",
       "      <td>2653</td>\n",
       "    </tr>\n",
       "    <tr>\n",
       "      <th>30</th>\n",
       "      <td>2020-01-15</td>\n",
       "      <td>0.002609</td>\n",
       "      <td>0.002945</td>\n",
       "      <td>2459</td>\n",
       "    </tr>\n",
       "    <tr>\n",
       "      <th>31</th>\n",
       "      <td>2020-01-22</td>\n",
       "      <td>0.002788</td>\n",
       "      <td>0.003337</td>\n",
       "      <td>2720</td>\n",
       "    </tr>\n",
       "    <tr>\n",
       "      <th>32</th>\n",
       "      <td>2020-02-15</td>\n",
       "      <td>0.002414</td>\n",
       "      <td>0.003089</td>\n",
       "      <td>2347</td>\n",
       "    </tr>\n",
       "    <tr>\n",
       "      <th>33</th>\n",
       "      <td>2020-02-22</td>\n",
       "      <td>0.002855</td>\n",
       "      <td>0.003385</td>\n",
       "      <td>2539</td>\n",
       "    </tr>\n",
       "    <tr>\n",
       "      <th>34</th>\n",
       "      <td>2020-03-15</td>\n",
       "      <td>0.002384</td>\n",
       "      <td>0.003030</td>\n",
       "      <td>2167</td>\n",
       "    </tr>\n",
       "    <tr>\n",
       "      <th>35</th>\n",
       "      <td>2020-03-22</td>\n",
       "      <td>0.002919</td>\n",
       "      <td>0.003484</td>\n",
       "      <td>1827</td>\n",
       "    </tr>\n",
       "    <tr>\n",
       "      <th>36</th>\n",
       "      <td>2020-04-15</td>\n",
       "      <td>0.004638</td>\n",
       "      <td>0.004840</td>\n",
       "      <td>2246</td>\n",
       "    </tr>\n",
       "    <tr>\n",
       "      <th>37</th>\n",
       "      <td>2020-04-22</td>\n",
       "      <td>0.004866</td>\n",
       "      <td>0.006962</td>\n",
       "      <td>2072</td>\n",
       "    </tr>\n",
       "    <tr>\n",
       "      <th>38</th>\n",
       "      <td>2020-05-15</td>\n",
       "      <td>0.004806</td>\n",
       "      <td>0.005920</td>\n",
       "      <td>2358</td>\n",
       "    </tr>\n",
       "    <tr>\n",
       "      <th>39</th>\n",
       "      <td>2020-05-22</td>\n",
       "      <td>0.003417</td>\n",
       "      <td>0.004357</td>\n",
       "      <td>3097</td>\n",
       "    </tr>\n",
       "    <tr>\n",
       "      <th>40</th>\n",
       "      <td>2020-06-15</td>\n",
       "      <td>0.002764</td>\n",
       "      <td>0.003301</td>\n",
       "      <td>2352</td>\n",
       "    </tr>\n",
       "    <tr>\n",
       "      <th>41</th>\n",
       "      <td>2020-06-22</td>\n",
       "      <td>0.002852</td>\n",
       "      <td>0.003655</td>\n",
       "      <td>3945</td>\n",
       "    </tr>\n",
       "    <tr>\n",
       "      <th>42</th>\n",
       "      <td>2020-07-15</td>\n",
       "      <td>0.001890</td>\n",
       "      <td>0.001743</td>\n",
       "      <td>2645</td>\n",
       "    </tr>\n",
       "    <tr>\n",
       "      <th>43</th>\n",
       "      <td>2020-07-22</td>\n",
       "      <td>0.002815</td>\n",
       "      <td>0.003248</td>\n",
       "      <td>3049</td>\n",
       "    </tr>\n",
       "    <tr>\n",
       "      <th>44</th>\n",
       "      <td>2020-08-15</td>\n",
       "      <td>0.003117</td>\n",
       "      <td>0.003532</td>\n",
       "      <td>2861</td>\n",
       "    </tr>\n",
       "    <tr>\n",
       "      <th>45</th>\n",
       "      <td>2020-08-22</td>\n",
       "      <td>0.003319</td>\n",
       "      <td>0.004317</td>\n",
       "      <td>2938</td>\n",
       "    </tr>\n",
       "  </tbody>\n",
       "</table>\n",
       "</div>"
      ],
      "text/plain": [
       "      timeline       AOP       MAP  num_users\n",
       "0   2018-10-15  0.003046  0.003667       2873\n",
       "1   2018-10-22  0.002707  0.003010       2863\n",
       "2   2018-11-15  0.002475  0.002960       2929\n",
       "3   2018-11-22  0.003006  0.003719       4353\n",
       "4   2018-12-15  0.001889  0.002077       2911\n",
       "5   2018-12-22  0.001731  0.001721       3081\n",
       "6   2019-01-15  0.002454  0.002744       2513\n",
       "7   2019-01-22  0.003725  0.004999       2573\n",
       "8   2019-02-15  0.002290  0.002839       2329\n",
       "9   2019-02-22  0.002625  0.002780       3143\n",
       "10  2019-03-15  0.002209  0.002321       2603\n",
       "11  2019-03-22  0.002266  0.003101       2685\n",
       "12  2019-04-15  0.003245  0.003140       2388\n",
       "13  2019-04-22  0.003108  0.003189       2520\n",
       "14  2019-05-15  0.003057  0.002872       1990\n",
       "15  2019-05-22  0.002571  0.003082       2755\n",
       "16  2019-06-15  0.002297  0.002449       2322\n",
       "17  2019-06-22  0.002807  0.002950       3563\n",
       "18  2019-07-15  0.002859  0.003531       2448\n",
       "19  2019-07-22  0.002623  0.002659       2573\n",
       "20  2019-08-15  0.003109  0.003748       2546\n",
       "21  2019-08-22  0.002975  0.003686       2129\n",
       "22  2019-09-15  0.003278  0.003418       2466\n",
       "23  2019-09-22  0.003373  0.003999       3162\n",
       "24  2019-10-15  0.002974  0.004052       2774\n",
       "25  2019-10-22  0.002595  0.003219       2698\n",
       "26  2019-11-15  0.002452  0.002522       2787\n",
       "27  2019-11-22  0.003259  0.003284       3708\n",
       "28  2019-12-15  0.001359  0.001670       2024\n",
       "29  2019-12-22  0.002513  0.002675       2653\n",
       "30  2020-01-15  0.002609  0.002945       2459\n",
       "31  2020-01-22  0.002788  0.003337       2720\n",
       "32  2020-02-15  0.002414  0.003089       2347\n",
       "33  2020-02-22  0.002855  0.003385       2539\n",
       "34  2020-03-15  0.002384  0.003030       2167\n",
       "35  2020-03-22  0.002919  0.003484       1827\n",
       "36  2020-04-15  0.004638  0.004840       2246\n",
       "37  2020-04-22  0.004866  0.006962       2072\n",
       "38  2020-05-15  0.004806  0.005920       2358\n",
       "39  2020-05-22  0.003417  0.004357       3097\n",
       "40  2020-06-15  0.002764  0.003301       2352\n",
       "41  2020-06-22  0.002852  0.003655       3945\n",
       "42  2020-07-15  0.001890  0.001743       2645\n",
       "43  2020-07-22  0.002815  0.003248       3049\n",
       "44  2020-08-15  0.003117  0.003532       2861\n",
       "45  2020-08-22  0.003319  0.004317       2938"
      ]
     },
     "execution_count": 71,
     "metadata": {},
     "output_type": "execute_result"
    }
   ],
   "source": [
    "df_all"
   ]
  },
  {
   "cell_type": "code",
   "execution_count": null,
   "id": "3324cf26",
   "metadata": {},
   "outputs": [],
   "source": []
  }
 ],
 "metadata": {
  "kernelspec": {
   "display_name": "Python 3",
   "language": "python",
   "name": "python3"
  },
  "language_info": {
   "codemirror_mode": {
    "name": "ipython",
    "version": 3
   },
   "file_extension": ".py",
   "mimetype": "text/x-python",
   "name": "python",
   "nbconvert_exporter": "python",
   "pygments_lexer": "ipython3",
   "version": "3.8.8"
  }
 },
 "nbformat": 4,
 "nbformat_minor": 5
}
