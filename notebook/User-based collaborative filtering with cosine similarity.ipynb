{
 "cells": [
  {
   "cell_type": "markdown",
   "id": "0693ccf3",
   "metadata": {},
   "source": [
    "# User-based collaborative filtering with cosine similarity\n",
    "\n",
    "Recommend 12 items to returning customers who haven't purchased those items based on user-based collaborative filtering\n",
    "\n",
    "- Use transaction data from 1st-7th day and 15th-21st day each month (2018-10 ~ 2020-08) to build user-based cosine similarity\n",
    "- Use most similar customers(users) to identify 12 items that were not purchased by target customers\n",
    "- 12 recommended items were validated using data from from 8th-14th (for 1st-7th data) and 22nd-28th (for 15th-21st data) day each month \n",
    "- calcuate AOP@12 and MAP@12 to evaluate results"
   ]
  },
  {
   "cell_type": "code",
   "execution_count": 1,
   "id": "2d6260dc",
   "metadata": {},
   "outputs": [],
   "source": [
    "import pandas as pd\n",
    "import numpy as np\n",
    "import collaborative_filter as cf"
   ]
  },
  {
   "cell_type": "code",
   "execution_count": null,
   "id": "74b8542f",
   "metadata": {},
   "outputs": [],
   "source": [
    "%%time\n",
    "transaction_raw = pd.read_csv(\"../data/transactions_train.csv\")"
   ]
  },
  {
   "cell_type": "code",
   "execution_count": null,
   "id": "f1c93956",
   "metadata": {},
   "outputs": [],
   "source": [
    "#set up year-month and dates for training and testing\n",
    "eval_month = ['2018-10','2018-11','2018-12','2019-01','2019-02','2019-03','2019-04','2019-05','2019-06','2019-07',\n",
    "              '2019-09','2019-10','2019-11','2019-12','2020-01','2020-02','2020-03','2020-04','2020-05','2020-06',\n",
    "              '2020-07','2020-08']\n",
    "traintest_day = ['01','07','08','14','15','21','22','28']"
   ]
  },
  {
   "cell_type": "code",
   "execution_count": null,
   "id": "ef275234",
   "metadata": {},
   "outputs": [],
   "source": [
    "%%time\n",
    "\n",
    "#empty list to store results\n",
    "AOP_results = []\n",
    "MAP_results = []\n",
    "\n",
    "#main analysis for each period\n",
    "for i in range(len(eval_month)): #i: 0-21\n",
    "    for j in [0,4]: #j:0, 4\n",
    "        \n",
    "        mask_train = (transaction_raw.t_dat >= eval_month[i]+'-'+traintest_day[j]) & \\\n",
    "                     (transaction_raw.t_dat <= eval_month[i]+'-'+traintest_day[j+1])\n",
    "        X_train = transaction_raw.loc[mask_train].reset_index(drop=True)[['customer_id','article_id']]\n",
    "        mask_test = (transaction_raw.t_dat >= eval_month[i]+'-'+traintest_day[j+2]) & \\\n",
    "                    (transaction_raw.t_dat <= eval_month[i]+'-'+traintest_day[j+3])\n",
    "        X_test = transaction_raw.loc[mask_test].reset_index(drop=True)[['customer_id','article_id']]\n",
    "        \n",
    "        #Get recommended items via user-based collaborative filtering\n",
    "        recommend_items = cf.all_user_collaborative_filter(X_train.head(100000), \n",
    "                                                           similar_user_number = 250, max_recommend_items = 12)\n",
    "        \n",
    "        #calculate AOP@12 for each train-test group\n",
    "        AOP12_cf = cf.AOP(recommend_items, X_test)\n",
    "        AOP_results.append(AOP12_cf)\n",
    "        \n",
    "        #calculate MAP@12 for each train-test group\n",
    "        MAP12_cf = cf.MAP(recommend_items, X_test)\n",
    "        MAP_results.append(MAP12_cf)"
   ]
  },
  {
   "cell_type": "code",
   "execution_count": null,
   "id": "9dc76bd6",
   "metadata": {},
   "outputs": [],
   "source": [
    "print(\"AOP size:\", len(AOP_results))\n",
    "print(\"MAP size:\", len(MAP_results))"
   ]
  },
  {
   "cell_type": "code",
   "execution_count": null,
   "id": "007aae8b",
   "metadata": {},
   "outputs": [],
   "source": [
    "#create a timeline list for AOP and MAP\n",
    "timeline = []\n",
    "for month in eval_month:\n",
    "    month_mid = month + '-15'\n",
    "    month_late = month + '-22'\n",
    "    timeline.append(month_mid)\n",
    "    timeline.append(month_late)"
   ]
  },
  {
   "cell_type": "code",
   "execution_count": null,
   "id": "a5c8c9ca",
   "metadata": {},
   "outputs": [],
   "source": [
    "#save results in a dataframe\n",
    "result_df = pd.DataFrame({'timeline':timeline,\n",
    "                          'AOP':AOP_results,\n",
    "                          'MAP':MAP_results})\n",
    "\n",
    "#save the dataframe in csv\n",
    "result_df.to_csv(\"../data/userCF_results.csv\")\n",
    "\n",
    "result_df.head()"
   ]
  },
  {
   "cell_type": "code",
   "execution_count": null,
   "id": "1b2f2c4b",
   "metadata": {},
   "outputs": [],
   "source": []
  },
  {
   "cell_type": "code",
   "execution_count": null,
   "id": "f617db34",
   "metadata": {},
   "outputs": [],
   "source": []
  },
  {
   "cell_type": "code",
   "execution_count": null,
   "id": "a898b788",
   "metadata": {},
   "outputs": [],
   "source": []
  },
  {
   "cell_type": "code",
   "execution_count": 35,
   "id": "a8c39613",
   "metadata": {
    "scrolled": false
   },
   "outputs": [],
   "source": [
    "for user, recommend_Items in recommend_items.items():\n",
    "    if len(recommend_Items) < 12:\n",
    "        print(\"Items < 12\")"
   ]
  },
  {
   "cell_type": "code",
   "execution_count": 7,
   "id": "29836cc5",
   "metadata": {},
   "outputs": [],
   "source": [
    "mask_train = (transaction_raw.t_dat >= '2019-05-01') & (transaction_raw.t_dat <= '2019-05-10')\n",
    "X_train = transaction_raw.loc[mask_train].reset_index(drop=True)[['customer_id','article_id']]\n",
    "mask_test = (transaction_raw.t_dat >= '2019-05-01') & (transaction_raw.t_dat <= '2019-05-10')\n",
    "X_test = transaction_raw.loc[mask_test].reset_index(drop=True)[['customer_id','article_id']]\n",
    "\n",
    "\n",
    "recommend_items = cf.all_user_collaborative_filter(X_train.head(100000), similar_user_number = 100, max_recommend_items = 12)\n",
    "MAP12_cf = cf.MAP(recommend_items, X_test)\n"
   ]
  }
 ],
 "metadata": {
  "kernelspec": {
   "display_name": "Python 3",
   "language": "python",
   "name": "python3"
  },
  "language_info": {
   "codemirror_mode": {
    "name": "ipython",
    "version": 3
   },
   "file_extension": ".py",
   "mimetype": "text/x-python",
   "name": "python",
   "nbconvert_exporter": "python",
   "pygments_lexer": "ipython3",
   "version": "3.8.8"
  }
 },
 "nbformat": 4,
 "nbformat_minor": 5
}
